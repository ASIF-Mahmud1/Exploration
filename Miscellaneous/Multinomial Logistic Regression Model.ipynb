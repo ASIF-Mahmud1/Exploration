{
 "cells": [
  {
   "cell_type": "code",
   "execution_count": 1,
   "id": "fuzzy-capital",
   "metadata": {},
   "outputs": [
    {
     "data": {
      "text/html": [
       "<div>\n",
       "<style scoped>\n",
       "    .dataframe tbody tr th:only-of-type {\n",
       "        vertical-align: middle;\n",
       "    }\n",
       "\n",
       "    .dataframe tbody tr th {\n",
       "        vertical-align: top;\n",
       "    }\n",
       "\n",
       "    .dataframe thead th {\n",
       "        text-align: right;\n",
       "    }\n",
       "</style>\n",
       "<table border=\"1\" class=\"dataframe\">\n",
       "  <thead>\n",
       "    <tr style=\"text-align: right;\">\n",
       "      <th></th>\n",
       "      <th>emailId</th>\n",
       "      <th>tag</th>\n",
       "      <th>mail-message</th>\n",
       "    </tr>\n",
       "  </thead>\n",
       "  <tbody>\n",
       "    <tr>\n",
       "      <th>0</th>\n",
       "      <td>1</td>\n",
       "      <td>boss</td>\n",
       "      <td>Dear Tom, I can't thank you enough for forward...</td>\n",
       "    </tr>\n",
       "    <tr>\n",
       "      <th>1</th>\n",
       "      <td>2</td>\n",
       "      <td>possy</td>\n",
       "      <td>Hi Linda, How's it going? Sorry I haven't been...</td>\n",
       "    </tr>\n",
       "    <tr>\n",
       "      <th>2</th>\n",
       "      <td>3</td>\n",
       "      <td>possy</td>\n",
       "      <td>Hey, Susi, whats wrong with you? Why aren't yo...</td>\n",
       "    </tr>\n",
       "    <tr>\n",
       "      <th>3</th>\n",
       "      <td>4</td>\n",
       "      <td>boss</td>\n",
       "      <td>Dear Barylior, I will need your opinion on how...</td>\n",
       "    </tr>\n",
       "    <tr>\n",
       "      <th>4</th>\n",
       "      <td>5</td>\n",
       "      <td>boss</td>\n",
       "      <td>Dear Liz,I really appreciate your understandin...</td>\n",
       "    </tr>\n",
       "  </tbody>\n",
       "</table>\n",
       "</div>"
      ],
      "text/plain": [
       "   emailId    tag                                       mail-message\n",
       "0        1   boss  Dear Tom, I can't thank you enough for forward...\n",
       "1        2  possy  Hi Linda, How's it going? Sorry I haven't been...\n",
       "2        3  possy  Hey, Susi, whats wrong with you? Why aren't yo...\n",
       "3        4   boss  Dear Barylior, I will need your opinion on how...\n",
       "4        5   boss  Dear Liz,I really appreciate your understandin..."
      ]
     },
     "execution_count": 1,
     "metadata": {},
     "output_type": "execute_result"
    }
   ],
   "source": [
    "# evaluate multinomial logistic regression model\n",
    "from numpy import mean\n",
    "from numpy import std\n",
    "from sklearn.datasets import make_classification\n",
    "from sklearn.model_selection import cross_val_score\n",
    "from sklearn.model_selection import RepeatedStratifiedKFold\n",
    "from sklearn.linear_model import LogisticRegression\n",
    "\n",
    "\n",
    "url=\"https://raw.githubusercontent.com/ASIF-Mahmud1/Exploration/MLlessons/Lesson%201/Logistice%20Regression/emailDataset.csv\"\n",
    "from io import StringIO\n",
    "import string\n",
    "import pandas as pd\n",
    "import requests\n",
    "s=requests.get(url).text\n",
    "\n",
    "message_data=pd.read_csv(StringIO(s))\n",
    "message_data.head()\n"
   ]
  },
  {
   "cell_type": "code",
   "execution_count": 2,
   "id": "overhead-south",
   "metadata": {},
   "outputs": [
    {
     "data": {
      "text/html": [
       "<div>\n",
       "<style scoped>\n",
       "    .dataframe tbody tr th:only-of-type {\n",
       "        vertical-align: middle;\n",
       "    }\n",
       "\n",
       "    .dataframe tbody tr th {\n",
       "        vertical-align: top;\n",
       "    }\n",
       "\n",
       "    .dataframe thead tr th {\n",
       "        text-align: left;\n",
       "    }\n",
       "\n",
       "    .dataframe thead tr:last-of-type th {\n",
       "        text-align: right;\n",
       "    }\n",
       "</style>\n",
       "<table border=\"1\" class=\"dataframe\">\n",
       "  <thead>\n",
       "    <tr>\n",
       "      <th></th>\n",
       "      <th colspan=\"8\" halign=\"left\">emailId</th>\n",
       "    </tr>\n",
       "    <tr>\n",
       "      <th></th>\n",
       "      <th>count</th>\n",
       "      <th>mean</th>\n",
       "      <th>std</th>\n",
       "      <th>min</th>\n",
       "      <th>25%</th>\n",
       "      <th>50%</th>\n",
       "      <th>75%</th>\n",
       "      <th>max</th>\n",
       "    </tr>\n",
       "    <tr>\n",
       "      <th>tag</th>\n",
       "      <th></th>\n",
       "      <th></th>\n",
       "      <th></th>\n",
       "      <th></th>\n",
       "      <th></th>\n",
       "      <th></th>\n",
       "      <th></th>\n",
       "      <th></th>\n",
       "    </tr>\n",
       "  </thead>\n",
       "  <tbody>\n",
       "    <tr>\n",
       "      <th>boss</th>\n",
       "      <td>10.0</td>\n",
       "      <td>9.0</td>\n",
       "      <td>5.374838</td>\n",
       "      <td>1.0</td>\n",
       "      <td>5.25</td>\n",
       "      <td>8.0</td>\n",
       "      <td>13.25</td>\n",
       "      <td>17.0</td>\n",
       "    </tr>\n",
       "    <tr>\n",
       "      <th>possy</th>\n",
       "      <td>10.0</td>\n",
       "      <td>12.0</td>\n",
       "      <td>6.324555</td>\n",
       "      <td>2.0</td>\n",
       "      <td>8.50</td>\n",
       "      <td>12.5</td>\n",
       "      <td>17.25</td>\n",
       "      <td>20.0</td>\n",
       "    </tr>\n",
       "  </tbody>\n",
       "</table>\n",
       "</div>"
      ],
      "text/plain": [
       "      emailId                                              \n",
       "        count  mean       std  min   25%   50%    75%   max\n",
       "tag                                                        \n",
       "boss     10.0   9.0  5.374838  1.0  5.25   8.0  13.25  17.0\n",
       "possy    10.0  12.0  6.324555  2.0  8.50  12.5  17.25  20.0"
      ]
     },
     "execution_count": 2,
     "metadata": {},
     "output_type": "execute_result"
    }
   ],
   "source": [
    "message_data.groupby('tag').describe()\n"
   ]
  },
  {
   "cell_type": "code",
   "execution_count": 3,
   "id": "instrumental-barcelona",
   "metadata": {},
   "outputs": [
    {
     "data": {
      "text/plain": [
       "0     Dear Tom, I can't thank you enough for forward...\n",
       "1     Hi Linda, How's it going? Sorry I haven't been...\n",
       "2     Hey, Susi, whats wrong with you? Why aren't yo...\n",
       "3     Dear Barylior, I will need your opinion on how...\n",
       "4     Dear Liz,I really appreciate your understandin...\n",
       "5     Dear Chris,I just wanted to drop you a note to...\n",
       "6     Dear Ryanna, Thank you so much for the generou...\n",
       "7     Brian ! like to talk to people from other part...\n",
       "8     Dear Ms. Smith, This is to bring to your notic...\n",
       "9     Hey Lucie, since we last talked, I started dat...\n",
       "10    Hello Sir, I am a student of yours from UCLA. ...\n",
       "11    Emy . we are not friends anymore. On my Birthd...\n",
       "12    Hi Weasel! Hope this mail finds you in the bes...\n",
       "13    Dear Sir,  Please accept this mail as a notice...\n",
       "14    Hi my friend� I haven�t seen you for a lot tim...\n",
       "15    Dear Ms. Lee, I am writing to request consider...\n",
       "16    Dear Mr./Ms. {Recipient�s Name}, I am writing ...\n",
       "17    Liza, Being your sister is the greatest blessi...\n",
       "18    Dear Alisha, Happy birthday to you I am so hap...\n",
       "19    My blueberry, Since we cross paths, my world h...\n",
       "Name: mail-message, dtype: object"
      ]
     },
     "execution_count": 3,
     "metadata": {},
     "output_type": "execute_result"
    }
   ],
   "source": [
    "message_data_copy = message_data['mail-message'].copy()\n",
    "\n",
    "message_data_copy"
   ]
  },
  {
   "cell_type": "code",
   "execution_count": 4,
   "id": "dimensional-leonard",
   "metadata": {},
   "outputs": [],
   "source": [
    "from sklearn.feature_extraction.text import TfidfVectorizer\n",
    "from sklearn.model_selection import train_test_split\n",
    "import nltk\n",
    "from nltk.corpus import stopwords\n",
    "from nltk.stem import SnowballStemmer"
   ]
  },
  {
   "cell_type": "code",
   "execution_count": 5,
   "id": "ranging-observer",
   "metadata": {},
   "outputs": [],
   "source": [
    "def text_preprocess(text):\n",
    "    text = text.translate(str.maketrans('', '', string.punctuation))\n",
    "    text = [word for word in text.split() if word.lower() not in stopwords.words('english')]\n",
    "    return \" \".join(text)"
   ]
  },
  {
   "cell_type": "code",
   "execution_count": 6,
   "id": "combined-playlist",
   "metadata": {},
   "outputs": [],
   "source": [
    "def stemmer (text):\n",
    "    text = text.split()\n",
    "    words = \"\"\n",
    "    for i in text:\n",
    "            stemmer = SnowballStemmer(\"english\")\n",
    "            words += (stemmer.stem(i))+\" \"\n",
    "    return words"
   ]
  },
  {
   "cell_type": "code",
   "execution_count": 7,
   "id": "million-organization",
   "metadata": {},
   "outputs": [],
   "source": [
    "message_data_copy = message_data_copy.apply(text_preprocess)\n",
    "message_data_copy = message_data_copy.apply(stemmer)    # New Line\n",
    "# message_data_copy"
   ]
  },
  {
   "cell_type": "code",
   "execution_count": 8,
   "id": "angry-tobago",
   "metadata": {},
   "outputs": [
    {
     "name": "stderr",
     "output_type": "stream",
     "text": [
      "c:\\users\\kids\\appdata\\local\\programs\\python\\python38\\lib\\site-packages\\sklearn\\utils\\validation.py:68: FutureWarning: Pass input=english as keyword args. From version 0.25 passing these as positional arguments will result in an error\n",
      "  warnings.warn(\"Pass {} as keyword args. From version 0.25 \"\n"
     ]
    }
   ],
   "source": [
    "vectorizer = TfidfVectorizer(\"english\")\n",
    "message_mat = vectorizer.fit_transform(message_data_copy)\n"
   ]
  },
  {
   "cell_type": "code",
   "execution_count": 9,
   "id": "pacific-convertible",
   "metadata": {},
   "outputs": [],
   "source": [
    "# message_train, message_test, spam_nospam_train, spam_nospam_test = train_test_split(message_mat, \n",
    "#                                                         message_data['tag'], test_size=0.3, random_state=20)\n",
    "\n",
    "message_train, message_test, spam_nospam_train, spam_nospam_test = train_test_split(message_mat, \n",
    "                                                        message_data['tag'], random_state=20)"
   ]
  },
  {
   "cell_type": "code",
   "execution_count": 10,
   "id": "possible-lender",
   "metadata": {},
   "outputs": [
    {
     "name": "stdout",
     "output_type": "stream",
     "text": [
      "The prediction is : ['possy' 'possy' 'possy' 'possy' 'possy']\n"
     ]
    }
   ],
   "source": [
    "Spam_model = LogisticRegression(multi_class='multinomial', solver='lbfgs')\n",
    "Spam_model.fit(message_train, spam_nospam_train)\n",
    "pred = Spam_model.predict(message_test)\n",
    "print(\"The prediction is :\", pred)"
   ]
  },
  {
   "cell_type": "code",
   "execution_count": 11,
   "id": "magnetic-tolerance",
   "metadata": {},
   "outputs": [
    {
     "name": "stdout",
     "output_type": "stream",
     "text": [
      "The prediction is : ['possy']\n"
     ]
    }
   ],
   "source": [
    "dummyEmail = [\"Hey, Susi, whats wrong with you? Why aren't you \"]\n",
    "dummyEmailMatrix= vectorizer.transform(dummyEmail) \n",
    "dummyEmailMatrix\n",
    "predict= Spam_model.predict(dummyEmailMatrix)\n",
    "print(\"The prediction is :\", predict)"
   ]
  },
  {
   "cell_type": "code",
   "execution_count": 12,
   "id": "applicable-immigration",
   "metadata": {},
   "outputs": [
    {
     "name": "stdout",
     "output_type": "stream",
     "text": [
      "Predicted Probabilities: [0.30738675 0.69261325]\n"
     ]
    }
   ],
   "source": [
    "prob_Of_Each_Class = Spam_model.predict_proba(dummyEmailMatrix)\n",
    "# summarize the predicted probabilities\n",
    "print('Predicted Probabilities: %s' % prob_Of_Each_Class[0])"
   ]
  },
  {
   "cell_type": "code",
   "execution_count": null,
   "id": "attempted-polyester",
   "metadata": {},
   "outputs": [],
   "source": []
  },
  {
   "cell_type": "code",
   "execution_count": null,
   "id": "expensive-aurora",
   "metadata": {},
   "outputs": [],
   "source": []
  }
 ],
 "metadata": {
  "kernelspec": {
   "display_name": "Python 3",
   "language": "python",
   "name": "python3"
  },
  "language_info": {
   "codemirror_mode": {
    "name": "ipython",
    "version": 3
   },
   "file_extension": ".py",
   "mimetype": "text/x-python",
   "name": "python",
   "nbconvert_exporter": "python",
   "pygments_lexer": "ipython3",
   "version": "3.8.3"
  }
 },
 "nbformat": 4,
 "nbformat_minor": 5
}
