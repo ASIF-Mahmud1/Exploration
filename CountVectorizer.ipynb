{
  "nbformat": 4,
  "nbformat_minor": 0,
  "metadata": {
    "kernelspec": {
      "display_name": "Python 3",
      "language": "python",
      "name": "python3"
    },
    "language_info": {
      "codemirror_mode": {
        "name": "ipython",
        "version": 3
      },
      "file_extension": ".py",
      "mimetype": "text/x-python",
      "name": "python",
      "nbconvert_exporter": "python",
      "pygments_lexer": "ipython3",
      "version": "3.6.5"
    },
    "colab": {
      "name": "CountVectorizer.ipynb",
      "provenance": [],
      "include_colab_link": true
    }
  },
  "cells": [
    {
      "cell_type": "markdown",
      "metadata": {
        "id": "view-in-github",
        "colab_type": "text"
      },
      "source": [
        "<a href=\"https://colab.research.google.com/github/ASIF-Mahmud1/Exploration/blob/text-classifier/CountVectorizer.ipynb\" target=\"_parent\"><img src=\"https://colab.research.google.com/assets/colab-badge.svg\" alt=\"Open In Colab\"/></a>"
      ]
    },
    {
      "cell_type": "markdown",
      "metadata": {
        "id": "oz8nbPvh2fcV"
      },
      "source": [
        "# CountVectorizer Usage Examples"
      ]
    },
    {
      "cell_type": "code",
      "metadata": {
        "id": "9RDTO2Zti4U7"
      },
      "source": [
        "# Blog https://kavita-ganesan.com/how-to-use-countvectorizer/#Resources"
      ],
      "execution_count": null,
      "outputs": []
    },
    {
      "cell_type": "code",
      "metadata": {
        "id": "JqzRX7mM2fcc"
      },
      "source": [
        "from sklearn.feature_extraction.text import CountVectorizer"
      ],
      "execution_count": null,
      "outputs": []
    },
    {
      "cell_type": "markdown",
      "metadata": {
        "id": "2mvJ9evN2fcd"
      },
      "source": [
        "# Warm Up Example"
      ]
    },
    {
      "cell_type": "code",
      "metadata": {
        "id": "mNnEUmYF2fcd"
      },
      "source": [
        "\n",
        "doc=[\"One Cent, Two Cents, Old Cent, New Cent: All About Money\", \"All goes good, when everything is good\"]\n"
      ],
      "execution_count": null,
      "outputs": []
    },
    {
      "cell_type": "code",
      "metadata": {
        "id": "D5FQG7Il2fce"
      },
      "source": [
        "cv = CountVectorizer(doc)\n",
        "count_vector=cv.fit_transform(doc)   # converts raw text to smaller units of text)"
      ],
      "execution_count": null,
      "outputs": []
    },
    {
      "cell_type": "code",
      "metadata": {
        "id": "BfS3vTsD2fce",
        "colab": {
          "base_uri": "https://localhost:8080/"
        },
        "outputId": "5505efd1-e6a1-4e78-d483-57583b611f12"
      },
      "source": [
        "# show resulting vocabulary; the numbers are not counts, they are the position in the sparse vector.\n",
        "cv.vocabulary_\n",
        "# cv.get_feature_names()"
      ],
      "execution_count": null,
      "outputs": [
        {
          "output_type": "execute_result",
          "data": {
            "text/plain": [
              "{'about': 0,\n",
              " 'all': 1,\n",
              " 'cent': 2,\n",
              " 'cents': 3,\n",
              " 'everything': 4,\n",
              " 'goes': 5,\n",
              " 'good': 6,\n",
              " 'is': 7,\n",
              " 'money': 8,\n",
              " 'new': 9,\n",
              " 'old': 10,\n",
              " 'one': 11,\n",
              " 'two': 12,\n",
              " 'when': 13}"
            ]
          },
          "metadata": {
            "tags": []
          },
          "execution_count": 26
        }
      ]
    },
    {
      "cell_type": "code",
      "metadata": {
        "id": "7goYPdZU2fcf",
        "colab": {
          "base_uri": "https://localhost:8080/"
        },
        "outputId": "f7f977ad-4d55-4dcc-be82-cf5a160c3933"
      },
      "source": [
        "# matrix shape. 1 documents, 9 unique words\n",
        "count_vector.shape"
      ],
      "execution_count": null,
      "outputs": [
        {
          "output_type": "execute_result",
          "data": {
            "text/plain": [
              "(2, 14)"
            ]
          },
          "metadata": {
            "tags": []
          },
          "execution_count": 28
        }
      ]
    },
    {
      "cell_type": "code",
      "metadata": {
        "id": "vNUTvGcD2fcg",
        "colab": {
          "base_uri": "https://localhost:8080/"
        },
        "outputId": "92e493fe-b540-4a7a-fe3f-72caaedd5dbf"
      },
      "source": [
        "# any words eliminated internally? -- nope\n",
        "cv.stop_words_"
      ],
      "execution_count": null,
      "outputs": [
        {
          "output_type": "execute_result",
          "data": {
            "text/plain": [
              "set()"
            ]
          },
          "metadata": {
            "tags": []
          },
          "execution_count": 29
        }
      ]
    },
    {
      "cell_type": "markdown",
      "metadata": {
        "id": "jsztWp8T2fcg"
      },
      "source": [
        "# CountVectorizer With More Data"
      ]
    },
    {
      "cell_type": "markdown",
      "metadata": {
        "id": "kZRxH9Q72fch"
      },
      "source": [
        "## Plain and Simple"
      ]
    },
    {
      "cell_type": "code",
      "metadata": {
        "id": "an81pB1F2fch"
      },
      "source": [
        "cat_in_the_hat_docs=[\n",
        "      \"One Cent, Two Cents, Old Cent, New Cent: All About Money (Cat in the Hat's Learning Library\",\n",
        "      \"Inside Your Outside: All About the Human Body (Cat in the Hat's Learning Library)\",\n",
        "      \"Oh, The Things You Can Do That Are Good for You: All About Staying Healthy (Cat in the Hat's Learning Library)\",\n",
        "      \"On Beyond Bugs: All About Insects (Cat in the Hat's Learning Library)\",\n",
        "      \"There's No Place Like Space: All About Our Solar System (Cat in the Hat's Learning Library)\" \n",
        "     ]\n"
      ],
      "execution_count": null,
      "outputs": []
    },
    {
      "cell_type": "code",
      "metadata": {
        "id": "G5OGlE-_2fch"
      },
      "source": [
        "cv = CountVectorizer(cat_in_the_hat_docs)\n",
        "count_vector=cv.fit_transform(cat_in_the_hat_docs)"
      ],
      "execution_count": null,
      "outputs": []
    },
    {
      "cell_type": "code",
      "metadata": {
        "id": "0TWc2vzZ2fci",
        "colab": {
          "base_uri": "https://localhost:8080/"
        },
        "outputId": "4eec5646-c32c-43da-8c7f-e739444d3031"
      },
      "source": [
        "# show resulting vocabulary; the numbers are not counts, they are the position in the sparse vector.\n",
        "cv.vocabulary_"
      ],
      "execution_count": null,
      "outputs": [
        {
          "output_type": "execute_result",
          "data": {
            "text/plain": [
              "{'about': 0,\n",
              " 'all': 1,\n",
              " 'are': 2,\n",
              " 'beyond': 3,\n",
              " 'body': 4,\n",
              " 'bugs': 5,\n",
              " 'can': 6,\n",
              " 'cat': 7,\n",
              " 'cent': 8,\n",
              " 'cents': 9,\n",
              " 'do': 10,\n",
              " 'for': 11,\n",
              " 'good': 12,\n",
              " 'hat': 13,\n",
              " 'healthy': 14,\n",
              " 'human': 15,\n",
              " 'in': 16,\n",
              " 'insects': 17,\n",
              " 'inside': 18,\n",
              " 'learning': 19,\n",
              " 'library': 20,\n",
              " 'like': 21,\n",
              " 'money': 22,\n",
              " 'new': 23,\n",
              " 'no': 24,\n",
              " 'oh': 25,\n",
              " 'old': 26,\n",
              " 'on': 27,\n",
              " 'one': 28,\n",
              " 'our': 29,\n",
              " 'outside': 30,\n",
              " 'place': 31,\n",
              " 'solar': 32,\n",
              " 'space': 33,\n",
              " 'staying': 34,\n",
              " 'system': 35,\n",
              " 'that': 36,\n",
              " 'the': 37,\n",
              " 'there': 38,\n",
              " 'things': 39,\n",
              " 'two': 40,\n",
              " 'you': 41,\n",
              " 'your': 42}"
            ]
          },
          "metadata": {
            "tags": []
          },
          "execution_count": 33
        }
      ]
    },
    {
      "cell_type": "code",
      "metadata": {
        "id": "moyYzHNC2fci",
        "colab": {
          "base_uri": "https://localhost:8080/"
        },
        "outputId": "29ff5f77-c96a-46db-bcaa-5f2b92192564"
      },
      "source": [
        "#shape of count vector: 5 docs (book titles) and 43 unique words\n",
        "count_vector.shape"
      ],
      "execution_count": null,
      "outputs": [
        {
          "output_type": "execute_result",
          "data": {
            "text/plain": [
              "(5, 43)"
            ]
          },
          "metadata": {
            "tags": []
          },
          "execution_count": 35
        }
      ]
    },
    {
      "cell_type": "code",
      "metadata": {
        "id": "2UpRGRxv2fcj",
        "colab": {
          "base_uri": "https://localhost:8080/"
        },
        "outputId": "095dedac-2458-4a24-9d66-8490ff503601"
      },
      "source": [
        "#any stop words?\n",
        "cv.stop_words_"
      ],
      "execution_count": null,
      "outputs": [
        {
          "output_type": "execute_result",
          "data": {
            "text/plain": [
              "set()"
            ]
          },
          "metadata": {
            "tags": []
          },
          "execution_count": 34
        }
      ]
    },
    {
      "cell_type": "markdown",
      "metadata": {
        "id": "JJ-f1vtP2fcj"
      },
      "source": [
        "## CountVectorizer With Custom StopWords"
      ]
    },
    {
      "cell_type": "code",
      "metadata": {
        "id": "qw4Zabwj2fcj",
        "colab": {
          "base_uri": "https://localhost:8080/"
        },
        "outputId": "178bd2fd-a06c-4b19-b699-5ae2b384f7b0"
      },
      "source": [
        "cv = CountVectorizer(cat_in_the_hat_docs,stop_words=[\"all\",\"in\",\"the\",\"is\",\"and\"])\n",
        "count_vector=cv.fit_transform(cat_in_the_hat_docs)\n",
        "count_vector.shape"
      ],
      "execution_count": null,
      "outputs": [
        {
          "output_type": "execute_result",
          "data": {
            "text/plain": [
              "(5, 40)"
            ]
          },
          "metadata": {
            "tags": []
          },
          "execution_count": 43
        }
      ]
    },
    {
      "cell_type": "code",
      "metadata": {
        "id": "Zk4yDIGq2fck",
        "colab": {
          "base_uri": "https://localhost:8080/"
        },
        "outputId": "4079a6bd-064a-419f-d5d7-4672db4995fe"
      },
      "source": [
        "#any stop words that we explicitly specified?\n",
        "cv.stop_words # cv.stop_words gives you the stop words that you explicitly specified "
      ],
      "execution_count": null,
      "outputs": [
        {
          "output_type": "execute_result",
          "data": {
            "text/plain": [
              "['all', 'in', 'the', 'is', 'and']"
            ]
          },
          "metadata": {
            "tags": []
          },
          "execution_count": 46
        }
      ]
    },
    {
      "cell_type": "code",
      "metadata": {
        "id": "ag2gY46a2fck",
        "colab": {
          "base_uri": "https://localhost:8080/"
        },
        "outputId": "22da1549-8432-41f8-c760-cab32ca5c52b"
      },
      "source": [
        "#any stop words internally stopped by countvectorizer?\n",
        "cv.stop_words_  # cv.stop_words_  gives you the stop words that CountVectorizer inferred from your min_df and max_df settings as well as those that were cut off during feature selection"
      ],
      "execution_count": null,
      "outputs": [
        {
          "output_type": "execute_result",
          "data": {
            "text/plain": [
              "set()"
            ]
          },
          "metadata": {
            "tags": []
          },
          "execution_count": 49
        }
      ]
    },
    {
      "cell_type": "markdown",
      "metadata": {
        "id": "c0RRCvgm2fck"
      },
      "source": [
        "## CountVectorizer With Predefined StopWords"
      ]
    },
    {
      "cell_type": "code",
      "metadata": {
        "id": "tWBScotG2fcl"
      },
      "source": [
        "cv = CountVectorizer(cat_in_the_hat_docs,stop_words=\"english\")\n",
        "count_vector=cv.fit_transform(cat_in_the_hat_docs)"
      ],
      "execution_count": null,
      "outputs": []
    },
    {
      "cell_type": "code",
      "metadata": {
        "id": "FRDUwhNt2fcl",
        "colab": {
          "base_uri": "https://localhost:8080/"
        },
        "outputId": "992ffaea-aa32-4f8b-ab1b-f6c7082941b7"
      },
      "source": [
        "# the shape should be smaller\n",
        "count_vector.shape"
      ],
      "execution_count": null,
      "outputs": [
        {
          "output_type": "execute_result",
          "data": {
            "text/plain": [
              "(5, 24)"
            ]
          },
          "metadata": {
            "tags": []
          },
          "execution_count": 52
        }
      ]
    },
    {
      "cell_type": "code",
      "metadata": {
        "id": "U_BjJPjC2fcl",
        "colab": {
          "base_uri": "https://localhost:8080/",
          "height": 35
        },
        "outputId": "4933c6ba-48fc-4911-e862-adebe05d7869"
      },
      "source": [
        "#any stop words that we explicitly specified?\n",
        "cv.stop_words"
      ],
      "execution_count": null,
      "outputs": [
        {
          "output_type": "execute_result",
          "data": {
            "application/vnd.google.colaboratory.intrinsic+json": {
              "type": "string"
            },
            "text/plain": [
              "'english'"
            ]
          },
          "metadata": {
            "tags": []
          },
          "execution_count": 53
        }
      ]
    },
    {
      "cell_type": "code",
      "metadata": {
        "id": "gKcZRajn2fcm",
        "colab": {
          "base_uri": "https://localhost:8080/"
        },
        "outputId": "5cdbf502-7611-49fc-df2b-fdea38e4e90e"
      },
      "source": [
        "#any stop words internally stopped by countvectorizer?\n",
        "cv.stop_words_"
      ],
      "execution_count": null,
      "outputs": [
        {
          "output_type": "execute_result",
          "data": {
            "text/plain": [
              "set()"
            ]
          },
          "metadata": {
            "tags": []
          },
          "execution_count": 54
        }
      ]
    },
    {
      "cell_type": "code",
      "metadata": {
        "id": "yKPIy_Ib2fcm",
        "colab": {
          "base_uri": "https://localhost:8080/"
        },
        "outputId": "a5e5766f-2746-48a2-eccd-813d26b8385f"
      },
      "source": [
        "# much smaller vocabulary with stopwords applied\n",
        "cv.vocabulary_"
      ],
      "execution_count": null,
      "outputs": [
        {
          "output_type": "execute_result",
          "data": {
            "text/plain": [
              "{'body': 0,\n",
              " 'bugs': 1,\n",
              " 'cat': 2,\n",
              " 'cent': 3,\n",
              " 'cents': 4,\n",
              " 'good': 5,\n",
              " 'hat': 6,\n",
              " 'healthy': 7,\n",
              " 'human': 8,\n",
              " 'insects': 9,\n",
              " 'inside': 10,\n",
              " 'learning': 11,\n",
              " 'library': 12,\n",
              " 'like': 13,\n",
              " 'money': 14,\n",
              " 'new': 15,\n",
              " 'oh': 16,\n",
              " 'old': 17,\n",
              " 'outside': 18,\n",
              " 'place': 19,\n",
              " 'solar': 20,\n",
              " 'space': 21,\n",
              " 'staying': 22,\n",
              " 'things': 23}"
            ]
          },
          "metadata": {
            "tags": []
          },
          "execution_count": 55
        }
      ]
    },
    {
      "cell_type": "markdown",
      "metadata": {
        "id": "Vd4DTOy_2fcm"
      },
      "source": [
        "## CountVectorizer with MIN_DF as StopWords"
      ]
    },
    {
      "cell_type": "code",
      "metadata": {
        "id": "tPxByIpJ2fcn"
      },
      "source": [
        "# ignore terms that appeared in less than n documents (can be proportion or absolute counts). How many documents contained a term, better known as document frequency.\n",
        "cv = CountVectorizer(cat_in_the_hat_docs,min_df=2) # # ignore terms that appeared in less than 2 documents  \n",
        "count_vector=cv.fit_transform(cat_in_the_hat_docs)"
      ],
      "execution_count": null,
      "outputs": []
    },
    {
      "cell_type": "code",
      "metadata": {
        "id": "ylQSGaiw2fcn",
        "colab": {
          "base_uri": "https://localhost:8080/"
        },
        "outputId": "03a03e48-782d-4c0c-d0fe-56d3e8ec8c61"
      },
      "source": [
        "#any stop words internally stopped by countvectorizer?\n",
        "cv.stop_words_"
      ],
      "execution_count": null,
      "outputs": [
        {
          "output_type": "execute_result",
          "data": {
            "text/plain": [
              "{'are',\n",
              " 'beyond',\n",
              " 'body',\n",
              " 'bugs',\n",
              " 'can',\n",
              " 'cent',\n",
              " 'cents',\n",
              " 'do',\n",
              " 'for',\n",
              " 'good',\n",
              " 'healthy',\n",
              " 'human',\n",
              " 'insects',\n",
              " 'inside',\n",
              " 'like',\n",
              " 'money',\n",
              " 'new',\n",
              " 'no',\n",
              " 'oh',\n",
              " 'old',\n",
              " 'on',\n",
              " 'one',\n",
              " 'our',\n",
              " 'outside',\n",
              " 'place',\n",
              " 'solar',\n",
              " 'space',\n",
              " 'staying',\n",
              " 'system',\n",
              " 'that',\n",
              " 'there',\n",
              " 'things',\n",
              " 'two',\n",
              " 'you',\n",
              " 'your'}"
            ]
          },
          "metadata": {
            "tags": []
          },
          "execution_count": 67
        }
      ]
    },
    {
      "cell_type": "code",
      "metadata": {
        "id": "9GezNd-e2fcn",
        "colab": {
          "base_uri": "https://localhost:8080/"
        },
        "outputId": "c651f26b-3820-4e9e-8db5-076a1a3507f2"
      },
      "source": [
        "count_vector.shape"
      ],
      "execution_count": null,
      "outputs": [
        {
          "output_type": "execute_result",
          "data": {
            "text/plain": [
              "(5, 8)"
            ]
          },
          "metadata": {
            "tags": []
          },
          "execution_count": 68
        }
      ]
    },
    {
      "cell_type": "code",
      "metadata": {
        "id": "at50fYJY2fcn"
      },
      "source": [
        "# use proportion here. Ignore terms that occurred in less than 25% of the documents\n",
        "cv = CountVectorizer(cat_in_the_hat_docs,min_df=0.25)\n",
        "count_vector=cv.fit_transform(cat_in_the_hat_docs)"
      ],
      "execution_count": null,
      "outputs": []
    },
    {
      "cell_type": "code",
      "metadata": {
        "id": "N4wmsgPo2fco",
        "colab": {
          "base_uri": "https://localhost:8080/"
        },
        "outputId": "9b7243e4-97e5-43a4-8e00-7712a7d1cc2b"
      },
      "source": [
        "count_vector.shape"
      ],
      "execution_count": null,
      "outputs": [
        {
          "output_type": "execute_result",
          "data": {
            "text/plain": [
              "(5, 8)"
            ]
          },
          "metadata": {
            "tags": []
          },
          "execution_count": 70
        }
      ]
    },
    {
      "cell_type": "code",
      "metadata": {
        "id": "KTyIUziG2fco",
        "colab": {
          "base_uri": "https://localhost:8080/"
        },
        "outputId": "fcae742b-634f-4494-8727-69fbf9cde0df"
      },
      "source": [
        "cv.vocabulary_"
      ],
      "execution_count": null,
      "outputs": [
        {
          "output_type": "execute_result",
          "data": {
            "text/plain": [
              "{'about': 0,\n",
              " 'all': 1,\n",
              " 'cat': 2,\n",
              " 'hat': 3,\n",
              " 'in': 4,\n",
              " 'learning': 5,\n",
              " 'library': 6,\n",
              " 'the': 7}"
            ]
          },
          "metadata": {
            "tags": []
          },
          "execution_count": 71
        }
      ]
    },
    {
      "cell_type": "code",
      "metadata": {
        "id": "3F_LI8gu2fco",
        "colab": {
          "base_uri": "https://localhost:8080/"
        },
        "outputId": "d28233c6-9b1b-4954-ef90-b7318a85bfbd"
      },
      "source": [
        "#any stop words internally stopped by countvectorizer?\n",
        "cv.stop_words_"
      ],
      "execution_count": null,
      "outputs": [
        {
          "output_type": "execute_result",
          "data": {
            "text/plain": [
              "{'are',\n",
              " 'beyond',\n",
              " 'body',\n",
              " 'bugs',\n",
              " 'can',\n",
              " 'cent',\n",
              " 'cents',\n",
              " 'do',\n",
              " 'for',\n",
              " 'good',\n",
              " 'healthy',\n",
              " 'human',\n",
              " 'insects',\n",
              " 'inside',\n",
              " 'like',\n",
              " 'money',\n",
              " 'new',\n",
              " 'no',\n",
              " 'oh',\n",
              " 'old',\n",
              " 'on',\n",
              " 'one',\n",
              " 'our',\n",
              " 'outside',\n",
              " 'place',\n",
              " 'solar',\n",
              " 'space',\n",
              " 'staying',\n",
              " 'system',\n",
              " 'that',\n",
              " 'there',\n",
              " 'things',\n",
              " 'two',\n",
              " 'you',\n",
              " 'your'}"
            ]
          },
          "metadata": {
            "tags": []
          },
          "execution_count": 72
        }
      ]
    },
    {
      "cell_type": "markdown",
      "metadata": {
        "id": "NfWBkArS2fcp"
      },
      "source": [
        "## CountVectorizer with MAX_DF as StopWords"
      ]
    },
    {
      "cell_type": "code",
      "metadata": {
        "id": "t83uANfL2fcp"
      },
      "source": [
        "# ignore terms that appeared in more than n documents (can be proportion or absolute counts)\n",
        "# use proportion here\n",
        "cv = CountVectorizer(cat_in_the_hat_docs,max_df=0.50)\n",
        "count_vector=cv.fit_transform(cat_in_the_hat_docs)"
      ],
      "execution_count": null,
      "outputs": []
    },
    {
      "cell_type": "code",
      "metadata": {
        "id": "8CuxvcLk2fcp",
        "colab": {
          "base_uri": "https://localhost:8080/"
        },
        "outputId": "92a34318-917d-4b13-eaae-590adb3fbd94"
      },
      "source": [
        "cv.vocabulary_"
      ],
      "execution_count": null,
      "outputs": [
        {
          "output_type": "execute_result",
          "data": {
            "text/plain": [
              "{'are': 0,\n",
              " 'beyond': 1,\n",
              " 'body': 2,\n",
              " 'bugs': 3,\n",
              " 'can': 4,\n",
              " 'cent': 5,\n",
              " 'cents': 6,\n",
              " 'do': 7,\n",
              " 'for': 8,\n",
              " 'good': 9,\n",
              " 'healthy': 10,\n",
              " 'human': 11,\n",
              " 'insects': 12,\n",
              " 'inside': 13,\n",
              " 'like': 14,\n",
              " 'money': 15,\n",
              " 'new': 16,\n",
              " 'no': 17,\n",
              " 'oh': 18,\n",
              " 'old': 19,\n",
              " 'on': 20,\n",
              " 'one': 21,\n",
              " 'our': 22,\n",
              " 'outside': 23,\n",
              " 'place': 24,\n",
              " 'solar': 25,\n",
              " 'space': 26,\n",
              " 'staying': 27,\n",
              " 'system': 28,\n",
              " 'that': 29,\n",
              " 'there': 30,\n",
              " 'things': 31,\n",
              " 'two': 32,\n",
              " 'you': 33,\n",
              " 'your': 34}"
            ]
          },
          "metadata": {
            "tags": []
          },
          "execution_count": 75
        }
      ]
    },
    {
      "cell_type": "code",
      "metadata": {
        "id": "jUNaC4aO2fcp",
        "colab": {
          "base_uri": "https://localhost:8080/"
        },
        "outputId": "80a4f3e8-d8d1-477c-cf35-e4852f424cfb"
      },
      "source": [
        "cv.stop_words_"
      ],
      "execution_count": null,
      "outputs": [
        {
          "output_type": "execute_result",
          "data": {
            "text/plain": [
              "{'about', 'all', 'cat', 'hat', 'in', 'learning', 'library', 'the'}"
            ]
          },
          "metadata": {
            "tags": []
          },
          "execution_count": 76
        }
      ]
    },
    {
      "cell_type": "code",
      "metadata": {
        "id": "i4LwuEGS2fcq"
      },
      "source": [
        "# ignore terms that appeared in more than n documents (can be proportion or absolute counts)\n",
        "# use absolute values here - suitable when you know number of documents ahead of time and are dealing with only a handful\n",
        "cv = CountVectorizer(cat_in_the_hat_docs,max_df=4)\n",
        "count_vector=cv.fit_transform(cat_in_the_hat_docs)"
      ],
      "execution_count": null,
      "outputs": []
    },
    {
      "cell_type": "code",
      "metadata": {
        "id": "MFuqKwTP2fcq",
        "outputId": "a3cd43be-3877-40b4-9e27-a1b94631bddc"
      },
      "source": [
        "cv.stop_words_"
      ],
      "execution_count": null,
      "outputs": [
        {
          "output_type": "execute_result",
          "data": {
            "text/plain": [
              "{'about', 'all', 'cat', 'hat', 'in', 'learning', 'library', 'the'}"
            ]
          },
          "metadata": {
            "tags": []
          },
          "execution_count": 451
        }
      ]
    },
    {
      "cell_type": "markdown",
      "metadata": {
        "id": "VpiW92Bc2fcq"
      },
      "source": [
        "## Custom Preprocessing "
      ]
    },
    {
      "cell_type": "code",
      "metadata": {
        "id": "IeQEviBg2fcr"
      },
      "source": [
        "import re\n",
        "import nltk\n",
        "import pandas as pd\n",
        "from nltk.stem import PorterStemmer\n",
        "\n",
        "# init stemmer\n",
        "porter_stemmer=PorterStemmer()\n",
        "\n",
        "def my_cool_preprocessor(text):\n",
        "    \n",
        "    text=text.lower() \n",
        "    text=re.sub(\"\\\\W\",\" \",text) # remove special chars\n",
        "    text=re.sub(\"\\\\s+(in|the|all|for|and|on)\\\\s+\",\" _connector_ \",text) # normalize certain words\n",
        "    \n",
        "    # stem words\n",
        "    words=re.split(\"\\\\s+\",text)\n",
        "    stemmed_words=[porter_stemmer.stem(word=word) for word in words]\n",
        "    return ' '.join(stemmed_words)\n",
        "\n",
        "cv = CountVectorizer(cat_in_the_hat_docs,preprocessor=my_cool_preprocessor)\n",
        "count_vector=cv.fit_transform(cat_in_the_hat_docs)"
      ],
      "execution_count": null,
      "outputs": []
    },
    {
      "cell_type": "code",
      "metadata": {
        "id": "N9Jy17KN2fcr",
        "colab": {
          "base_uri": "https://localhost:8080/"
        },
        "outputId": "a72e2f78-e9ff-4684-f455-9e36c1ba0b00"
      },
      "source": [
        "cv.vocabulary_"
      ],
      "execution_count": null,
      "outputs": [
        {
          "output_type": "execute_result",
          "data": {
            "text/plain": [
              "{'_connector_': 0,\n",
              " 'about': 1,\n",
              " 'are': 2,\n",
              " 'beyond': 3,\n",
              " 'bodi': 4,\n",
              " 'bug': 5,\n",
              " 'can': 6,\n",
              " 'cat': 7,\n",
              " 'cent': 8,\n",
              " 'do': 9,\n",
              " 'good': 10,\n",
              " 'hat': 11,\n",
              " 'healthi': 12,\n",
              " 'human': 13,\n",
              " 'insect': 14,\n",
              " 'insid': 15,\n",
              " 'learn': 16,\n",
              " 'librari': 17,\n",
              " 'like': 18,\n",
              " 'money': 19,\n",
              " 'new': 20,\n",
              " 'no': 21,\n",
              " 'oh': 22,\n",
              " 'old': 23,\n",
              " 'on': 24,\n",
              " 'one': 25,\n",
              " 'our': 26,\n",
              " 'outsid': 27,\n",
              " 'place': 28,\n",
              " 'solar': 29,\n",
              " 'space': 30,\n",
              " 'stay': 31,\n",
              " 'system': 32,\n",
              " 'that': 33,\n",
              " 'the': 34,\n",
              " 'there': 35,\n",
              " 'thing': 36,\n",
              " 'two': 37,\n",
              " 'you': 38,\n",
              " 'your': 39}"
            ]
          },
          "metadata": {
            "tags": []
          },
          "execution_count": 80
        }
      ]
    },
    {
      "cell_type": "code",
      "metadata": {
        "id": "Kc8fox0w2fcr"
      },
      "source": [
        "cv = CountVectorizer(cat_in_the_hat_docs,preprocessor=my_cool_preprocessor)\n",
        "count_vector=cv.fit_transform(cat_in_the_hat_docs)"
      ],
      "execution_count": null,
      "outputs": []
    },
    {
      "cell_type": "markdown",
      "metadata": {
        "id": "pepSh6mB2fcs"
      },
      "source": [
        "## Working With N-Grams"
      ]
    },
    {
      "cell_type": "code",
      "metadata": {
        "id": "DQRt4SaC2fcs"
      },
      "source": [
        "#only bigrams, word level\n",
        "cv = CountVectorizer(cat_in_the_hat_docs,ngram_range=(2,2),preprocessor=my_cool_preprocessor)\n",
        "count_vector=cv.fit_transform(cat_in_the_hat_docs)"
      ],
      "execution_count": null,
      "outputs": []
    },
    {
      "cell_type": "code",
      "metadata": {
        "id": "u3EQOGy52fcs",
        "outputId": "a09bbaa9-cf49-47d0-f7e0-3192cc5893d2"
      },
      "source": [
        "cv.vocabulary_"
      ],
      "execution_count": null,
      "outputs": [
        {
          "output_type": "execute_result",
          "data": {
            "text/plain": [
              "{'one cent': 35,\n",
              " 'cent two': 19,\n",
              " 'two cent': 47,\n",
              " 'cent old': 18,\n",
              " 'old cent': 33,\n",
              " 'cent new': 17,\n",
              " 'new cent': 30,\n",
              " 'cent _connector_': 16,\n",
              " '_connector_ about': 0,\n",
              " 'about money': 7,\n",
              " 'money cat': 29,\n",
              " 'cat _connector_': 15,\n",
              " '_connector_ the': 2,\n",
              " 'the hat': 44,\n",
              " 'hat learn': 22,\n",
              " 'learn librari': 27,\n",
              " 'insid your': 26,\n",
              " 'your outsid': 50,\n",
              " 'outsid _connector_': 37,\n",
              " 'about _connector_': 5,\n",
              " '_connector_ human': 1,\n",
              " 'human bodi': 24,\n",
              " 'bodi cat': 12,\n",
              " 'oh _connector_': 32,\n",
              " '_connector_ thing': 3,\n",
              " 'thing you': 46,\n",
              " 'you can': 49,\n",
              " 'can do': 14,\n",
              " 'do that': 20,\n",
              " 'that are': 43,\n",
              " 'are good': 10,\n",
              " 'good _connector_': 21,\n",
              " '_connector_ you': 4,\n",
              " 'you _connector_': 48,\n",
              " 'about stay': 9,\n",
              " 'stay healthi': 41,\n",
              " 'healthi cat': 23,\n",
              " 'on beyond': 34,\n",
              " 'beyond bug': 11,\n",
              " 'bug _connector_': 13,\n",
              " 'about insect': 6,\n",
              " 'insect cat': 25,\n",
              " 'there no': 45,\n",
              " 'no place': 31,\n",
              " 'place like': 38,\n",
              " 'like space': 28,\n",
              " 'space _connector_': 40,\n",
              " 'about our': 8,\n",
              " 'our solar': 36,\n",
              " 'solar system': 39,\n",
              " 'system cat': 42}"
            ]
          },
          "metadata": {
            "tags": []
          },
          "execution_count": 456
        }
      ]
    },
    {
      "cell_type": "code",
      "metadata": {
        "id": "uTxjnjcD2fcs",
        "colab": {
          "base_uri": "https://localhost:8080/"
        },
        "outputId": "1af737d4-341b-4b79-eade-63ee2fe5f5db"
      },
      "source": [
        "count_vector.shape"
      ],
      "execution_count": null,
      "outputs": [
        {
          "output_type": "execute_result",
          "data": {
            "text/plain": [
              "(5, 51)"
            ]
          },
          "metadata": {
            "tags": []
          },
          "execution_count": 84
        }
      ]
    },
    {
      "cell_type": "code",
      "metadata": {
        "id": "8Kj_XNQS2fct"
      },
      "source": [
        "#only bigrams and unigrams\n",
        "cv = CountVectorizer(cat_in_the_hat_docs,ngram_range=(1,2),preprocessor=my_cool_preprocessor)\n",
        "count_vector=cv.fit_transform(cat_in_the_hat_docs)"
      ],
      "execution_count": null,
      "outputs": []
    },
    {
      "cell_type": "code",
      "metadata": {
        "id": "KtcGwQm02fct",
        "colab": {
          "base_uri": "https://localhost:8080/"
        },
        "outputId": "7e000327-18cd-43b9-9a30-81199bbf31eb"
      },
      "source": [
        "cv.vocabulary_"
      ],
      "execution_count": null,
      "outputs": [
        {
          "output_type": "execute_result",
          "data": {
            "text/plain": [
              "{'_connector_': 0,\n",
              " '_connector_ about': 1,\n",
              " '_connector_ human': 2,\n",
              " '_connector_ the': 3,\n",
              " '_connector_ thing': 4,\n",
              " '_connector_ you': 5,\n",
              " 'about': 6,\n",
              " 'about _connector_': 7,\n",
              " 'about insect': 8,\n",
              " 'about money': 9,\n",
              " 'about our': 10,\n",
              " 'about stay': 11,\n",
              " 'are': 12,\n",
              " 'are good': 13,\n",
              " 'beyond': 14,\n",
              " 'beyond bug': 15,\n",
              " 'bodi': 16,\n",
              " 'bodi cat': 17,\n",
              " 'bug': 18,\n",
              " 'bug _connector_': 19,\n",
              " 'can': 20,\n",
              " 'can do': 21,\n",
              " 'cat': 22,\n",
              " 'cat _connector_': 23,\n",
              " 'cent': 24,\n",
              " 'cent _connector_': 25,\n",
              " 'cent new': 26,\n",
              " 'cent old': 27,\n",
              " 'cent two': 28,\n",
              " 'do': 29,\n",
              " 'do that': 30,\n",
              " 'good': 31,\n",
              " 'good _connector_': 32,\n",
              " 'hat': 33,\n",
              " 'hat learn': 34,\n",
              " 'healthi': 35,\n",
              " 'healthi cat': 36,\n",
              " 'human': 37,\n",
              " 'human bodi': 38,\n",
              " 'insect': 39,\n",
              " 'insect cat': 40,\n",
              " 'insid': 41,\n",
              " 'insid your': 42,\n",
              " 'learn': 43,\n",
              " 'learn librari': 44,\n",
              " 'librari': 45,\n",
              " 'like': 46,\n",
              " 'like space': 47,\n",
              " 'money': 48,\n",
              " 'money cat': 49,\n",
              " 'new': 50,\n",
              " 'new cent': 51,\n",
              " 'no': 52,\n",
              " 'no place': 53,\n",
              " 'oh': 54,\n",
              " 'oh _connector_': 55,\n",
              " 'old': 56,\n",
              " 'old cent': 57,\n",
              " 'on': 58,\n",
              " 'on beyond': 59,\n",
              " 'one': 60,\n",
              " 'one cent': 61,\n",
              " 'our': 62,\n",
              " 'our solar': 63,\n",
              " 'outsid': 64,\n",
              " 'outsid _connector_': 65,\n",
              " 'place': 66,\n",
              " 'place like': 67,\n",
              " 'solar': 68,\n",
              " 'solar system': 69,\n",
              " 'space': 70,\n",
              " 'space _connector_': 71,\n",
              " 'stay': 72,\n",
              " 'stay healthi': 73,\n",
              " 'system': 74,\n",
              " 'system cat': 75,\n",
              " 'that': 76,\n",
              " 'that are': 77,\n",
              " 'the': 78,\n",
              " 'the hat': 79,\n",
              " 'there': 80,\n",
              " 'there no': 81,\n",
              " 'thing': 82,\n",
              " 'thing you': 83,\n",
              " 'two': 84,\n",
              " 'two cent': 85,\n",
              " 'you': 86,\n",
              " 'you _connector_': 87,\n",
              " 'you can': 88,\n",
              " 'your': 89,\n",
              " 'your outsid': 90}"
            ]
          },
          "metadata": {
            "tags": []
          },
          "execution_count": 86
        }
      ]
    },
    {
      "cell_type": "code",
      "metadata": {
        "id": "43mL_IB-2fct",
        "colab": {
          "base_uri": "https://localhost:8080/"
        },
        "outputId": "a36ce6e6-be04-4643-b981-f05f4ef81a1b"
      },
      "source": [
        "count_vector.shape"
      ],
      "execution_count": null,
      "outputs": [
        {
          "output_type": "execute_result",
          "data": {
            "text/plain": [
              "(5, 91)"
            ]
          },
          "metadata": {
            "tags": []
          },
          "execution_count": 87
        }
      ]
    },
    {
      "cell_type": "markdown",
      "metadata": {
        "id": "CyMaYR3P2fcu"
      },
      "source": [
        "## Working With Character N-Grams"
      ]
    },
    {
      "cell_type": "code",
      "metadata": {
        "id": "p-qsmggW2fcu"
      },
      "source": [
        "#only character level bigrams \n",
        "cv = CountVectorizer(cat_in_the_hat_docs,ngram_range=(2,2),preprocessor=my_cool_preprocessor,analyzer='char_wb')\n",
        "count_vector=cv.fit_transform(cat_in_the_hat_docs)"
      ],
      "execution_count": null,
      "outputs": []
    },
    {
      "cell_type": "code",
      "metadata": {
        "id": "CfPQy2XZ2fcu",
        "colab": {
          "base_uri": "https://localhost:8080/"
        },
        "outputId": "459c9f01-adc9-46cd-bb31-acb5ff6db9fc"
      },
      "source": [
        "cv.vocabulary_"
      ],
      "execution_count": null,
      "outputs": [
        {
          "output_type": "execute_result",
          "data": {
            "text/plain": [
              "{' _': 0,\n",
              " ' a': 1,\n",
              " ' b': 2,\n",
              " ' c': 3,\n",
              " ' d': 4,\n",
              " ' g': 5,\n",
              " ' h': 6,\n",
              " ' i': 7,\n",
              " ' l': 8,\n",
              " ' m': 9,\n",
              " ' n': 10,\n",
              " ' o': 11,\n",
              " ' p': 12,\n",
              " ' s': 13,\n",
              " ' t': 14,\n",
              " ' y': 15,\n",
              " '_ ': 16,\n",
              " '_c': 17,\n",
              " 'ab': 18,\n",
              " 'ac': 19,\n",
              " 'al': 20,\n",
              " 'an': 21,\n",
              " 'ar': 22,\n",
              " 'at': 23,\n",
              " 'ay': 24,\n",
              " 'be': 25,\n",
              " 'bo': 26,\n",
              " 'br': 27,\n",
              " 'bu': 28,\n",
              " 'ca': 29,\n",
              " 'ce': 30,\n",
              " 'co': 31,\n",
              " 'ct': 32,\n",
              " 'd ': 33,\n",
              " 'di': 34,\n",
              " 'do': 35,\n",
              " 'e ': 36,\n",
              " 'ea': 37,\n",
              " 'ec': 38,\n",
              " 'em': 39,\n",
              " 'en': 40,\n",
              " 'er': 41,\n",
              " 'ew': 42,\n",
              " 'ey': 43,\n",
              " 'g ': 44,\n",
              " 'go': 45,\n",
              " 'h ': 46,\n",
              " 'ha': 47,\n",
              " 'he': 48,\n",
              " 'hi': 49,\n",
              " 'hu': 50,\n",
              " 'i ': 51,\n",
              " 'ib': 52,\n",
              " 'id': 53,\n",
              " 'ik': 54,\n",
              " 'in': 55,\n",
              " 'ke': 56,\n",
              " 'la': 57,\n",
              " 'ld': 58,\n",
              " 'le': 59,\n",
              " 'li': 60,\n",
              " 'lt': 61,\n",
              " 'm ': 62,\n",
              " 'ma': 63,\n",
              " 'mo': 64,\n",
              " 'n ': 65,\n",
              " 'nd': 66,\n",
              " 'ne': 67,\n",
              " 'ng': 68,\n",
              " 'nn': 69,\n",
              " 'no': 70,\n",
              " 'ns': 71,\n",
              " 'nt': 72,\n",
              " 'o ': 73,\n",
              " 'od': 74,\n",
              " 'oh': 75,\n",
              " 'ol': 76,\n",
              " 'on': 77,\n",
              " 'oo': 78,\n",
              " 'or': 79,\n",
              " 'ou': 80,\n",
              " 'pa': 81,\n",
              " 'pl': 82,\n",
              " 'r ': 83,\n",
              " 'r_': 84,\n",
              " 'ra': 85,\n",
              " 're': 86,\n",
              " 'ri': 87,\n",
              " 'rn': 88,\n",
              " 's ': 89,\n",
              " 'se': 90,\n",
              " 'si': 91,\n",
              " 'so': 92,\n",
              " 'sp': 93,\n",
              " 'st': 94,\n",
              " 'sy': 95,\n",
              " 't ': 96,\n",
              " 'ta': 97,\n",
              " 'te': 98,\n",
              " 'th': 99,\n",
              " 'to': 100,\n",
              " 'ts': 101,\n",
              " 'tw': 102,\n",
              " 'u ': 103,\n",
              " 'ug': 104,\n",
              " 'um': 105,\n",
              " 'ur': 106,\n",
              " 'ut': 107,\n",
              " 'w ': 108,\n",
              " 'wo': 109,\n",
              " 'y ': 110,\n",
              " 'yo': 111,\n",
              " 'ys': 112}"
            ]
          },
          "metadata": {
            "tags": []
          },
          "execution_count": 89
        }
      ]
    },
    {
      "cell_type": "code",
      "metadata": {
        "id": "YeV_EHLx2fcu",
        "colab": {
          "base_uri": "https://localhost:8080/"
        },
        "outputId": "5673d895-d66c-4ed5-d131-6482fcfb015c"
      },
      "source": [
        "count_vector.shape"
      ],
      "execution_count": null,
      "outputs": [
        {
          "output_type": "execute_result",
          "data": {
            "text/plain": [
              "(5, 113)"
            ]
          },
          "metadata": {
            "tags": []
          },
          "execution_count": 90
        }
      ]
    },
    {
      "cell_type": "markdown",
      "metadata": {
        "id": "ppumwNNH2fcv"
      },
      "source": [
        "## Limiting Vocabulary Size"
      ]
    },
    {
      "cell_type": "code",
      "metadata": {
        "id": "g6aOCvvp2fcv"
      },
      "source": [
        "#only bigrams and unigrams, limit to vocab size of 10\n",
        "cv = CountVectorizer(cat_in_the_hat_docs,ngram_range=(1,2),preprocessor=my_cool_preprocessor,analyzer='word',max_features=10)\n",
        "count_vector=cv.fit_transform(cat_in_the_hat_docs)"
      ],
      "execution_count": null,
      "outputs": []
    },
    {
      "cell_type": "code",
      "metadata": {
        "id": "dtBvvVFh2fcv",
        "colab": {
          "base_uri": "https://localhost:8080/"
        },
        "outputId": "51008c9b-413e-4527-db83-f2d6c803ad7f"
      },
      "source": [
        "count_vector.shape"
      ],
      "execution_count": null,
      "outputs": [
        {
          "output_type": "execute_result",
          "data": {
            "text/plain": [
              "(5, 10)"
            ]
          },
          "metadata": {
            "tags": []
          },
          "execution_count": 98
        }
      ]
    },
    {
      "cell_type": "code",
      "metadata": {
        "id": "jzoPLARW2fcv",
        "colab": {
          "base_uri": "https://localhost:8080/"
        },
        "outputId": "2ff23d45-4b7a-441a-9d11-c70827dc7df6"
      },
      "source": [
        "cv.vocabulary_"
      ],
      "execution_count": null,
      "outputs": [
        {
          "output_type": "execute_result",
          "data": {
            "text/plain": [
              "{'_connector_': 0,\n",
              " 'cat': 1,\n",
              " 'cat _connector_': 2,\n",
              " 'hat': 3,\n",
              " 'hat learn': 4,\n",
              " 'learn': 5,\n",
              " 'learn librari': 6,\n",
              " 'librari': 7,\n",
              " 'the': 8,\n",
              " 'the hat': 9}"
            ]
          },
          "metadata": {
            "tags": []
          },
          "execution_count": 99
        }
      ]
    },
    {
      "cell_type": "markdown",
      "metadata": {
        "id": "92F2Y5072fcw"
      },
      "source": [
        "## Extracting Counts of Words / N-Grams"
      ]
    },
    {
      "cell_type": "code",
      "metadata": {
        "id": "Iah6NaKx2fcw"
      },
      "source": [
        "def sort_coo(coo_matrix):\n",
        "    tuples = zip(coo_matrix.col, coo_matrix.data)\n",
        "    return sorted(tuples, key=lambda x: (x[1], x[0]), reverse=True)\n",
        " \n",
        "def extract_topn_from_vector(feature_names, sorted_items, topn=10):\n",
        "    \"\"\"return n-gram counts in descending order of counts\"\"\"\n",
        "    \n",
        "    #use only topn items from vector\n",
        "    sorted_items = sorted_items[:topn]\n",
        " \n",
        "    score_vals = []\n",
        "    feature_vals = []\n",
        "    results=[]\n",
        "    \n",
        "    # word index, count i\n",
        "    for idx, count in sorted_items:\n",
        "        \n",
        "        # get the ngram name\n",
        "        n_gram=feature_names[idx]\n",
        "        \n",
        "        # collect as a list of tuples\n",
        "        results.append((n_gram,count))\n",
        " \n",
        "    return results"
      ],
      "execution_count": null,
      "outputs": []
    },
    {
      "cell_type": "code",
      "metadata": {
        "id": "Ag-vjtrR2fcw",
        "outputId": "81d1129a-3322-4e3c-8232-129c925cb5c2"
      },
      "source": [
        "cv = CountVectorizer(cat_in_the_hat_docs,ngram_range=(1,2),preprocessor=my_cool_preprocessor,max_features=100)\n",
        "count_vector=cv.fit_transform(cat_in_the_hat_docs)\n",
        "\n",
        "#sort the counts of first book title by descending order of counts\n",
        "sorted_items=sort_coo(count_vector[0].tocoo())\n",
        "\n",
        "#Get feature names (words/n-grams). It is sorted by position in sparse matrix\n",
        "feature_names=cv.get_feature_names()\n",
        "n_grams=extract_topn_from_vector(feature_names,sorted_items,10)\n",
        "n_grams"
      ],
      "execution_count": null,
      "outputs": [
        {
          "output_type": "execute_result",
          "data": {
            "text/plain": [
              "[('cent', 4),\n",
              " ('_connector_', 2),\n",
              " ('two cent', 1),\n",
              " ('two', 1),\n",
              " ('the hat', 1),\n",
              " ('the', 1),\n",
              " ('one cent', 1),\n",
              " ('one', 1),\n",
              " ('old cent', 1),\n",
              " ('old', 1)]"
            ]
          },
          "metadata": {
            "tags": []
          },
          "execution_count": 54
        }
      ]
    },
    {
      "cell_type": "markdown",
      "metadata": {
        "id": "tht5kLYn2fcx"
      },
      "source": [
        "## Binary Values Instead of Counts"
      ]
    },
    {
      "cell_type": "code",
      "metadata": {
        "id": "V4JsJ90r2fcx",
        "outputId": "6054fa35-cec8-4e96-d78f-39f13fdebe7e"
      },
      "source": [
        "cv = CountVectorizer(cat_in_the_hat_docs,ngram_range=(1,2),binary=True)\n",
        "count_vector=cv.fit_transform(cat_in_the_hat_docs)\n",
        "print(count_vector[2])"
      ],
      "execution_count": null,
      "outputs": [
        {
          "output_type": "stream",
          "text": [
            "  (0, 35)\t1\n",
            "  (0, 74)\t1\n",
            "  (0, 4)\t1\n",
            "  (0, 90)\t1\n",
            "  (0, 29)\t1\n",
            "  (0, 31)\t1\n",
            "  (0, 9)\t1\n",
            "  (0, 78)\t1\n",
            "  (0, 27)\t1\n",
            "  (0, 17)\t1\n",
            "  (0, 91)\t1\n",
            "  (0, 86)\t1\n",
            "  (0, 82)\t1\n",
            "  (0, 56)\t1\n",
            "  (0, 34)\t1\n",
            "  (0, 73)\t1\n",
            "  (0, 28)\t1\n",
            "  (0, 30)\t1\n",
            "  (0, 8)\t1\n",
            "  (0, 77)\t1\n",
            "  (0, 26)\t1\n",
            "  (0, 16)\t1\n",
            "  (0, 89)\t1\n",
            "  (0, 85)\t1\n",
            "  (0, 55)\t1\n",
            "  (0, 45)\t1\n",
            "  (0, 33)\t1\n",
            "  (0, 80)\t1\n",
            "  (0, 39)\t1\n",
            "  (0, 19)\t1\n",
            "  (0, 7)\t1\n",
            "  (0, 46)\t1\n",
            "  (0, 44)\t1\n",
            "  (0, 32)\t1\n",
            "  (0, 79)\t1\n",
            "  (0, 38)\t1\n",
            "  (0, 18)\t1\n",
            "  (0, 0)\t1\n",
            "  (0, 6)\t1\n"
          ],
          "name": "stdout"
        }
      ]
    },
    {
      "cell_type": "markdown",
      "metadata": {
        "id": "G_Gjw7fP2fcy"
      },
      "source": [
        "## Custom Tokenizer"
      ]
    },
    {
      "cell_type": "code",
      "metadata": {
        "id": "_9yr-DHN2fcy",
        "colab": {
          "base_uri": "https://localhost:8080/"
        },
        "outputId": "92750682-1129-497b-9dab-d14884aa5071"
      },
      "source": [
        "import re\n",
        "\n",
        "def my_tokenizer(text):\n",
        "    text=re.sub(\"(\\\\W)\",\" \\\\1 \",text)\n",
        "    return re.split(\"\\\\s+\",text)\n",
        "    \n",
        "\n",
        "cv = CountVectorizer(cat_in_the_hat_docs,tokenizer=my_tokenizer)\n",
        "count_vector=cv.fit_transform(cat_in_the_hat_docs)\n",
        "print(cv.vocabulary_)"
      ],
      "execution_count": null,
      "outputs": [
        {
          "output_type": "stream",
          "text": [
            "{'one': 34, 'cent': 14, ',': 4, 'two': 47, 'cents': 15, 'old': 32, 'new': 29, ':': 5, 'all': 7, 'about': 6, 'money': 28, '(': 2, 'cat': 13, 'in': 22, 'the': 44, 'hat': 19, \"'\": 1, 's': 38, 'learning': 25, 'library': 26, 'inside': 24, 'your': 49, 'outside': 36, 'human': 21, 'body': 10, ')': 3, '': 0, 'oh': 31, 'things': 46, 'you': 48, 'can': 12, 'do': 16, 'that': 43, 'are': 8, 'good': 18, 'for': 17, 'staying': 41, 'healthy': 20, 'on': 33, 'beyond': 9, 'bugs': 11, 'insects': 23, 'there': 45, 'no': 30, 'place': 37, 'like': 27, 'space': 40, 'our': 35, 'solar': 39, 'system': 42}\n"
          ],
          "name": "stdout"
        }
      ]
    },
    {
      "cell_type": "code",
      "metadata": {
        "id": "_G0Sfy7D2fcy"
      },
      "source": [
        ""
      ],
      "execution_count": null,
      "outputs": []
    }
  ]
}