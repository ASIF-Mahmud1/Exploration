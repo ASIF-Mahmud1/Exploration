{
  "nbformat": 4,
  "nbformat_minor": 0,
  "metadata": {
    "kernelspec": {
      "display_name": "Python 3",
      "language": "python",
      "name": "python3"
    },
    "language_info": {
      "codemirror_mode": {
        "name": "ipython",
        "version": 3
      },
      "file_extension": ".py",
      "mimetype": "text/x-python",
      "name": "python",
      "nbconvert_exporter": "python",
      "pygments_lexer": "ipython3",
      "version": "3.6.3"
    },
    "colab": {
      "name": "Simple Sentence Similarity.ipynb",
      "provenance": [],
      "include_colab_link": true
    }
  },
  "cells": [
    {
      "cell_type": "markdown",
      "metadata": {
        "id": "view-in-github",
        "colab_type": "text"
      },
      "source": [
        "<a href=\"https://colab.research.google.com/github/ASIF-Mahmud1/Exploration/blob/text-classifier/NLP_Lessons/Simple_Sentence_Similarity.ipynb\" target=\"_parent\"><img src=\"https://colab.research.google.com/assets/colab-badge.svg\" alt=\"Open In Colab\"/></a>"
      ]
    },
    {
      "cell_type": "markdown",
      "metadata": {
        "collapsed": true,
        "id": "Yv_8MBCNWiDw"
      },
      "source": [
        "# Simple Sentence Similarity"
      ]
    },
    {
      "cell_type": "markdown",
      "metadata": {
        "id": "PE58uZYFWiD7"
      },
      "source": [
        "Word embeddings have become widespread in Natural Language Processing. They allow us to easily compute the semantic similarity between two words, or to find the words most similar to a target word. However, in many applications we're more interested in the similarity between two sentences or short texts. In this notebook, I compare some simple ways of computing sentence similarity and investigate how they perform."
      ]
    },
    {
      "cell_type": "markdown",
      "metadata": {
        "id": "inFbbU5HWiD9"
      },
      "source": [
        "## Data"
      ]
    },
    {
      "cell_type": "markdown",
      "metadata": {
        "id": "utUh3twEWiD9"
      },
      "source": [
        "### STS Benchmark\n",
        "\n",
        "The STS Benchmark brings together the English data from the SemEval sentence similarity tasks between 2012 and 2017. The data is split in training, development and test data: http://ixa2.si.ehu.es/stswiki/index.php/STSbenchmark\n"
      ]
    },
    {
      "cell_type": "code",
      "metadata": {
        "id": "kY-vlA53WiD-"
      },
      "source": [
        "import pandas as pd\n",
        "import numpy as np\n",
        "import scipy\n",
        "import math\n",
        "import os\n",
        "import tensorflow as tf\n",
        "import matplotlib.pyplot as plt\n",
        "import seaborn as sns\n",
        "\n",
        "def load_sts_dataset(filename):\n",
        "    # Loads a subset of the STS dataset into a DataFrame. In particular both\n",
        "    # sentences and their human rated similarity score.\n",
        "    sent_pairs = []\n",
        "    with tf.io.gfile.GFile(filename, \"r\") as f:\n",
        "        for line in f:\n",
        "            ts = line.strip().split(\"\\t\")\n",
        "            sent_pairs.append((ts[5], ts[6], float(ts[4])))\n",
        "    return pd.DataFrame(sent_pairs, columns=[\"sent_1\", \"sent_2\", \"sim\"])\n",
        "\n",
        "\n",
        "def download_and_load_sts_data():\n",
        "    sts_dataset = tf.keras.utils.get_file(\n",
        "        fname=\"Stsbenchmark.tar.gz\",\n",
        "        origin=\"http://ixa2.si.ehu.es/stswiki/images/4/48/Stsbenchmark.tar.gz\",\n",
        "        extract=True)\n",
        "\n",
        "    sts_dev = load_sts_dataset(os.path.join(os.path.dirname(sts_dataset), \"stsbenchmark\", \"sts-dev.csv\"))\n",
        "    sts_test = load_sts_dataset(os.path.join(os.path.dirname(sts_dataset), \"stsbenchmark\", \"sts-test.csv\"))\n",
        "\n",
        "    return sts_dev, sts_test\n",
        "\n",
        "sts_dev, sts_test = download_and_load_sts_data()"
      ],
      "execution_count": null,
      "outputs": []
    },
    {
      "cell_type": "code",
      "metadata": {
        "id": "rGbxwj_AWiEF",
        "colab": {
          "base_uri": "https://localhost:8080/",
          "height": 202
        },
        "outputId": "0172f0aa-bcc9-4fc8-b2cd-c68adf4076a1"
      },
      "source": [
        "sts_test[:5]"
      ],
      "execution_count": null,
      "outputs": [
        {
          "output_type": "execute_result",
          "data": {
            "text/html": [
              "<div>\n",
              "<style scoped>\n",
              "    .dataframe tbody tr th:only-of-type {\n",
              "        vertical-align: middle;\n",
              "    }\n",
              "\n",
              "    .dataframe tbody tr th {\n",
              "        vertical-align: top;\n",
              "    }\n",
              "\n",
              "    .dataframe thead th {\n",
              "        text-align: right;\n",
              "    }\n",
              "</style>\n",
              "<table border=\"1\" class=\"dataframe\">\n",
              "  <thead>\n",
              "    <tr style=\"text-align: right;\">\n",
              "      <th></th>\n",
              "      <th>sent_1</th>\n",
              "      <th>sent_2</th>\n",
              "      <th>sim</th>\n",
              "    </tr>\n",
              "  </thead>\n",
              "  <tbody>\n",
              "    <tr>\n",
              "      <th>0</th>\n",
              "      <td>A girl is styling her hair.</td>\n",
              "      <td>A girl is brushing her hair.</td>\n",
              "      <td>2.5</td>\n",
              "    </tr>\n",
              "    <tr>\n",
              "      <th>1</th>\n",
              "      <td>A group of men play soccer on the beach.</td>\n",
              "      <td>A group of boys are playing soccer on the beach.</td>\n",
              "      <td>3.6</td>\n",
              "    </tr>\n",
              "    <tr>\n",
              "      <th>2</th>\n",
              "      <td>One woman is measuring another woman's ankle.</td>\n",
              "      <td>A woman measures another woman's ankle.</td>\n",
              "      <td>5.0</td>\n",
              "    </tr>\n",
              "    <tr>\n",
              "      <th>3</th>\n",
              "      <td>A man is cutting up a cucumber.</td>\n",
              "      <td>A man is slicing a cucumber.</td>\n",
              "      <td>4.2</td>\n",
              "    </tr>\n",
              "    <tr>\n",
              "      <th>4</th>\n",
              "      <td>A man is playing a harp.</td>\n",
              "      <td>A man is playing a keyboard.</td>\n",
              "      <td>1.5</td>\n",
              "    </tr>\n",
              "  </tbody>\n",
              "</table>\n",
              "</div>"
            ],
            "text/plain": [
              "                                          sent_1  ...  sim\n",
              "0                    A girl is styling her hair.  ...  2.5\n",
              "1       A group of men play soccer on the beach.  ...  3.6\n",
              "2  One woman is measuring another woman's ankle.  ...  5.0\n",
              "3                A man is cutting up a cucumber.  ...  4.2\n",
              "4                       A man is playing a harp.  ...  1.5\n",
              "\n",
              "[5 rows x 3 columns]"
            ]
          },
          "metadata": {
            "tags": []
          },
          "execution_count": 3
        }
      ]
    },
    {
      "cell_type": "markdown",
      "metadata": {
        "id": "sLPLxjVeWiEG"
      },
      "source": [
        "### SICK data\n",
        "\n",
        "The SICK dataset contains 10,000 English sentence pairs labelled with their semantic relatedness and entailment relation."
      ]
    },
    {
      "cell_type": "code",
      "metadata": {
        "id": "AQuQbbJFWiEH"
      },
      "source": [
        "import requests\n",
        "\n",
        "def download_sick(f): \n",
        "\n",
        "    response = requests.get(f).text\n",
        "\n",
        "    lines = response.split(\"\\n\")[1:]\n",
        "    lines = [l.split(\"\\t\") for l in lines if len(l) > 0]\n",
        "    lines = [l for l in lines if len(l) == 5]\n",
        "\n",
        "    df = pd.DataFrame(lines, columns=[\"idx\", \"sent_1\", \"sent_2\", \"sim\", \"label\"])\n",
        "    df['sim'] = pd.to_numeric(df['sim'])\n",
        "    return df\n",
        "    \n",
        "sick_train = download_sick(\"https://raw.githubusercontent.com/alvations/stasis/master/SICK-data/SICK_train.txt\")\n",
        "sick_dev = download_sick(\"https://raw.githubusercontent.com/alvations/stasis/master/SICK-data/SICK_trial.txt\")\n",
        "sick_test = download_sick(\"https://raw.githubusercontent.com/alvations/stasis/master/SICK-data/SICK_test_annotated.txt\")\n",
        "sick_all = sick_train.append(sick_test).append(sick_dev)"
      ],
      "execution_count": null,
      "outputs": []
    },
    {
      "cell_type": "code",
      "metadata": {
        "id": "HrkgfvFwWiEM",
        "colab": {
          "base_uri": "https://localhost:8080/",
          "height": 202
        },
        "outputId": "49409ae0-e465-4e2a-dd3b-3c086c8769cc"
      },
      "source": [
        "sick_all[:5]"
      ],
      "execution_count": null,
      "outputs": [
        {
          "output_type": "execute_result",
          "data": {
            "text/html": [
              "<div>\n",
              "<style scoped>\n",
              "    .dataframe tbody tr th:only-of-type {\n",
              "        vertical-align: middle;\n",
              "    }\n",
              "\n",
              "    .dataframe tbody tr th {\n",
              "        vertical-align: top;\n",
              "    }\n",
              "\n",
              "    .dataframe thead th {\n",
              "        text-align: right;\n",
              "    }\n",
              "</style>\n",
              "<table border=\"1\" class=\"dataframe\">\n",
              "  <thead>\n",
              "    <tr style=\"text-align: right;\">\n",
              "      <th></th>\n",
              "      <th>idx</th>\n",
              "      <th>sent_1</th>\n",
              "      <th>sent_2</th>\n",
              "      <th>sim</th>\n",
              "      <th>label</th>\n",
              "    </tr>\n",
              "  </thead>\n",
              "  <tbody>\n",
              "    <tr>\n",
              "      <th>0</th>\n",
              "      <td>1</td>\n",
              "      <td>A group of kids is playing in a yard and an ol...</td>\n",
              "      <td>A group of boys in a yard is playing and a man...</td>\n",
              "      <td>4.5</td>\n",
              "      <td>NEUTRAL</td>\n",
              "    </tr>\n",
              "    <tr>\n",
              "      <th>1</th>\n",
              "      <td>2</td>\n",
              "      <td>A group of children is playing in the house an...</td>\n",
              "      <td>A group of kids is playing in a yard and an ol...</td>\n",
              "      <td>3.2</td>\n",
              "      <td>NEUTRAL</td>\n",
              "    </tr>\n",
              "    <tr>\n",
              "      <th>2</th>\n",
              "      <td>3</td>\n",
              "      <td>The young boys are playing outdoors and the ma...</td>\n",
              "      <td>The kids are playing outdoors near a man with ...</td>\n",
              "      <td>4.7</td>\n",
              "      <td>ENTAILMENT</td>\n",
              "    </tr>\n",
              "    <tr>\n",
              "      <th>3</th>\n",
              "      <td>5</td>\n",
              "      <td>The kids are playing outdoors near a man with ...</td>\n",
              "      <td>A group of kids is playing in a yard and an ol...</td>\n",
              "      <td>3.4</td>\n",
              "      <td>NEUTRAL</td>\n",
              "    </tr>\n",
              "    <tr>\n",
              "      <th>4</th>\n",
              "      <td>9</td>\n",
              "      <td>The young boys are playing outdoors and the ma...</td>\n",
              "      <td>A group of kids is playing in a yard and an ol...</td>\n",
              "      <td>3.7</td>\n",
              "      <td>NEUTRAL</td>\n",
              "    </tr>\n",
              "  </tbody>\n",
              "</table>\n",
              "</div>"
            ],
            "text/plain": [
              "  idx                                             sent_1  ...  sim       label\n",
              "0   1  A group of kids is playing in a yard and an ol...  ...  4.5     NEUTRAL\n",
              "1   2  A group of children is playing in the house an...  ...  3.2     NEUTRAL\n",
              "2   3  The young boys are playing outdoors and the ma...  ...  4.7  ENTAILMENT\n",
              "3   5  The kids are playing outdoors near a man with ...  ...  3.4     NEUTRAL\n",
              "4   9  The young boys are playing outdoors and the ma...  ...  3.7     NEUTRAL\n",
              "\n",
              "[5 rows x 5 columns]"
            ]
          },
          "metadata": {
            "tags": []
          },
          "execution_count": 6
        }
      ]
    },
    {
      "cell_type": "markdown",
      "metadata": {
        "id": "DnV_2u1TWiEQ"
      },
      "source": [
        "## Preparation\n",
        "\n",
        "First we need to do some preparation: some of our models require the sentences to be tokenized, some do not. For that reason we'll make a simple Sentence class where we keep both the raw sentence and the tokenized sentence. The individual methods below will then pick the input they need."
      ]
    },
    {
      "cell_type": "code",
      "metadata": {
        "id": "eKqzg3tNlgZA"
      },
      "source": [
        "\n",
        "from io import StringIO\n",
        "import requests\n",
        "import csv\n",
        "\n",
        "stopWords=[]\n",
        "def get_stop_words(url):\n",
        "    \"\"\"load stop words \"\"\"\n",
        "    s=requests.get(url).text\n",
        "    data = list(csv.reader(StringIO(s)))\n",
        " \n",
        "    return data\n",
        "def getStopWords(url): \n",
        " stopwords= get_stop_words(url)\n",
        " stopwordList=[]\n",
        " for x in stopwords:\n",
        "  stopwordList.append(x[0])\n",
        "\n",
        " return stopwordList"
      ],
      "execution_count": null,
      "outputs": []
    },
    {
      "cell_type": "code",
      "metadata": {
        "id": "KeAAmmAjlm0X"
      },
      "source": [
        "url=\"https://raw.githubusercontent.com/kavgan/nlp-in-practice/master/tf-idf/resources/stopwords.txt\"\n",
        "#load a set of stop words\n",
        "stopwords=getStopWords(url)\n",
        "stopwords"
      ],
      "execution_count": null,
      "outputs": []
    },
    {
      "cell_type": "code",
      "metadata": {
        "id": "v9SamlMqWiEQ"
      },
      "source": [
        "import nltk\n",
        "\n",
        "STOP = stopwords\n",
        "\n",
        "class Sentence:\n",
        "    \n",
        "    def __init__(self, sentence):\n",
        "        self.raw = sentence\n",
        "        normalized_sentence = sentence.replace(\"‘\", \"'\").replace(\"’\", \"'\")\n",
        "        self.tokens = [t.lower() for t in nltk.word_tokenize(normalized_sentence)]\n",
        "        self.tokens_without_stop = [t for t in self.tokens if t not in STOP]"
      ],
      "execution_count": null,
      "outputs": []
    },
    {
      "cell_type": "markdown",
      "metadata": {
        "id": "DRjqt2YpWiER"
      },
      "source": [
        "Next, we're going to use the popular [Gensim](https://radimrehurek.com/gensim/) library to load two sets of widely used pre-trained word embeddings: \n",
        "[word2vec](https://www.tensorflow.org/tutorials/word2vec) and [GloVe](https://nlp.stanford.edu/projects/glove/). "
      ]
    },
    {
      "cell_type": "code",
      "metadata": {
        "id": "mH216qDUWiES"
      },
      "source": [
        "import gensim\n",
        "\n",
        "from gensim.models import Word2Vec\n",
        "from gensim.scripts.glove2word2vec import glove2word2vec\n",
        "\n",
        "# PATH_TO_WORD2VEC = os.path.expanduser(\"~/data/word2vec/GoogleNews-vectors-negative300.bin\")\n",
        "# PATH_TO_GLOVE = os.path.expanduser(\"~/data/glove/glove.840B.300d.txt\")\n",
        "\n",
        "# word2vec = gensim.models.KeyedVectors.load_word2vec_format(PATH_TO_WORD2VEC, binary=True)"
      ],
      "execution_count": null,
      "outputs": []
    },
    {
      "cell_type": "markdown",
      "metadata": {
        "id": "Sh5ThzPYWiET"
      },
      "source": [
        "To load Glove, we have to convert the downloaded GloVe file to word2vec format and then load the embeddings into a Gensim model. This will take some time."
      ]
    },
    {
      "cell_type": "code",
      "metadata": {
        "id": "bmdLGlERWiET"
      },
      "source": [
        "tmp_file = \"/tmp/glove.840B.300d.w2v.txt\"\n",
        "glove2word2vec(PATH_TO_GLOVE, tmp_file)\n",
        "glove = gensim.models.KeyedVectors.load_word2vec_format(tmp_file)"
      ],
      "execution_count": null,
      "outputs": []
    },
    {
      "cell_type": "markdown",
      "metadata": {
        "id": "uOdZ9mM3WiEU"
      },
      "source": [
        "Finally, in order to compute weighted averages of word embeddings later, we are going to load a file with word frequencies. These word frequencies have been collected from Wikipedia and saved in a tab-separated file. "
      ]
    },
    {
      "cell_type": "code",
      "metadata": {
        "id": "y6eXnPcRWiEV",
        "colab": {
          "base_uri": "https://localhost:8080/",
          "height": 49
        },
        "outputId": "edbed803-da8b-4539-8870-a1df1571bea1"
      },
      "source": [
        "import csv\n",
        "\n",
        "PATH_TO_FREQUENCIES_FILE = \"https://raw.githubusercontent.com/nlptown/nlp-notebooks/master/data/sentence_similarity/frequencies.tsv\"\n",
        "PATH_TO_DOC_FREQUENCIES_FILE = \"https://raw.githubusercontent.com/nlptown/nlp-notebooks/master/data/sentence_similarity/doc_frequencies.tsv\"\n",
        "\n",
        "def read_tsv(f):\n",
        "    frequencies = {}\n",
        "    with open(f) as tsv:\n",
        "        tsv_reader = csv.reader(tsv, delimiter=\"\\t\")\n",
        "        for row in tsv_reader: \n",
        "            frequencies[row[0]] = int(row[1])\n",
        "        \n",
        "    return frequencies\n",
        "        \n",
        "frequencies = download_sick(PATH_TO_FREQUENCIES_FILE)\n",
        "doc_frequencies = download_sick(PATH_TO_DOC_FREQUENCIES_FILE)\n",
        "doc_frequencies[\"NUM_DOCS\"] = 1288431\n",
        "doc_frequencies"
      ],
      "execution_count": null,
      "outputs": [
        {
          "output_type": "execute_result",
          "data": {
            "text/html": [
              "<div>\n",
              "<style scoped>\n",
              "    .dataframe tbody tr th:only-of-type {\n",
              "        vertical-align: middle;\n",
              "    }\n",
              "\n",
              "    .dataframe tbody tr th {\n",
              "        vertical-align: top;\n",
              "    }\n",
              "\n",
              "    .dataframe thead th {\n",
              "        text-align: right;\n",
              "    }\n",
              "</style>\n",
              "<table border=\"1\" class=\"dataframe\">\n",
              "  <thead>\n",
              "    <tr style=\"text-align: right;\">\n",
              "      <th></th>\n",
              "      <th>idx</th>\n",
              "      <th>sent_1</th>\n",
              "      <th>sent_2</th>\n",
              "      <th>sim</th>\n",
              "      <th>label</th>\n",
              "      <th>NUM_DOCS</th>\n",
              "    </tr>\n",
              "  </thead>\n",
              "  <tbody>\n",
              "  </tbody>\n",
              "</table>\n",
              "</div>"
            ],
            "text/plain": [
              "Empty DataFrame\n",
              "Columns: [idx, sent_1, sent_2, sim, label, NUM_DOCS]\n",
              "Index: []"
            ]
          },
          "metadata": {
            "tags": []
          },
          "execution_count": 15
        }
      ]
    },
    {
      "cell_type": "markdown",
      "metadata": {
        "id": "MGtOX1JWWiEW"
      },
      "source": [
        "## Similarity methods"
      ]
    },
    {
      "cell_type": "markdown",
      "metadata": {
        "id": "wPCvfv6VWiEW"
      },
      "source": [
        "### Baseline\n",
        "\n",
        "As our baseline, we're going for the simplest way of computing sentence embeddings: just take the embeddings of the words in the sentence (minus the stopwords), and compute their average, weighted by the sentence frequency of each word. \n",
        "\n",
        "We then use the cosine to calculate the similarity between two sentence embeddings."
      ]
    },
    {
      "cell_type": "code",
      "metadata": {
        "id": "1SATM5yEWiEX"
      },
      "source": [
        "from sklearn.metrics.pairwise import cosine_similarity\n",
        "from collections import Counter\n",
        "import math\n",
        "\n",
        "def run_avg_benchmark(sentences1, sentences2, model=None, use_stoplist=False, doc_freqs=None): \n",
        "\n",
        "    if doc_freqs is not None:\n",
        "        N = doc_freqs[\"NUM_DOCS\"]\n",
        "    \n",
        "    sims = []\n",
        "    for (sent1, sent2) in zip(sentences1, sentences2):\n",
        "    \n",
        "        tokens1 = sent1.tokens_without_stop if use_stoplist else sent1.tokens\n",
        "        tokens2 = sent2.tokens_without_stop if use_stoplist else sent2.tokens\n",
        "\n",
        "        tokens1 = [token for token in tokens1 if token in model]\n",
        "        tokens2 = [token for token in tokens2 if token in model]\n",
        "        \n",
        "        if len(tokens1) == 0 or len(tokens2) == 0:\n",
        "            sims.append(0)\n",
        "            continue\n",
        "        \n",
        "        tokfreqs1 = Counter(tokens1)\n",
        "        tokfreqs2 = Counter(tokens2)\n",
        "        \n",
        "        weights1 = [tokfreqs1[token] * math.log(N/(doc_freqs.get(token, 0)+1)) \n",
        "                    for token in tokfreqs1] if doc_freqs else None\n",
        "        weights2 = [tokfreqs2[token] * math.log(N/(doc_freqs.get(token, 0)+1)) \n",
        "                    for token in tokfreqs2] if doc_freqs else None\n",
        "                \n",
        "        embedding1 = np.average([model[token] for token in tokfreqs1], axis=0, weights=weights1).reshape(1, -1)\n",
        "        embedding2 = np.average([model[token] for token in tokfreqs2], axis=0, weights=weights2).reshape(1, -1)\n",
        "\n",
        "        sim = cosine_similarity(embedding1, embedding2)[0][0]\n",
        "        sims.append(sim)\n",
        "\n",
        "    return sims"
      ],
      "execution_count": null,
      "outputs": []
    },
    {
      "cell_type": "markdown",
      "metadata": {
        "id": "aWUIw-vFWiEY"
      },
      "source": [
        "### Word Mover's Distance\n",
        "\n",
        "Word mover's distance is a popular alternative to the simple average embedding similarity. The Word Mover's Distance uses the word embeddings of the words in two texts to measure the minimum amount that the words in one text need to \"travel\" in semantic space to reach the words of the other text. Word mover's distance is available in the popular Gensim library."
      ]
    },
    {
      "cell_type": "code",
      "metadata": {
        "id": "Qm_byLS8WiEZ"
      },
      "source": [
        "def run_wmd_benchmark(sentences1, sentences2, model, use_stoplist=False):\n",
        "    \n",
        "    sims = []\n",
        "    for (sent1, sent2) in zip(sentences1, sentences2):\n",
        "    \n",
        "        tokens1 = sent1.tokens_without_stop if use_stoplist else sent1.tokens\n",
        "        tokens2 = sent2.tokens_without_stop if use_stoplist else sent2.tokens\n",
        "        \n",
        "        tokens1 = [token for token in tokens1 if token in model]\n",
        "        tokens2 = [token for token in tokens2 if token in model]\n",
        "        \n",
        "        if len(tokens1) == 0 or len(tokens2) == 0:\n",
        "            tokens1 = [token for token in sent1.tokens if token in model]\n",
        "            tokens2 = [token for token in sent2.tokens if token in model]\n",
        "            \n",
        "        sims.append(-model.wmdistance(tokens1, tokens2))\n",
        "        \n",
        "    return sims"
      ],
      "execution_count": null,
      "outputs": []
    },
    {
      "cell_type": "markdown",
      "metadata": {
        "id": "_YHuNoaLWiEa"
      },
      "source": [
        "### Smooth Inverse Frequency\n",
        "\n",
        "Taking the average of the word embeddings in a sentence, like we did above, is a very crude method of computing sentence embeddings. Most importantly, this gives far too much weight to words that are quite irrelevant, semantically speaking. Smooth Inverse Frequency tries to solve this problem. \n",
        "\n",
        "To compute SIF sentence embeddings, we first compute a weighted average of the token embeddings in the sentence. This procedure is very similar to the weighted average we used above, with the single difference that the word embeddings are weighted by `a/a+p(w)`, where `w` is a parameter that is set to `0.001` by default, and `p(w)` is the estimated relative frequency of a word in a reference corpus."
      ]
    },
    {
      "cell_type": "markdown",
      "metadata": {
        "id": "e5P237SAWiEd"
      },
      "source": [
        "Next, we need to perform common component removal: we compute the principal component of the sentence embeddings we obtained above and subtract from them their projections on this first principal component. This corrects for the influence of high-frequency words that mostly have a syntactic or discourse function, such as \"just\", \"there\", \"but\", etc. "
      ]
    },
    {
      "cell_type": "code",
      "metadata": {
        "id": "ek_MCLOYWiEe"
      },
      "source": [
        "from sklearn.decomposition import TruncatedSVD\n",
        "\n",
        "def remove_first_principal_component(X):\n",
        "    svd = TruncatedSVD(n_components=1, n_iter=7, random_state=0)\n",
        "    svd.fit(X)\n",
        "    pc = svd.components_\n",
        "    XX = X - X.dot(pc.transpose()) * pc\n",
        "    return XX\n",
        "\n",
        "\n",
        "def run_sif_benchmark(sentences1, sentences2, model, freqs={}, use_stoplist=False, a=0.001): \n",
        "    total_freq = sum(freqs.values())\n",
        "    \n",
        "    embeddings = []\n",
        "    \n",
        "    # SIF requires us to first collect all sentence embeddings and then perform \n",
        "    # common component analysis.\n",
        "    for (sent1, sent2) in zip(sentences1, sentences2): \n",
        "        \n",
        "        tokens1 = sent1.tokens_without_stop if use_stoplist else sent1.tokens\n",
        "        tokens2 = sent2.tokens_without_stop if use_stoplist else sent2.tokens\n",
        "        \n",
        "        tokens1 = [token for token in tokens1 if token in model]\n",
        "        tokens2 = [token for token in tokens2 if token in model]\n",
        "        \n",
        "        weights1 = [a/(a+freqs.get(token,0)/total_freq) for token in tokens1]\n",
        "        weights2 = [a/(a+freqs.get(token,0)/total_freq) for token in tokens2]\n",
        "        \n",
        "        embedding1 = np.average([model[token] for token in tokens1], axis=0, weights=weights1)\n",
        "        embedding2 = np.average([model[token] for token in tokens2], axis=0, weights=weights2)\n",
        "        \n",
        "        embeddings.append(embedding1)\n",
        "        embeddings.append(embedding2)\n",
        "        \n",
        "    embeddings = remove_first_principal_component(np.array(embeddings))\n",
        "    sims = [cosine_similarity(embeddings[idx*2].reshape(1, -1), \n",
        "                              embeddings[idx*2+1].reshape(1, -1))[0][0] \n",
        "            for idx in range(int(len(embeddings)/2))]\n",
        "\n",
        "    return sims"
      ],
      "execution_count": null,
      "outputs": []
    },
    {
      "cell_type": "markdown",
      "metadata": {
        "id": "FX0NvRUQWiEf"
      },
      "source": [
        "The methods above share two important characteristics: \n",
        "\n",
        "- As simple bag-of-word methods, they do take not word order into account.\n",
        "- The word embeddings they use have been learned in an unsupervised manner. \n",
        "\n",
        "Both these characteristics are potential downsides: \n",
        "\n",
        "- Since differences in word order can point to differences in meaning (compare `the dog bites the man` with `the man bites the dog`), we'd like our sentence embeddings to be sensitive to this variation.\n",
        "- Supervised training can help sentence embeddings learn the meaning of a sentence more directly.\n",
        "\n",
        "We can achieve both points by using a pre-trained sentence encoder to produce our sentence embeddings. Several such encoders are available. We'll investigate InferSent and the Google Sentence Encoder."
      ]
    },
    {
      "cell_type": "markdown",
      "metadata": {
        "id": "9zwLpC4GWiEg"
      },
      "source": [
        "### InferSent\n",
        "\n",
        "[InferSent](https://github.com/facebookresearch/InferSent) is a pre-trained encoder that produces sentence embeddings. \n",
        "More particularly, it is a BiLSTM with max pooling that was trained on the SNLI dataset, 570k English sentence pairs labelled with one of three categories: entailment, contradiction or neutral. InferSent was developed and trained by Facebook Research.\n",
        "\n",
        "Let's first download the resources we need."
      ]
    },
    {
      "cell_type": "code",
      "metadata": {
        "id": "Dj24FZEbWiEh"
      },
      "source": [
        "!wget -nc https://raw.githubusercontent.com/facebookresearch/SentEval/master/examples/models.py\n",
        "!wget -nc https://s3.amazonaws.com/senteval/infersent/infersent.allnli.pickle"
      ],
      "execution_count": null,
      "outputs": []
    },
    {
      "cell_type": "markdown",
      "metadata": {
        "id": "jvkNwU5PWiEi"
      },
      "source": [
        "Then we load the model."
      ]
    },
    {
      "cell_type": "code",
      "metadata": {
        "id": "bZ7x5CumWiEi"
      },
      "source": [
        "import torch\n",
        "\n",
        "infersent = torch.load('infersent.allnli.pickle', map_location=lambda storage, loc: storage)\n",
        "infersent.use_cuda = False\n",
        "infersent.set_glove_path(PATH_TO_GLOVE)"
      ],
      "execution_count": null,
      "outputs": []
    },
    {
      "cell_type": "markdown",
      "metadata": {
        "id": "DB0hH2OMWiEj"
      },
      "source": [
        "Finally, we can run the benchmark by having InferSent encode the two sets of sentences and compute the cosine similarity between the corresponding sentences."
      ]
    },
    {
      "cell_type": "code",
      "metadata": {
        "id": "k5pNuZPkWiEj"
      },
      "source": [
        "def run_inf_benchmark(sentences1, sentences2):\n",
        "    \n",
        "    raw_sentences1 = [sent1.raw for sent1 in sentences1]\n",
        "    raw_sentences2 = [sent2.raw for sent2 in sentences2]\n",
        "    \n",
        "    infersent.build_vocab(raw_sentences1 + raw_sentences2, tokenize=True)\n",
        "    embeddings1 = infersent.encode(raw_sentences1, tokenize=True)\n",
        "    embeddings2 = infersent.encode(raw_sentences2, tokenize=True)\n",
        "    \n",
        "    inf_sims = []\n",
        "    for (emb1, emb2) in zip(embeddings1, embeddings2): \n",
        "        sim = cosine_similarity(emb1.reshape(1, -1), emb2.reshape(1, -1))[0][0]\n",
        "        inf_sims.append(sim)\n",
        "\n",
        "    return inf_sims   "
      ],
      "execution_count": null,
      "outputs": []
    },
    {
      "cell_type": "markdown",
      "metadata": {
        "id": "wO1SsEnoWiEk"
      },
      "source": [
        "### Google Sentence Encoder\n",
        "\n",
        "The [Google Sentence Encoder](https://www.tensorflow.org/hub/modules/google/universal-sentence-encoder/1) is Google's answer to Facebook's InferSent. It comes in two forms: \n",
        "\n",
        "- a Transformer model that takes the element-wise sum of the context-aware word representations produced by the encoding subgraph of a Transformer model.\n",
        "- a Deep Averaging Network (DAN) where input embeddings for words and bigrams are averaged together and passed through a feed-forward deep neural network.\n",
        "\n",
        "The Transformer model tends to give better results, but at the time of writing, only the DAN-based encoder was available.\n",
        "\n",
        "In contrast to InferSent, the Google Sentence Encoder was trained on a combination of unsupervised data (in a skip-thought-like task) and supervised data (the SNLI corpus).\n",
        "\n",
        "The Google Sentence Encoder can be loaded from the Tensorflow Hub."
      ]
    },
    {
      "cell_type": "code",
      "metadata": {
        "id": "uQxqPY2qWiEk"
      },
      "source": [
        "import tensorflow_hub as hub\n",
        "\n",
        "tf.logging.set_verbosity(tf.logging.ERROR)\n",
        "embed = hub.Module(\"https://tfhub.dev/google/universal-sentence-encoder/1\")"
      ],
      "execution_count": null,
      "outputs": []
    },
    {
      "cell_type": "markdown",
      "metadata": {
        "id": "TpkS7CeKWiEk"
      },
      "source": [
        "Like InferSent above, we'll have the it encode the two sets of sentences and return the similarities between the embeddings it produced."
      ]
    },
    {
      "cell_type": "code",
      "metadata": {
        "id": "Kkz1cIqnWiEl"
      },
      "source": [
        "def run_gse_benchmark(sentences1, sentences2):\n",
        "    sts_input1 = tf.placeholder(tf.string, shape=(None))\n",
        "    sts_input2 = tf.placeholder(tf.string, shape=(None))\n",
        "\n",
        "    sts_encode1 = tf.nn.l2_normalize(embed(sts_input1))\n",
        "    sts_encode2 = tf.nn.l2_normalize(embed(sts_input2))\n",
        "        \n",
        "    sim_scores = tf.reduce_sum(tf.multiply(sts_encode1, sts_encode2), axis=1)\n",
        "    \n",
        "    with tf.Session() as session:\n",
        "        session.run(tf.global_variables_initializer())\n",
        "        session.run(tf.tables_initializer())\n",
        "      \n",
        "        [gse_sims] = session.run(\n",
        "            [sim_scores],\n",
        "            feed_dict={\n",
        "                sts_input1: [sent1.raw for sent1 in sentences1],\n",
        "                sts_input2: [sent2.raw for sent2 in sentences2]\n",
        "            })\n",
        "    return gse_sims\n"
      ],
      "execution_count": null,
      "outputs": []
    },
    {
      "cell_type": "markdown",
      "metadata": {
        "id": "WFdQxX66WiEl"
      },
      "source": [
        "## Experiments\n",
        "\n",
        "Finally, it's time to run the actual experiments. "
      ]
    },
    {
      "cell_type": "code",
      "metadata": {
        "id": "Z09Io_dhWiEm"
      },
      "source": [
        "def run_experiment(df, benchmarks): \n",
        "    \n",
        "    sentences1 = [Sentence(s) for s in df['sent_1']]\n",
        "    sentences2 = [Sentence(s) for s in df['sent_2']]\n",
        "    \n",
        "    pearson_cors, spearman_cors = [], []\n",
        "    for label, method in benchmarks:\n",
        "        sims = method(sentences1, sentences2)\n",
        "        pearson_correlation = scipy.stats.pearsonr(sims, df['sim'])[0]\n",
        "        print(label, pearson_correlation)\n",
        "        pearson_cors.append(pearson_correlation)\n",
        "        spearman_correlation = scipy.stats.spearmanr(sims, df['sim'])[0]\n",
        "        spearman_cors.append(spearman_correlation)\n",
        "        \n",
        "    return pearson_cors, spearman_cors"
      ],
      "execution_count": null,
      "outputs": []
    },
    {
      "cell_type": "code",
      "metadata": {
        "scrolled": true,
        "id": "2Amsg05vWiEm",
        "colab": {
          "base_uri": "https://localhost:8080/",
          "height": 253
        },
        "outputId": "123bb460-dabc-4ff5-9b33-50a07a499220"
      },
      "source": [
        "import functools as ft\n",
        "\n",
        "benchmarks = [(\"AVG-W2V\", ft.partial(run_avg_benchmark, model=word2vec, use_stoplist=False)),\n",
        "              (\"AVG-W2V-STOP\", ft.partial(run_avg_benchmark, model=word2vec, use_stoplist=True)),\n",
        "              (\"AVG-W2V-TFIDF\", ft.partial(run_avg_benchmark, model=word2vec, use_stoplist=False, doc_freqs=doc_frequencies)),\n",
        "              (\"AVG-W2V-TFIDF-STOP\", ft.partial(run_avg_benchmark, model=word2vec, use_stoplist=True, doc_freqs=doc_frequencies)),\n",
        "              (\"AVG-GLOVE\", ft.partial(run_avg_benchmark, model=glove, use_stoplist=False)),\n",
        "              (\"AVG-GLOVE-STOP\", ft.partial(run_avg_benchmark, model=glove, use_stoplist=True)),\n",
        "              (\"AVG-GLOVE-TFIDF\", ft.partial(run_avg_benchmark, model=glove, use_stoplist=False, doc_freqs=doc_frequencies)),\n",
        "              (\"AVG-GLOVE-TFIDF-STOP\", ft.partial(run_avg_benchmark, model=glove, use_stoplist=True, doc_freqs=doc_frequencies)),\n",
        "              (\"WMD-W2V\", ft.partial(run_wmd_benchmark, model=word2vec, use_stoplist=False)), \n",
        "              (\"WMD-W2V-STOP\", ft.partial(run_wmd_benchmark, model=word2vec, use_stoplist=True)), \n",
        "              (\"WMD-GLOVE\", ft.partial(run_wmd_benchmark, model=glove, use_stoplist=False)), \n",
        "              (\"WMD-GLOVE-STOP\", ft.partial(run_wmd_benchmark, model=glove, use_stoplist=True)), \n",
        "              (\"SIF-W2V\", ft.partial(run_sif_benchmark, freqs=frequencies, model=word2vec, use_stoplist=False)),\n",
        "              (\"SIF-GLOVE\", ft.partial(run_sif_benchmark, freqs=frequencies, model=glove, use_stoplist=False)), \n",
        "              (\"INF\", run_inf_benchmark),\n",
        "              (\"GSE\", run_gse_benchmark)]\n",
        "\n",
        "pearson_results, spearman_results = {}, {}\n",
        "pearson_results[\"SICK-DEV\"], spearman_results[\"SICK-DEV\"] = run_experiment(sick_dev, benchmarks)\n",
        "pearson_results[\"SICK-TEST\"], spearman_results[\"SICK-TEST\"] = run_experiment(sick_test, benchmarks)\n",
        "pearson_results[\"STS-DEV\"], spearman_results[\"STS-DEV\"] = run_experiment(sts_dev, benchmarks)\n",
        "pearson_results[\"STS-TEST\"], spearman_results[\"STS-TEST\"] = run_experiment(sts_test, benchmarks)  \n"
      ],
      "execution_count": null,
      "outputs": [
        {
          "output_type": "error",
          "ename": "NameError",
          "evalue": "ignored",
          "traceback": [
            "\u001b[0;31m---------------------------------------------------------------------------\u001b[0m",
            "\u001b[0;31mNameError\u001b[0m                                 Traceback (most recent call last)",
            "\u001b[0;32m<ipython-input-17-e0d2d332c403>\u001b[0m in \u001b[0;36m<module>\u001b[0;34m()\u001b[0m\n\u001b[1;32m      1\u001b[0m \u001b[0;32mimport\u001b[0m \u001b[0mfunctools\u001b[0m \u001b[0;32mas\u001b[0m \u001b[0mft\u001b[0m\u001b[0;34m\u001b[0m\u001b[0;34m\u001b[0m\u001b[0m\n\u001b[1;32m      2\u001b[0m \u001b[0;34m\u001b[0m\u001b[0m\n\u001b[0;32m----> 3\u001b[0;31m benchmarks = [(\"AVG-W2V\", ft.partial(run_avg_benchmark, model=word2vec, use_stoplist=False)),\n\u001b[0m\u001b[1;32m      4\u001b[0m               \u001b[0;34m(\u001b[0m\u001b[0;34m\"AVG-W2V-STOP\"\u001b[0m\u001b[0;34m,\u001b[0m \u001b[0mft\u001b[0m\u001b[0;34m.\u001b[0m\u001b[0mpartial\u001b[0m\u001b[0;34m(\u001b[0m\u001b[0mrun_avg_benchmark\u001b[0m\u001b[0;34m,\u001b[0m \u001b[0mmodel\u001b[0m\u001b[0;34m=\u001b[0m\u001b[0mword2vec\u001b[0m\u001b[0;34m,\u001b[0m \u001b[0muse_stoplist\u001b[0m\u001b[0;34m=\u001b[0m\u001b[0;32mTrue\u001b[0m\u001b[0;34m)\u001b[0m\u001b[0;34m)\u001b[0m\u001b[0;34m,\u001b[0m\u001b[0;34m\u001b[0m\u001b[0;34m\u001b[0m\u001b[0m\n\u001b[1;32m      5\u001b[0m               \u001b[0;34m(\u001b[0m\u001b[0;34m\"AVG-W2V-TFIDF\"\u001b[0m\u001b[0;34m,\u001b[0m \u001b[0mft\u001b[0m\u001b[0;34m.\u001b[0m\u001b[0mpartial\u001b[0m\u001b[0;34m(\u001b[0m\u001b[0mrun_avg_benchmark\u001b[0m\u001b[0;34m,\u001b[0m \u001b[0mmodel\u001b[0m\u001b[0;34m=\u001b[0m\u001b[0mword2vec\u001b[0m\u001b[0;34m,\u001b[0m \u001b[0muse_stoplist\u001b[0m\u001b[0;34m=\u001b[0m\u001b[0;32mFalse\u001b[0m\u001b[0;34m,\u001b[0m \u001b[0mdoc_freqs\u001b[0m\u001b[0;34m=\u001b[0m\u001b[0mdoc_frequencies\u001b[0m\u001b[0;34m)\u001b[0m\u001b[0;34m)\u001b[0m\u001b[0;34m,\u001b[0m\u001b[0;34m\u001b[0m\u001b[0;34m\u001b[0m\u001b[0m\n",
            "\u001b[0;31mNameError\u001b[0m: name 'word2vec' is not defined"
          ]
        }
      ]
    },
    {
      "cell_type": "markdown",
      "metadata": {
        "id": "sHLerzVPWiEn"
      },
      "source": [
        "## Results\n",
        "\n",
        "Let's take a look at our results. We'll mostly work with Pearson correlation, as is standard in the literature, except where Spearman correlation sheds additional light on our findings."
      ]
    },
    {
      "cell_type": "code",
      "metadata": {
        "id": "4J51lqRZWiEn"
      },
      "source": [
        "plt.rcParams['figure.figsize'] = (10,5)\n",
        "\n",
        "pearson_results_df = pd.DataFrame(pearson_results)\n",
        "pearson_results_df = pearson_results_df.transpose()\n",
        "pearson_results_df = pearson_results_df.rename(columns={i:b[0] for i, b in enumerate(benchmarks)})\n",
        "\n",
        "spearman_results_df = pd.DataFrame(spearman_results)\n",
        "spearman_results_df = spearman_results_df.transpose()\n",
        "spearman_results_df = spearman_results_df.rename(columns={i:b[0] for i, b in enumerate(benchmarks)})\n",
        "\n"
      ],
      "execution_count": null,
      "outputs": []
    },
    {
      "cell_type": "markdown",
      "metadata": {
        "id": "3WyQYBNWWiEo"
      },
      "source": [
        "### Baselines\n",
        "\n",
        "- Simple word2vec embeddings outperform GloVe embeddings.\n",
        "- With word2vec, it's unclear whether using a stoplist or tf-idf weighting helps. With STS it sometimes does; with SICK it does not. Simply computing an unweighted average of all word2vec embeddings consistently performs pretty well.\n",
        "- With GloVe, using a stoplist looks like a very good idea. Using tf-idf weights does not help, with or without a stoplist."
      ]
    },
    {
      "cell_type": "code",
      "metadata": {
        "id": "T0Vu1yYdWiEo"
      },
      "source": [
        "pearson_results_df[[b[0] for b in benchmarks if b[0].startswith(\"AVG\")]].plot(kind=\"bar\").legend(loc=\"lower left\")"
      ],
      "execution_count": null,
      "outputs": []
    },
    {
      "cell_type": "markdown",
      "metadata": {
        "id": "CiHclC1KWiEp"
      },
      "source": [
        "### Word Mover's Distance\n",
        "\n",
        "Based on our results, there's little reason to use Word Mover's Distance rather than simple word2vec averages. Only on STS-TEST, and only in combination with a stoplist, does WMD clearly leave the baselines behind."
      ]
    },
    {
      "cell_type": "code",
      "metadata": {
        "id": "ct4R3SxNWiEp"
      },
      "source": [
        "pearson_results_df[[\"AVG-W2V\", \"WMD-W2V\", \"WMD-W2V-STOP\", \"AVG-GLOVE-STOP\", \"WMD-GLOVE\", \"WMD-GLOVE-STOP\"]].plot(kind=\"bar\").legend(loc=\"lower left\")"
      ],
      "execution_count": null,
      "outputs": []
    },
    {
      "cell_type": "markdown",
      "metadata": {
        "id": "jSLaHRy9WiEu"
      },
      "source": [
        "### Smooth Inverse Frequency\n",
        "\n",
        "Smooth Inverse Frequency is the most consistent performer in our tests. On the SICK data, it does about as well as its baseline competitors, on STS it outranks them by a clear margin. Note there is little difference between SIF with word2vec embeddings and SIF with GloVe embeddings. This is remarkable, given the large differences we observed above. It shows SIF's weighting and common component removal is a very effective alternative to using a stoplist."
      ]
    },
    {
      "cell_type": "code",
      "metadata": {
        "id": "FTr85IKnWiEu"
      },
      "source": [
        "pearson_results_df[[\"AVG-W2V\", \"AVG-GLOVE-STOP\", \"SIF-W2V\", \"SIF-GLOVE\"]].plot(kind=\"bar\").legend(loc=\"lower left\")"
      ],
      "execution_count": null,
      "outputs": []
    },
    {
      "cell_type": "markdown",
      "metadata": {
        "id": "GL0iQgHVWiEw"
      },
      "source": [
        "### Pretrained encoders\n",
        "\n",
        "Pre-trained encoders have a lot to be said for them. However, our results indicate they are not yet able to capitalize fully on their training regime. Throughout our tests, Google's Sentence Encoder looks like a better choice than InferSent. However, the Pearson correlation coefficient shows very little difference with Smooth Inverse Frequency. The differences in Spearman correlation are more outspoken. This may indicate that the Google Sentence Encoder more often gets the relative ordering of the sentences right, but not necessarily the relative differences between them."
      ]
    },
    {
      "cell_type": "code",
      "metadata": {
        "id": "rqVxxp9nWiEw"
      },
      "source": [
        "pearson_results_df[[\"SIF-W2V\", \"INF\", \"GSE\"]].plot(kind=\"bar\").legend(loc=\"lower left\")\n",
        "spearman_results_df[[\"SIF-W2V\", \"INF\", \"GSE\"]].plot(kind=\"bar\").legend(loc=\"lower left\")"
      ],
      "execution_count": null,
      "outputs": []
    },
    {
      "cell_type": "markdown",
      "metadata": {
        "id": "qKqxZXn9WiEx"
      },
      "source": [
        "### Putting it all together"
      ]
    },
    {
      "cell_type": "code",
      "metadata": {
        "id": "OQETkODxWiEy"
      },
      "source": [
        "plt.rcParams['figure.figsize'] = (20,13)\n",
        "pearson_results_df.plot(kind=\"bar\").legend(loc=\"lower left\")"
      ],
      "execution_count": null,
      "outputs": []
    },
    {
      "cell_type": "markdown",
      "metadata": {
        "id": "LI2kBVkhWiEy"
      },
      "source": [
        "## Conclusions\n",
        "\n",
        "These are the most important conclusions:\n",
        "\n",
        "- When you're computing sentence similarity, word2vec embeddings are a safer choice than GloVe embeddings.\n",
        "- Although an unweighted average of the word embeddings in the sentence holds its own as a simple baseline, Smooth Inverse Frequency is usually a stronger alternative.\n",
        "- When you can use a pre-trained encoder, pick Google's Sentence Encoder, but remember its performance gain may not be all that spectacular."
      ]
    }
  ]
}