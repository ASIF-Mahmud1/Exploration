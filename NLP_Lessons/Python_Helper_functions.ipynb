{
  "nbformat": 4,
  "nbformat_minor": 0,
  "metadata": {
    "colab": {
      "name": "Python Helper functions.ipynb",
      "provenance": [],
      "collapsed_sections": [],
      "authorship_tag": "ABX9TyM+fTAuTW1nGEy4VXX0e0Sb",
      "include_colab_link": true
    },
    "kernelspec": {
      "name": "python3",
      "display_name": "Python 3"
    },
    "language_info": {
      "name": "python"
    }
  },
  "cells": [
    {
      "cell_type": "markdown",
      "metadata": {
        "id": "view-in-github",
        "colab_type": "text"
      },
      "source": [
        "<a href=\"https://colab.research.google.com/github/ASIF-Mahmud1/Exploration/blob/text-classifier/NLP_Lessons/Python_Helper_functions.ipynb\" target=\"_parent\"><img src=\"https://colab.research.google.com/assets/colab-badge.svg\" alt=\"Open In Colab\"/></a>"
      ]
    },
    {
      "cell_type": "code",
      "metadata": {
        "colab": {
          "base_uri": "https://localhost:8080/",
          "height": 52
        },
        "id": "qAiNqi6C8eqC",
        "outputId": "ff772143-95c5-42f7-bcd0-d771f70b65ce"
      },
      "source": [
        "import re\n",
        "def pre_process(text):\n",
        "    \n",
        "    # lowercase\n",
        "    text=text.lower()\n",
        "    \n",
        "    #remove tags\n",
        "    text=re.sub(\"</?.*?>\",\" <> \",text)\n",
        "    \n",
        "    # remove special characters and digits\n",
        "    text=re.sub(\"(\\\\d|\\\\W)+\",\" \",text)\n",
        "    \n",
        "    return text\n",
        "\n",
        "# Example \n",
        "\n",
        "firstText= \"Gradle command line<p>I'm trying to run a shell script with gradle. I currently have something like this</p>issue as I can see is how gradle handles spaces.</p>\" \n",
        "secondText= \"loop variable as parameter in asynchronous function call i have an object with the following form sortedfilters task appointment email now i want to\"\n",
        "import pandas as pd\n",
        "\n",
        "comments = {'title': [firstText, secondText],\"body\":[\"first\",\"second\"] }\n",
        "df = pd.DataFrame(comments, columns = ['title','body'])\n",
        "df['text'] = df['title'] + df['body']\n",
        "\n",
        "\n",
        "df['text'] = df['text'].apply(lambda x:pre_process(x))\n",
        "#show the first 'text' after preprocess\n",
        "df['text'][0]\n"
      ],
      "execution_count": 36,
      "outputs": [
        {
          "output_type": "execute_result",
          "data": {
            "application/vnd.google.colaboratory.intrinsic+json": {
              "type": "string"
            },
            "text/plain": [
              "'gradle command line i m trying to run a shell script with gradle i currently have something like this issue as i can see is how gradle handles spaces first'"
            ]
          },
          "metadata": {
            "tags": []
          },
          "execution_count": 36
        }
      ]
    }
  ]
}