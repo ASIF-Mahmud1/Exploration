{
  "nbformat": 4,
  "nbformat_minor": 0,
  "metadata": {
    "colab": {
      "name": " EnronDatasetDiminsihingTerms:BERT.ipynb",
      "provenance": [],
      "collapsed_sections": [],
      "authorship_tag": "ABX9TyPXeT/5je4v24/TVW6Z/0Jc",
      "include_colab_link": true
    },
    "kernelspec": {
      "name": "python3",
      "display_name": "Python 3"
    },
    "language_info": {
      "name": "python"
    },
    "widgets": {
      "application/vnd.jupyter.widget-state+json": {
        "e234d6fb6af44a7787675b347209e3d7": {
          "model_module": "@jupyter-widgets/controls",
          "model_name": "HBoxModel",
          "state": {
            "_view_name": "HBoxView",
            "_dom_classes": [],
            "_model_name": "HBoxModel",
            "_view_module": "@jupyter-widgets/controls",
            "_model_module_version": "1.5.0",
            "_view_count": null,
            "_view_module_version": "1.5.0",
            "box_style": "",
            "layout": "IPY_MODEL_cd61238f5f9a45dbb2419713a5b8384a",
            "_model_module": "@jupyter-widgets/controls",
            "children": [
              "IPY_MODEL_1b155526dca44cc5a063396c2bed6157",
              "IPY_MODEL_7eec83f3177b499d82d9769880ade2d2"
            ]
          }
        },
        "cd61238f5f9a45dbb2419713a5b8384a": {
          "model_module": "@jupyter-widgets/base",
          "model_name": "LayoutModel",
          "state": {
            "_view_name": "LayoutView",
            "grid_template_rows": null,
            "right": null,
            "justify_content": null,
            "_view_module": "@jupyter-widgets/base",
            "overflow": null,
            "_model_module_version": "1.2.0",
            "_view_count": null,
            "flex_flow": null,
            "width": null,
            "min_width": null,
            "border": null,
            "align_items": null,
            "bottom": null,
            "_model_module": "@jupyter-widgets/base",
            "top": null,
            "grid_column": null,
            "overflow_y": null,
            "overflow_x": null,
            "grid_auto_flow": null,
            "grid_area": null,
            "grid_template_columns": null,
            "flex": null,
            "_model_name": "LayoutModel",
            "justify_items": null,
            "grid_row": null,
            "max_height": null,
            "align_content": null,
            "visibility": null,
            "align_self": null,
            "height": null,
            "min_height": null,
            "padding": null,
            "grid_auto_rows": null,
            "grid_gap": null,
            "max_width": null,
            "order": null,
            "_view_module_version": "1.2.0",
            "grid_template_areas": null,
            "object_position": null,
            "object_fit": null,
            "grid_auto_columns": null,
            "margin": null,
            "display": null,
            "left": null
          }
        },
        "1b155526dca44cc5a063396c2bed6157": {
          "model_module": "@jupyter-widgets/controls",
          "model_name": "FloatProgressModel",
          "state": {
            "_view_name": "ProgressView",
            "style": "IPY_MODEL_88cfa6fc166c4476bda469c0771f03da",
            "_dom_classes": [],
            "description": "Downloading: 100%",
            "_model_name": "FloatProgressModel",
            "bar_style": "success",
            "max": 433,
            "_view_module": "@jupyter-widgets/controls",
            "_model_module_version": "1.5.0",
            "value": 433,
            "_view_count": null,
            "_view_module_version": "1.5.0",
            "orientation": "horizontal",
            "min": 0,
            "description_tooltip": null,
            "_model_module": "@jupyter-widgets/controls",
            "layout": "IPY_MODEL_508d9329ee474ed2a1f786035d9e9283"
          }
        },
        "7eec83f3177b499d82d9769880ade2d2": {
          "model_module": "@jupyter-widgets/controls",
          "model_name": "HTMLModel",
          "state": {
            "_view_name": "HTMLView",
            "style": "IPY_MODEL_164657ea70c0486c9b766837473a9993",
            "_dom_classes": [],
            "description": "",
            "_model_name": "HTMLModel",
            "placeholder": "​",
            "_view_module": "@jupyter-widgets/controls",
            "_model_module_version": "1.5.0",
            "value": " 433/433 [00:14&lt;00:00, 30.5B/s]",
            "_view_count": null,
            "_view_module_version": "1.5.0",
            "description_tooltip": null,
            "_model_module": "@jupyter-widgets/controls",
            "layout": "IPY_MODEL_92e5f9c4ffd94dcb9e3f6316302f271c"
          }
        },
        "88cfa6fc166c4476bda469c0771f03da": {
          "model_module": "@jupyter-widgets/controls",
          "model_name": "ProgressStyleModel",
          "state": {
            "_view_name": "StyleView",
            "_model_name": "ProgressStyleModel",
            "description_width": "initial",
            "_view_module": "@jupyter-widgets/base",
            "_model_module_version": "1.5.0",
            "_view_count": null,
            "_view_module_version": "1.2.0",
            "bar_color": null,
            "_model_module": "@jupyter-widgets/controls"
          }
        },
        "508d9329ee474ed2a1f786035d9e9283": {
          "model_module": "@jupyter-widgets/base",
          "model_name": "LayoutModel",
          "state": {
            "_view_name": "LayoutView",
            "grid_template_rows": null,
            "right": null,
            "justify_content": null,
            "_view_module": "@jupyter-widgets/base",
            "overflow": null,
            "_model_module_version": "1.2.0",
            "_view_count": null,
            "flex_flow": null,
            "width": null,
            "min_width": null,
            "border": null,
            "align_items": null,
            "bottom": null,
            "_model_module": "@jupyter-widgets/base",
            "top": null,
            "grid_column": null,
            "overflow_y": null,
            "overflow_x": null,
            "grid_auto_flow": null,
            "grid_area": null,
            "grid_template_columns": null,
            "flex": null,
            "_model_name": "LayoutModel",
            "justify_items": null,
            "grid_row": null,
            "max_height": null,
            "align_content": null,
            "visibility": null,
            "align_self": null,
            "height": null,
            "min_height": null,
            "padding": null,
            "grid_auto_rows": null,
            "grid_gap": null,
            "max_width": null,
            "order": null,
            "_view_module_version": "1.2.0",
            "grid_template_areas": null,
            "object_position": null,
            "object_fit": null,
            "grid_auto_columns": null,
            "margin": null,
            "display": null,
            "left": null
          }
        },
        "164657ea70c0486c9b766837473a9993": {
          "model_module": "@jupyter-widgets/controls",
          "model_name": "DescriptionStyleModel",
          "state": {
            "_view_name": "StyleView",
            "_model_name": "DescriptionStyleModel",
            "description_width": "",
            "_view_module": "@jupyter-widgets/base",
            "_model_module_version": "1.5.0",
            "_view_count": null,
            "_view_module_version": "1.2.0",
            "_model_module": "@jupyter-widgets/controls"
          }
        },
        "92e5f9c4ffd94dcb9e3f6316302f271c": {
          "model_module": "@jupyter-widgets/base",
          "model_name": "LayoutModel",
          "state": {
            "_view_name": "LayoutView",
            "grid_template_rows": null,
            "right": null,
            "justify_content": null,
            "_view_module": "@jupyter-widgets/base",
            "overflow": null,
            "_model_module_version": "1.2.0",
            "_view_count": null,
            "flex_flow": null,
            "width": null,
            "min_width": null,
            "border": null,
            "align_items": null,
            "bottom": null,
            "_model_module": "@jupyter-widgets/base",
            "top": null,
            "grid_column": null,
            "overflow_y": null,
            "overflow_x": null,
            "grid_auto_flow": null,
            "grid_area": null,
            "grid_template_columns": null,
            "flex": null,
            "_model_name": "LayoutModel",
            "justify_items": null,
            "grid_row": null,
            "max_height": null,
            "align_content": null,
            "visibility": null,
            "align_self": null,
            "height": null,
            "min_height": null,
            "padding": null,
            "grid_auto_rows": null,
            "grid_gap": null,
            "max_width": null,
            "order": null,
            "_view_module_version": "1.2.0",
            "grid_template_areas": null,
            "object_position": null,
            "object_fit": null,
            "grid_auto_columns": null,
            "margin": null,
            "display": null,
            "left": null
          }
        },
        "d0ebc47824e94395b3993fd1a20b61c4": {
          "model_module": "@jupyter-widgets/controls",
          "model_name": "HBoxModel",
          "state": {
            "_view_name": "HBoxView",
            "_dom_classes": [],
            "_model_name": "HBoxModel",
            "_view_module": "@jupyter-widgets/controls",
            "_model_module_version": "1.5.0",
            "_view_count": null,
            "_view_module_version": "1.5.0",
            "box_style": "",
            "layout": "IPY_MODEL_46794032d2b6478d904381b8fa292b5e",
            "_model_module": "@jupyter-widgets/controls",
            "children": [
              "IPY_MODEL_f41a847e4cf24132abbc5003b2582392",
              "IPY_MODEL_265ea4f4ec70475fb33434b61cec5bb6"
            ]
          }
        },
        "46794032d2b6478d904381b8fa292b5e": {
          "model_module": "@jupyter-widgets/base",
          "model_name": "LayoutModel",
          "state": {
            "_view_name": "LayoutView",
            "grid_template_rows": null,
            "right": null,
            "justify_content": null,
            "_view_module": "@jupyter-widgets/base",
            "overflow": null,
            "_model_module_version": "1.2.0",
            "_view_count": null,
            "flex_flow": null,
            "width": null,
            "min_width": null,
            "border": null,
            "align_items": null,
            "bottom": null,
            "_model_module": "@jupyter-widgets/base",
            "top": null,
            "grid_column": null,
            "overflow_y": null,
            "overflow_x": null,
            "grid_auto_flow": null,
            "grid_area": null,
            "grid_template_columns": null,
            "flex": null,
            "_model_name": "LayoutModel",
            "justify_items": null,
            "grid_row": null,
            "max_height": null,
            "align_content": null,
            "visibility": null,
            "align_self": null,
            "height": null,
            "min_height": null,
            "padding": null,
            "grid_auto_rows": null,
            "grid_gap": null,
            "max_width": null,
            "order": null,
            "_view_module_version": "1.2.0",
            "grid_template_areas": null,
            "object_position": null,
            "object_fit": null,
            "grid_auto_columns": null,
            "margin": null,
            "display": null,
            "left": null
          }
        },
        "f41a847e4cf24132abbc5003b2582392": {
          "model_module": "@jupyter-widgets/controls",
          "model_name": "FloatProgressModel",
          "state": {
            "_view_name": "ProgressView",
            "style": "IPY_MODEL_d2fb02ef0eac404a8c70080c07e2126e",
            "_dom_classes": [],
            "description": "Downloading: 100%",
            "_model_name": "FloatProgressModel",
            "bar_style": "success",
            "max": 440473133,
            "_view_module": "@jupyter-widgets/controls",
            "_model_module_version": "1.5.0",
            "value": 440473133,
            "_view_count": null,
            "_view_module_version": "1.5.0",
            "orientation": "horizontal",
            "min": 0,
            "description_tooltip": null,
            "_model_module": "@jupyter-widgets/controls",
            "layout": "IPY_MODEL_af8adb3e07374858a48fc2bec15a74ba"
          }
        },
        "265ea4f4ec70475fb33434b61cec5bb6": {
          "model_module": "@jupyter-widgets/controls",
          "model_name": "HTMLModel",
          "state": {
            "_view_name": "HTMLView",
            "style": "IPY_MODEL_b78213e7863b49d19e0e4cca3f595838",
            "_dom_classes": [],
            "description": "",
            "_model_name": "HTMLModel",
            "placeholder": "​",
            "_view_module": "@jupyter-widgets/controls",
            "_model_module_version": "1.5.0",
            "value": " 440M/440M [00:13&lt;00:00, 31.9MB/s]",
            "_view_count": null,
            "_view_module_version": "1.5.0",
            "description_tooltip": null,
            "_model_module": "@jupyter-widgets/controls",
            "layout": "IPY_MODEL_8f5f94ab3c254b30879c2425ddd1c6a1"
          }
        },
        "d2fb02ef0eac404a8c70080c07e2126e": {
          "model_module": "@jupyter-widgets/controls",
          "model_name": "ProgressStyleModel",
          "state": {
            "_view_name": "StyleView",
            "_model_name": "ProgressStyleModel",
            "description_width": "initial",
            "_view_module": "@jupyter-widgets/base",
            "_model_module_version": "1.5.0",
            "_view_count": null,
            "_view_module_version": "1.2.0",
            "bar_color": null,
            "_model_module": "@jupyter-widgets/controls"
          }
        },
        "af8adb3e07374858a48fc2bec15a74ba": {
          "model_module": "@jupyter-widgets/base",
          "model_name": "LayoutModel",
          "state": {
            "_view_name": "LayoutView",
            "grid_template_rows": null,
            "right": null,
            "justify_content": null,
            "_view_module": "@jupyter-widgets/base",
            "overflow": null,
            "_model_module_version": "1.2.0",
            "_view_count": null,
            "flex_flow": null,
            "width": null,
            "min_width": null,
            "border": null,
            "align_items": null,
            "bottom": null,
            "_model_module": "@jupyter-widgets/base",
            "top": null,
            "grid_column": null,
            "overflow_y": null,
            "overflow_x": null,
            "grid_auto_flow": null,
            "grid_area": null,
            "grid_template_columns": null,
            "flex": null,
            "_model_name": "LayoutModel",
            "justify_items": null,
            "grid_row": null,
            "max_height": null,
            "align_content": null,
            "visibility": null,
            "align_self": null,
            "height": null,
            "min_height": null,
            "padding": null,
            "grid_auto_rows": null,
            "grid_gap": null,
            "max_width": null,
            "order": null,
            "_view_module_version": "1.2.0",
            "grid_template_areas": null,
            "object_position": null,
            "object_fit": null,
            "grid_auto_columns": null,
            "margin": null,
            "display": null,
            "left": null
          }
        },
        "b78213e7863b49d19e0e4cca3f595838": {
          "model_module": "@jupyter-widgets/controls",
          "model_name": "DescriptionStyleModel",
          "state": {
            "_view_name": "StyleView",
            "_model_name": "DescriptionStyleModel",
            "description_width": "",
            "_view_module": "@jupyter-widgets/base",
            "_model_module_version": "1.5.0",
            "_view_count": null,
            "_view_module_version": "1.2.0",
            "_model_module": "@jupyter-widgets/controls"
          }
        },
        "8f5f94ab3c254b30879c2425ddd1c6a1": {
          "model_module": "@jupyter-widgets/base",
          "model_name": "LayoutModel",
          "state": {
            "_view_name": "LayoutView",
            "grid_template_rows": null,
            "right": null,
            "justify_content": null,
            "_view_module": "@jupyter-widgets/base",
            "overflow": null,
            "_model_module_version": "1.2.0",
            "_view_count": null,
            "flex_flow": null,
            "width": null,
            "min_width": null,
            "border": null,
            "align_items": null,
            "bottom": null,
            "_model_module": "@jupyter-widgets/base",
            "top": null,
            "grid_column": null,
            "overflow_y": null,
            "overflow_x": null,
            "grid_auto_flow": null,
            "grid_area": null,
            "grid_template_columns": null,
            "flex": null,
            "_model_name": "LayoutModel",
            "justify_items": null,
            "grid_row": null,
            "max_height": null,
            "align_content": null,
            "visibility": null,
            "align_self": null,
            "height": null,
            "min_height": null,
            "padding": null,
            "grid_auto_rows": null,
            "grid_gap": null,
            "max_width": null,
            "order": null,
            "_view_module_version": "1.2.0",
            "grid_template_areas": null,
            "object_position": null,
            "object_fit": null,
            "grid_auto_columns": null,
            "margin": null,
            "display": null,
            "left": null
          }
        },
        "ad3495f68d1e4e2db515572e1459aee9": {
          "model_module": "@jupyter-widgets/controls",
          "model_name": "HBoxModel",
          "state": {
            "_view_name": "HBoxView",
            "_dom_classes": [],
            "_model_name": "HBoxModel",
            "_view_module": "@jupyter-widgets/controls",
            "_model_module_version": "1.5.0",
            "_view_count": null,
            "_view_module_version": "1.5.0",
            "box_style": "",
            "layout": "IPY_MODEL_49a96d77604b42ad9c00dcef5915552d",
            "_model_module": "@jupyter-widgets/controls",
            "children": [
              "IPY_MODEL_90eec1ae92c440ef8e6727d985cb355a",
              "IPY_MODEL_8b34e6d647694b4899a370096f50b5be"
            ]
          }
        },
        "49a96d77604b42ad9c00dcef5915552d": {
          "model_module": "@jupyter-widgets/base",
          "model_name": "LayoutModel",
          "state": {
            "_view_name": "LayoutView",
            "grid_template_rows": null,
            "right": null,
            "justify_content": null,
            "_view_module": "@jupyter-widgets/base",
            "overflow": null,
            "_model_module_version": "1.2.0",
            "_view_count": null,
            "flex_flow": null,
            "width": null,
            "min_width": null,
            "border": null,
            "align_items": null,
            "bottom": null,
            "_model_module": "@jupyter-widgets/base",
            "top": null,
            "grid_column": null,
            "overflow_y": null,
            "overflow_x": null,
            "grid_auto_flow": null,
            "grid_area": null,
            "grid_template_columns": null,
            "flex": null,
            "_model_name": "LayoutModel",
            "justify_items": null,
            "grid_row": null,
            "max_height": null,
            "align_content": null,
            "visibility": null,
            "align_self": null,
            "height": null,
            "min_height": null,
            "padding": null,
            "grid_auto_rows": null,
            "grid_gap": null,
            "max_width": null,
            "order": null,
            "_view_module_version": "1.2.0",
            "grid_template_areas": null,
            "object_position": null,
            "object_fit": null,
            "grid_auto_columns": null,
            "margin": null,
            "display": null,
            "left": null
          }
        },
        "90eec1ae92c440ef8e6727d985cb355a": {
          "model_module": "@jupyter-widgets/controls",
          "model_name": "FloatProgressModel",
          "state": {
            "_view_name": "ProgressView",
            "style": "IPY_MODEL_1f3eb98b40244947904e114fc16caf98",
            "_dom_classes": [],
            "description": "Downloading: 100%",
            "_model_name": "FloatProgressModel",
            "bar_style": "success",
            "max": 231508,
            "_view_module": "@jupyter-widgets/controls",
            "_model_module_version": "1.5.0",
            "value": 231508,
            "_view_count": null,
            "_view_module_version": "1.5.0",
            "orientation": "horizontal",
            "min": 0,
            "description_tooltip": null,
            "_model_module": "@jupyter-widgets/controls",
            "layout": "IPY_MODEL_c4a5b4876af74a9aa06992150c4ec1b5"
          }
        },
        "8b34e6d647694b4899a370096f50b5be": {
          "model_module": "@jupyter-widgets/controls",
          "model_name": "HTMLModel",
          "state": {
            "_view_name": "HTMLView",
            "style": "IPY_MODEL_edb7e2e8e2cf433e8c35ae224c37bc6b",
            "_dom_classes": [],
            "description": "",
            "_model_name": "HTMLModel",
            "placeholder": "​",
            "_view_module": "@jupyter-widgets/controls",
            "_model_module_version": "1.5.0",
            "value": " 232k/232k [00:00&lt;00:00, 688kB/s]",
            "_view_count": null,
            "_view_module_version": "1.5.0",
            "description_tooltip": null,
            "_model_module": "@jupyter-widgets/controls",
            "layout": "IPY_MODEL_4a14ac440725467f90e02c5944379c85"
          }
        },
        "1f3eb98b40244947904e114fc16caf98": {
          "model_module": "@jupyter-widgets/controls",
          "model_name": "ProgressStyleModel",
          "state": {
            "_view_name": "StyleView",
            "_model_name": "ProgressStyleModel",
            "description_width": "initial",
            "_view_module": "@jupyter-widgets/base",
            "_model_module_version": "1.5.0",
            "_view_count": null,
            "_view_module_version": "1.2.0",
            "bar_color": null,
            "_model_module": "@jupyter-widgets/controls"
          }
        },
        "c4a5b4876af74a9aa06992150c4ec1b5": {
          "model_module": "@jupyter-widgets/base",
          "model_name": "LayoutModel",
          "state": {
            "_view_name": "LayoutView",
            "grid_template_rows": null,
            "right": null,
            "justify_content": null,
            "_view_module": "@jupyter-widgets/base",
            "overflow": null,
            "_model_module_version": "1.2.0",
            "_view_count": null,
            "flex_flow": null,
            "width": null,
            "min_width": null,
            "border": null,
            "align_items": null,
            "bottom": null,
            "_model_module": "@jupyter-widgets/base",
            "top": null,
            "grid_column": null,
            "overflow_y": null,
            "overflow_x": null,
            "grid_auto_flow": null,
            "grid_area": null,
            "grid_template_columns": null,
            "flex": null,
            "_model_name": "LayoutModel",
            "justify_items": null,
            "grid_row": null,
            "max_height": null,
            "align_content": null,
            "visibility": null,
            "align_self": null,
            "height": null,
            "min_height": null,
            "padding": null,
            "grid_auto_rows": null,
            "grid_gap": null,
            "max_width": null,
            "order": null,
            "_view_module_version": "1.2.0",
            "grid_template_areas": null,
            "object_position": null,
            "object_fit": null,
            "grid_auto_columns": null,
            "margin": null,
            "display": null,
            "left": null
          }
        },
        "edb7e2e8e2cf433e8c35ae224c37bc6b": {
          "model_module": "@jupyter-widgets/controls",
          "model_name": "DescriptionStyleModel",
          "state": {
            "_view_name": "StyleView",
            "_model_name": "DescriptionStyleModel",
            "description_width": "",
            "_view_module": "@jupyter-widgets/base",
            "_model_module_version": "1.5.0",
            "_view_count": null,
            "_view_module_version": "1.2.0",
            "_model_module": "@jupyter-widgets/controls"
          }
        },
        "4a14ac440725467f90e02c5944379c85": {
          "model_module": "@jupyter-widgets/base",
          "model_name": "LayoutModel",
          "state": {
            "_view_name": "LayoutView",
            "grid_template_rows": null,
            "right": null,
            "justify_content": null,
            "_view_module": "@jupyter-widgets/base",
            "overflow": null,
            "_model_module_version": "1.2.0",
            "_view_count": null,
            "flex_flow": null,
            "width": null,
            "min_width": null,
            "border": null,
            "align_items": null,
            "bottom": null,
            "_model_module": "@jupyter-widgets/base",
            "top": null,
            "grid_column": null,
            "overflow_y": null,
            "overflow_x": null,
            "grid_auto_flow": null,
            "grid_area": null,
            "grid_template_columns": null,
            "flex": null,
            "_model_name": "LayoutModel",
            "justify_items": null,
            "grid_row": null,
            "max_height": null,
            "align_content": null,
            "visibility": null,
            "align_self": null,
            "height": null,
            "min_height": null,
            "padding": null,
            "grid_auto_rows": null,
            "grid_gap": null,
            "max_width": null,
            "order": null,
            "_view_module_version": "1.2.0",
            "grid_template_areas": null,
            "object_position": null,
            "object_fit": null,
            "grid_auto_columns": null,
            "margin": null,
            "display": null,
            "left": null
          }
        },
        "72f1013e464246c782d8d71fea292067": {
          "model_module": "@jupyter-widgets/controls",
          "model_name": "HBoxModel",
          "state": {
            "_view_name": "HBoxView",
            "_dom_classes": [],
            "_model_name": "HBoxModel",
            "_view_module": "@jupyter-widgets/controls",
            "_model_module_version": "1.5.0",
            "_view_count": null,
            "_view_module_version": "1.5.0",
            "box_style": "",
            "layout": "IPY_MODEL_42c67239e87a4f9fa2c8defbb34b494f",
            "_model_module": "@jupyter-widgets/controls",
            "children": [
              "IPY_MODEL_53fa10a359b04e93a85a95e689428282",
              "IPY_MODEL_111b7619b80b4e6e8f510861ab3ce599"
            ]
          }
        },
        "42c67239e87a4f9fa2c8defbb34b494f": {
          "model_module": "@jupyter-widgets/base",
          "model_name": "LayoutModel",
          "state": {
            "_view_name": "LayoutView",
            "grid_template_rows": null,
            "right": null,
            "justify_content": null,
            "_view_module": "@jupyter-widgets/base",
            "overflow": null,
            "_model_module_version": "1.2.0",
            "_view_count": null,
            "flex_flow": null,
            "width": null,
            "min_width": null,
            "border": null,
            "align_items": null,
            "bottom": null,
            "_model_module": "@jupyter-widgets/base",
            "top": null,
            "grid_column": null,
            "overflow_y": null,
            "overflow_x": null,
            "grid_auto_flow": null,
            "grid_area": null,
            "grid_template_columns": null,
            "flex": null,
            "_model_name": "LayoutModel",
            "justify_items": null,
            "grid_row": null,
            "max_height": null,
            "align_content": null,
            "visibility": null,
            "align_self": null,
            "height": null,
            "min_height": null,
            "padding": null,
            "grid_auto_rows": null,
            "grid_gap": null,
            "max_width": null,
            "order": null,
            "_view_module_version": "1.2.0",
            "grid_template_areas": null,
            "object_position": null,
            "object_fit": null,
            "grid_auto_columns": null,
            "margin": null,
            "display": null,
            "left": null
          }
        },
        "53fa10a359b04e93a85a95e689428282": {
          "model_module": "@jupyter-widgets/controls",
          "model_name": "FloatProgressModel",
          "state": {
            "_view_name": "ProgressView",
            "style": "IPY_MODEL_beb15a70fc2d459eab2b3fc8f7b2cc45",
            "_dom_classes": [],
            "description": "Downloading: 100%",
            "_model_name": "FloatProgressModel",
            "bar_style": "success",
            "max": 28,
            "_view_module": "@jupyter-widgets/controls",
            "_model_module_version": "1.5.0",
            "value": 28,
            "_view_count": null,
            "_view_module_version": "1.5.0",
            "orientation": "horizontal",
            "min": 0,
            "description_tooltip": null,
            "_model_module": "@jupyter-widgets/controls",
            "layout": "IPY_MODEL_c0b66a5739414707a0b3519b7ee2c3d2"
          }
        },
        "111b7619b80b4e6e8f510861ab3ce599": {
          "model_module": "@jupyter-widgets/controls",
          "model_name": "HTMLModel",
          "state": {
            "_view_name": "HTMLView",
            "style": "IPY_MODEL_af9a84cd2ccf4c10b6c0a280da5259b9",
            "_dom_classes": [],
            "description": "",
            "_model_name": "HTMLModel",
            "placeholder": "​",
            "_view_module": "@jupyter-widgets/controls",
            "_model_module_version": "1.5.0",
            "value": " 28.0/28.0 [00:00&lt;00:00, 88.0B/s]",
            "_view_count": null,
            "_view_module_version": "1.5.0",
            "description_tooltip": null,
            "_model_module": "@jupyter-widgets/controls",
            "layout": "IPY_MODEL_4cf2ed227dee4cfb9a960a5da854f444"
          }
        },
        "beb15a70fc2d459eab2b3fc8f7b2cc45": {
          "model_module": "@jupyter-widgets/controls",
          "model_name": "ProgressStyleModel",
          "state": {
            "_view_name": "StyleView",
            "_model_name": "ProgressStyleModel",
            "description_width": "initial",
            "_view_module": "@jupyter-widgets/base",
            "_model_module_version": "1.5.0",
            "_view_count": null,
            "_view_module_version": "1.2.0",
            "bar_color": null,
            "_model_module": "@jupyter-widgets/controls"
          }
        },
        "c0b66a5739414707a0b3519b7ee2c3d2": {
          "model_module": "@jupyter-widgets/base",
          "model_name": "LayoutModel",
          "state": {
            "_view_name": "LayoutView",
            "grid_template_rows": null,
            "right": null,
            "justify_content": null,
            "_view_module": "@jupyter-widgets/base",
            "overflow": null,
            "_model_module_version": "1.2.0",
            "_view_count": null,
            "flex_flow": null,
            "width": null,
            "min_width": null,
            "border": null,
            "align_items": null,
            "bottom": null,
            "_model_module": "@jupyter-widgets/base",
            "top": null,
            "grid_column": null,
            "overflow_y": null,
            "overflow_x": null,
            "grid_auto_flow": null,
            "grid_area": null,
            "grid_template_columns": null,
            "flex": null,
            "_model_name": "LayoutModel",
            "justify_items": null,
            "grid_row": null,
            "max_height": null,
            "align_content": null,
            "visibility": null,
            "align_self": null,
            "height": null,
            "min_height": null,
            "padding": null,
            "grid_auto_rows": null,
            "grid_gap": null,
            "max_width": null,
            "order": null,
            "_view_module_version": "1.2.0",
            "grid_template_areas": null,
            "object_position": null,
            "object_fit": null,
            "grid_auto_columns": null,
            "margin": null,
            "display": null,
            "left": null
          }
        },
        "af9a84cd2ccf4c10b6c0a280da5259b9": {
          "model_module": "@jupyter-widgets/controls",
          "model_name": "DescriptionStyleModel",
          "state": {
            "_view_name": "StyleView",
            "_model_name": "DescriptionStyleModel",
            "description_width": "",
            "_view_module": "@jupyter-widgets/base",
            "_model_module_version": "1.5.0",
            "_view_count": null,
            "_view_module_version": "1.2.0",
            "_model_module": "@jupyter-widgets/controls"
          }
        },
        "4cf2ed227dee4cfb9a960a5da854f444": {
          "model_module": "@jupyter-widgets/base",
          "model_name": "LayoutModel",
          "state": {
            "_view_name": "LayoutView",
            "grid_template_rows": null,
            "right": null,
            "justify_content": null,
            "_view_module": "@jupyter-widgets/base",
            "overflow": null,
            "_model_module_version": "1.2.0",
            "_view_count": null,
            "flex_flow": null,
            "width": null,
            "min_width": null,
            "border": null,
            "align_items": null,
            "bottom": null,
            "_model_module": "@jupyter-widgets/base",
            "top": null,
            "grid_column": null,
            "overflow_y": null,
            "overflow_x": null,
            "grid_auto_flow": null,
            "grid_area": null,
            "grid_template_columns": null,
            "flex": null,
            "_model_name": "LayoutModel",
            "justify_items": null,
            "grid_row": null,
            "max_height": null,
            "align_content": null,
            "visibility": null,
            "align_self": null,
            "height": null,
            "min_height": null,
            "padding": null,
            "grid_auto_rows": null,
            "grid_gap": null,
            "max_width": null,
            "order": null,
            "_view_module_version": "1.2.0",
            "grid_template_areas": null,
            "object_position": null,
            "object_fit": null,
            "grid_auto_columns": null,
            "margin": null,
            "display": null,
            "left": null
          }
        },
        "3821f7c8db61406193ca89d119e73e8e": {
          "model_module": "@jupyter-widgets/controls",
          "model_name": "HBoxModel",
          "state": {
            "_view_name": "HBoxView",
            "_dom_classes": [],
            "_model_name": "HBoxModel",
            "_view_module": "@jupyter-widgets/controls",
            "_model_module_version": "1.5.0",
            "_view_count": null,
            "_view_module_version": "1.5.0",
            "box_style": "",
            "layout": "IPY_MODEL_ee7244b5d08948f0b476615e43dc6268",
            "_model_module": "@jupyter-widgets/controls",
            "children": [
              "IPY_MODEL_8a464613b79c4b88a6481394bb164ebb",
              "IPY_MODEL_875573c9e09e4bbc929e73182925a302"
            ]
          }
        },
        "ee7244b5d08948f0b476615e43dc6268": {
          "model_module": "@jupyter-widgets/base",
          "model_name": "LayoutModel",
          "state": {
            "_view_name": "LayoutView",
            "grid_template_rows": null,
            "right": null,
            "justify_content": null,
            "_view_module": "@jupyter-widgets/base",
            "overflow": null,
            "_model_module_version": "1.2.0",
            "_view_count": null,
            "flex_flow": null,
            "width": null,
            "min_width": null,
            "border": null,
            "align_items": null,
            "bottom": null,
            "_model_module": "@jupyter-widgets/base",
            "top": null,
            "grid_column": null,
            "overflow_y": null,
            "overflow_x": null,
            "grid_auto_flow": null,
            "grid_area": null,
            "grid_template_columns": null,
            "flex": null,
            "_model_name": "LayoutModel",
            "justify_items": null,
            "grid_row": null,
            "max_height": null,
            "align_content": null,
            "visibility": null,
            "align_self": null,
            "height": null,
            "min_height": null,
            "padding": null,
            "grid_auto_rows": null,
            "grid_gap": null,
            "max_width": null,
            "order": null,
            "_view_module_version": "1.2.0",
            "grid_template_areas": null,
            "object_position": null,
            "object_fit": null,
            "grid_auto_columns": null,
            "margin": null,
            "display": null,
            "left": null
          }
        },
        "8a464613b79c4b88a6481394bb164ebb": {
          "model_module": "@jupyter-widgets/controls",
          "model_name": "FloatProgressModel",
          "state": {
            "_view_name": "ProgressView",
            "style": "IPY_MODEL_261b29eb63bf4d8c8d65d4c7ec3f5c74",
            "_dom_classes": [],
            "description": "Downloading: 100%",
            "_model_name": "FloatProgressModel",
            "bar_style": "success",
            "max": 466062,
            "_view_module": "@jupyter-widgets/controls",
            "_model_module_version": "1.5.0",
            "value": 466062,
            "_view_count": null,
            "_view_module_version": "1.5.0",
            "orientation": "horizontal",
            "min": 0,
            "description_tooltip": null,
            "_model_module": "@jupyter-widgets/controls",
            "layout": "IPY_MODEL_4eba8d0707fc49b69018b78ed9897b37"
          }
        },
        "875573c9e09e4bbc929e73182925a302": {
          "model_module": "@jupyter-widgets/controls",
          "model_name": "HTMLModel",
          "state": {
            "_view_name": "HTMLView",
            "style": "IPY_MODEL_a0444c438679460aa9ab582b1b68082e",
            "_dom_classes": [],
            "description": "",
            "_model_name": "HTMLModel",
            "placeholder": "​",
            "_view_module": "@jupyter-widgets/controls",
            "_model_module_version": "1.5.0",
            "value": " 466k/466k [00:00&lt;00:00, 3.41MB/s]",
            "_view_count": null,
            "_view_module_version": "1.5.0",
            "description_tooltip": null,
            "_model_module": "@jupyter-widgets/controls",
            "layout": "IPY_MODEL_0b6226a0022e4d369b2b889bf839eaa9"
          }
        },
        "261b29eb63bf4d8c8d65d4c7ec3f5c74": {
          "model_module": "@jupyter-widgets/controls",
          "model_name": "ProgressStyleModel",
          "state": {
            "_view_name": "StyleView",
            "_model_name": "ProgressStyleModel",
            "description_width": "initial",
            "_view_module": "@jupyter-widgets/base",
            "_model_module_version": "1.5.0",
            "_view_count": null,
            "_view_module_version": "1.2.0",
            "bar_color": null,
            "_model_module": "@jupyter-widgets/controls"
          }
        },
        "4eba8d0707fc49b69018b78ed9897b37": {
          "model_module": "@jupyter-widgets/base",
          "model_name": "LayoutModel",
          "state": {
            "_view_name": "LayoutView",
            "grid_template_rows": null,
            "right": null,
            "justify_content": null,
            "_view_module": "@jupyter-widgets/base",
            "overflow": null,
            "_model_module_version": "1.2.0",
            "_view_count": null,
            "flex_flow": null,
            "width": null,
            "min_width": null,
            "border": null,
            "align_items": null,
            "bottom": null,
            "_model_module": "@jupyter-widgets/base",
            "top": null,
            "grid_column": null,
            "overflow_y": null,
            "overflow_x": null,
            "grid_auto_flow": null,
            "grid_area": null,
            "grid_template_columns": null,
            "flex": null,
            "_model_name": "LayoutModel",
            "justify_items": null,
            "grid_row": null,
            "max_height": null,
            "align_content": null,
            "visibility": null,
            "align_self": null,
            "height": null,
            "min_height": null,
            "padding": null,
            "grid_auto_rows": null,
            "grid_gap": null,
            "max_width": null,
            "order": null,
            "_view_module_version": "1.2.0",
            "grid_template_areas": null,
            "object_position": null,
            "object_fit": null,
            "grid_auto_columns": null,
            "margin": null,
            "display": null,
            "left": null
          }
        },
        "a0444c438679460aa9ab582b1b68082e": {
          "model_module": "@jupyter-widgets/controls",
          "model_name": "DescriptionStyleModel",
          "state": {
            "_view_name": "StyleView",
            "_model_name": "DescriptionStyleModel",
            "description_width": "",
            "_view_module": "@jupyter-widgets/base",
            "_model_module_version": "1.5.0",
            "_view_count": null,
            "_view_module_version": "1.2.0",
            "_model_module": "@jupyter-widgets/controls"
          }
        },
        "0b6226a0022e4d369b2b889bf839eaa9": {
          "model_module": "@jupyter-widgets/base",
          "model_name": "LayoutModel",
          "state": {
            "_view_name": "LayoutView",
            "grid_template_rows": null,
            "right": null,
            "justify_content": null,
            "_view_module": "@jupyter-widgets/base",
            "overflow": null,
            "_model_module_version": "1.2.0",
            "_view_count": null,
            "flex_flow": null,
            "width": null,
            "min_width": null,
            "border": null,
            "align_items": null,
            "bottom": null,
            "_model_module": "@jupyter-widgets/base",
            "top": null,
            "grid_column": null,
            "overflow_y": null,
            "overflow_x": null,
            "grid_auto_flow": null,
            "grid_area": null,
            "grid_template_columns": null,
            "flex": null,
            "_model_name": "LayoutModel",
            "justify_items": null,
            "grid_row": null,
            "max_height": null,
            "align_content": null,
            "visibility": null,
            "align_self": null,
            "height": null,
            "min_height": null,
            "padding": null,
            "grid_auto_rows": null,
            "grid_gap": null,
            "max_width": null,
            "order": null,
            "_view_module_version": "1.2.0",
            "grid_template_areas": null,
            "object_position": null,
            "object_fit": null,
            "grid_auto_columns": null,
            "margin": null,
            "display": null,
            "left": null
          }
        }
      }
    }
  },
  "cells": [
    {
      "cell_type": "markdown",
      "metadata": {
        "id": "view-in-github",
        "colab_type": "text"
      },
      "source": [
        "<a href=\"https://colab.research.google.com/github/ASIF-Mahmud1/Exploration/blob/text-classifier/NLP_Lessons/BERT/EnronDatasetDiminsihingTerms_BERT.ipynb\" target=\"_parent\"><img src=\"https://colab.research.google.com/assets/colab-badge.svg\" alt=\"Open In Colab\"/></a>"
      ]
    },
    {
      "cell_type": "code",
      "metadata": {
        "colab": {
          "base_uri": "https://localhost:8080/"
        },
        "id": "IvX7PF9L_BLw",
        "outputId": "5694fee2-b4b5-40f2-f9e6-cfe469f06984"
      },
      "source": [
        "#Install torchvision\n",
        "!pip install torchvision\n"
      ],
      "execution_count": 2,
      "outputs": [
        {
          "output_type": "stream",
          "text": [
            "Requirement already satisfied: torchvision in /usr/local/lib/python3.7/dist-packages (0.9.1+cu101)\n",
            "Requirement already satisfied: pillow>=4.1.1 in /usr/local/lib/python3.7/dist-packages (from torchvision) (7.1.2)\n",
            "Requirement already satisfied: torch==1.8.1 in /usr/local/lib/python3.7/dist-packages (from torchvision) (1.8.1+cu101)\n",
            "Requirement already satisfied: numpy in /usr/local/lib/python3.7/dist-packages (from torchvision) (1.19.5)\n",
            "Requirement already satisfied: typing-extensions in /usr/local/lib/python3.7/dist-packages (from torch==1.8.1->torchvision) (3.7.4.3)\n"
          ],
          "name": "stdout"
        }
      ]
    },
    {
      "cell_type": "code",
      "metadata": {
        "id": "fDSwbLnI_J3w"
      },
      "source": [
        "import torch"
      ],
      "execution_count": 3,
      "outputs": []
    },
    {
      "cell_type": "code",
      "metadata": {
        "id": "qjvLq0PUDro6"
      },
      "source": [
        "from typing import Callable, List, Optional, Tuple\n",
        "\n",
        "import pandas as pd\n",
        "from sklearn.base import TransformerMixin, BaseEstimator\n",
        "import torch\n",
        "\n",
        "\n",
        "class BertTransformer(BaseEstimator, TransformerMixin):\n",
        "    def __init__(\n",
        "            self,\n",
        "            bert_tokenizer,\n",
        "            bert_model,\n",
        "            max_length: int = 60,\n",
        "            embedding_func: Optional[Callable[[torch.tensor], torch.tensor]] = None,\n",
        "    ):\n",
        "        self.tokenizer = bert_tokenizer\n",
        "        self.model = bert_model\n",
        "        self.model.eval()\n",
        "        self.max_length = max_length\n",
        "        self.embedding_func = embedding_func\n",
        "\n",
        "        if self.embedding_func is None:\n",
        "            self.embedding_func = lambda x: x[0][:, 0, :].squeeze()\n",
        "\n",
        "    def _tokenize(self, text: str) -> Tuple[torch.tensor, torch.tensor]:\n",
        "        # Tokenize the text with the provided tokenizer\n",
        "        tokenized_text = self.tokenizer.encode_plus(text,\n",
        "                                                    add_special_tokens=True,\n",
        "                                                    max_length=self.max_length\n",
        "                                                    )[\"input_ids\"]\n",
        "\n",
        "        # Create an attention mask telling BERT to use all words\n",
        "        attention_mask = [1] * len(tokenized_text)\n",
        "\n",
        "        # bert takes in a batch so we need to unsqueeze the rows\n",
        "        return (\n",
        "            torch.tensor(tokenized_text).unsqueeze(0),\n",
        "            torch.tensor(attention_mask).unsqueeze(0),\n",
        "        )\n",
        "\n",
        "    def _tokenize_and_predict(self, text: str) -> torch.tensor:\n",
        "        tokenized, attention_mask = self._tokenize(text)\n",
        "\n",
        "        embeddings = self.model(tokenized, attention_mask)\n",
        "        return self.embedding_func(embeddings)\n",
        "\n",
        "    def transform(self, text: List[str]):\n",
        "        if isinstance(text, pd.Series):\n",
        "            text = text.tolist()\n",
        "\n",
        "        with torch.no_grad():\n",
        "            return torch.stack([self._tokenize_and_predict(string) for string in text])\n",
        "\n",
        "    def fit(self, X, y=None):\n",
        "        \"\"\"No fitting necessary so we just return ourselves\"\"\"\n",
        "        return self"
      ],
      "execution_count": 4,
      "outputs": []
    },
    {
      "cell_type": "code",
      "metadata": {
        "colab": {
          "base_uri": "https://localhost:8080/"
        },
        "id": "lwue-hXHEcUm",
        "outputId": "29dbad12-b47c-41e5-fbb2-3b27f9571da2"
      },
      "source": [
        "!pip install transformers\n"
      ],
      "execution_count": 5,
      "outputs": [
        {
          "output_type": "stream",
          "text": [
            "Collecting transformers\n",
            "\u001b[?25l  Downloading https://files.pythonhosted.org/packages/81/91/61d69d58a1af1bd81d9ca9d62c90a6de3ab80d77f27c5df65d9a2c1f5626/transformers-4.5.0-py3-none-any.whl (2.1MB)\n",
            "\u001b[K     |████████████████████████████████| 2.2MB 5.7MB/s \n",
            "\u001b[?25hCollecting sacremoses\n",
            "\u001b[?25l  Downloading https://files.pythonhosted.org/packages/08/cd/342e584ee544d044fb573ae697404ce22ede086c9e87ce5960772084cad0/sacremoses-0.0.44.tar.gz (862kB)\n",
            "\u001b[K     |████████████████████████████████| 870kB 30.9MB/s \n",
            "\u001b[?25hRequirement already satisfied: numpy>=1.17 in /usr/local/lib/python3.7/dist-packages (from transformers) (1.19.5)\n",
            "Requirement already satisfied: requests in /usr/local/lib/python3.7/dist-packages (from transformers) (2.23.0)\n",
            "Collecting tokenizers<0.11,>=0.10.1\n",
            "\u001b[?25l  Downloading https://files.pythonhosted.org/packages/ae/04/5b870f26a858552025a62f1649c20d29d2672c02ff3c3fb4c688ca46467a/tokenizers-0.10.2-cp37-cp37m-manylinux2010_x86_64.whl (3.3MB)\n",
            "\u001b[K     |████████████████████████████████| 3.3MB 41.4MB/s \n",
            "\u001b[?25hRequirement already satisfied: tqdm>=4.27 in /usr/local/lib/python3.7/dist-packages (from transformers) (4.41.1)\n",
            "Requirement already satisfied: regex!=2019.12.17 in /usr/local/lib/python3.7/dist-packages (from transformers) (2019.12.20)\n",
            "Requirement already satisfied: filelock in /usr/local/lib/python3.7/dist-packages (from transformers) (3.0.12)\n",
            "Requirement already satisfied: importlib-metadata; python_version < \"3.8\" in /usr/local/lib/python3.7/dist-packages (from transformers) (3.8.1)\n",
            "Requirement already satisfied: packaging in /usr/local/lib/python3.7/dist-packages (from transformers) (20.9)\n",
            "Requirement already satisfied: six in /usr/local/lib/python3.7/dist-packages (from sacremoses->transformers) (1.15.0)\n",
            "Requirement already satisfied: click in /usr/local/lib/python3.7/dist-packages (from sacremoses->transformers) (7.1.2)\n",
            "Requirement already satisfied: joblib in /usr/local/lib/python3.7/dist-packages (from sacremoses->transformers) (1.0.1)\n",
            "Requirement already satisfied: certifi>=2017.4.17 in /usr/local/lib/python3.7/dist-packages (from requests->transformers) (2020.12.5)\n",
            "Requirement already satisfied: urllib3!=1.25.0,!=1.25.1,<1.26,>=1.21.1 in /usr/local/lib/python3.7/dist-packages (from requests->transformers) (1.24.3)\n",
            "Requirement already satisfied: chardet<4,>=3.0.2 in /usr/local/lib/python3.7/dist-packages (from requests->transformers) (3.0.4)\n",
            "Requirement already satisfied: idna<3,>=2.5 in /usr/local/lib/python3.7/dist-packages (from requests->transformers) (2.10)\n",
            "Requirement already satisfied: zipp>=0.5 in /usr/local/lib/python3.7/dist-packages (from importlib-metadata; python_version < \"3.8\"->transformers) (3.4.1)\n",
            "Requirement already satisfied: typing-extensions>=3.6.4; python_version < \"3.8\" in /usr/local/lib/python3.7/dist-packages (from importlib-metadata; python_version < \"3.8\"->transformers) (3.7.4.3)\n",
            "Requirement already satisfied: pyparsing>=2.0.2 in /usr/local/lib/python3.7/dist-packages (from packaging->transformers) (2.4.7)\n",
            "Building wheels for collected packages: sacremoses\n",
            "  Building wheel for sacremoses (setup.py) ... \u001b[?25l\u001b[?25hdone\n",
            "  Created wheel for sacremoses: filename=sacremoses-0.0.44-cp37-none-any.whl size=886084 sha256=ef1809ae445ff13892b032aca7a72b0d7a9cdb2e0266ca5d2a98d752e7cf41d4\n",
            "  Stored in directory: /root/.cache/pip/wheels/3e/fb/c0/13ab4d63d537658f448366744654323077c4d90069b6512f3c\n",
            "Successfully built sacremoses\n",
            "Installing collected packages: sacremoses, tokenizers, transformers\n",
            "Successfully installed sacremoses-0.0.44 tokenizers-0.10.2 transformers-4.5.0\n"
          ],
          "name": "stdout"
        }
      ]
    },
    {
      "cell_type": "code",
      "metadata": {
        "colab": {
          "base_uri": "https://localhost:8080/",
          "height": 268,
          "referenced_widgets": [
            "e234d6fb6af44a7787675b347209e3d7",
            "cd61238f5f9a45dbb2419713a5b8384a",
            "1b155526dca44cc5a063396c2bed6157",
            "7eec83f3177b499d82d9769880ade2d2",
            "88cfa6fc166c4476bda469c0771f03da",
            "508d9329ee474ed2a1f786035d9e9283",
            "164657ea70c0486c9b766837473a9993",
            "92e5f9c4ffd94dcb9e3f6316302f271c",
            "d0ebc47824e94395b3993fd1a20b61c4",
            "46794032d2b6478d904381b8fa292b5e",
            "f41a847e4cf24132abbc5003b2582392",
            "265ea4f4ec70475fb33434b61cec5bb6",
            "d2fb02ef0eac404a8c70080c07e2126e",
            "af8adb3e07374858a48fc2bec15a74ba",
            "b78213e7863b49d19e0e4cca3f595838",
            "8f5f94ab3c254b30879c2425ddd1c6a1",
            "ad3495f68d1e4e2db515572e1459aee9",
            "49a96d77604b42ad9c00dcef5915552d",
            "90eec1ae92c440ef8e6727d985cb355a",
            "8b34e6d647694b4899a370096f50b5be",
            "1f3eb98b40244947904e114fc16caf98",
            "c4a5b4876af74a9aa06992150c4ec1b5",
            "edb7e2e8e2cf433e8c35ae224c37bc6b",
            "4a14ac440725467f90e02c5944379c85",
            "72f1013e464246c782d8d71fea292067",
            "42c67239e87a4f9fa2c8defbb34b494f",
            "53fa10a359b04e93a85a95e689428282",
            "111b7619b80b4e6e8f510861ab3ce599",
            "beb15a70fc2d459eab2b3fc8f7b2cc45",
            "c0b66a5739414707a0b3519b7ee2c3d2",
            "af9a84cd2ccf4c10b6c0a280da5259b9",
            "4cf2ed227dee4cfb9a960a5da854f444",
            "3821f7c8db61406193ca89d119e73e8e",
            "ee7244b5d08948f0b476615e43dc6268",
            "8a464613b79c4b88a6481394bb164ebb",
            "875573c9e09e4bbc929e73182925a302",
            "261b29eb63bf4d8c8d65d4c7ec3f5c74",
            "4eba8d0707fc49b69018b78ed9897b37",
            "a0444c438679460aa9ab582b1b68082e",
            "0b6226a0022e4d369b2b889bf839eaa9"
          ]
        },
        "id": "TbYsE65NEjLY",
        "outputId": "e8fa32da-00a6-4e80-dbba-4ba1647d5aad"
      },
      "source": [
        "from transformers import BertTokenizer, BertModel\n",
        "import torch\n",
        "bert_model = BertModel.from_pretrained(\"bert-base-uncased\")\n",
        "tokenizer = BertTokenizer.from_pretrained(\"bert-base-uncased\")\n"
      ],
      "execution_count": 6,
      "outputs": [
        {
          "output_type": "display_data",
          "data": {
            "application/vnd.jupyter.widget-view+json": {
              "model_id": "e234d6fb6af44a7787675b347209e3d7",
              "version_minor": 0,
              "version_major": 2
            },
            "text/plain": [
              "HBox(children=(FloatProgress(value=0.0, description='Downloading', max=433.0, style=ProgressStyle(description_…"
            ]
          },
          "metadata": {
            "tags": []
          }
        },
        {
          "output_type": "stream",
          "text": [
            "\n"
          ],
          "name": "stdout"
        },
        {
          "output_type": "display_data",
          "data": {
            "application/vnd.jupyter.widget-view+json": {
              "model_id": "d0ebc47824e94395b3993fd1a20b61c4",
              "version_minor": 0,
              "version_major": 2
            },
            "text/plain": [
              "HBox(children=(FloatProgress(value=0.0, description='Downloading', max=440473133.0, style=ProgressStyle(descri…"
            ]
          },
          "metadata": {
            "tags": []
          }
        },
        {
          "output_type": "stream",
          "text": [
            "\n"
          ],
          "name": "stdout"
        },
        {
          "output_type": "display_data",
          "data": {
            "application/vnd.jupyter.widget-view+json": {
              "model_id": "ad3495f68d1e4e2db515572e1459aee9",
              "version_minor": 0,
              "version_major": 2
            },
            "text/plain": [
              "HBox(children=(FloatProgress(value=0.0, description='Downloading', max=231508.0, style=ProgressStyle(descripti…"
            ]
          },
          "metadata": {
            "tags": []
          }
        },
        {
          "output_type": "stream",
          "text": [
            "\n"
          ],
          "name": "stdout"
        },
        {
          "output_type": "display_data",
          "data": {
            "application/vnd.jupyter.widget-view+json": {
              "model_id": "72f1013e464246c782d8d71fea292067",
              "version_minor": 0,
              "version_major": 2
            },
            "text/plain": [
              "HBox(children=(FloatProgress(value=0.0, description='Downloading', max=28.0, style=ProgressStyle(description_w…"
            ]
          },
          "metadata": {
            "tags": []
          }
        },
        {
          "output_type": "stream",
          "text": [
            "\n"
          ],
          "name": "stdout"
        },
        {
          "output_type": "display_data",
          "data": {
            "application/vnd.jupyter.widget-view+json": {
              "model_id": "3821f7c8db61406193ca89d119e73e8e",
              "version_minor": 0,
              "version_major": 2
            },
            "text/plain": [
              "HBox(children=(FloatProgress(value=0.0, description='Downloading', max=466062.0, style=ProgressStyle(descripti…"
            ]
          },
          "metadata": {
            "tags": []
          }
        },
        {
          "output_type": "stream",
          "text": [
            "\n"
          ],
          "name": "stdout"
        }
      ]
    },
    {
      "cell_type": "code",
      "metadata": {
        "id": "LxBdlil6Ft3s"
      },
      "source": [
        ""
      ],
      "execution_count": 6,
      "outputs": []
    },
    {
      "cell_type": "code",
      "metadata": {
        "id": "IMFttM0EF-6u"
      },
      "source": [
        "bert_transformer = BertTransformer(tokenizer, bert_model)\n",
        "from sklearn.pipeline import Pipeline\n"
      ],
      "execution_count": 7,
      "outputs": []
    },
    {
      "cell_type": "code",
      "metadata": {
        "colab": {
          "base_uri": "https://localhost:8080/"
        },
        "id": "IWCta2prhfbX",
        "outputId": "99c8f104-fc14-4e16-f2f7-b6e040c81403"
      },
      "source": [
        "url=\"https://raw.githubusercontent.com/ASIF-Mahmud1/Exploration/text-classifier/DiminishingTerms/dataSet.csv\"\n",
        "from io import StringIO\n",
        "import string\n",
        "import pandas as pd\n",
        "import requests\n",
        "s=requests.get(url).text\n",
        "\n",
        "message_data=pd.read_csv(StringIO(s))\n",
        "message_data['tag'] = message_data['tag'].str.strip()\n",
        "\n",
        "message_data.head()\n",
        "message_data['tag'].describe()"
      ],
      "execution_count": 8,
      "outputs": [
        {
          "output_type": "execute_result",
          "data": {
            "text/plain": [
              "count             315\n",
              "unique              2\n",
              "top       diminishing\n",
              "freq              234\n",
              "Name: tag, dtype: object"
            ]
          },
          "metadata": {
            "tags": []
          },
          "execution_count": 8
        }
      ]
    },
    {
      "cell_type": "code",
      "metadata": {
        "id": "45-D4LIahklL"
      },
      "source": [
        "message_data_copy = message_data['sentence'].copy() \n",
        "\n",
        "# message_data_copy"
      ],
      "execution_count": 9,
      "outputs": []
    },
    {
      "cell_type": "code",
      "metadata": {
        "id": "jN0mT5bvimFD"
      },
      "source": [
        "from sklearn.linear_model import LogisticRegression\n",
        "classifier = LogisticRegression(multi_class='multinomial', solver='lbfgs',C=5.2)\n"
      ],
      "execution_count": 10,
      "outputs": []
    },
    {
      "cell_type": "code",
      "metadata": {
        "id": "JUq7XhF1imv8",
        "colab": {
          "base_uri": "https://localhost:8080/"
        },
        "outputId": "ab3fe656-f3fa-4230-b177-39573fd115bc"
      },
      "source": [
        "pipeline = Pipeline(steps=  [\n",
        "        (\"vectorizer\", bert_transformer),\n",
        "        (\"classifier\", classifier),\n",
        "    ] )\n",
        "\n",
        "pipeline.fit(message_data_copy,  message_data['tag'])"
      ],
      "execution_count": 11,
      "outputs": [
        {
          "output_type": "stream",
          "text": [
            "Truncation was not explicitly activated but `max_length` is provided a specific value, please use `truncation=True` to explicitly truncate examples to max length. Defaulting to 'longest_first' truncation strategy. If you encode pairs of sequences (GLUE-style) with the tokenizer you can select this strategy more precisely by providing a specific strategy to `truncation`.\n",
            "/usr/local/lib/python3.7/dist-packages/sklearn/linear_model/_logistic.py:940: ConvergenceWarning: lbfgs failed to converge (status=1):\n",
            "STOP: TOTAL NO. of ITERATIONS REACHED LIMIT.\n",
            "\n",
            "Increase the number of iterations (max_iter) or scale the data as shown in:\n",
            "    https://scikit-learn.org/stable/modules/preprocessing.html\n",
            "Please also refer to the documentation for alternative solver options:\n",
            "    https://scikit-learn.org/stable/modules/linear_model.html#logistic-regression\n",
            "  extra_warning_msg=_LOGISTIC_SOLVER_CONVERGENCE_MSG)\n",
            "/usr/local/lib/python3.7/dist-packages/sklearn/base.py:197: FutureWarning: From version 0.24, get_params will raise an AttributeError if a parameter cannot be retrieved as an instance attribute. Previously it would return None.\n",
            "  FutureWarning)\n"
          ],
          "name": "stderr"
        },
        {
          "output_type": "execute_result",
          "data": {
            "text/plain": [
              "Pipeline(memory=None,\n",
              "         steps=[('vectorizer',\n",
              "                 BertTransformer(bert_model=None, bert_tokenizer=None,\n",
              "                                 embedding_func=<function BertTransformer.__init__.<locals>.<lambda> at 0x7faf5b206170>,\n",
              "                                 max_length=60)),\n",
              "                ('classifier',\n",
              "                 LogisticRegression(C=5.2, class_weight=None, dual=False,\n",
              "                                    fit_intercept=True, intercept_scaling=1,\n",
              "                                    l1_ratio=None, max_iter=100,\n",
              "                                    multi_class='multinomial', n_jobs=None,\n",
              "                                    penalty='l2', random_state=None,\n",
              "                                    solver='lbfgs', tol=0.0001, verbose=0,\n",
              "                                    warm_start=False))],\n",
              "         verbose=False)"
            ]
          },
          "metadata": {
            "tags": []
          },
          "execution_count": 11
        }
      ]
    },
    {
      "cell_type": "code",
      "metadata": {
        "id": "oRklusf-AJUX"
      },
      "source": [
        "import pandas as pd\n",
        "df = pd.read_csv('https://query.data.world/s/yqgskd2yg2lztwtgmpeajy75msskd6',error_bad_lines=False, index_col=False, dtype='unicode')\n",
        "df = df.applymap(str) ## stringify all fields\n"
      ],
      "execution_count": 12,
      "outputs": []
    },
    {
      "cell_type": "code",
      "metadata": {
        "colab": {
          "base_uri": "https://localhost:8080/"
        },
        "id": "A6WOZK31P8Ku",
        "outputId": "0712100e-ff8b-4df9-b4ce-e9a62e230ab6"
      },
      "source": [
        "sender= [\n",
        "  \"susan.bailey@enron.com\",\n",
        "\t\"sally.beck@enron.com\",\n",
        "  \"lynn.blair@enron.com\",\n",
        "  \"sandra.brawner@enron.com\",\n",
        "  \"michelle.cash@enron.com\",\n",
        "  \"monika.causholli@enron.com\",\n",
        "  \"stacy.dickson@enron.com\",\n",
        "]\n",
        "\n",
        "senderFinal=[]\n",
        "for email in sender:\n",
        "  email=\"frozenset({'\" + email+\"'})\"\n",
        "  senderFinal.append(email)\n",
        "\n",
        "\n",
        "# femaleEmail= df.loc[df['From'].isin(senderFinal)]\n",
        "# femaleEmail.head()\n",
        "\n",
        "df= df.loc[df['From'].isin(senderFinal)]\n",
        "\n",
        "print(\"Size of Dataset: \",df.shape[0])\n"
      ],
      "execution_count": 19,
      "outputs": [
        {
          "output_type": "stream",
          "text": [
            "Size of Dataset:  9167\n"
          ],
          "name": "stdout"
        }
      ]
    },
    {
      "cell_type": "code",
      "metadata": {
        "id": "zTLQ1XVgqDjv"
      },
      "source": [
        "collectionSize=10\n",
        "startIndex=0\n",
        "endIndex=startIndex + collectionSize"
      ],
      "execution_count": 20,
      "outputs": []
    },
    {
      "cell_type": "markdown",
      "metadata": {
        "id": "ihmdwmeI4tM-"
      },
      "source": [
        "# Test Sentences Here\n",
        "### **Note**: Click Play to Predict next 10 emails"
      ]
    },
    {
      "cell_type": "code",
      "metadata": {
        "colab": {
          "base_uri": "https://localhost:8080/",
          "height": 645
        },
        "id": "HsTcrCv_5reX",
        "outputId": "b555cc55-a7d8-4dff-d3c4-18174a75a2b1"
      },
      "source": [
        "####################################################################################################################\n",
        "                       ## Remove this later\n",
        "import pandas as pd\n",
        "import altair as alt\n",
        "import numpy as np\n",
        "text= df['content']  # all data\n",
        "# text= femaleEmail['content']    # all female data\n",
        "text= text[startIndex:endIndex]\n",
        "prob_Of_Each_Class = pipeline.predict_proba(text)\n",
        "X = np.arange(startIndex,endIndex)\n",
        "y_strong= prob_Of_Each_Class[:,1]*100\n",
        "y_diminishing=prob_Of_Each_Class[:,0]*100    \n",
        "\n",
        "dfTest = pd.DataFrame(columns=('index', 'strong', 'diminish','sentence'))\n",
        "dfTest['index']=X \n",
        "dfTest['strong']=y_strong \n",
        "dfTest['diminish']=y_diminishing\n",
        "dfTest['sentence']=list(text)\n",
        "gp_chart = (\n",
        "  alt.Chart(dfTest,width=50 ,padding={\"left\": 50, \"top\": 5, \"right\": 5, \"bottom\": 5} )\n",
        "    .transform_fold([\"diminish\", \"strong\"], as_=[\"key\", \"value\"])\n",
        "    .mark_bar()  # size=50\n",
        "    .encode(\n",
        "        x=\"key:N\",\n",
        "        y=\"value:Q\",\n",
        "        color=\"key:N\",\n",
        "        column=\"index\",\n",
        "        tooltip=\"sentence\"\n",
        "    )   # .interactive() \n",
        ")\n",
        "\n",
        "startIndex= startIndex+collectionSize\n",
        "endIndex=startIndex+collectionSize\n",
        "gp_chart.display()\n",
        "\n",
        "    \n",
        "for index, row in enumerate(text.index):\n",
        "    print(X[index],  \" \"+text[row], \" \",X[index])    # \" \",row,\n",
        "    \n",
        "                            ## Remove this later\n",
        "####################################################################################################################"
      ],
      "execution_count": 23,
      "outputs": [
        {
          "output_type": "display_data",
          "data": {
            "text/plain": [
              "alt.Chart(...)"
            ],
            "text/html": [
              "\n",
              "<div id=\"altair-viz-c5294895ae0048b2962a0c2411634969\"></div>\n",
              "<script type=\"text/javascript\">\n",
              "  (function(spec, embedOpt){\n",
              "    let outputDiv = document.currentScript.previousElementSibling;\n",
              "    if (outputDiv.id !== \"altair-viz-c5294895ae0048b2962a0c2411634969\") {\n",
              "      outputDiv = document.getElementById(\"altair-viz-c5294895ae0048b2962a0c2411634969\");\n",
              "    }\n",
              "    const paths = {\n",
              "      \"vega\": \"https://cdn.jsdelivr.net/npm//vega@5?noext\",\n",
              "      \"vega-lib\": \"https://cdn.jsdelivr.net/npm//vega-lib?noext\",\n",
              "      \"vega-lite\": \"https://cdn.jsdelivr.net/npm//vega-lite@4.8.1?noext\",\n",
              "      \"vega-embed\": \"https://cdn.jsdelivr.net/npm//vega-embed@6?noext\",\n",
              "    };\n",
              "\n",
              "    function loadScript(lib) {\n",
              "      return new Promise(function(resolve, reject) {\n",
              "        var s = document.createElement('script');\n",
              "        s.src = paths[lib];\n",
              "        s.async = true;\n",
              "        s.onload = () => resolve(paths[lib]);\n",
              "        s.onerror = () => reject(`Error loading script: ${paths[lib]}`);\n",
              "        document.getElementsByTagName(\"head\")[0].appendChild(s);\n",
              "      });\n",
              "    }\n",
              "\n",
              "    function showError(err) {\n",
              "      outputDiv.innerHTML = `<div class=\"error\" style=\"color:red;\">${err}</div>`;\n",
              "      throw err;\n",
              "    }\n",
              "\n",
              "    function displayChart(vegaEmbed) {\n",
              "      vegaEmbed(outputDiv, spec, embedOpt)\n",
              "        .catch(err => showError(`Javascript Error: ${err.message}<br>This usually means there's a typo in your chart specification. See the javascript console for the full traceback.`));\n",
              "    }\n",
              "\n",
              "    if(typeof define === \"function\" && define.amd) {\n",
              "      requirejs.config({paths});\n",
              "      require([\"vega-embed\"], displayChart, err => showError(`Error loading script: ${err.message}`));\n",
              "    } else if (typeof vegaEmbed === \"function\") {\n",
              "      displayChart(vegaEmbed);\n",
              "    } else {\n",
              "      loadScript(\"vega\")\n",
              "        .then(() => loadScript(\"vega-lite\"))\n",
              "        .then(() => loadScript(\"vega-embed\"))\n",
              "        .catch(showError)\n",
              "        .then(() => displayChart(vegaEmbed));\n",
              "    }\n",
              "  })({\"config\": {\"view\": {\"continuousWidth\": 400, \"continuousHeight\": 300}}, \"data\": {\"name\": \"data-191914934f5417610e4b5aac59e1e8a4\"}, \"mark\": \"bar\", \"encoding\": {\"color\": {\"type\": \"nominal\", \"field\": \"key\"}, \"column\": {\"type\": \"quantitative\", \"field\": \"index\"}, \"tooltip\": {\"type\": \"nominal\", \"field\": \"sentence\"}, \"x\": {\"type\": \"nominal\", \"field\": \"key\"}, \"y\": {\"type\": \"quantitative\", \"field\": \"value\"}}, \"padding\": {\"left\": 50, \"top\": 5, \"right\": 5, \"bottom\": 5}, \"transform\": [{\"fold\": [\"diminish\", \"strong\"], \"as\": [\"key\", \"value\"]}], \"width\": 50, \"$schema\": \"https://vega.github.io/schema/vega-lite/v4.8.1.json\", \"datasets\": {\"data-191914934f5417610e4b5aac59e1e8a4\": [{\"index\": 20, \"strong\": 1.5697924485268058, \"diminish\": 98.43020755147319, \"sentence\": \"Patrick, Please furnish a hard copy of each of the swap confirmations for: Deal Nos. V48090.1 & V48242.1 These deals were referenced by the Counterparty. However, there may be additional confirmations for other financial transactions, therefore, please those confirmations as well (if any). Thank for all the help. Cordially, Susan S. Bailey Enron North America Corp. 1400 Smith Street, Suite 3803A Houston, Texas 77002 Phone: (713) 853-4737 Fax: (713) 646-3490 Email: Susan.Bailey@enron.com\"}, {\"index\": 21, \"strong\": 0.6549514273556677, \"diminish\": 99.34504857264432, \"sentence\": \"Ellen, Please check to see if there are any \\\"live\\\" physical deals with the captioned counterparty. If so, please provide a hard copy of the confirmation(s) evidencing such deals. I wuld appreciate receipt of such confirmations by Wednesday, February 6th. Many thanks for all your help. Cordially, Susan S. Bailey Enron North America Corp. 1400 Smith Street, Suite 3803A Houston, Texas 77002 Phone: (713) 853-4737 Fax: (713) 646-3490 Email: Susan.Bailey@enron.com\"}, {\"index\": 22, \"strong\": 0.033884237787893255, \"diminish\": 99.9661157622121, \"sentence\": \"Ellen, Yes, that is their actual name. I guess they have not done any physical deals. Many thanks, Susan -----Original Message----- From: Wallumrod, Ellen Sent: Tuesday, February 05, 2002 10:05 AM To: Bailey, Susan Subject: RE: US Brick Co. Susan, Is \\\"US Brick Co.\\\" the actual name of this counterparty ? I have just searched for any physical gas transactions under this name and got 0 results. Rgds, Ellen x54099 -----Original Message----- From: Bailey, Susan Sent: Tuesday, February 05, 2002 9:36 AM To: Wallumrod, Ellen Subject: US Brick Co. Ellen, Please check to see if there are any \\\"live\\\" physical deals with the captioned counterparty. If so, please provide a hard copy of the confirmation(s) evidencing such deals. I wuld appreciate receipt of such confirmations by Wednesday, February 6th. Many thanks for all your help. Cordially, Susan S. Bailey Enron North America Corp. 1400 Smith Street, Suite 3803A Houston, Texas 77002 Phone: (713) 853-4737 Fax: (713) 646-3490 Email: Susan.Bailey@enron.com\"}, {\"index\": 23, \"strong\": 0.17398193074404628, \"diminish\": 99.82601806925594, \"sentence\": \"Ellen, I have just found out that US Brick may also transact business under the name Tiffany Brick Company, L.P. So please conduct another search under that name. And if there are confirms, please furnish the hard copies to me. Thanks, Susan -----Original Message----- From: Wallumrod, Ellen Sent: Tuesday, February 05, 2002 10:05 AM To: Bailey, Susan Subject: RE: US Brick Co. Susan, Is \\\"US Brick Co.\\\" the actual name of this counterparty ? I have just searched for any physical gas transactions under this name and got 0 results. Rgds, Ellen x54099 -----Original Message----- From: Bailey, Susan Sent: Tuesday, February 05, 2002 9:36 AM To: Wallumrod, Ellen Subject: US Brick Co. Ellen, Please check to see if there are any \\\"live\\\" physical deals with the captioned counterparty. If so, please provide a hard copy of the confirmation(s) evidencing such deals. I wuld appreciate receipt of such confirmations by Wednesday, February 6th. Many thanks for all your help. Cordially, Susan S. Bailey Enron North America Corp. 1400 Smith Street, Suite 3803A Houston, Texas 77002 Phone: (713) 853-4737 Fax: (713) 646-3490 Email: Susan.Bailey@enron.com\"}, {\"index\": 24, \"strong\": 0.006052162337777939, \"diminish\": 99.99394783766223, \"sentence\": \"Guys, Also conduct the search under the name of Tiffany Brick Company, L.P. as we have just found out that the confirms may be under that name. Thanks. -----Original Message----- From: Bailey, Susan Sent: Tuesday, February 05, 2002 9:33 AM To: Mulvany, Patrick Subject: US Brick Co. Patrick, Please furnish a hard copy of each of the swap confirmations for: Deal Nos. V48090.1 & V48242.1 These deals were referenced by the Counterparty. However, there may be additional confirmations for other financial transactions, therefore, please those confirmations as well (if any). Thank for all the help. Cordially, Susan S. Bailey Enron North America Corp. 1400 Smith Street, Suite 3803A Houston, Texas 77002 Phone: (713) 853-4737 Fax: (713) 646-3490 Email: Susan.Bailey@enron.com\"}, {\"index\": 25, \"strong\": 0.09606387829350833, \"diminish\": 99.90393612170648, \"sentence\": \"All, Attached is the most recent working list of the Confirmation Desk members which will be remain with the Enron Estate. Cordially, Susan S. Bailey Enron North America Corp. 1400 Smith Street, Suite 3803A Houston, Texas 77002 Phone: (713) 853-4737 Fax: (713) 646-3490 Email: Susan.Bailey@enron.com\"}, {\"index\": 26, \"strong\": 0.2653928544532147, \"diminish\": 99.73460714554679, \"sentence\": \"Mary Nell & Ted, As discussed, attached is an individual \\\"Master Log\\\" for: (a) ECTRIC, (b) EFET/EEFTL, and (c) Enron Credit Limited/Enron Credit Inc. Each Master Log was based on Houston's Termination Log as of 2-11-02. In reviewing the respective Master Logs you will notice that: (a) the attached Master Logs include some of the same entries -- because the termination letter may have related to various Enron affiliates; (b) each of the attached Master Logs includes some counterparties also represented on the London Log entitled \\\"Schedule of Claims\\\" - because in many cases the Enron entity was not identified in the London Log; and (c) the following Tab Numbers (being the number that appears in the London Log) represent those counterparties which appear as a counterparty entry in one or more of the attached Master Logs and those counterparty entries on the London Log need to be identified with one or more of the attached Master Logs: Tab No. 1-3 5-8 14-16B 19 21& 22 27 &28 31-40 41 (Nordea Bank Finland Plc) 42 44 47-50 52-54 72 79-84 88-90 99 106 109 116 You are receiving all notices relating to the U.K. Enron entities and can update/maintain the attached Master Logs accordingly. Please let me or Sara know if you have any questions or need additional assistance. Cordially, Susan S. Bailey Enron North America Corp. 1400 Smith Street, Suite 3803A Houston, Texas 77002 Phone: (713) 853-4737 Fax: (713) 646-3490 Email: Susan.Bailey@enron.com\"}, {\"index\": 27, \"strong\": 1.0401658865829606, \"diminish\": 98.95983411341703, \"sentence\": \"All, Set forth below is the list of the Non-Terminated Top Ten Counterparties, where Enron is In-The-Money. First determine where if applicable in your respective confirm worlds whether the appropriate Enron affiliate has a (i) physical gas, coal, steel, pulp & paper, lumber & etc.; (ii) financial power, gas, or other commodities (ie. weather, steel, coal, etc.), relationship with each of the counterparties listed. If so, please furnish confirms or a listing that evidence the following requests: 1. Live Deals as of November 30, 2001 2. Expired Deals since November 30, 2001 3. New Deals since November 30, 2001 This request must be handled on an expedited -- ASAP basis to be furnished by Monday, February 4th. Many thanks, Susan S. Bailey Enron North America Corp. 1400 Smith Street, Suite 3803A Houston, Texas 77002 Phone: (713) 853-4737 Fax: (713) 646-3490 Email: Susan.Bailey@enron.com -----Original Message----- From: Shackleton, Sara Sent: Thursday, January 31, 2002 4:17 PM To: Tweed, Sheila Cc: Bailey, Susan; Boyd, Samantha; Panus, Stephanie; Sevitz, Robert; Moran, Tom Subject: RE: TOP TEN counterparties (for ENA) - Non-Terminated, in-the-money positions (based upon FMTM information as of 11/30/01) (1) TXU Energy Trading Company [(2) BP Capital Energy Fund LP - may be subject to mutual termination] (2) Noble Gas Marketing Inc. (3) Puget Sound Energy, Inc. (4) Virginia Power Energy Marketing, Inc. [(5) T. Boone Pickens - may be subject to mutual termination] (5) Neumin Production Co. [(6) Sodra Skogsagarna Ek For - probably an ECTRIC counterparty] (6) Texaco Natural Gas Inc. (may be booked incorrectly for Texaco, Inc. financial trades) (7) ACE Capital Re Overseas Ltd. (8) Nevada Power Company (9) Prior Energy Corporation (10) Select Energy, Inc. -----Original Message----- From: Tweed, Sheila Sent: Thursday, January 31, 2002 3:10 PM To: Shackleton, Sara Subject: Please send me the names of the 10 counterparties that we are evaluating. Thanks! Cordially, Susan S. Bailey Enron North America Corp. 1400 Smith Street, Suite 3803A Houston, Texas 77002 Phone: (713) 853-4737 Fax: (713) 646-3490 Email: Susan.Bailey@enron.com\"}, {\"index\": 28, \"strong\": 0.004344512682956016, \"diminish\": 99.99565548731704, \"sentence\": \"Diane, I too noted that BP Capital Energy Fund L.P. had terminated by mutual termination; however, include them on your list for the time being. Thanks. FYI: thanks for including Melissa -- I had sent her a separate email as we had spoken over the phone concerning the project request. Susan -----Original Message----- From: Anderson, Diane Sent: Thursday, January 31, 2002 5:07 PM To: Bailey, Susan; Mulvany, Patrick; Wallumrod, Ellen; Delahoussaye, 'todd'; Murphy, Melissa; Bowen, Bob Cc: Theriot, Kim S. Subject: RE: Top Ten Counterparty Group Susan, BP Capital Energy Fund L.P. was marked as a \\\"Y\\\" for termination on the latest Letter Log and Master Termination Log we received from Stephanie Panus....so do we include them in the list or not? I was in the process of sending their list of deals over to Risk to be swung into the Bankruptcy books. Melissa - can you run this query for Power and send me a spreadsheet? I'll merge it into whatever we find for Gas, Crude, Paper, Weather, etc... for each counterparty? Bob - can you do physical gas? Thanks, Diane -----Original Message----- From: Bailey, Susan Sent: Thursday, January 31, 2002 4:58 PM To: Anderson, Diane; Mulvany, Patrick; Wallumrod, Ellen; Delahoussaye, 'todd' Subject: Top Ten Counterparty Group All, Set forth below is the list of the Non-Terminated Top Ten Counterparties, where Enron is In-The-Money. First determine where if applicable in your respective confirm worlds whether the appropriate Enron affiliate has a (i) physical gas, coal, steel, pulp & paper, lumber & etc.; (ii) financial power, gas, or other commodities (ie. weather, steel, coal, etc.), relationship with each of the counterparties listed. If so, please furnish confirms or a listing that evidence the following requests: 1. Live Deals as of November 30, 2001 2. Expired Deals since November 30, 2001 3. New Deals since November 30, 2001 This request must be handled on an expedited -- ASAP basis to be furnished by Monday, February 4th. Many thanks, Susan S. Bailey Enron North America Corp. 1400 Smith Street, Suite 3803A Houston, Texas 77002 Phone: (713) 853-4737 Fax: (713) 646-3490 Email: Susan.Bailey@enron.com -----Original Message----- From: Shackleton, Sara Sent: Thursday, January 31, 2002 4:17 PM To: Tweed, Sheila Cc: Bailey, Susan; Boyd, Samantha; Panus, Stephanie; Sevitz, Robert; Moran, Tom Subject: RE: TOP TEN counterparties (for ENA) - Non-Terminated, in-the-money positions (based upon FMTM information as of 11/30/01) (1) TXU Energy Trading Company [(2) BP Capital Energy Fund LP - may be subject to mutual termination] (2) Noble Gas Marketing Inc. (3) Puget Sound Energy, Inc. (4) Virginia Power Energy Marketing, Inc. [(5) T. Boone Pickens - may be subject to mutual termination] (5) Neumin Production Co. [(6) Sodra Skogsagarna Ek For - probably an ECTRIC counterparty] (6) Texaco Natural Gas Inc. (may be booked incorrectly for Texaco, Inc. financial trades) (7) ACE Capital Re Overseas Ltd. (8) Nevada Power Company (9) Prior Energy Corporation (10) Select Energy, Inc. -----Original Message----- From: Tweed, Sheila Sent: Thursday, January 31, 2002 3:10 PM To: Shackleton, Sara Subject: Please send me the names of the 10 counterparties that we are evaluating. Thanks! Cordially, Susan S. Bailey Enron North America Corp. 1400 Smith Street, Suite 3803A Houston, Texas 77002 Phone: (713) 853-4737 Fax: (713) 646-3490 Email: Susan.Bailey@enron.com\"}, {\"index\": 29, \"strong\": 0.04010503238910604, \"diminish\": 99.9598949676109, \"sentence\": \"Diane, I think its great that you asked Melissa -- it would be fine if your lists are intergrated, that would be great. Susan -----Original Message----- From: Anderson, Diane Sent: Friday, February 01, 2002 8:49 AM To: Bailey, Susan Subject: RE: Top Ten Counterparty Group OK - I'll ask Melissa to send you her power list separately. -----Original Message----- From: Bailey, Susan Sent: Friday, February 01, 2002 8:12 AM To: Anderson, Diane Subject: RE: Top Ten Counterparty Group Diane, I too noted that BP Capital Energy Fund L.P. had terminated by mutual termination; however, include them on your list for the time being. Thanks. FYI: thanks for including Melissa -- I had sent her a separate email as we had spoken over the phone concerning the project request. Susan -----Original Message----- From: Anderson, Diane Sent: Thursday, January 31, 2002 5:07 PM To: Bailey, Susan; Mulvany, Patrick; Wallumrod, Ellen; Delahoussaye, 'todd'; Murphy, Melissa; Bowen, Bob Cc: Theriot, Kim S. Subject: RE: Top Ten Counterparty Group Susan, BP Capital Energy Fund L.P. was marked as a \\\"Y\\\" for termination on the latest Letter Log and Master Termination Log we received from Stephanie Panus....so do we include them in the list or not? I was in the process of sending their list of deals over to Risk to be swung into the Bankruptcy books. Melissa - can you run this query for Power and send me a spreadsheet? I'll merge it into whatever we find for Gas, Crude, Paper, Weather, etc... for each counterparty? Bob - can you do physical gas? Thanks, Diane -----Original Message----- From: Bailey, Susan Sent: Thursday, January 31, 2002 4:58 PM To: Anderson, Diane; Mulvany, Patrick; Wallumrod, Ellen; Delahoussaye, 'todd' Subject: Top Ten Counterparty Group All, Set forth below is the list of the Non-Terminated Top Ten Counterparties, where Enron is In-The-Money. First determine where if applicable in your respective confirm worlds whether the appropriate Enron affiliate has a (i) physical gas, coal, steel, pulp & paper, lumber & etc.; (ii) financial power, gas, or other commodities (ie. weather, steel, coal, etc.), relationship with each of the counterparties listed. If so, please furnish confirms or a listing that evidence the following requests: 1. Live Deals as of November 30, 2001 2. Expired Deals since November 30, 2001 3. New Deals since November 30, 2001 This request must be handled on an expedited -- ASAP basis to be furnished by Monday, February 4th. Many thanks, Susan S. Bailey Enron North America Corp. 1400 Smith Street, Suite 3803A Houston, Texas 77002 Phone: (713) 853-4737 Fax: (713) 646-3490 Email: Susan.Bailey@enron.com -----Original Message----- From: Shackleton, Sara Sent: Thursday, January 31, 2002 4:17 PM To: Tweed, Sheila Cc: Bailey, Susan; Boyd, Samantha; Panus, Stephanie; Sevitz, Robert; Moran, Tom Subject: RE: TOP TEN counterparties (for ENA) - Non-Terminated, in-the-money positions (based upon FMTM information as of 11/30/01) (1) TXU Energy Trading Company [(2) BP Capital Energy Fund LP - may be subject to mutual termination] (2) Noble Gas Marketing Inc. (3) Puget Sound Energy, Inc. (4) Virginia Power Energy Marketing, Inc. [(5) T. Boone Pickens - may be subject to mutual termination] (5) Neumin Production Co. [(6) Sodra Skogsagarna Ek For - probably an ECTRIC counterparty] (6) Texaco Natural Gas Inc. (may be booked incorrectly for Texaco, Inc. financial trades) (7) ACE Capital Re Overseas Ltd. (8) Nevada Power Company (9) Prior Energy Corporation (10) Select Energy, Inc. -----Original Message----- From: Tweed, Sheila Sent: Thursday, January 31, 2002 3:10 PM To: Shackleton, Sara Subject: Please send me the names of the 10 counterparties that we are evaluating. Thanks! Cordially, Susan S. Bailey Enron North America Corp. 1400 Smith Street, Suite 3803A Houston, Texas 77002 Phone: (713) 853-4737 Fax: (713) 646-3490 Email: Susan.Bailey@enron.com\"}]}}, {\"mode\": \"vega-lite\"});\n",
              "</script>"
            ]
          },
          "metadata": {
            "tags": []
          }
        },
        {
          "output_type": "stream",
          "text": [
            "20  Patrick, Please furnish a hard copy of each of the swap confirmations for: Deal Nos. V48090.1 & V48242.1 These deals were referenced by the Counterparty. However, there may be additional confirmations for other financial transactions, therefore, please those confirmations as well (if any). Thank for all the help. Cordially, Susan S. Bailey Enron North America Corp. 1400 Smith Street, Suite 3803A Houston, Texas 77002 Phone: (713) 853-4737 Fax: (713) 646-3490 Email: Susan.Bailey@enron.com   20\n",
            "21  Ellen, Please check to see if there are any \"live\" physical deals with the captioned counterparty. If so, please provide a hard copy of the confirmation(s) evidencing such deals. I wuld appreciate receipt of such confirmations by Wednesday, February 6th. Many thanks for all your help. Cordially, Susan S. Bailey Enron North America Corp. 1400 Smith Street, Suite 3803A Houston, Texas 77002 Phone: (713) 853-4737 Fax: (713) 646-3490 Email: Susan.Bailey@enron.com   21\n",
            "22  Ellen, Yes, that is their actual name. I guess they have not done any physical deals. Many thanks, Susan -----Original Message----- From: Wallumrod, Ellen Sent: Tuesday, February 05, 2002 10:05 AM To: Bailey, Susan Subject: RE: US Brick Co. Susan, Is \"US Brick Co.\" the actual name of this counterparty ? I have just searched for any physical gas transactions under this name and got 0 results. Rgds, Ellen x54099 -----Original Message----- From: Bailey, Susan Sent: Tuesday, February 05, 2002 9:36 AM To: Wallumrod, Ellen Subject: US Brick Co. Ellen, Please check to see if there are any \"live\" physical deals with the captioned counterparty. If so, please provide a hard copy of the confirmation(s) evidencing such deals. I wuld appreciate receipt of such confirmations by Wednesday, February 6th. Many thanks for all your help. Cordially, Susan S. Bailey Enron North America Corp. 1400 Smith Street, Suite 3803A Houston, Texas 77002 Phone: (713) 853-4737 Fax: (713) 646-3490 Email: Susan.Bailey@enron.com   22\n",
            "23  Ellen, I have just found out that US Brick may also transact business under the name Tiffany Brick Company, L.P. So please conduct another search under that name. And if there are confirms, please furnish the hard copies to me. Thanks, Susan -----Original Message----- From: Wallumrod, Ellen Sent: Tuesday, February 05, 2002 10:05 AM To: Bailey, Susan Subject: RE: US Brick Co. Susan, Is \"US Brick Co.\" the actual name of this counterparty ? I have just searched for any physical gas transactions under this name and got 0 results. Rgds, Ellen x54099 -----Original Message----- From: Bailey, Susan Sent: Tuesday, February 05, 2002 9:36 AM To: Wallumrod, Ellen Subject: US Brick Co. Ellen, Please check to see if there are any \"live\" physical deals with the captioned counterparty. If so, please provide a hard copy of the confirmation(s) evidencing such deals. I wuld appreciate receipt of such confirmations by Wednesday, February 6th. Many thanks for all your help. Cordially, Susan S. Bailey Enron North America Corp. 1400 Smith Street, Suite 3803A Houston, Texas 77002 Phone: (713) 853-4737 Fax: (713) 646-3490 Email: Susan.Bailey@enron.com   23\n",
            "24  Guys, Also conduct the search under the name of Tiffany Brick Company, L.P. as we have just found out that the confirms may be under that name. Thanks. -----Original Message----- From: Bailey, Susan Sent: Tuesday, February 05, 2002 9:33 AM To: Mulvany, Patrick Subject: US Brick Co. Patrick, Please furnish a hard copy of each of the swap confirmations for: Deal Nos. V48090.1 & V48242.1 These deals were referenced by the Counterparty. However, there may be additional confirmations for other financial transactions, therefore, please those confirmations as well (if any). Thank for all the help. Cordially, Susan S. Bailey Enron North America Corp. 1400 Smith Street, Suite 3803A Houston, Texas 77002 Phone: (713) 853-4737 Fax: (713) 646-3490 Email: Susan.Bailey@enron.com   24\n",
            "25  All, Attached is the most recent working list of the Confirmation Desk members which will be remain with the Enron Estate. Cordially, Susan S. Bailey Enron North America Corp. 1400 Smith Street, Suite 3803A Houston, Texas 77002 Phone: (713) 853-4737 Fax: (713) 646-3490 Email: Susan.Bailey@enron.com   25\n",
            "26  Mary Nell & Ted, As discussed, attached is an individual \"Master Log\" for: (a) ECTRIC, (b) EFET/EEFTL, and (c) Enron Credit Limited/Enron Credit Inc. Each Master Log was based on Houston's Termination Log as of 2-11-02. In reviewing the respective Master Logs you will notice that: (a) the attached Master Logs include some of the same entries -- because the termination letter may have related to various Enron affiliates; (b) each of the attached Master Logs includes some counterparties also represented on the London Log entitled \"Schedule of Claims\" - because in many cases the Enron entity was not identified in the London Log; and (c) the following Tab Numbers (being the number that appears in the London Log) represent those counterparties which appear as a counterparty entry in one or more of the attached Master Logs and those counterparty entries on the London Log need to be identified with one or more of the attached Master Logs: Tab No. 1-3 5-8 14-16B 19 21& 22 27 &28 31-40 41 (Nordea Bank Finland Plc) 42 44 47-50 52-54 72 79-84 88-90 99 106 109 116 You are receiving all notices relating to the U.K. Enron entities and can update/maintain the attached Master Logs accordingly. Please let me or Sara know if you have any questions or need additional assistance. Cordially, Susan S. Bailey Enron North America Corp. 1400 Smith Street, Suite 3803A Houston, Texas 77002 Phone: (713) 853-4737 Fax: (713) 646-3490 Email: Susan.Bailey@enron.com   26\n",
            "27  All, Set forth below is the list of the Non-Terminated Top Ten Counterparties, where Enron is In-The-Money. First determine where if applicable in your respective confirm worlds whether the appropriate Enron affiliate has a (i) physical gas, coal, steel, pulp & paper, lumber & etc.; (ii) financial power, gas, or other commodities (ie. weather, steel, coal, etc.), relationship with each of the counterparties listed. If so, please furnish confirms or a listing that evidence the following requests: 1. Live Deals as of November 30, 2001 2. Expired Deals since November 30, 2001 3. New Deals since November 30, 2001 This request must be handled on an expedited -- ASAP basis to be furnished by Monday, February 4th. Many thanks, Susan S. Bailey Enron North America Corp. 1400 Smith Street, Suite 3803A Houston, Texas 77002 Phone: (713) 853-4737 Fax: (713) 646-3490 Email: Susan.Bailey@enron.com -----Original Message----- From: Shackleton, Sara Sent: Thursday, January 31, 2002 4:17 PM To: Tweed, Sheila Cc: Bailey, Susan; Boyd, Samantha; Panus, Stephanie; Sevitz, Robert; Moran, Tom Subject: RE: TOP TEN counterparties (for ENA) - Non-Terminated, in-the-money positions (based upon FMTM information as of 11/30/01) (1) TXU Energy Trading Company [(2) BP Capital Energy Fund LP - may be subject to mutual termination] (2) Noble Gas Marketing Inc. (3) Puget Sound Energy, Inc. (4) Virginia Power Energy Marketing, Inc. [(5) T. Boone Pickens - may be subject to mutual termination] (5) Neumin Production Co. [(6) Sodra Skogsagarna Ek For - probably an ECTRIC counterparty] (6) Texaco Natural Gas Inc. (may be booked incorrectly for Texaco, Inc. financial trades) (7) ACE Capital Re Overseas Ltd. (8) Nevada Power Company (9) Prior Energy Corporation (10) Select Energy, Inc. -----Original Message----- From: Tweed, Sheila Sent: Thursday, January 31, 2002 3:10 PM To: Shackleton, Sara Subject: Please send me the names of the 10 counterparties that we are evaluating. Thanks! Cordially, Susan S. Bailey Enron North America Corp. 1400 Smith Street, Suite 3803A Houston, Texas 77002 Phone: (713) 853-4737 Fax: (713) 646-3490 Email: Susan.Bailey@enron.com   27\n",
            "28  Diane, I too noted that BP Capital Energy Fund L.P. had terminated by mutual termination; however, include them on your list for the time being. Thanks. FYI: thanks for including Melissa -- I had sent her a separate email as we had spoken over the phone concerning the project request. Susan -----Original Message----- From: Anderson, Diane Sent: Thursday, January 31, 2002 5:07 PM To: Bailey, Susan; Mulvany, Patrick; Wallumrod, Ellen; Delahoussaye, 'todd'; Murphy, Melissa; Bowen, Bob Cc: Theriot, Kim S. Subject: RE: Top Ten Counterparty Group Susan, BP Capital Energy Fund L.P. was marked as a \"Y\" for termination on the latest Letter Log and Master Termination Log we received from Stephanie Panus....so do we include them in the list or not? I was in the process of sending their list of deals over to Risk to be swung into the Bankruptcy books. Melissa - can you run this query for Power and send me a spreadsheet? I'll merge it into whatever we find for Gas, Crude, Paper, Weather, etc... for each counterparty? Bob - can you do physical gas? Thanks, Diane -----Original Message----- From: Bailey, Susan Sent: Thursday, January 31, 2002 4:58 PM To: Anderson, Diane; Mulvany, Patrick; Wallumrod, Ellen; Delahoussaye, 'todd' Subject: Top Ten Counterparty Group All, Set forth below is the list of the Non-Terminated Top Ten Counterparties, where Enron is In-The-Money. First determine where if applicable in your respective confirm worlds whether the appropriate Enron affiliate has a (i) physical gas, coal, steel, pulp & paper, lumber & etc.; (ii) financial power, gas, or other commodities (ie. weather, steel, coal, etc.), relationship with each of the counterparties listed. If so, please furnish confirms or a listing that evidence the following requests: 1. Live Deals as of November 30, 2001 2. Expired Deals since November 30, 2001 3. New Deals since November 30, 2001 This request must be handled on an expedited -- ASAP basis to be furnished by Monday, February 4th. Many thanks, Susan S. Bailey Enron North America Corp. 1400 Smith Street, Suite 3803A Houston, Texas 77002 Phone: (713) 853-4737 Fax: (713) 646-3490 Email: Susan.Bailey@enron.com -----Original Message----- From: Shackleton, Sara Sent: Thursday, January 31, 2002 4:17 PM To: Tweed, Sheila Cc: Bailey, Susan; Boyd, Samantha; Panus, Stephanie; Sevitz, Robert; Moran, Tom Subject: RE: TOP TEN counterparties (for ENA) - Non-Terminated, in-the-money positions (based upon FMTM information as of 11/30/01) (1) TXU Energy Trading Company [(2) BP Capital Energy Fund LP - may be subject to mutual termination] (2) Noble Gas Marketing Inc. (3) Puget Sound Energy, Inc. (4) Virginia Power Energy Marketing, Inc. [(5) T. Boone Pickens - may be subject to mutual termination] (5) Neumin Production Co. [(6) Sodra Skogsagarna Ek For - probably an ECTRIC counterparty] (6) Texaco Natural Gas Inc. (may be booked incorrectly for Texaco, Inc. financial trades) (7) ACE Capital Re Overseas Ltd. (8) Nevada Power Company (9) Prior Energy Corporation (10) Select Energy, Inc. -----Original Message----- From: Tweed, Sheila Sent: Thursday, January 31, 2002 3:10 PM To: Shackleton, Sara Subject: Please send me the names of the 10 counterparties that we are evaluating. Thanks! Cordially, Susan S. Bailey Enron North America Corp. 1400 Smith Street, Suite 3803A Houston, Texas 77002 Phone: (713) 853-4737 Fax: (713) 646-3490 Email: Susan.Bailey@enron.com   28\n",
            "29  Diane, I think its great that you asked Melissa -- it would be fine if your lists are intergrated, that would be great. Susan -----Original Message----- From: Anderson, Diane Sent: Friday, February 01, 2002 8:49 AM To: Bailey, Susan Subject: RE: Top Ten Counterparty Group OK - I'll ask Melissa to send you her power list separately. -----Original Message----- From: Bailey, Susan Sent: Friday, February 01, 2002 8:12 AM To: Anderson, Diane Subject: RE: Top Ten Counterparty Group Diane, I too noted that BP Capital Energy Fund L.P. had terminated by mutual termination; however, include them on your list for the time being. Thanks. FYI: thanks for including Melissa -- I had sent her a separate email as we had spoken over the phone concerning the project request. Susan -----Original Message----- From: Anderson, Diane Sent: Thursday, January 31, 2002 5:07 PM To: Bailey, Susan; Mulvany, Patrick; Wallumrod, Ellen; Delahoussaye, 'todd'; Murphy, Melissa; Bowen, Bob Cc: Theriot, Kim S. Subject: RE: Top Ten Counterparty Group Susan, BP Capital Energy Fund L.P. was marked as a \"Y\" for termination on the latest Letter Log and Master Termination Log we received from Stephanie Panus....so do we include them in the list or not? I was in the process of sending their list of deals over to Risk to be swung into the Bankruptcy books. Melissa - can you run this query for Power and send me a spreadsheet? I'll merge it into whatever we find for Gas, Crude, Paper, Weather, etc... for each counterparty? Bob - can you do physical gas? Thanks, Diane -----Original Message----- From: Bailey, Susan Sent: Thursday, January 31, 2002 4:58 PM To: Anderson, Diane; Mulvany, Patrick; Wallumrod, Ellen; Delahoussaye, 'todd' Subject: Top Ten Counterparty Group All, Set forth below is the list of the Non-Terminated Top Ten Counterparties, where Enron is In-The-Money. First determine where if applicable in your respective confirm worlds whether the appropriate Enron affiliate has a (i) physical gas, coal, steel, pulp & paper, lumber & etc.; (ii) financial power, gas, or other commodities (ie. weather, steel, coal, etc.), relationship with each of the counterparties listed. If so, please furnish confirms or a listing that evidence the following requests: 1. Live Deals as of November 30, 2001 2. Expired Deals since November 30, 2001 3. New Deals since November 30, 2001 This request must be handled on an expedited -- ASAP basis to be furnished by Monday, February 4th. Many thanks, Susan S. Bailey Enron North America Corp. 1400 Smith Street, Suite 3803A Houston, Texas 77002 Phone: (713) 853-4737 Fax: (713) 646-3490 Email: Susan.Bailey@enron.com -----Original Message----- From: Shackleton, Sara Sent: Thursday, January 31, 2002 4:17 PM To: Tweed, Sheila Cc: Bailey, Susan; Boyd, Samantha; Panus, Stephanie; Sevitz, Robert; Moran, Tom Subject: RE: TOP TEN counterparties (for ENA) - Non-Terminated, in-the-money positions (based upon FMTM information as of 11/30/01) (1) TXU Energy Trading Company [(2) BP Capital Energy Fund LP - may be subject to mutual termination] (2) Noble Gas Marketing Inc. (3) Puget Sound Energy, Inc. (4) Virginia Power Energy Marketing, Inc. [(5) T. Boone Pickens - may be subject to mutual termination] (5) Neumin Production Co. [(6) Sodra Skogsagarna Ek For - probably an ECTRIC counterparty] (6) Texaco Natural Gas Inc. (may be booked incorrectly for Texaco, Inc. financial trades) (7) ACE Capital Re Overseas Ltd. (8) Nevada Power Company (9) Prior Energy Corporation (10) Select Energy, Inc. -----Original Message----- From: Tweed, Sheila Sent: Thursday, January 31, 2002 3:10 PM To: Shackleton, Sara Subject: Please send me the names of the 10 counterparties that we are evaluating. Thanks! Cordially, Susan S. Bailey Enron North America Corp. 1400 Smith Street, Suite 3803A Houston, Texas 77002 Phone: (713) 853-4737 Fax: (713) 646-3490 Email: Susan.Bailey@enron.com   29\n"
          ],
          "name": "stdout"
        }
      ]
    }
  ]
}