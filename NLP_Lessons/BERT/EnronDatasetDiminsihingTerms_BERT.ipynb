{
  "nbformat": 4,
  "nbformat_minor": 0,
  "metadata": {
    "colab": {
      "name": " EnronDatasetDiminsihingTerms:BERT.ipynb",
      "provenance": [],
      "collapsed_sections": [],
      "authorship_tag": "ABX9TyMEpOujXYde06qmDXzZ2A6W",
      "include_colab_link": true
    },
    "kernelspec": {
      "name": "python3",
      "display_name": "Python 3"
    },
    "language_info": {
      "name": "python"
    },
    "widgets": {
      "application/vnd.jupyter.widget-state+json": {
        "ae93322fbde84335a6b7fa73ac34a847": {
          "model_module": "@jupyter-widgets/controls",
          "model_name": "HBoxModel",
          "state": {
            "_view_name": "HBoxView",
            "_dom_classes": [],
            "_model_name": "HBoxModel",
            "_view_module": "@jupyter-widgets/controls",
            "_model_module_version": "1.5.0",
            "_view_count": null,
            "_view_module_version": "1.5.0",
            "box_style": "",
            "layout": "IPY_MODEL_5935d29ea9a34423a6fb940ea209c9d9",
            "_model_module": "@jupyter-widgets/controls",
            "children": [
              "IPY_MODEL_98a7e17a189d4db2b983880920247aaf",
              "IPY_MODEL_2c01517994d149ae8c9bd2d62a487ab8"
            ]
          }
        },
        "5935d29ea9a34423a6fb940ea209c9d9": {
          "model_module": "@jupyter-widgets/base",
          "model_name": "LayoutModel",
          "state": {
            "_view_name": "LayoutView",
            "grid_template_rows": null,
            "right": null,
            "justify_content": null,
            "_view_module": "@jupyter-widgets/base",
            "overflow": null,
            "_model_module_version": "1.2.0",
            "_view_count": null,
            "flex_flow": null,
            "width": null,
            "min_width": null,
            "border": null,
            "align_items": null,
            "bottom": null,
            "_model_module": "@jupyter-widgets/base",
            "top": null,
            "grid_column": null,
            "overflow_y": null,
            "overflow_x": null,
            "grid_auto_flow": null,
            "grid_area": null,
            "grid_template_columns": null,
            "flex": null,
            "_model_name": "LayoutModel",
            "justify_items": null,
            "grid_row": null,
            "max_height": null,
            "align_content": null,
            "visibility": null,
            "align_self": null,
            "height": null,
            "min_height": null,
            "padding": null,
            "grid_auto_rows": null,
            "grid_gap": null,
            "max_width": null,
            "order": null,
            "_view_module_version": "1.2.0",
            "grid_template_areas": null,
            "object_position": null,
            "object_fit": null,
            "grid_auto_columns": null,
            "margin": null,
            "display": null,
            "left": null
          }
        },
        "98a7e17a189d4db2b983880920247aaf": {
          "model_module": "@jupyter-widgets/controls",
          "model_name": "FloatProgressModel",
          "state": {
            "_view_name": "ProgressView",
            "style": "IPY_MODEL_59ed6c882b3d492d8be94a26532c134b",
            "_dom_classes": [],
            "description": "Downloading: 100%",
            "_model_name": "FloatProgressModel",
            "bar_style": "success",
            "max": 433,
            "_view_module": "@jupyter-widgets/controls",
            "_model_module_version": "1.5.0",
            "value": 433,
            "_view_count": null,
            "_view_module_version": "1.5.0",
            "orientation": "horizontal",
            "min": 0,
            "description_tooltip": null,
            "_model_module": "@jupyter-widgets/controls",
            "layout": "IPY_MODEL_f1e0be579d324c718642017cc629f8fa"
          }
        },
        "2c01517994d149ae8c9bd2d62a487ab8": {
          "model_module": "@jupyter-widgets/controls",
          "model_name": "HTMLModel",
          "state": {
            "_view_name": "HTMLView",
            "style": "IPY_MODEL_8378c7a92b5848fb81a62d056058fa2a",
            "_dom_classes": [],
            "description": "",
            "_model_name": "HTMLModel",
            "placeholder": "​",
            "_view_module": "@jupyter-widgets/controls",
            "_model_module_version": "1.5.0",
            "value": " 433/433 [00:00&lt;00:00, 2.65kB/s]",
            "_view_count": null,
            "_view_module_version": "1.5.0",
            "description_tooltip": null,
            "_model_module": "@jupyter-widgets/controls",
            "layout": "IPY_MODEL_8ac1ca58c022473da13416caf67965b3"
          }
        },
        "59ed6c882b3d492d8be94a26532c134b": {
          "model_module": "@jupyter-widgets/controls",
          "model_name": "ProgressStyleModel",
          "state": {
            "_view_name": "StyleView",
            "_model_name": "ProgressStyleModel",
            "description_width": "initial",
            "_view_module": "@jupyter-widgets/base",
            "_model_module_version": "1.5.0",
            "_view_count": null,
            "_view_module_version": "1.2.0",
            "bar_color": null,
            "_model_module": "@jupyter-widgets/controls"
          }
        },
        "f1e0be579d324c718642017cc629f8fa": {
          "model_module": "@jupyter-widgets/base",
          "model_name": "LayoutModel",
          "state": {
            "_view_name": "LayoutView",
            "grid_template_rows": null,
            "right": null,
            "justify_content": null,
            "_view_module": "@jupyter-widgets/base",
            "overflow": null,
            "_model_module_version": "1.2.0",
            "_view_count": null,
            "flex_flow": null,
            "width": null,
            "min_width": null,
            "border": null,
            "align_items": null,
            "bottom": null,
            "_model_module": "@jupyter-widgets/base",
            "top": null,
            "grid_column": null,
            "overflow_y": null,
            "overflow_x": null,
            "grid_auto_flow": null,
            "grid_area": null,
            "grid_template_columns": null,
            "flex": null,
            "_model_name": "LayoutModel",
            "justify_items": null,
            "grid_row": null,
            "max_height": null,
            "align_content": null,
            "visibility": null,
            "align_self": null,
            "height": null,
            "min_height": null,
            "padding": null,
            "grid_auto_rows": null,
            "grid_gap": null,
            "max_width": null,
            "order": null,
            "_view_module_version": "1.2.0",
            "grid_template_areas": null,
            "object_position": null,
            "object_fit": null,
            "grid_auto_columns": null,
            "margin": null,
            "display": null,
            "left": null
          }
        },
        "8378c7a92b5848fb81a62d056058fa2a": {
          "model_module": "@jupyter-widgets/controls",
          "model_name": "DescriptionStyleModel",
          "state": {
            "_view_name": "StyleView",
            "_model_name": "DescriptionStyleModel",
            "description_width": "",
            "_view_module": "@jupyter-widgets/base",
            "_model_module_version": "1.5.0",
            "_view_count": null,
            "_view_module_version": "1.2.0",
            "_model_module": "@jupyter-widgets/controls"
          }
        },
        "8ac1ca58c022473da13416caf67965b3": {
          "model_module": "@jupyter-widgets/base",
          "model_name": "LayoutModel",
          "state": {
            "_view_name": "LayoutView",
            "grid_template_rows": null,
            "right": null,
            "justify_content": null,
            "_view_module": "@jupyter-widgets/base",
            "overflow": null,
            "_model_module_version": "1.2.0",
            "_view_count": null,
            "flex_flow": null,
            "width": null,
            "min_width": null,
            "border": null,
            "align_items": null,
            "bottom": null,
            "_model_module": "@jupyter-widgets/base",
            "top": null,
            "grid_column": null,
            "overflow_y": null,
            "overflow_x": null,
            "grid_auto_flow": null,
            "grid_area": null,
            "grid_template_columns": null,
            "flex": null,
            "_model_name": "LayoutModel",
            "justify_items": null,
            "grid_row": null,
            "max_height": null,
            "align_content": null,
            "visibility": null,
            "align_self": null,
            "height": null,
            "min_height": null,
            "padding": null,
            "grid_auto_rows": null,
            "grid_gap": null,
            "max_width": null,
            "order": null,
            "_view_module_version": "1.2.0",
            "grid_template_areas": null,
            "object_position": null,
            "object_fit": null,
            "grid_auto_columns": null,
            "margin": null,
            "display": null,
            "left": null
          }
        },
        "0e9505d6441e40eda41769ed59cc5480": {
          "model_module": "@jupyter-widgets/controls",
          "model_name": "HBoxModel",
          "state": {
            "_view_name": "HBoxView",
            "_dom_classes": [],
            "_model_name": "HBoxModel",
            "_view_module": "@jupyter-widgets/controls",
            "_model_module_version": "1.5.0",
            "_view_count": null,
            "_view_module_version": "1.5.0",
            "box_style": "",
            "layout": "IPY_MODEL_c8422cb512074cceb20ede7f24cb9c17",
            "_model_module": "@jupyter-widgets/controls",
            "children": [
              "IPY_MODEL_85436b0406f84aec87505a6b00733988",
              "IPY_MODEL_78cdabfdc6294593beb542acc5cd4f95"
            ]
          }
        },
        "c8422cb512074cceb20ede7f24cb9c17": {
          "model_module": "@jupyter-widgets/base",
          "model_name": "LayoutModel",
          "state": {
            "_view_name": "LayoutView",
            "grid_template_rows": null,
            "right": null,
            "justify_content": null,
            "_view_module": "@jupyter-widgets/base",
            "overflow": null,
            "_model_module_version": "1.2.0",
            "_view_count": null,
            "flex_flow": null,
            "width": null,
            "min_width": null,
            "border": null,
            "align_items": null,
            "bottom": null,
            "_model_module": "@jupyter-widgets/base",
            "top": null,
            "grid_column": null,
            "overflow_y": null,
            "overflow_x": null,
            "grid_auto_flow": null,
            "grid_area": null,
            "grid_template_columns": null,
            "flex": null,
            "_model_name": "LayoutModel",
            "justify_items": null,
            "grid_row": null,
            "max_height": null,
            "align_content": null,
            "visibility": null,
            "align_self": null,
            "height": null,
            "min_height": null,
            "padding": null,
            "grid_auto_rows": null,
            "grid_gap": null,
            "max_width": null,
            "order": null,
            "_view_module_version": "1.2.0",
            "grid_template_areas": null,
            "object_position": null,
            "object_fit": null,
            "grid_auto_columns": null,
            "margin": null,
            "display": null,
            "left": null
          }
        },
        "85436b0406f84aec87505a6b00733988": {
          "model_module": "@jupyter-widgets/controls",
          "model_name": "FloatProgressModel",
          "state": {
            "_view_name": "ProgressView",
            "style": "IPY_MODEL_83741b44de3a4fe69c556273c1b3d59c",
            "_dom_classes": [],
            "description": "Downloading: 100%",
            "_model_name": "FloatProgressModel",
            "bar_style": "success",
            "max": 440473133,
            "_view_module": "@jupyter-widgets/controls",
            "_model_module_version": "1.5.0",
            "value": 440473133,
            "_view_count": null,
            "_view_module_version": "1.5.0",
            "orientation": "horizontal",
            "min": 0,
            "description_tooltip": null,
            "_model_module": "@jupyter-widgets/controls",
            "layout": "IPY_MODEL_b6e341043e8e4dd89bc996dd6d169c18"
          }
        },
        "78cdabfdc6294593beb542acc5cd4f95": {
          "model_module": "@jupyter-widgets/controls",
          "model_name": "HTMLModel",
          "state": {
            "_view_name": "HTMLView",
            "style": "IPY_MODEL_b13f4caa096b430291d36eec3a52d39e",
            "_dom_classes": [],
            "description": "",
            "_model_name": "HTMLModel",
            "placeholder": "​",
            "_view_module": "@jupyter-widgets/controls",
            "_model_module_version": "1.5.0",
            "value": " 440M/440M [00:10&lt;00:00, 42.5MB/s]",
            "_view_count": null,
            "_view_module_version": "1.5.0",
            "description_tooltip": null,
            "_model_module": "@jupyter-widgets/controls",
            "layout": "IPY_MODEL_c4ab8752aede458ab467a2ceed83a5a3"
          }
        },
        "83741b44de3a4fe69c556273c1b3d59c": {
          "model_module": "@jupyter-widgets/controls",
          "model_name": "ProgressStyleModel",
          "state": {
            "_view_name": "StyleView",
            "_model_name": "ProgressStyleModel",
            "description_width": "initial",
            "_view_module": "@jupyter-widgets/base",
            "_model_module_version": "1.5.0",
            "_view_count": null,
            "_view_module_version": "1.2.0",
            "bar_color": null,
            "_model_module": "@jupyter-widgets/controls"
          }
        },
        "b6e341043e8e4dd89bc996dd6d169c18": {
          "model_module": "@jupyter-widgets/base",
          "model_name": "LayoutModel",
          "state": {
            "_view_name": "LayoutView",
            "grid_template_rows": null,
            "right": null,
            "justify_content": null,
            "_view_module": "@jupyter-widgets/base",
            "overflow": null,
            "_model_module_version": "1.2.0",
            "_view_count": null,
            "flex_flow": null,
            "width": null,
            "min_width": null,
            "border": null,
            "align_items": null,
            "bottom": null,
            "_model_module": "@jupyter-widgets/base",
            "top": null,
            "grid_column": null,
            "overflow_y": null,
            "overflow_x": null,
            "grid_auto_flow": null,
            "grid_area": null,
            "grid_template_columns": null,
            "flex": null,
            "_model_name": "LayoutModel",
            "justify_items": null,
            "grid_row": null,
            "max_height": null,
            "align_content": null,
            "visibility": null,
            "align_self": null,
            "height": null,
            "min_height": null,
            "padding": null,
            "grid_auto_rows": null,
            "grid_gap": null,
            "max_width": null,
            "order": null,
            "_view_module_version": "1.2.0",
            "grid_template_areas": null,
            "object_position": null,
            "object_fit": null,
            "grid_auto_columns": null,
            "margin": null,
            "display": null,
            "left": null
          }
        },
        "b13f4caa096b430291d36eec3a52d39e": {
          "model_module": "@jupyter-widgets/controls",
          "model_name": "DescriptionStyleModel",
          "state": {
            "_view_name": "StyleView",
            "_model_name": "DescriptionStyleModel",
            "description_width": "",
            "_view_module": "@jupyter-widgets/base",
            "_model_module_version": "1.5.0",
            "_view_count": null,
            "_view_module_version": "1.2.0",
            "_model_module": "@jupyter-widgets/controls"
          }
        },
        "c4ab8752aede458ab467a2ceed83a5a3": {
          "model_module": "@jupyter-widgets/base",
          "model_name": "LayoutModel",
          "state": {
            "_view_name": "LayoutView",
            "grid_template_rows": null,
            "right": null,
            "justify_content": null,
            "_view_module": "@jupyter-widgets/base",
            "overflow": null,
            "_model_module_version": "1.2.0",
            "_view_count": null,
            "flex_flow": null,
            "width": null,
            "min_width": null,
            "border": null,
            "align_items": null,
            "bottom": null,
            "_model_module": "@jupyter-widgets/base",
            "top": null,
            "grid_column": null,
            "overflow_y": null,
            "overflow_x": null,
            "grid_auto_flow": null,
            "grid_area": null,
            "grid_template_columns": null,
            "flex": null,
            "_model_name": "LayoutModel",
            "justify_items": null,
            "grid_row": null,
            "max_height": null,
            "align_content": null,
            "visibility": null,
            "align_self": null,
            "height": null,
            "min_height": null,
            "padding": null,
            "grid_auto_rows": null,
            "grid_gap": null,
            "max_width": null,
            "order": null,
            "_view_module_version": "1.2.0",
            "grid_template_areas": null,
            "object_position": null,
            "object_fit": null,
            "grid_auto_columns": null,
            "margin": null,
            "display": null,
            "left": null
          }
        },
        "c38e19efadd84d3e98be2e415d9b9ef4": {
          "model_module": "@jupyter-widgets/controls",
          "model_name": "HBoxModel",
          "state": {
            "_view_name": "HBoxView",
            "_dom_classes": [],
            "_model_name": "HBoxModel",
            "_view_module": "@jupyter-widgets/controls",
            "_model_module_version": "1.5.0",
            "_view_count": null,
            "_view_module_version": "1.5.0",
            "box_style": "",
            "layout": "IPY_MODEL_ccd28270fc4c4bba90f71db606e54e8c",
            "_model_module": "@jupyter-widgets/controls",
            "children": [
              "IPY_MODEL_a620a56c8ac74545b7908e61592907eb",
              "IPY_MODEL_7a94057e2efb4f3bad87cef22ac24e48"
            ]
          }
        },
        "ccd28270fc4c4bba90f71db606e54e8c": {
          "model_module": "@jupyter-widgets/base",
          "model_name": "LayoutModel",
          "state": {
            "_view_name": "LayoutView",
            "grid_template_rows": null,
            "right": null,
            "justify_content": null,
            "_view_module": "@jupyter-widgets/base",
            "overflow": null,
            "_model_module_version": "1.2.0",
            "_view_count": null,
            "flex_flow": null,
            "width": null,
            "min_width": null,
            "border": null,
            "align_items": null,
            "bottom": null,
            "_model_module": "@jupyter-widgets/base",
            "top": null,
            "grid_column": null,
            "overflow_y": null,
            "overflow_x": null,
            "grid_auto_flow": null,
            "grid_area": null,
            "grid_template_columns": null,
            "flex": null,
            "_model_name": "LayoutModel",
            "justify_items": null,
            "grid_row": null,
            "max_height": null,
            "align_content": null,
            "visibility": null,
            "align_self": null,
            "height": null,
            "min_height": null,
            "padding": null,
            "grid_auto_rows": null,
            "grid_gap": null,
            "max_width": null,
            "order": null,
            "_view_module_version": "1.2.0",
            "grid_template_areas": null,
            "object_position": null,
            "object_fit": null,
            "grid_auto_columns": null,
            "margin": null,
            "display": null,
            "left": null
          }
        },
        "a620a56c8ac74545b7908e61592907eb": {
          "model_module": "@jupyter-widgets/controls",
          "model_name": "FloatProgressModel",
          "state": {
            "_view_name": "ProgressView",
            "style": "IPY_MODEL_a4e25d2d4c114f519de66c6e86153acb",
            "_dom_classes": [],
            "description": "Downloading: 100%",
            "_model_name": "FloatProgressModel",
            "bar_style": "success",
            "max": 231508,
            "_view_module": "@jupyter-widgets/controls",
            "_model_module_version": "1.5.0",
            "value": 231508,
            "_view_count": null,
            "_view_module_version": "1.5.0",
            "orientation": "horizontal",
            "min": 0,
            "description_tooltip": null,
            "_model_module": "@jupyter-widgets/controls",
            "layout": "IPY_MODEL_111b7f4404574b2b96fec078a1eff629"
          }
        },
        "7a94057e2efb4f3bad87cef22ac24e48": {
          "model_module": "@jupyter-widgets/controls",
          "model_name": "HTMLModel",
          "state": {
            "_view_name": "HTMLView",
            "style": "IPY_MODEL_658fdb727afc4b34a853e125c20de43d",
            "_dom_classes": [],
            "description": "",
            "_model_name": "HTMLModel",
            "placeholder": "​",
            "_view_module": "@jupyter-widgets/controls",
            "_model_module_version": "1.5.0",
            "value": " 232k/232k [00:00&lt;00:00, 1.28MB/s]",
            "_view_count": null,
            "_view_module_version": "1.5.0",
            "description_tooltip": null,
            "_model_module": "@jupyter-widgets/controls",
            "layout": "IPY_MODEL_01590124a748412ba653ea6bf8b9806d"
          }
        },
        "a4e25d2d4c114f519de66c6e86153acb": {
          "model_module": "@jupyter-widgets/controls",
          "model_name": "ProgressStyleModel",
          "state": {
            "_view_name": "StyleView",
            "_model_name": "ProgressStyleModel",
            "description_width": "initial",
            "_view_module": "@jupyter-widgets/base",
            "_model_module_version": "1.5.0",
            "_view_count": null,
            "_view_module_version": "1.2.0",
            "bar_color": null,
            "_model_module": "@jupyter-widgets/controls"
          }
        },
        "111b7f4404574b2b96fec078a1eff629": {
          "model_module": "@jupyter-widgets/base",
          "model_name": "LayoutModel",
          "state": {
            "_view_name": "LayoutView",
            "grid_template_rows": null,
            "right": null,
            "justify_content": null,
            "_view_module": "@jupyter-widgets/base",
            "overflow": null,
            "_model_module_version": "1.2.0",
            "_view_count": null,
            "flex_flow": null,
            "width": null,
            "min_width": null,
            "border": null,
            "align_items": null,
            "bottom": null,
            "_model_module": "@jupyter-widgets/base",
            "top": null,
            "grid_column": null,
            "overflow_y": null,
            "overflow_x": null,
            "grid_auto_flow": null,
            "grid_area": null,
            "grid_template_columns": null,
            "flex": null,
            "_model_name": "LayoutModel",
            "justify_items": null,
            "grid_row": null,
            "max_height": null,
            "align_content": null,
            "visibility": null,
            "align_self": null,
            "height": null,
            "min_height": null,
            "padding": null,
            "grid_auto_rows": null,
            "grid_gap": null,
            "max_width": null,
            "order": null,
            "_view_module_version": "1.2.0",
            "grid_template_areas": null,
            "object_position": null,
            "object_fit": null,
            "grid_auto_columns": null,
            "margin": null,
            "display": null,
            "left": null
          }
        },
        "658fdb727afc4b34a853e125c20de43d": {
          "model_module": "@jupyter-widgets/controls",
          "model_name": "DescriptionStyleModel",
          "state": {
            "_view_name": "StyleView",
            "_model_name": "DescriptionStyleModel",
            "description_width": "",
            "_view_module": "@jupyter-widgets/base",
            "_model_module_version": "1.5.0",
            "_view_count": null,
            "_view_module_version": "1.2.0",
            "_model_module": "@jupyter-widgets/controls"
          }
        },
        "01590124a748412ba653ea6bf8b9806d": {
          "model_module": "@jupyter-widgets/base",
          "model_name": "LayoutModel",
          "state": {
            "_view_name": "LayoutView",
            "grid_template_rows": null,
            "right": null,
            "justify_content": null,
            "_view_module": "@jupyter-widgets/base",
            "overflow": null,
            "_model_module_version": "1.2.0",
            "_view_count": null,
            "flex_flow": null,
            "width": null,
            "min_width": null,
            "border": null,
            "align_items": null,
            "bottom": null,
            "_model_module": "@jupyter-widgets/base",
            "top": null,
            "grid_column": null,
            "overflow_y": null,
            "overflow_x": null,
            "grid_auto_flow": null,
            "grid_area": null,
            "grid_template_columns": null,
            "flex": null,
            "_model_name": "LayoutModel",
            "justify_items": null,
            "grid_row": null,
            "max_height": null,
            "align_content": null,
            "visibility": null,
            "align_self": null,
            "height": null,
            "min_height": null,
            "padding": null,
            "grid_auto_rows": null,
            "grid_gap": null,
            "max_width": null,
            "order": null,
            "_view_module_version": "1.2.0",
            "grid_template_areas": null,
            "object_position": null,
            "object_fit": null,
            "grid_auto_columns": null,
            "margin": null,
            "display": null,
            "left": null
          }
        },
        "61f81fbc2c7b46c6ba99910f102f5664": {
          "model_module": "@jupyter-widgets/controls",
          "model_name": "HBoxModel",
          "state": {
            "_view_name": "HBoxView",
            "_dom_classes": [],
            "_model_name": "HBoxModel",
            "_view_module": "@jupyter-widgets/controls",
            "_model_module_version": "1.5.0",
            "_view_count": null,
            "_view_module_version": "1.5.0",
            "box_style": "",
            "layout": "IPY_MODEL_ba23f1b11dd94ea8996c3ca1a903c6f8",
            "_model_module": "@jupyter-widgets/controls",
            "children": [
              "IPY_MODEL_9de0fab0551641da8b38ee5fa3801279",
              "IPY_MODEL_327d152f5bc14370a02c01c75484341b"
            ]
          }
        },
        "ba23f1b11dd94ea8996c3ca1a903c6f8": {
          "model_module": "@jupyter-widgets/base",
          "model_name": "LayoutModel",
          "state": {
            "_view_name": "LayoutView",
            "grid_template_rows": null,
            "right": null,
            "justify_content": null,
            "_view_module": "@jupyter-widgets/base",
            "overflow": null,
            "_model_module_version": "1.2.0",
            "_view_count": null,
            "flex_flow": null,
            "width": null,
            "min_width": null,
            "border": null,
            "align_items": null,
            "bottom": null,
            "_model_module": "@jupyter-widgets/base",
            "top": null,
            "grid_column": null,
            "overflow_y": null,
            "overflow_x": null,
            "grid_auto_flow": null,
            "grid_area": null,
            "grid_template_columns": null,
            "flex": null,
            "_model_name": "LayoutModel",
            "justify_items": null,
            "grid_row": null,
            "max_height": null,
            "align_content": null,
            "visibility": null,
            "align_self": null,
            "height": null,
            "min_height": null,
            "padding": null,
            "grid_auto_rows": null,
            "grid_gap": null,
            "max_width": null,
            "order": null,
            "_view_module_version": "1.2.0",
            "grid_template_areas": null,
            "object_position": null,
            "object_fit": null,
            "grid_auto_columns": null,
            "margin": null,
            "display": null,
            "left": null
          }
        },
        "9de0fab0551641da8b38ee5fa3801279": {
          "model_module": "@jupyter-widgets/controls",
          "model_name": "FloatProgressModel",
          "state": {
            "_view_name": "ProgressView",
            "style": "IPY_MODEL_982b208b19b5453ca74878e31669cd49",
            "_dom_classes": [],
            "description": "Downloading: 100%",
            "_model_name": "FloatProgressModel",
            "bar_style": "success",
            "max": 28,
            "_view_module": "@jupyter-widgets/controls",
            "_model_module_version": "1.5.0",
            "value": 28,
            "_view_count": null,
            "_view_module_version": "1.5.0",
            "orientation": "horizontal",
            "min": 0,
            "description_tooltip": null,
            "_model_module": "@jupyter-widgets/controls",
            "layout": "IPY_MODEL_f3e8065ad2744410bcef746e45890e86"
          }
        },
        "327d152f5bc14370a02c01c75484341b": {
          "model_module": "@jupyter-widgets/controls",
          "model_name": "HTMLModel",
          "state": {
            "_view_name": "HTMLView",
            "style": "IPY_MODEL_51dad5d7e5f047a9abc3e0f2b69cc78b",
            "_dom_classes": [],
            "description": "",
            "_model_name": "HTMLModel",
            "placeholder": "​",
            "_view_module": "@jupyter-widgets/controls",
            "_model_module_version": "1.5.0",
            "value": " 28.0/28.0 [00:00&lt;00:00, 110B/s]",
            "_view_count": null,
            "_view_module_version": "1.5.0",
            "description_tooltip": null,
            "_model_module": "@jupyter-widgets/controls",
            "layout": "IPY_MODEL_ab3d6af5dcc148d1b035908e1cd5a2e2"
          }
        },
        "982b208b19b5453ca74878e31669cd49": {
          "model_module": "@jupyter-widgets/controls",
          "model_name": "ProgressStyleModel",
          "state": {
            "_view_name": "StyleView",
            "_model_name": "ProgressStyleModel",
            "description_width": "initial",
            "_view_module": "@jupyter-widgets/base",
            "_model_module_version": "1.5.0",
            "_view_count": null,
            "_view_module_version": "1.2.0",
            "bar_color": null,
            "_model_module": "@jupyter-widgets/controls"
          }
        },
        "f3e8065ad2744410bcef746e45890e86": {
          "model_module": "@jupyter-widgets/base",
          "model_name": "LayoutModel",
          "state": {
            "_view_name": "LayoutView",
            "grid_template_rows": null,
            "right": null,
            "justify_content": null,
            "_view_module": "@jupyter-widgets/base",
            "overflow": null,
            "_model_module_version": "1.2.0",
            "_view_count": null,
            "flex_flow": null,
            "width": null,
            "min_width": null,
            "border": null,
            "align_items": null,
            "bottom": null,
            "_model_module": "@jupyter-widgets/base",
            "top": null,
            "grid_column": null,
            "overflow_y": null,
            "overflow_x": null,
            "grid_auto_flow": null,
            "grid_area": null,
            "grid_template_columns": null,
            "flex": null,
            "_model_name": "LayoutModel",
            "justify_items": null,
            "grid_row": null,
            "max_height": null,
            "align_content": null,
            "visibility": null,
            "align_self": null,
            "height": null,
            "min_height": null,
            "padding": null,
            "grid_auto_rows": null,
            "grid_gap": null,
            "max_width": null,
            "order": null,
            "_view_module_version": "1.2.0",
            "grid_template_areas": null,
            "object_position": null,
            "object_fit": null,
            "grid_auto_columns": null,
            "margin": null,
            "display": null,
            "left": null
          }
        },
        "51dad5d7e5f047a9abc3e0f2b69cc78b": {
          "model_module": "@jupyter-widgets/controls",
          "model_name": "DescriptionStyleModel",
          "state": {
            "_view_name": "StyleView",
            "_model_name": "DescriptionStyleModel",
            "description_width": "",
            "_view_module": "@jupyter-widgets/base",
            "_model_module_version": "1.5.0",
            "_view_count": null,
            "_view_module_version": "1.2.0",
            "_model_module": "@jupyter-widgets/controls"
          }
        },
        "ab3d6af5dcc148d1b035908e1cd5a2e2": {
          "model_module": "@jupyter-widgets/base",
          "model_name": "LayoutModel",
          "state": {
            "_view_name": "LayoutView",
            "grid_template_rows": null,
            "right": null,
            "justify_content": null,
            "_view_module": "@jupyter-widgets/base",
            "overflow": null,
            "_model_module_version": "1.2.0",
            "_view_count": null,
            "flex_flow": null,
            "width": null,
            "min_width": null,
            "border": null,
            "align_items": null,
            "bottom": null,
            "_model_module": "@jupyter-widgets/base",
            "top": null,
            "grid_column": null,
            "overflow_y": null,
            "overflow_x": null,
            "grid_auto_flow": null,
            "grid_area": null,
            "grid_template_columns": null,
            "flex": null,
            "_model_name": "LayoutModel",
            "justify_items": null,
            "grid_row": null,
            "max_height": null,
            "align_content": null,
            "visibility": null,
            "align_self": null,
            "height": null,
            "min_height": null,
            "padding": null,
            "grid_auto_rows": null,
            "grid_gap": null,
            "max_width": null,
            "order": null,
            "_view_module_version": "1.2.0",
            "grid_template_areas": null,
            "object_position": null,
            "object_fit": null,
            "grid_auto_columns": null,
            "margin": null,
            "display": null,
            "left": null
          }
        },
        "f6fd85f552ba405d85e95a96b8219c50": {
          "model_module": "@jupyter-widgets/controls",
          "model_name": "HBoxModel",
          "state": {
            "_view_name": "HBoxView",
            "_dom_classes": [],
            "_model_name": "HBoxModel",
            "_view_module": "@jupyter-widgets/controls",
            "_model_module_version": "1.5.0",
            "_view_count": null,
            "_view_module_version": "1.5.0",
            "box_style": "",
            "layout": "IPY_MODEL_97f6e4fdbe774c5780952b65881fee1e",
            "_model_module": "@jupyter-widgets/controls",
            "children": [
              "IPY_MODEL_ece8d3b24825489c80dc4387e91d4c46",
              "IPY_MODEL_5bb6da49e63244c8a64e82d6689a9f31"
            ]
          }
        },
        "97f6e4fdbe774c5780952b65881fee1e": {
          "model_module": "@jupyter-widgets/base",
          "model_name": "LayoutModel",
          "state": {
            "_view_name": "LayoutView",
            "grid_template_rows": null,
            "right": null,
            "justify_content": null,
            "_view_module": "@jupyter-widgets/base",
            "overflow": null,
            "_model_module_version": "1.2.0",
            "_view_count": null,
            "flex_flow": null,
            "width": null,
            "min_width": null,
            "border": null,
            "align_items": null,
            "bottom": null,
            "_model_module": "@jupyter-widgets/base",
            "top": null,
            "grid_column": null,
            "overflow_y": null,
            "overflow_x": null,
            "grid_auto_flow": null,
            "grid_area": null,
            "grid_template_columns": null,
            "flex": null,
            "_model_name": "LayoutModel",
            "justify_items": null,
            "grid_row": null,
            "max_height": null,
            "align_content": null,
            "visibility": null,
            "align_self": null,
            "height": null,
            "min_height": null,
            "padding": null,
            "grid_auto_rows": null,
            "grid_gap": null,
            "max_width": null,
            "order": null,
            "_view_module_version": "1.2.0",
            "grid_template_areas": null,
            "object_position": null,
            "object_fit": null,
            "grid_auto_columns": null,
            "margin": null,
            "display": null,
            "left": null
          }
        },
        "ece8d3b24825489c80dc4387e91d4c46": {
          "model_module": "@jupyter-widgets/controls",
          "model_name": "FloatProgressModel",
          "state": {
            "_view_name": "ProgressView",
            "style": "IPY_MODEL_1d4521d768f84b50aca1dc0d974815d3",
            "_dom_classes": [],
            "description": "Downloading: 100%",
            "_model_name": "FloatProgressModel",
            "bar_style": "success",
            "max": 466062,
            "_view_module": "@jupyter-widgets/controls",
            "_model_module_version": "1.5.0",
            "value": 466062,
            "_view_count": null,
            "_view_module_version": "1.5.0",
            "orientation": "horizontal",
            "min": 0,
            "description_tooltip": null,
            "_model_module": "@jupyter-widgets/controls",
            "layout": "IPY_MODEL_0087a4989822450581397b6029179a4b"
          }
        },
        "5bb6da49e63244c8a64e82d6689a9f31": {
          "model_module": "@jupyter-widgets/controls",
          "model_name": "HTMLModel",
          "state": {
            "_view_name": "HTMLView",
            "style": "IPY_MODEL_26ccb9c9ff484ebf8180cd7359479200",
            "_dom_classes": [],
            "description": "",
            "_model_name": "HTMLModel",
            "placeholder": "​",
            "_view_module": "@jupyter-widgets/controls",
            "_model_module_version": "1.5.0",
            "value": " 466k/466k [00:00&lt;00:00, 3.87MB/s]",
            "_view_count": null,
            "_view_module_version": "1.5.0",
            "description_tooltip": null,
            "_model_module": "@jupyter-widgets/controls",
            "layout": "IPY_MODEL_ce5e803c263a4229b645412e070c11aa"
          }
        },
        "1d4521d768f84b50aca1dc0d974815d3": {
          "model_module": "@jupyter-widgets/controls",
          "model_name": "ProgressStyleModel",
          "state": {
            "_view_name": "StyleView",
            "_model_name": "ProgressStyleModel",
            "description_width": "initial",
            "_view_module": "@jupyter-widgets/base",
            "_model_module_version": "1.5.0",
            "_view_count": null,
            "_view_module_version": "1.2.0",
            "bar_color": null,
            "_model_module": "@jupyter-widgets/controls"
          }
        },
        "0087a4989822450581397b6029179a4b": {
          "model_module": "@jupyter-widgets/base",
          "model_name": "LayoutModel",
          "state": {
            "_view_name": "LayoutView",
            "grid_template_rows": null,
            "right": null,
            "justify_content": null,
            "_view_module": "@jupyter-widgets/base",
            "overflow": null,
            "_model_module_version": "1.2.0",
            "_view_count": null,
            "flex_flow": null,
            "width": null,
            "min_width": null,
            "border": null,
            "align_items": null,
            "bottom": null,
            "_model_module": "@jupyter-widgets/base",
            "top": null,
            "grid_column": null,
            "overflow_y": null,
            "overflow_x": null,
            "grid_auto_flow": null,
            "grid_area": null,
            "grid_template_columns": null,
            "flex": null,
            "_model_name": "LayoutModel",
            "justify_items": null,
            "grid_row": null,
            "max_height": null,
            "align_content": null,
            "visibility": null,
            "align_self": null,
            "height": null,
            "min_height": null,
            "padding": null,
            "grid_auto_rows": null,
            "grid_gap": null,
            "max_width": null,
            "order": null,
            "_view_module_version": "1.2.0",
            "grid_template_areas": null,
            "object_position": null,
            "object_fit": null,
            "grid_auto_columns": null,
            "margin": null,
            "display": null,
            "left": null
          }
        },
        "26ccb9c9ff484ebf8180cd7359479200": {
          "model_module": "@jupyter-widgets/controls",
          "model_name": "DescriptionStyleModel",
          "state": {
            "_view_name": "StyleView",
            "_model_name": "DescriptionStyleModel",
            "description_width": "",
            "_view_module": "@jupyter-widgets/base",
            "_model_module_version": "1.5.0",
            "_view_count": null,
            "_view_module_version": "1.2.0",
            "_model_module": "@jupyter-widgets/controls"
          }
        },
        "ce5e803c263a4229b645412e070c11aa": {
          "model_module": "@jupyter-widgets/base",
          "model_name": "LayoutModel",
          "state": {
            "_view_name": "LayoutView",
            "grid_template_rows": null,
            "right": null,
            "justify_content": null,
            "_view_module": "@jupyter-widgets/base",
            "overflow": null,
            "_model_module_version": "1.2.0",
            "_view_count": null,
            "flex_flow": null,
            "width": null,
            "min_width": null,
            "border": null,
            "align_items": null,
            "bottom": null,
            "_model_module": "@jupyter-widgets/base",
            "top": null,
            "grid_column": null,
            "overflow_y": null,
            "overflow_x": null,
            "grid_auto_flow": null,
            "grid_area": null,
            "grid_template_columns": null,
            "flex": null,
            "_model_name": "LayoutModel",
            "justify_items": null,
            "grid_row": null,
            "max_height": null,
            "align_content": null,
            "visibility": null,
            "align_self": null,
            "height": null,
            "min_height": null,
            "padding": null,
            "grid_auto_rows": null,
            "grid_gap": null,
            "max_width": null,
            "order": null,
            "_view_module_version": "1.2.0",
            "grid_template_areas": null,
            "object_position": null,
            "object_fit": null,
            "grid_auto_columns": null,
            "margin": null,
            "display": null,
            "left": null
          }
        }
      }
    }
  },
  "cells": [
    {
      "cell_type": "markdown",
      "metadata": {
        "id": "view-in-github",
        "colab_type": "text"
      },
      "source": [
        "<a href=\"https://colab.research.google.com/github/ASIF-Mahmud1/Exploration/blob/text-classifier/NLP_Lessons/BERT/EnronDatasetDiminsihingTerms_BERT.ipynb\" target=\"_parent\"><img src=\"https://colab.research.google.com/assets/colab-badge.svg\" alt=\"Open In Colab\"/></a>"
      ]
    },
    {
      "cell_type": "code",
      "metadata": {
        "colab": {
          "base_uri": "https://localhost:8080/"
        },
        "id": "IvX7PF9L_BLw",
        "outputId": "7c657273-f424-4846-968e-19be95febc44"
      },
      "source": [
        "#Install torchvision\n",
        "!pip install torchvision\n"
      ],
      "execution_count": 1,
      "outputs": [
        {
          "output_type": "stream",
          "text": [
            "Requirement already satisfied: torchvision in /usr/local/lib/python3.7/dist-packages (0.9.1+cu101)\n",
            "Requirement already satisfied: torch==1.8.1 in /usr/local/lib/python3.7/dist-packages (from torchvision) (1.8.1+cu101)\n",
            "Requirement already satisfied: pillow>=4.1.1 in /usr/local/lib/python3.7/dist-packages (from torchvision) (7.1.2)\n",
            "Requirement already satisfied: numpy in /usr/local/lib/python3.7/dist-packages (from torchvision) (1.19.5)\n",
            "Requirement already satisfied: typing-extensions in /usr/local/lib/python3.7/dist-packages (from torch==1.8.1->torchvision) (3.7.4.3)\n"
          ],
          "name": "stdout"
        }
      ]
    },
    {
      "cell_type": "code",
      "metadata": {
        "id": "fDSwbLnI_J3w"
      },
      "source": [
        "import torch"
      ],
      "execution_count": 2,
      "outputs": []
    },
    {
      "cell_type": "code",
      "metadata": {
        "id": "qjvLq0PUDro6"
      },
      "source": [
        "from typing import Callable, List, Optional, Tuple\n",
        "\n",
        "import pandas as pd\n",
        "from sklearn.base import TransformerMixin, BaseEstimator\n",
        "import torch\n",
        "\n",
        "\n",
        "class BertTransformer(BaseEstimator, TransformerMixin):\n",
        "    def __init__(\n",
        "            self,\n",
        "            bert_tokenizer,\n",
        "            bert_model,\n",
        "            max_length: int = 60,\n",
        "            embedding_func: Optional[Callable[[torch.tensor], torch.tensor]] = None,\n",
        "    ):\n",
        "        self.tokenizer = bert_tokenizer\n",
        "        self.model = bert_model\n",
        "        self.model.eval()\n",
        "        self.max_length = max_length\n",
        "        self.embedding_func = embedding_func\n",
        "\n",
        "        if self.embedding_func is None:\n",
        "            self.embedding_func = lambda x: x[0][:, 0, :].squeeze()\n",
        "\n",
        "    def _tokenize(self, text: str) -> Tuple[torch.tensor, torch.tensor]:\n",
        "        # Tokenize the text with the provided tokenizer\n",
        "        tokenized_text = self.tokenizer.encode_plus(text,\n",
        "                                                    add_special_tokens=True,\n",
        "                                                    max_length=self.max_length\n",
        "                                                    )[\"input_ids\"]\n",
        "\n",
        "        # Create an attention mask telling BERT to use all words\n",
        "        attention_mask = [1] * len(tokenized_text)\n",
        "\n",
        "        # bert takes in a batch so we need to unsqueeze the rows\n",
        "        return (\n",
        "            torch.tensor(tokenized_text).unsqueeze(0),\n",
        "            torch.tensor(attention_mask).unsqueeze(0),\n",
        "        )\n",
        "\n",
        "    def _tokenize_and_predict(self, text: str) -> torch.tensor:\n",
        "        tokenized, attention_mask = self._tokenize(text)\n",
        "\n",
        "        embeddings = self.model(tokenized, attention_mask)\n",
        "        return self.embedding_func(embeddings)\n",
        "\n",
        "    def transform(self, text: List[str]):\n",
        "        if isinstance(text, pd.Series):\n",
        "            text = text.tolist()\n",
        "\n",
        "        with torch.no_grad():\n",
        "            return torch.stack([self._tokenize_and_predict(string) for string in text])\n",
        "\n",
        "    def fit(self, X, y=None):\n",
        "        \"\"\"No fitting necessary so we just return ourselves\"\"\"\n",
        "        return self"
      ],
      "execution_count": 3,
      "outputs": []
    },
    {
      "cell_type": "code",
      "metadata": {
        "colab": {
          "base_uri": "https://localhost:8080/"
        },
        "id": "lwue-hXHEcUm",
        "outputId": "139aabc0-40ec-495a-8b1c-20752e5d4d21"
      },
      "source": [
        "!pip install transformers\n"
      ],
      "execution_count": 4,
      "outputs": [
        {
          "output_type": "stream",
          "text": [
            "Collecting transformers\n",
            "\u001b[?25l  Downloading https://files.pythonhosted.org/packages/81/91/61d69d58a1af1bd81d9ca9d62c90a6de3ab80d77f27c5df65d9a2c1f5626/transformers-4.5.0-py3-none-any.whl (2.1MB)\n",
            "\u001b[K     |████████████████████████████████| 2.2MB 21.0MB/s \n",
            "\u001b[?25hRequirement already satisfied: regex!=2019.12.17 in /usr/local/lib/python3.7/dist-packages (from transformers) (2019.12.20)\n",
            "Requirement already satisfied: numpy>=1.17 in /usr/local/lib/python3.7/dist-packages (from transformers) (1.19.5)\n",
            "Requirement already satisfied: requests in /usr/local/lib/python3.7/dist-packages (from transformers) (2.23.0)\n",
            "Collecting tokenizers<0.11,>=0.10.1\n",
            "\u001b[?25l  Downloading https://files.pythonhosted.org/packages/ae/04/5b870f26a858552025a62f1649c20d29d2672c02ff3c3fb4c688ca46467a/tokenizers-0.10.2-cp37-cp37m-manylinux2010_x86_64.whl (3.3MB)\n",
            "\u001b[K     |████████████████████████████████| 3.3MB 42.8MB/s \n",
            "\u001b[?25hRequirement already satisfied: tqdm>=4.27 in /usr/local/lib/python3.7/dist-packages (from transformers) (4.41.1)\n",
            "Requirement already satisfied: filelock in /usr/local/lib/python3.7/dist-packages (from transformers) (3.0.12)\n",
            "Requirement already satisfied: packaging in /usr/local/lib/python3.7/dist-packages (from transformers) (20.9)\n",
            "Collecting sacremoses\n",
            "\u001b[?25l  Downloading https://files.pythonhosted.org/packages/08/cd/342e584ee544d044fb573ae697404ce22ede086c9e87ce5960772084cad0/sacremoses-0.0.44.tar.gz (862kB)\n",
            "\u001b[K     |████████████████████████████████| 870kB 46.1MB/s \n",
            "\u001b[?25hRequirement already satisfied: importlib-metadata; python_version < \"3.8\" in /usr/local/lib/python3.7/dist-packages (from transformers) (3.8.1)\n",
            "Requirement already satisfied: idna<3,>=2.5 in /usr/local/lib/python3.7/dist-packages (from requests->transformers) (2.10)\n",
            "Requirement already satisfied: chardet<4,>=3.0.2 in /usr/local/lib/python3.7/dist-packages (from requests->transformers) (3.0.4)\n",
            "Requirement already satisfied: certifi>=2017.4.17 in /usr/local/lib/python3.7/dist-packages (from requests->transformers) (2020.12.5)\n",
            "Requirement already satisfied: urllib3!=1.25.0,!=1.25.1,<1.26,>=1.21.1 in /usr/local/lib/python3.7/dist-packages (from requests->transformers) (1.24.3)\n",
            "Requirement already satisfied: pyparsing>=2.0.2 in /usr/local/lib/python3.7/dist-packages (from packaging->transformers) (2.4.7)\n",
            "Requirement already satisfied: six in /usr/local/lib/python3.7/dist-packages (from sacremoses->transformers) (1.15.0)\n",
            "Requirement already satisfied: click in /usr/local/lib/python3.7/dist-packages (from sacremoses->transformers) (7.1.2)\n",
            "Requirement already satisfied: joblib in /usr/local/lib/python3.7/dist-packages (from sacremoses->transformers) (1.0.1)\n",
            "Requirement already satisfied: typing-extensions>=3.6.4; python_version < \"3.8\" in /usr/local/lib/python3.7/dist-packages (from importlib-metadata; python_version < \"3.8\"->transformers) (3.7.4.3)\n",
            "Requirement already satisfied: zipp>=0.5 in /usr/local/lib/python3.7/dist-packages (from importlib-metadata; python_version < \"3.8\"->transformers) (3.4.1)\n",
            "Building wheels for collected packages: sacremoses\n",
            "  Building wheel for sacremoses (setup.py) ... \u001b[?25l\u001b[?25hdone\n",
            "  Created wheel for sacremoses: filename=sacremoses-0.0.44-cp37-none-any.whl size=886084 sha256=082ea97dc641a09e810c66d5ac5029fa386c84019bfc63441b03f72f93068b28\n",
            "  Stored in directory: /root/.cache/pip/wheels/3e/fb/c0/13ab4d63d537658f448366744654323077c4d90069b6512f3c\n",
            "Successfully built sacremoses\n",
            "Installing collected packages: tokenizers, sacremoses, transformers\n",
            "Successfully installed sacremoses-0.0.44 tokenizers-0.10.2 transformers-4.5.0\n"
          ],
          "name": "stdout"
        }
      ]
    },
    {
      "cell_type": "code",
      "metadata": {
        "colab": {
          "base_uri": "https://localhost:8080/",
          "height": 261,
          "referenced_widgets": [
            "ae93322fbde84335a6b7fa73ac34a847",
            "5935d29ea9a34423a6fb940ea209c9d9",
            "98a7e17a189d4db2b983880920247aaf",
            "2c01517994d149ae8c9bd2d62a487ab8",
            "59ed6c882b3d492d8be94a26532c134b",
            "f1e0be579d324c718642017cc629f8fa",
            "8378c7a92b5848fb81a62d056058fa2a",
            "8ac1ca58c022473da13416caf67965b3",
            "0e9505d6441e40eda41769ed59cc5480",
            "c8422cb512074cceb20ede7f24cb9c17",
            "85436b0406f84aec87505a6b00733988",
            "78cdabfdc6294593beb542acc5cd4f95",
            "83741b44de3a4fe69c556273c1b3d59c",
            "b6e341043e8e4dd89bc996dd6d169c18",
            "b13f4caa096b430291d36eec3a52d39e",
            "c4ab8752aede458ab467a2ceed83a5a3",
            "c38e19efadd84d3e98be2e415d9b9ef4",
            "ccd28270fc4c4bba90f71db606e54e8c",
            "a620a56c8ac74545b7908e61592907eb",
            "7a94057e2efb4f3bad87cef22ac24e48",
            "a4e25d2d4c114f519de66c6e86153acb",
            "111b7f4404574b2b96fec078a1eff629",
            "658fdb727afc4b34a853e125c20de43d",
            "01590124a748412ba653ea6bf8b9806d",
            "61f81fbc2c7b46c6ba99910f102f5664",
            "ba23f1b11dd94ea8996c3ca1a903c6f8",
            "9de0fab0551641da8b38ee5fa3801279",
            "327d152f5bc14370a02c01c75484341b",
            "982b208b19b5453ca74878e31669cd49",
            "f3e8065ad2744410bcef746e45890e86",
            "51dad5d7e5f047a9abc3e0f2b69cc78b",
            "ab3d6af5dcc148d1b035908e1cd5a2e2",
            "f6fd85f552ba405d85e95a96b8219c50",
            "97f6e4fdbe774c5780952b65881fee1e",
            "ece8d3b24825489c80dc4387e91d4c46",
            "5bb6da49e63244c8a64e82d6689a9f31",
            "1d4521d768f84b50aca1dc0d974815d3",
            "0087a4989822450581397b6029179a4b",
            "26ccb9c9ff484ebf8180cd7359479200",
            "ce5e803c263a4229b645412e070c11aa"
          ]
        },
        "id": "TbYsE65NEjLY",
        "outputId": "bca30b58-56b7-43dc-a8c7-208e2cb05495"
      },
      "source": [
        "from transformers import BertTokenizer, BertModel\n",
        "import torch\n",
        "bert_model = BertModel.from_pretrained(\"bert-base-uncased\")\n",
        "tokenizer = BertTokenizer.from_pretrained(\"bert-base-uncased\")\n"
      ],
      "execution_count": 5,
      "outputs": [
        {
          "output_type": "display_data",
          "data": {
            "application/vnd.jupyter.widget-view+json": {
              "model_id": "ae93322fbde84335a6b7fa73ac34a847",
              "version_minor": 0,
              "version_major": 2
            },
            "text/plain": [
              "HBox(children=(FloatProgress(value=0.0, description='Downloading', max=433.0, style=ProgressStyle(description_…"
            ]
          },
          "metadata": {
            "tags": []
          }
        },
        {
          "output_type": "stream",
          "text": [
            "\n"
          ],
          "name": "stdout"
        },
        {
          "output_type": "display_data",
          "data": {
            "application/vnd.jupyter.widget-view+json": {
              "model_id": "0e9505d6441e40eda41769ed59cc5480",
              "version_minor": 0,
              "version_major": 2
            },
            "text/plain": [
              "HBox(children=(FloatProgress(value=0.0, description='Downloading', max=440473133.0, style=ProgressStyle(descri…"
            ]
          },
          "metadata": {
            "tags": []
          }
        },
        {
          "output_type": "stream",
          "text": [
            "\n"
          ],
          "name": "stdout"
        },
        {
          "output_type": "display_data",
          "data": {
            "application/vnd.jupyter.widget-view+json": {
              "model_id": "c38e19efadd84d3e98be2e415d9b9ef4",
              "version_minor": 0,
              "version_major": 2
            },
            "text/plain": [
              "HBox(children=(FloatProgress(value=0.0, description='Downloading', max=231508.0, style=ProgressStyle(descripti…"
            ]
          },
          "metadata": {
            "tags": []
          }
        },
        {
          "output_type": "stream",
          "text": [
            "\n"
          ],
          "name": "stdout"
        },
        {
          "output_type": "display_data",
          "data": {
            "application/vnd.jupyter.widget-view+json": {
              "model_id": "61f81fbc2c7b46c6ba99910f102f5664",
              "version_minor": 0,
              "version_major": 2
            },
            "text/plain": [
              "HBox(children=(FloatProgress(value=0.0, description='Downloading', max=28.0, style=ProgressStyle(description_w…"
            ]
          },
          "metadata": {
            "tags": []
          }
        },
        {
          "output_type": "stream",
          "text": [
            "\n"
          ],
          "name": "stdout"
        },
        {
          "output_type": "display_data",
          "data": {
            "application/vnd.jupyter.widget-view+json": {
              "model_id": "f6fd85f552ba405d85e95a96b8219c50",
              "version_minor": 0,
              "version_major": 2
            },
            "text/plain": [
              "HBox(children=(FloatProgress(value=0.0, description='Downloading', max=466062.0, style=ProgressStyle(descripti…"
            ]
          },
          "metadata": {
            "tags": []
          }
        },
        {
          "output_type": "stream",
          "text": [
            "\n"
          ],
          "name": "stdout"
        }
      ]
    },
    {
      "cell_type": "code",
      "metadata": {
        "id": "LxBdlil6Ft3s"
      },
      "source": [
        ""
      ],
      "execution_count": 5,
      "outputs": []
    },
    {
      "cell_type": "code",
      "metadata": {
        "id": "IMFttM0EF-6u"
      },
      "source": [
        "bert_transformer = BertTransformer(tokenizer, bert_model)\n",
        "from sklearn.pipeline import Pipeline\n"
      ],
      "execution_count": 6,
      "outputs": []
    },
    {
      "cell_type": "code",
      "metadata": {
        "colab": {
          "base_uri": "https://localhost:8080/"
        },
        "id": "IWCta2prhfbX",
        "outputId": "a623bc71-70ca-46b0-ac18-57297768e49f"
      },
      "source": [
        "url=\"https://raw.githubusercontent.com/ASIF-Mahmud1/Exploration/text-classifier/DiminishingTerms/dataSet.csv\"\n",
        "from io import StringIO\n",
        "import string\n",
        "import pandas as pd\n",
        "import requests\n",
        "s=requests.get(url).text\n",
        "\n",
        "message_data=pd.read_csv(StringIO(s))\n",
        "message_data['tag'] = message_data['tag'].str.strip()\n",
        "\n",
        "message_data.head()\n",
        "message_data['tag'].describe()"
      ],
      "execution_count": 7,
      "outputs": [
        {
          "output_type": "execute_result",
          "data": {
            "text/plain": [
              "count             315\n",
              "unique              2\n",
              "top       diminishing\n",
              "freq              234\n",
              "Name: tag, dtype: object"
            ]
          },
          "metadata": {
            "tags": []
          },
          "execution_count": 7
        }
      ]
    },
    {
      "cell_type": "code",
      "metadata": {
        "id": "45-D4LIahklL"
      },
      "source": [
        "message_data_copy = message_data['sentence'].copy() \n",
        "\n",
        "# message_data_copy"
      ],
      "execution_count": 8,
      "outputs": []
    },
    {
      "cell_type": "code",
      "metadata": {
        "id": "jN0mT5bvimFD"
      },
      "source": [
        "from sklearn.linear_model import LogisticRegression\n",
        "classifier = LogisticRegression(multi_class='multinomial', solver='lbfgs',C=5.2)\n"
      ],
      "execution_count": 9,
      "outputs": []
    },
    {
      "cell_type": "code",
      "metadata": {
        "id": "JUq7XhF1imv8",
        "colab": {
          "base_uri": "https://localhost:8080/"
        },
        "outputId": "d23a6877-0157-40fd-e148-60a7c7b0b176"
      },
      "source": [
        "pipeline = Pipeline(steps=  [\n",
        "        (\"vectorizer\", bert_transformer),\n",
        "        (\"classifier\", classifier),\n",
        "    ] )\n",
        "\n",
        "pipeline.fit(message_data_copy,  message_data['tag'])"
      ],
      "execution_count": 10,
      "outputs": [
        {
          "output_type": "stream",
          "text": [
            "Truncation was not explicitly activated but `max_length` is provided a specific value, please use `truncation=True` to explicitly truncate examples to max length. Defaulting to 'longest_first' truncation strategy. If you encode pairs of sequences (GLUE-style) with the tokenizer you can select this strategy more precisely by providing a specific strategy to `truncation`.\n",
            "/usr/local/lib/python3.7/dist-packages/sklearn/linear_model/_logistic.py:940: ConvergenceWarning: lbfgs failed to converge (status=1):\n",
            "STOP: TOTAL NO. of ITERATIONS REACHED LIMIT.\n",
            "\n",
            "Increase the number of iterations (max_iter) or scale the data as shown in:\n",
            "    https://scikit-learn.org/stable/modules/preprocessing.html\n",
            "Please also refer to the documentation for alternative solver options:\n",
            "    https://scikit-learn.org/stable/modules/linear_model.html#logistic-regression\n",
            "  extra_warning_msg=_LOGISTIC_SOLVER_CONVERGENCE_MSG)\n",
            "/usr/local/lib/python3.7/dist-packages/sklearn/base.py:197: FutureWarning: From version 0.24, get_params will raise an AttributeError if a parameter cannot be retrieved as an instance attribute. Previously it would return None.\n",
            "  FutureWarning)\n"
          ],
          "name": "stderr"
        },
        {
          "output_type": "execute_result",
          "data": {
            "text/plain": [
              "Pipeline(memory=None,\n",
              "         steps=[('vectorizer',\n",
              "                 BertTransformer(bert_model=None, bert_tokenizer=None,\n",
              "                                 embedding_func=<function BertTransformer.__init__.<locals>.<lambda> at 0x7f4601b43050>,\n",
              "                                 max_length=60)),\n",
              "                ('classifier',\n",
              "                 LogisticRegression(C=5.2, class_weight=None, dual=False,\n",
              "                                    fit_intercept=True, intercept_scaling=1,\n",
              "                                    l1_ratio=None, max_iter=100,\n",
              "                                    multi_class='multinomial', n_jobs=None,\n",
              "                                    penalty='l2', random_state=None,\n",
              "                                    solver='lbfgs', tol=0.0001, verbose=0,\n",
              "                                    warm_start=False))],\n",
              "         verbose=False)"
            ]
          },
          "metadata": {
            "tags": []
          },
          "execution_count": 10
        }
      ]
    },
    {
      "cell_type": "code",
      "metadata": {
        "id": "oRklusf-AJUX"
      },
      "source": [
        "import pandas as pd\n",
        "df = pd.read_csv('https://query.data.world/s/yqgskd2yg2lztwtgmpeajy75msskd6',error_bad_lines=False, index_col=False, dtype='unicode')\n",
        "df = df.applymap(str) ## stringify all fields\n",
        "# df['content']"
      ],
      "execution_count": 44,
      "outputs": []
    },
    {
      "cell_type": "code",
      "metadata": {
        "id": "zTLQ1XVgqDjv"
      },
      "source": [
        "collectionSize=10\n",
        "startIndex=0\n",
        "endIndex=startIndex + collectionSize"
      ],
      "execution_count": 41,
      "outputs": []
    },
    {
      "cell_type": "markdown",
      "metadata": {
        "id": "ihmdwmeI4tM-"
      },
      "source": [
        "# Test Sentences Here\n",
        "### **Note**: Click Play to Predict next 10 emails"
      ]
    },
    {
      "cell_type": "code",
      "metadata": {
        "colab": {
          "base_uri": "https://localhost:8080/",
          "height": 633
        },
        "id": "HsTcrCv_5reX",
        "outputId": "53ba7d23-f788-4534-f9de-c9f2dcdbef63"
      },
      "source": [
        "####################################################################################################################\n",
        "                       ## Remove this later\n",
        "import pandas as pd\n",
        "import altair as alt\n",
        "import numpy as np\n",
        "text= df['content']\n",
        "text= text[startIndex:endIndex]\n",
        "prob_Of_Each_Class = pipeline.predict_proba(text)\n",
        "X = np.arange(startIndex,endIndex)\n",
        "y_strong= prob_Of_Each_Class[:,1]*100\n",
        "y_diminishing=prob_Of_Each_Class[:,0]*100    \n",
        "\n",
        "dfTest = pd.DataFrame(columns=('index', 'strong', 'diminish','sentence'))\n",
        "dfTest['index']=X \n",
        "dfTest['strong']=y_strong \n",
        "dfTest['diminish']=y_diminishing\n",
        "dfTest['sentence']=list(text)\n",
        "gp_chart = (\n",
        "  alt.Chart(dfTest,width=50 ,padding={\"left\": 50, \"top\": 5, \"right\": 5, \"bottom\": 5} )\n",
        "    .transform_fold([\"diminish\", \"strong\"], as_=[\"key\", \"value\"])\n",
        "    .mark_bar()  # size=50\n",
        "    .encode(\n",
        "        x=\"key:N\",\n",
        "        y=\"value:Q\",\n",
        "        color=\"key:N\",\n",
        "        column=\"index\",\n",
        "        tooltip=\"sentence\"\n",
        "    )   # .interactive() \n",
        ")\n",
        "\n",
        "startIndex= startIndex+collectionSize\n",
        "endIndex=startIndex+collectionSize\n",
        "gp_chart.display()\n",
        "# predict the label using the pipeline\n",
        "for row in text.index:\n",
        "    print(row, \" \"+text[row])\n",
        "                               ## Remove this later\n",
        "####################################################################################################################"
      ],
      "execution_count": 43,
      "outputs": [
        {
          "output_type": "display_data",
          "data": {
            "text/plain": [
              "alt.Chart(...)"
            ],
            "text/html": [
              "\n",
              "<div id=\"altair-viz-91d0e17a4d8842bebbb3301e72850baf\"></div>\n",
              "<script type=\"text/javascript\">\n",
              "  (function(spec, embedOpt){\n",
              "    let outputDiv = document.currentScript.previousElementSibling;\n",
              "    if (outputDiv.id !== \"altair-viz-91d0e17a4d8842bebbb3301e72850baf\") {\n",
              "      outputDiv = document.getElementById(\"altair-viz-91d0e17a4d8842bebbb3301e72850baf\");\n",
              "    }\n",
              "    const paths = {\n",
              "      \"vega\": \"https://cdn.jsdelivr.net/npm//vega@5?noext\",\n",
              "      \"vega-lib\": \"https://cdn.jsdelivr.net/npm//vega-lib?noext\",\n",
              "      \"vega-lite\": \"https://cdn.jsdelivr.net/npm//vega-lite@4.8.1?noext\",\n",
              "      \"vega-embed\": \"https://cdn.jsdelivr.net/npm//vega-embed@6?noext\",\n",
              "    };\n",
              "\n",
              "    function loadScript(lib) {\n",
              "      return new Promise(function(resolve, reject) {\n",
              "        var s = document.createElement('script');\n",
              "        s.src = paths[lib];\n",
              "        s.async = true;\n",
              "        s.onload = () => resolve(paths[lib]);\n",
              "        s.onerror = () => reject(`Error loading script: ${paths[lib]}`);\n",
              "        document.getElementsByTagName(\"head\")[0].appendChild(s);\n",
              "      });\n",
              "    }\n",
              "\n",
              "    function showError(err) {\n",
              "      outputDiv.innerHTML = `<div class=\"error\" style=\"color:red;\">${err}</div>`;\n",
              "      throw err;\n",
              "    }\n",
              "\n",
              "    function displayChart(vegaEmbed) {\n",
              "      vegaEmbed(outputDiv, spec, embedOpt)\n",
              "        .catch(err => showError(`Javascript Error: ${err.message}<br>This usually means there's a typo in your chart specification. See the javascript console for the full traceback.`));\n",
              "    }\n",
              "\n",
              "    if(typeof define === \"function\" && define.amd) {\n",
              "      requirejs.config({paths});\n",
              "      require([\"vega-embed\"], displayChart, err => showError(`Error loading script: ${err.message}`));\n",
              "    } else if (typeof vegaEmbed === \"function\") {\n",
              "      displayChart(vegaEmbed);\n",
              "    } else {\n",
              "      loadScript(\"vega\")\n",
              "        .then(() => loadScript(\"vega-lite\"))\n",
              "        .then(() => loadScript(\"vega-embed\"))\n",
              "        .catch(showError)\n",
              "        .then(() => displayChart(vegaEmbed));\n",
              "    }\n",
              "  })({\"config\": {\"view\": {\"continuousWidth\": 400, \"continuousHeight\": 300}}, \"data\": {\"name\": \"data-9e37b2c433c89cb26425ca073c2e8c2e\"}, \"mark\": \"bar\", \"encoding\": {\"color\": {\"type\": \"nominal\", \"field\": \"key\"}, \"column\": {\"type\": \"quantitative\", \"field\": \"index\"}, \"tooltip\": {\"type\": \"nominal\", \"field\": \"sentence\"}, \"x\": {\"type\": \"nominal\", \"field\": \"key\"}, \"y\": {\"type\": \"quantitative\", \"field\": \"value\"}}, \"padding\": {\"left\": 50, \"top\": 5, \"right\": 5, \"bottom\": 5}, \"transform\": [{\"fold\": [\"diminish\", \"strong\"], \"as\": [\"key\", \"value\"]}], \"width\": 50, \"$schema\": \"https://vega.github.io/schema/vega-lite/v4.8.1.json\", \"datasets\": {\"data-9e37b2c433c89cb26425ca073c2e8c2e\": [{\"index\": 10, \"strong\": 0.8035568480010052, \"diminish\": 99.196443151999, \"sentence\": \"Mr. Buckner, For delivered gas behind San Diego, Enron Energy Services is the appropriate Enron entity. I have forwarded your request to Zarin Imam at EES. Her phone number is 713-853-7107. Phillip Allen\"}, {\"index\": 11, \"strong\": 0.3608696610187651, \"diminish\": 99.63913033898125, \"sentence\": \"Lucy, Here are the rentrolls: Open them and save in the rentroll folder. Follow these steps so you don't misplace these files. 1. Click on Save As 2. Click on the drop down triangle under Save in: 3. Click on the (C): drive 4. Click on the appropriate folder 5. Click on Save: Phillip\"}, {\"index\": 12, \"strong\": 0.0780835595394543, \"diminish\": 99.92191644046055, \"sentence\": \"---------------------- Forwarded by Phillip K Allen/HOU/ECT on 10/09/2000 02:16 PM --------------------------- Richard Burchfield 10/06/2000 06:59 AM To: Phillip K Allen/HOU/ECT@ECT cc: Beth Perlman/HOU/ECT@ECT Subject: Consolidated positions: Issues & To Do list Phillip, Below is the issues & to do list as we go forward with documenting the requirements for consolidated physical/financial positions and transport trade capture. What we need to focus on is the first bullet in Allan's list; the need for a single set of requirements. Although the meeting with Keith, on Wednesday, was informative the solution of creating a infinitely dynamic consolidated position screen, will be extremely difficult and time consuming. Throughout the meeting on Wednesday, Keith alluded to the inability to get consensus amongst the traders on the presentation of the consolidated position, so the solution was to make it so that a trader can arrange the position screen to their liking (much like Excel). What needs to happen on Monday from 3 - 5 is a effort to design a desired layout for the consolidated position screen, this is critical. This does not exclude building a capability to create a more flexible position presentation for the future, but in order to create a plan that can be measured we need firm requirements. Also, to reiterate that the goals of this project is a project plan on consolidate physical/financial positions and transport trade capture. The other issues that have been raised will be capture as projects on to themselves, and will need to be prioritised as efforts outside of this project. I have been involved in most of the meetings and the discussions have been good. I believe there has been good communication between the teams, but now we need to have focus on the objectives we set out to solve. Richard ---------------------- Forwarded by Richard Burchfield/HOU/ECT on 10/06/2000 08:34 AM --------------------------- Allan Severude 10/05/2000 06:03 PM To: Richard Burchfield/HOU/ECT@ECT cc: Peggy Alix/HOU/ECT@ECT, Russ Severson/HOU/ECT@ECT, Scott Mills/HOU/ECT@ECT, Kenny Ha/HOU/ECT@ECT Subject: Consolidated positions: Issues & To Do list From our initial set of meetings with the traders regarding consolidated positions, I think we still have the following issues: We don't have a single point of contact from the trading group. We've had three meetings which brought out very different issues from different traders. We really need a single point of contact to help drive the trader requirements and help come to a consensus regarding the requirements. We're getting hit with a lot of different requests, many of which appear to be outside the scope of position consolidation. Things left to do: I think it may be useful to try to formulate a high level project goal to make it as clear as possible what we're trying to accomplish with this project. It'll help determine which requests fall under the project scope. Go through the list of requests to determine which are in scope for this project and which fall out of scope. For those in scope, work to define relative importance (priority) of each and work with traders to define the exact requirements of each. Define the desired lay out of the position manager screen: main view and all drill downs. Use the above to formulate a project plan. Things requested thus far (no particular order): Inclusion of Sitara physical deals into the TDS position manager and deal ticker. Customized rows and columns in the position manager (ad hoc rows/columns that add up existing position manager rows/columns). New drill down in the position manager to break out positions by: physical, transport, swaps, options, ... Addition of a curve tab to the position manager to show the real-time values of all curves on which the desk has a position. Ability to split the current position grid to allow daily positions to be shown directly above monthly positions. Each grouped column in the top grid would be tied to a grouped column in the bottom grid. Ability to properly show curve shift for float-for-float deals; determine the appropriate positions to show for each: Gas Daily for monthly index, Physical gas for Nymex, Physical gas for Inside Ferc, Physical gas for Mid market. Ability for TDS to pull valuation results based on a TDS flag instead of using official valuations. Position and P&L aggregation across all gas desks. Ability to include the Gas Price book into TDS: Inclusion of spread options in our systems. Ability to handle volatility skew and correlations. Ability to revalue all options incrementally throughout the trading day. Approximate delta changes between valuations using instantaneous gamma or a gamma grid. Valuation of Gas Daily options. A new position screen for options (months x strike x delta). TBD. Inclusion of positions for exotic options currently managed in spreadsheets. Ability to isolate the position change due to changed deals in the position manager. Ability to view change deal P&L in the TDS deal ticker. Show new deal terms, prior deal terms, and net P&L affect of the change. Eliminate change deals with no economic impact from the TDS deal ticker. Position drill down in the position manager to isolate the impact of individual deals on the position total in a grid cell. Benchmark positions in TDS. Deployment of TDS in Canada. Currency and volume uom conversions. Implicit and explicit position break out issues. -- Allan. PS: Colleen is setting up a meeting tomorrow to discuss the direction for transport. Hopefully we'll know much better where that part stands at that point.\"}, {\"index\": 13, \"strong\": 0.27212772492589715, \"diminish\": 99.72787227507409, \"sentence\": \"---------------------- Forwarded by Phillip K Allen/HOU/ECT on 10/09/2000 02:00 PM --------------------------- Richard Burchfield 10/06/2000 06:59 AM To: Phillip K Allen/HOU/ECT@ECT cc: Beth Perlman/HOU/ECT@ECT Subject: Consolidated positions: Issues & To Do list Phillip, Below is the issues & to do list as we go forward with documenting the requirements for consolidated physical/financial positions and transport trade capture. What we need to focus on is the first bullet in Allan's list; the need for a single set of requirements. Although the meeting with Keith, on Wednesday, was informative the solution of creating a infinitely dynamic consolidated position screen, will be extremely difficult and time consuming. Throughout the meeting on Wednesday, Keith alluded to the inability to get consensus amongst the traders on the presentation of the consolidated position, so the solution was to make it so that a trader can arrange the position screen to their liking (much like Excel). What needs to happen on Monday from 3 - 5 is a effort to design a desired layout for the consolidated position screen, this is critical. This does not exclude building a capability to create a more flexible position presentation for the future, but in order to create a plan that can be measured we need firm requirements. Also, to reiterate that the goals of this project is a project plan on consolidate physical/financial positions and transport trade capture. The other issues that have been raised will be capture as projects on to themselves, and will need to be prioritised as efforts outside of this project. I have been involved in most of the meetings and the discussions have been good. I believe there has been good communication between the teams, but now we need to have focus on the objectives we set out to solve. Richard ---------------------- Forwarded by Richard Burchfield/HOU/ECT on 10/06/2000 08:34 AM --------------------------- Allan Severude 10/05/2000 06:03 PM To: Richard Burchfield/HOU/ECT@ECT cc: Peggy Alix/HOU/ECT@ECT, Russ Severson/HOU/ECT@ECT, Scott Mills/HOU/ECT@ECT, Kenny Ha/HOU/ECT@ECT Subject: Consolidated positions: Issues & To Do list From our initial set of meetings with the traders regarding consolidated positions, I think we still have the following issues: We don't have a single point of contact from the trading group. We've had three meetings which brought out very different issues from different traders. We really need a single point of contact to help drive the trader requirements and help come to a consensus regarding the requirements. We're getting hit with a lot of different requests, many of which appear to be outside the scope of position consolidation. Things left to do: I think it may be useful to try to formulate a high level project goal to make it as clear as possible what we're trying to accomplish with this project. It'll help determine which requests fall under the project scope. Go through the list of requests to determine which are in scope for this project and which fall out of scope. For those in scope, work to define relative importance (priority) of each and work with traders to define the exact requirements of each. Define the desired lay out of the position manager screen: main view and all drill downs. Use the above to formulate a project plan. Things requested thus far (no particular order): Inclusion of Sitara physical deals into the TDS position manager and deal ticker. Customized rows and columns in the position manager (ad hoc rows/columns that add up existing position manager rows/columns). New drill down in the position manager to break out positions by: physical, transport, swaps, options, ... Addition of a curve tab to the position manager to show the real-time values of all curves on which the desk has a position. Ability to split the current position grid to allow daily positions to be shown directly above monthly positions. Each grouped column in the top grid would be tied to a grouped column in the bottom grid. Ability to properly show curve shift for float-for-float deals; determine the appropriate positions to show for each: Gas Daily for monthly index, Physical gas for Nymex, Physical gas for Inside Ferc, Physical gas for Mid market. Ability for TDS to pull valuation results based on a TDS flag instead of using official valuations. Position and P&L aggregation across all gas desks. Ability to include the Gas Price book into TDS: Inclusion of spread options in our systems. Ability to handle volatility skew and correlations. Ability to revalue all options incrementally throughout the trading day. Approximate delta changes between valuations using instantaneous gamma or a gamma grid. Valuation of Gas Daily options. A new position screen for options (months x strike x delta). TBD. Inclusion of positions for exotic options currently managed in spreadsheets. Ability to isolate the position change due to changed deals in the position manager. Ability to view change deal P&L in the TDS deal ticker. Show new deal terms, prior deal terms, and net P&L affect of the change. Eliminate change deals with no economic impact from the TDS deal ticker. Position drill down in the position manager to isolate the impact of individual deals on the position total in a grid cell. Benchmark positions in TDS. Deployment of TDS in Canada. Currency and volume uom conversions. Implicit and explicit position break out issues. -- Allan. PS: Colleen is setting up a meeting tomorrow to discuss the direction for transport. Hopefully we'll know much better where that part stands at that point.\"}, {\"index\": 14, \"strong\": 1.3035186689192897, \"diminish\": 98.6964813310807, \"sentence\": \"Dave, Here are the names of the west desk members by category. The origination side is very sparse. Phillip\"}, {\"index\": 15, \"strong\": 1.709627874345514, \"diminish\": 98.29037212565449, \"sentence\": \"Paula, 35 million is fine Phillip\"}, {\"index\": 16, \"strong\": 0.06648437968390308, \"diminish\": 99.93351562031609, \"sentence\": \"---------------------- Forwarded by Phillip K Allen/HOU/ECT on 10/04/2000 04:23 PM --------------------------- Enron North America Corp. From: Airam Arteaga 10/04/2000 12:23 PM To: Phillip K Allen/HOU/ECT@ECT, Thomas A Martin/HOU/ECT@ECT, Scott Neal/HOU/ECT@ECT, John Arnold/HOU/ECT@ECT, Grant Masson/HOU/ECT@ECT, Ted Murphy/HOU/ECT@ECT, Vladimir Gorny/HOU/ECT@ECT, Frank Hayden/Corp/Enron@Enron cc: Rita Hennessy/NA/Enron@Enron, Ina Rangel/HOU/ECT@ECT, Laura Harder/Corp/Enron@Enron, Kimberly Brown/HOU/ECT@ECT, Araceli Romero/NA/Enron@Enron, Kimberly Hillis/HOU/ECT@ect Subject: Var, Reporting and Resources Meeting Please plan to attend the below Meeting: Topic: Var, Reporting and Resources Meeting Date: Wednesday, October 11th Time: 2:30 - 3:30 Location: EB30C1 If you have any questions/conflicts, please feel free to call me. Thanks, Rain x.31560\"}, {\"index\": 17, \"strong\": 0.16569826147672992, \"diminish\": 99.83430173852327, \"sentence\": \"Tim, mike grigsby is having problems with accessing the west power site. Can you please make sure he has an active password. Thank you, Phillip\"}, {\"index\": 18, \"strong\": 0.16582304265455783, \"diminish\": 99.83417695734545, \"sentence\": \"---------------------- Forwarded by Phillip K Allen/HOU/ECT on 10/03/2000 04:30 PM --------------------------- \\\"George Richards\\\" <cbpres@austin.rr.com> on 10/03/2000 06:35:56 AM Please respond to <cbpres@austin.rr.com> To: \\\"Phillip Allen\\\" <pallen@enron.com> cc: \\\"Larry Lewter\\\" <retwell@mail.sanmarcos.net> Subject: Westgate Westgate Enclosed are demographics on the Westgate site from Investor's Alliance. Investor's Alliance says that these demographics are similar to the package on San Marcos that you received earlier. If there are any other questions or information requirements, let me know. Then, let me know your interest level in the Westgate project? San Marcos The property across the street from the Sagewood units in San Marcos is for sale and approved for 134 units. The land is selling for $2.50 per square foot as it is one of only two remaining approved multifamily parcels in West San Marcos, which now has a moratorium on development. Several new studies we have looked at show that the rents for our duplexes and for these new units are going to be significantly higher, roughly $1.25 per square foot if leased for the entire unit on a 12-month lease and $1.30-$1.40 psf if leased on a 12-month term, but by individual room. This property will have the best location for student housing of all new projects, just as the duplexes do now. If this project is of serious interest to you, please let me know as there is a very, very short window of opportunity. The equity requirement is not yet known, but it would be likely to be $300,000 to secure the land. I will know more on this question later today. Sincerely, George W. Richards President, Creekside Builders, LLC - winmail.dat\"}, {\"index\": 19, \"strong\": 0.06626345380429907, \"diminish\": 99.9337365461957, \"sentence\": \"---------------------- Forwarded by Phillip K Allen/HOU/ECT on 10/03/2000 04:13 PM --------------------------- Nancy Hall@ENRON 10/02/2000 06:42 AM To: Mark Whitt/NA/Enron@Enron, Phillip K Allen/HOU/ECT@ECT, Paul T Lucci/NA/Enron@Enron, Paul Bieniawski/Corp/Enron@ENRON, Tyrell Harrison/NA/Enron@Enron cc: Jean Mrha/NA/Enron@Enron, Ina Rangel/HOU/ECT@ECT, Monica Jackson/Corp/Enron@ENRON Subject: Meeting re: Storage Strategies in the West There will be a meeting on Tuesday, Oct. 10th at 4:00pm in EB3270 regarding Storage Strategies in the West. Please mark your calendars. Thank you! Regards, Nancy Hall ENA Denver office 303-575-6490\"}]}}, {\"mode\": \"vega-lite\"});\n",
              "</script>"
            ]
          },
          "metadata": {
            "tags": []
          }
        },
        {
          "output_type": "stream",
          "text": [
            "10  Mr. Buckner, For delivered gas behind San Diego, Enron Energy Services is the appropriate Enron entity. I have forwarded your request to Zarin Imam at EES. Her phone number is 713-853-7107. Phillip Allen\n",
            "11  Lucy, Here are the rentrolls: Open them and save in the rentroll folder. Follow these steps so you don't misplace these files. 1. Click on Save As 2. Click on the drop down triangle under Save in: 3. Click on the (C): drive 4. Click on the appropriate folder 5. Click on Save: Phillip\n",
            "12  ---------------------- Forwarded by Phillip K Allen/HOU/ECT on 10/09/2000 02:16 PM --------------------------- Richard Burchfield 10/06/2000 06:59 AM To: Phillip K Allen/HOU/ECT@ECT cc: Beth Perlman/HOU/ECT@ECT Subject: Consolidated positions: Issues & To Do list Phillip, Below is the issues & to do list as we go forward with documenting the requirements for consolidated physical/financial positions and transport trade capture. What we need to focus on is the first bullet in Allan's list; the need for a single set of requirements. Although the meeting with Keith, on Wednesday, was informative the solution of creating a infinitely dynamic consolidated position screen, will be extremely difficult and time consuming. Throughout the meeting on Wednesday, Keith alluded to the inability to get consensus amongst the traders on the presentation of the consolidated position, so the solution was to make it so that a trader can arrange the position screen to their liking (much like Excel). What needs to happen on Monday from 3 - 5 is a effort to design a desired layout for the consolidated position screen, this is critical. This does not exclude building a capability to create a more flexible position presentation for the future, but in order to create a plan that can be measured we need firm requirements. Also, to reiterate that the goals of this project is a project plan on consolidate physical/financial positions and transport trade capture. The other issues that have been raised will be capture as projects on to themselves, and will need to be prioritised as efforts outside of this project. I have been involved in most of the meetings and the discussions have been good. I believe there has been good communication between the teams, but now we need to have focus on the objectives we set out to solve. Richard ---------------------- Forwarded by Richard Burchfield/HOU/ECT on 10/06/2000 08:34 AM --------------------------- Allan Severude 10/05/2000 06:03 PM To: Richard Burchfield/HOU/ECT@ECT cc: Peggy Alix/HOU/ECT@ECT, Russ Severson/HOU/ECT@ECT, Scott Mills/HOU/ECT@ECT, Kenny Ha/HOU/ECT@ECT Subject: Consolidated positions: Issues & To Do list From our initial set of meetings with the traders regarding consolidated positions, I think we still have the following issues: We don't have a single point of contact from the trading group. We've had three meetings which brought out very different issues from different traders. We really need a single point of contact to help drive the trader requirements and help come to a consensus regarding the requirements. We're getting hit with a lot of different requests, many of which appear to be outside the scope of position consolidation. Things left to do: I think it may be useful to try to formulate a high level project goal to make it as clear as possible what we're trying to accomplish with this project. It'll help determine which requests fall under the project scope. Go through the list of requests to determine which are in scope for this project and which fall out of scope. For those in scope, work to define relative importance (priority) of each and work with traders to define the exact requirements of each. Define the desired lay out of the position manager screen: main view and all drill downs. Use the above to formulate a project plan. Things requested thus far (no particular order): Inclusion of Sitara physical deals into the TDS position manager and deal ticker. Customized rows and columns in the position manager (ad hoc rows/columns that add up existing position manager rows/columns). New drill down in the position manager to break out positions by: physical, transport, swaps, options, ... Addition of a curve tab to the position manager to show the real-time values of all curves on which the desk has a position. Ability to split the current position grid to allow daily positions to be shown directly above monthly positions. Each grouped column in the top grid would be tied to a grouped column in the bottom grid. Ability to properly show curve shift for float-for-float deals; determine the appropriate positions to show for each: Gas Daily for monthly index, Physical gas for Nymex, Physical gas for Inside Ferc, Physical gas for Mid market. Ability for TDS to pull valuation results based on a TDS flag instead of using official valuations. Position and P&L aggregation across all gas desks. Ability to include the Gas Price book into TDS: Inclusion of spread options in our systems. Ability to handle volatility skew and correlations. Ability to revalue all options incrementally throughout the trading day. Approximate delta changes between valuations using instantaneous gamma or a gamma grid. Valuation of Gas Daily options. A new position screen for options (months x strike x delta). TBD. Inclusion of positions for exotic options currently managed in spreadsheets. Ability to isolate the position change due to changed deals in the position manager. Ability to view change deal P&L in the TDS deal ticker. Show new deal terms, prior deal terms, and net P&L affect of the change. Eliminate change deals with no economic impact from the TDS deal ticker. Position drill down in the position manager to isolate the impact of individual deals on the position total in a grid cell. Benchmark positions in TDS. Deployment of TDS in Canada. Currency and volume uom conversions. Implicit and explicit position break out issues. -- Allan. PS: Colleen is setting up a meeting tomorrow to discuss the direction for transport. Hopefully we'll know much better where that part stands at that point.\n",
            "13  ---------------------- Forwarded by Phillip K Allen/HOU/ECT on 10/09/2000 02:00 PM --------------------------- Richard Burchfield 10/06/2000 06:59 AM To: Phillip K Allen/HOU/ECT@ECT cc: Beth Perlman/HOU/ECT@ECT Subject: Consolidated positions: Issues & To Do list Phillip, Below is the issues & to do list as we go forward with documenting the requirements for consolidated physical/financial positions and transport trade capture. What we need to focus on is the first bullet in Allan's list; the need for a single set of requirements. Although the meeting with Keith, on Wednesday, was informative the solution of creating a infinitely dynamic consolidated position screen, will be extremely difficult and time consuming. Throughout the meeting on Wednesday, Keith alluded to the inability to get consensus amongst the traders on the presentation of the consolidated position, so the solution was to make it so that a trader can arrange the position screen to their liking (much like Excel). What needs to happen on Monday from 3 - 5 is a effort to design a desired layout for the consolidated position screen, this is critical. This does not exclude building a capability to create a more flexible position presentation for the future, but in order to create a plan that can be measured we need firm requirements. Also, to reiterate that the goals of this project is a project plan on consolidate physical/financial positions and transport trade capture. The other issues that have been raised will be capture as projects on to themselves, and will need to be prioritised as efforts outside of this project. I have been involved in most of the meetings and the discussions have been good. I believe there has been good communication between the teams, but now we need to have focus on the objectives we set out to solve. Richard ---------------------- Forwarded by Richard Burchfield/HOU/ECT on 10/06/2000 08:34 AM --------------------------- Allan Severude 10/05/2000 06:03 PM To: Richard Burchfield/HOU/ECT@ECT cc: Peggy Alix/HOU/ECT@ECT, Russ Severson/HOU/ECT@ECT, Scott Mills/HOU/ECT@ECT, Kenny Ha/HOU/ECT@ECT Subject: Consolidated positions: Issues & To Do list From our initial set of meetings with the traders regarding consolidated positions, I think we still have the following issues: We don't have a single point of contact from the trading group. We've had three meetings which brought out very different issues from different traders. We really need a single point of contact to help drive the trader requirements and help come to a consensus regarding the requirements. We're getting hit with a lot of different requests, many of which appear to be outside the scope of position consolidation. Things left to do: I think it may be useful to try to formulate a high level project goal to make it as clear as possible what we're trying to accomplish with this project. It'll help determine which requests fall under the project scope. Go through the list of requests to determine which are in scope for this project and which fall out of scope. For those in scope, work to define relative importance (priority) of each and work with traders to define the exact requirements of each. Define the desired lay out of the position manager screen: main view and all drill downs. Use the above to formulate a project plan. Things requested thus far (no particular order): Inclusion of Sitara physical deals into the TDS position manager and deal ticker. Customized rows and columns in the position manager (ad hoc rows/columns that add up existing position manager rows/columns). New drill down in the position manager to break out positions by: physical, transport, swaps, options, ... Addition of a curve tab to the position manager to show the real-time values of all curves on which the desk has a position. Ability to split the current position grid to allow daily positions to be shown directly above monthly positions. Each grouped column in the top grid would be tied to a grouped column in the bottom grid. Ability to properly show curve shift for float-for-float deals; determine the appropriate positions to show for each: Gas Daily for monthly index, Physical gas for Nymex, Physical gas for Inside Ferc, Physical gas for Mid market. Ability for TDS to pull valuation results based on a TDS flag instead of using official valuations. Position and P&L aggregation across all gas desks. Ability to include the Gas Price book into TDS: Inclusion of spread options in our systems. Ability to handle volatility skew and correlations. Ability to revalue all options incrementally throughout the trading day. Approximate delta changes between valuations using instantaneous gamma or a gamma grid. Valuation of Gas Daily options. A new position screen for options (months x strike x delta). TBD. Inclusion of positions for exotic options currently managed in spreadsheets. Ability to isolate the position change due to changed deals in the position manager. Ability to view change deal P&L in the TDS deal ticker. Show new deal terms, prior deal terms, and net P&L affect of the change. Eliminate change deals with no economic impact from the TDS deal ticker. Position drill down in the position manager to isolate the impact of individual deals on the position total in a grid cell. Benchmark positions in TDS. Deployment of TDS in Canada. Currency and volume uom conversions. Implicit and explicit position break out issues. -- Allan. PS: Colleen is setting up a meeting tomorrow to discuss the direction for transport. Hopefully we'll know much better where that part stands at that point.\n",
            "14  Dave, Here are the names of the west desk members by category. The origination side is very sparse. Phillip\n",
            "15  Paula, 35 million is fine Phillip\n",
            "16  ---------------------- Forwarded by Phillip K Allen/HOU/ECT on 10/04/2000 04:23 PM --------------------------- Enron North America Corp. From: Airam Arteaga 10/04/2000 12:23 PM To: Phillip K Allen/HOU/ECT@ECT, Thomas A Martin/HOU/ECT@ECT, Scott Neal/HOU/ECT@ECT, John Arnold/HOU/ECT@ECT, Grant Masson/HOU/ECT@ECT, Ted Murphy/HOU/ECT@ECT, Vladimir Gorny/HOU/ECT@ECT, Frank Hayden/Corp/Enron@Enron cc: Rita Hennessy/NA/Enron@Enron, Ina Rangel/HOU/ECT@ECT, Laura Harder/Corp/Enron@Enron, Kimberly Brown/HOU/ECT@ECT, Araceli Romero/NA/Enron@Enron, Kimberly Hillis/HOU/ECT@ect Subject: Var, Reporting and Resources Meeting Please plan to attend the below Meeting: Topic: Var, Reporting and Resources Meeting Date: Wednesday, October 11th Time: 2:30 - 3:30 Location: EB30C1 If you have any questions/conflicts, please feel free to call me. Thanks, Rain x.31560\n",
            "17  Tim, mike grigsby is having problems with accessing the west power site. Can you please make sure he has an active password. Thank you, Phillip\n",
            "18  ---------------------- Forwarded by Phillip K Allen/HOU/ECT on 10/03/2000 04:30 PM --------------------------- \"George Richards\" <cbpres@austin.rr.com> on 10/03/2000 06:35:56 AM Please respond to <cbpres@austin.rr.com> To: \"Phillip Allen\" <pallen@enron.com> cc: \"Larry Lewter\" <retwell@mail.sanmarcos.net> Subject: Westgate Westgate Enclosed are demographics on the Westgate site from Investor's Alliance. Investor's Alliance says that these demographics are similar to the package on San Marcos that you received earlier. If there are any other questions or information requirements, let me know. Then, let me know your interest level in the Westgate project? San Marcos The property across the street from the Sagewood units in San Marcos is for sale and approved for 134 units. The land is selling for $2.50 per square foot as it is one of only two remaining approved multifamily parcels in West San Marcos, which now has a moratorium on development. Several new studies we have looked at show that the rents for our duplexes and for these new units are going to be significantly higher, roughly $1.25 per square foot if leased for the entire unit on a 12-month lease and $1.30-$1.40 psf if leased on a 12-month term, but by individual room. This property will have the best location for student housing of all new projects, just as the duplexes do now. If this project is of serious interest to you, please let me know as there is a very, very short window of opportunity. The equity requirement is not yet known, but it would be likely to be $300,000 to secure the land. I will know more on this question later today. Sincerely, George W. Richards President, Creekside Builders, LLC - winmail.dat\n",
            "19  ---------------------- Forwarded by Phillip K Allen/HOU/ECT on 10/03/2000 04:13 PM --------------------------- Nancy Hall@ENRON 10/02/2000 06:42 AM To: Mark Whitt/NA/Enron@Enron, Phillip K Allen/HOU/ECT@ECT, Paul T Lucci/NA/Enron@Enron, Paul Bieniawski/Corp/Enron@ENRON, Tyrell Harrison/NA/Enron@Enron cc: Jean Mrha/NA/Enron@Enron, Ina Rangel/HOU/ECT@ECT, Monica Jackson/Corp/Enron@ENRON Subject: Meeting re: Storage Strategies in the West There will be a meeting on Tuesday, Oct. 10th at 4:00pm in EB3270 regarding Storage Strategies in the West. Please mark your calendars. Thank you! Regards, Nancy Hall ENA Denver office 303-575-6490\n"
          ],
          "name": "stdout"
        }
      ]
    }
  ]
}