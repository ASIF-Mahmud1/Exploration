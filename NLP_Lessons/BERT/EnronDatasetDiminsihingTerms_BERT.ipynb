{
  "nbformat": 4,
  "nbformat_minor": 0,
  "metadata": {
    "colab": {
      "name": " EnronDatasetDiminsihingTerms:BERT.ipynb",
      "provenance": [],
      "collapsed_sections": [],
      "authorship_tag": "ABX9TyOTATM7w7lYPf9inxVC4DUP",
      "include_colab_link": true
    },
    "kernelspec": {
      "name": "python3",
      "display_name": "Python 3"
    },
    "language_info": {
      "name": "python"
    },
    "widgets": {
      "application/vnd.jupyter.widget-state+json": {
        "7617215daa7d41c09a83527be1ebf643": {
          "model_module": "@jupyter-widgets/controls",
          "model_name": "HBoxModel",
          "state": {
            "_view_name": "HBoxView",
            "_dom_classes": [],
            "_model_name": "HBoxModel",
            "_view_module": "@jupyter-widgets/controls",
            "_model_module_version": "1.5.0",
            "_view_count": null,
            "_view_module_version": "1.5.0",
            "box_style": "",
            "layout": "IPY_MODEL_03cae6769c5b4187bfe405c62ddae498",
            "_model_module": "@jupyter-widgets/controls",
            "children": [
              "IPY_MODEL_eca078a7a15547bc88089ece11f32fd0",
              "IPY_MODEL_de7ddb05f819444ebb7cccbf01a3a24e"
            ]
          }
        },
        "03cae6769c5b4187bfe405c62ddae498": {
          "model_module": "@jupyter-widgets/base",
          "model_name": "LayoutModel",
          "state": {
            "_view_name": "LayoutView",
            "grid_template_rows": null,
            "right": null,
            "justify_content": null,
            "_view_module": "@jupyter-widgets/base",
            "overflow": null,
            "_model_module_version": "1.2.0",
            "_view_count": null,
            "flex_flow": null,
            "width": null,
            "min_width": null,
            "border": null,
            "align_items": null,
            "bottom": null,
            "_model_module": "@jupyter-widgets/base",
            "top": null,
            "grid_column": null,
            "overflow_y": null,
            "overflow_x": null,
            "grid_auto_flow": null,
            "grid_area": null,
            "grid_template_columns": null,
            "flex": null,
            "_model_name": "LayoutModel",
            "justify_items": null,
            "grid_row": null,
            "max_height": null,
            "align_content": null,
            "visibility": null,
            "align_self": null,
            "height": null,
            "min_height": null,
            "padding": null,
            "grid_auto_rows": null,
            "grid_gap": null,
            "max_width": null,
            "order": null,
            "_view_module_version": "1.2.0",
            "grid_template_areas": null,
            "object_position": null,
            "object_fit": null,
            "grid_auto_columns": null,
            "margin": null,
            "display": null,
            "left": null
          }
        },
        "eca078a7a15547bc88089ece11f32fd0": {
          "model_module": "@jupyter-widgets/controls",
          "model_name": "FloatProgressModel",
          "state": {
            "_view_name": "ProgressView",
            "style": "IPY_MODEL_62c28478526545d49e004e637ec99ec0",
            "_dom_classes": [],
            "description": "Downloading: 100%",
            "_model_name": "FloatProgressModel",
            "bar_style": "success",
            "max": 433,
            "_view_module": "@jupyter-widgets/controls",
            "_model_module_version": "1.5.0",
            "value": 433,
            "_view_count": null,
            "_view_module_version": "1.5.0",
            "orientation": "horizontal",
            "min": 0,
            "description_tooltip": null,
            "_model_module": "@jupyter-widgets/controls",
            "layout": "IPY_MODEL_1cfe02a9c1ad4c71b67eaff2f27bdc75"
          }
        },
        "de7ddb05f819444ebb7cccbf01a3a24e": {
          "model_module": "@jupyter-widgets/controls",
          "model_name": "HTMLModel",
          "state": {
            "_view_name": "HTMLView",
            "style": "IPY_MODEL_3ed67b0d6e47431cae6a8ab3a606d489",
            "_dom_classes": [],
            "description": "",
            "_model_name": "HTMLModel",
            "placeholder": "​",
            "_view_module": "@jupyter-widgets/controls",
            "_model_module_version": "1.5.0",
            "value": " 433/433 [00:00&lt;00:00, 3.15kB/s]",
            "_view_count": null,
            "_view_module_version": "1.5.0",
            "description_tooltip": null,
            "_model_module": "@jupyter-widgets/controls",
            "layout": "IPY_MODEL_c69e196c1dd64f978c0c051d3054dd24"
          }
        },
        "62c28478526545d49e004e637ec99ec0": {
          "model_module": "@jupyter-widgets/controls",
          "model_name": "ProgressStyleModel",
          "state": {
            "_view_name": "StyleView",
            "_model_name": "ProgressStyleModel",
            "description_width": "initial",
            "_view_module": "@jupyter-widgets/base",
            "_model_module_version": "1.5.0",
            "_view_count": null,
            "_view_module_version": "1.2.0",
            "bar_color": null,
            "_model_module": "@jupyter-widgets/controls"
          }
        },
        "1cfe02a9c1ad4c71b67eaff2f27bdc75": {
          "model_module": "@jupyter-widgets/base",
          "model_name": "LayoutModel",
          "state": {
            "_view_name": "LayoutView",
            "grid_template_rows": null,
            "right": null,
            "justify_content": null,
            "_view_module": "@jupyter-widgets/base",
            "overflow": null,
            "_model_module_version": "1.2.0",
            "_view_count": null,
            "flex_flow": null,
            "width": null,
            "min_width": null,
            "border": null,
            "align_items": null,
            "bottom": null,
            "_model_module": "@jupyter-widgets/base",
            "top": null,
            "grid_column": null,
            "overflow_y": null,
            "overflow_x": null,
            "grid_auto_flow": null,
            "grid_area": null,
            "grid_template_columns": null,
            "flex": null,
            "_model_name": "LayoutModel",
            "justify_items": null,
            "grid_row": null,
            "max_height": null,
            "align_content": null,
            "visibility": null,
            "align_self": null,
            "height": null,
            "min_height": null,
            "padding": null,
            "grid_auto_rows": null,
            "grid_gap": null,
            "max_width": null,
            "order": null,
            "_view_module_version": "1.2.0",
            "grid_template_areas": null,
            "object_position": null,
            "object_fit": null,
            "grid_auto_columns": null,
            "margin": null,
            "display": null,
            "left": null
          }
        },
        "3ed67b0d6e47431cae6a8ab3a606d489": {
          "model_module": "@jupyter-widgets/controls",
          "model_name": "DescriptionStyleModel",
          "state": {
            "_view_name": "StyleView",
            "_model_name": "DescriptionStyleModel",
            "description_width": "",
            "_view_module": "@jupyter-widgets/base",
            "_model_module_version": "1.5.0",
            "_view_count": null,
            "_view_module_version": "1.2.0",
            "_model_module": "@jupyter-widgets/controls"
          }
        },
        "c69e196c1dd64f978c0c051d3054dd24": {
          "model_module": "@jupyter-widgets/base",
          "model_name": "LayoutModel",
          "state": {
            "_view_name": "LayoutView",
            "grid_template_rows": null,
            "right": null,
            "justify_content": null,
            "_view_module": "@jupyter-widgets/base",
            "overflow": null,
            "_model_module_version": "1.2.0",
            "_view_count": null,
            "flex_flow": null,
            "width": null,
            "min_width": null,
            "border": null,
            "align_items": null,
            "bottom": null,
            "_model_module": "@jupyter-widgets/base",
            "top": null,
            "grid_column": null,
            "overflow_y": null,
            "overflow_x": null,
            "grid_auto_flow": null,
            "grid_area": null,
            "grid_template_columns": null,
            "flex": null,
            "_model_name": "LayoutModel",
            "justify_items": null,
            "grid_row": null,
            "max_height": null,
            "align_content": null,
            "visibility": null,
            "align_self": null,
            "height": null,
            "min_height": null,
            "padding": null,
            "grid_auto_rows": null,
            "grid_gap": null,
            "max_width": null,
            "order": null,
            "_view_module_version": "1.2.0",
            "grid_template_areas": null,
            "object_position": null,
            "object_fit": null,
            "grid_auto_columns": null,
            "margin": null,
            "display": null,
            "left": null
          }
        },
        "801852b37d3246fe9ead576ebe09226f": {
          "model_module": "@jupyter-widgets/controls",
          "model_name": "HBoxModel",
          "state": {
            "_view_name": "HBoxView",
            "_dom_classes": [],
            "_model_name": "HBoxModel",
            "_view_module": "@jupyter-widgets/controls",
            "_model_module_version": "1.5.0",
            "_view_count": null,
            "_view_module_version": "1.5.0",
            "box_style": "",
            "layout": "IPY_MODEL_e6440727252a40b78d6fbd05a322e7ed",
            "_model_module": "@jupyter-widgets/controls",
            "children": [
              "IPY_MODEL_c057cd18c30a44cfa594b520c8ac7088",
              "IPY_MODEL_a1795a79aa334052bd61d017c40d0147"
            ]
          }
        },
        "e6440727252a40b78d6fbd05a322e7ed": {
          "model_module": "@jupyter-widgets/base",
          "model_name": "LayoutModel",
          "state": {
            "_view_name": "LayoutView",
            "grid_template_rows": null,
            "right": null,
            "justify_content": null,
            "_view_module": "@jupyter-widgets/base",
            "overflow": null,
            "_model_module_version": "1.2.0",
            "_view_count": null,
            "flex_flow": null,
            "width": null,
            "min_width": null,
            "border": null,
            "align_items": null,
            "bottom": null,
            "_model_module": "@jupyter-widgets/base",
            "top": null,
            "grid_column": null,
            "overflow_y": null,
            "overflow_x": null,
            "grid_auto_flow": null,
            "grid_area": null,
            "grid_template_columns": null,
            "flex": null,
            "_model_name": "LayoutModel",
            "justify_items": null,
            "grid_row": null,
            "max_height": null,
            "align_content": null,
            "visibility": null,
            "align_self": null,
            "height": null,
            "min_height": null,
            "padding": null,
            "grid_auto_rows": null,
            "grid_gap": null,
            "max_width": null,
            "order": null,
            "_view_module_version": "1.2.0",
            "grid_template_areas": null,
            "object_position": null,
            "object_fit": null,
            "grid_auto_columns": null,
            "margin": null,
            "display": null,
            "left": null
          }
        },
        "c057cd18c30a44cfa594b520c8ac7088": {
          "model_module": "@jupyter-widgets/controls",
          "model_name": "FloatProgressModel",
          "state": {
            "_view_name": "ProgressView",
            "style": "IPY_MODEL_945626fd553247e9863214b417cfe90e",
            "_dom_classes": [],
            "description": "Downloading: 100%",
            "_model_name": "FloatProgressModel",
            "bar_style": "success",
            "max": 440473133,
            "_view_module": "@jupyter-widgets/controls",
            "_model_module_version": "1.5.0",
            "value": 440473133,
            "_view_count": null,
            "_view_module_version": "1.5.0",
            "orientation": "horizontal",
            "min": 0,
            "description_tooltip": null,
            "_model_module": "@jupyter-widgets/controls",
            "layout": "IPY_MODEL_3313bbeaee304f829684dbd962725069"
          }
        },
        "a1795a79aa334052bd61d017c40d0147": {
          "model_module": "@jupyter-widgets/controls",
          "model_name": "HTMLModel",
          "state": {
            "_view_name": "HTMLView",
            "style": "IPY_MODEL_5e0ce3c6decc41619313b3a8bf6a50af",
            "_dom_classes": [],
            "description": "",
            "_model_name": "HTMLModel",
            "placeholder": "​",
            "_view_module": "@jupyter-widgets/controls",
            "_model_module_version": "1.5.0",
            "value": " 440M/440M [00:10&lt;00:00, 42.0MB/s]",
            "_view_count": null,
            "_view_module_version": "1.5.0",
            "description_tooltip": null,
            "_model_module": "@jupyter-widgets/controls",
            "layout": "IPY_MODEL_795e2aeefe8f4268ad644d96b737f000"
          }
        },
        "945626fd553247e9863214b417cfe90e": {
          "model_module": "@jupyter-widgets/controls",
          "model_name": "ProgressStyleModel",
          "state": {
            "_view_name": "StyleView",
            "_model_name": "ProgressStyleModel",
            "description_width": "initial",
            "_view_module": "@jupyter-widgets/base",
            "_model_module_version": "1.5.0",
            "_view_count": null,
            "_view_module_version": "1.2.0",
            "bar_color": null,
            "_model_module": "@jupyter-widgets/controls"
          }
        },
        "3313bbeaee304f829684dbd962725069": {
          "model_module": "@jupyter-widgets/base",
          "model_name": "LayoutModel",
          "state": {
            "_view_name": "LayoutView",
            "grid_template_rows": null,
            "right": null,
            "justify_content": null,
            "_view_module": "@jupyter-widgets/base",
            "overflow": null,
            "_model_module_version": "1.2.0",
            "_view_count": null,
            "flex_flow": null,
            "width": null,
            "min_width": null,
            "border": null,
            "align_items": null,
            "bottom": null,
            "_model_module": "@jupyter-widgets/base",
            "top": null,
            "grid_column": null,
            "overflow_y": null,
            "overflow_x": null,
            "grid_auto_flow": null,
            "grid_area": null,
            "grid_template_columns": null,
            "flex": null,
            "_model_name": "LayoutModel",
            "justify_items": null,
            "grid_row": null,
            "max_height": null,
            "align_content": null,
            "visibility": null,
            "align_self": null,
            "height": null,
            "min_height": null,
            "padding": null,
            "grid_auto_rows": null,
            "grid_gap": null,
            "max_width": null,
            "order": null,
            "_view_module_version": "1.2.0",
            "grid_template_areas": null,
            "object_position": null,
            "object_fit": null,
            "grid_auto_columns": null,
            "margin": null,
            "display": null,
            "left": null
          }
        },
        "5e0ce3c6decc41619313b3a8bf6a50af": {
          "model_module": "@jupyter-widgets/controls",
          "model_name": "DescriptionStyleModel",
          "state": {
            "_view_name": "StyleView",
            "_model_name": "DescriptionStyleModel",
            "description_width": "",
            "_view_module": "@jupyter-widgets/base",
            "_model_module_version": "1.5.0",
            "_view_count": null,
            "_view_module_version": "1.2.0",
            "_model_module": "@jupyter-widgets/controls"
          }
        },
        "795e2aeefe8f4268ad644d96b737f000": {
          "model_module": "@jupyter-widgets/base",
          "model_name": "LayoutModel",
          "state": {
            "_view_name": "LayoutView",
            "grid_template_rows": null,
            "right": null,
            "justify_content": null,
            "_view_module": "@jupyter-widgets/base",
            "overflow": null,
            "_model_module_version": "1.2.0",
            "_view_count": null,
            "flex_flow": null,
            "width": null,
            "min_width": null,
            "border": null,
            "align_items": null,
            "bottom": null,
            "_model_module": "@jupyter-widgets/base",
            "top": null,
            "grid_column": null,
            "overflow_y": null,
            "overflow_x": null,
            "grid_auto_flow": null,
            "grid_area": null,
            "grid_template_columns": null,
            "flex": null,
            "_model_name": "LayoutModel",
            "justify_items": null,
            "grid_row": null,
            "max_height": null,
            "align_content": null,
            "visibility": null,
            "align_self": null,
            "height": null,
            "min_height": null,
            "padding": null,
            "grid_auto_rows": null,
            "grid_gap": null,
            "max_width": null,
            "order": null,
            "_view_module_version": "1.2.0",
            "grid_template_areas": null,
            "object_position": null,
            "object_fit": null,
            "grid_auto_columns": null,
            "margin": null,
            "display": null,
            "left": null
          }
        },
        "5b62de2771cd460996941894ebba902f": {
          "model_module": "@jupyter-widgets/controls",
          "model_name": "HBoxModel",
          "state": {
            "_view_name": "HBoxView",
            "_dom_classes": [],
            "_model_name": "HBoxModel",
            "_view_module": "@jupyter-widgets/controls",
            "_model_module_version": "1.5.0",
            "_view_count": null,
            "_view_module_version": "1.5.0",
            "box_style": "",
            "layout": "IPY_MODEL_07e894204d154032906b4fb34065387e",
            "_model_module": "@jupyter-widgets/controls",
            "children": [
              "IPY_MODEL_bddd46a921f5452ab80bd04efdbe48ce",
              "IPY_MODEL_c45b2be0011f4cb2af14f3c3a321d246"
            ]
          }
        },
        "07e894204d154032906b4fb34065387e": {
          "model_module": "@jupyter-widgets/base",
          "model_name": "LayoutModel",
          "state": {
            "_view_name": "LayoutView",
            "grid_template_rows": null,
            "right": null,
            "justify_content": null,
            "_view_module": "@jupyter-widgets/base",
            "overflow": null,
            "_model_module_version": "1.2.0",
            "_view_count": null,
            "flex_flow": null,
            "width": null,
            "min_width": null,
            "border": null,
            "align_items": null,
            "bottom": null,
            "_model_module": "@jupyter-widgets/base",
            "top": null,
            "grid_column": null,
            "overflow_y": null,
            "overflow_x": null,
            "grid_auto_flow": null,
            "grid_area": null,
            "grid_template_columns": null,
            "flex": null,
            "_model_name": "LayoutModel",
            "justify_items": null,
            "grid_row": null,
            "max_height": null,
            "align_content": null,
            "visibility": null,
            "align_self": null,
            "height": null,
            "min_height": null,
            "padding": null,
            "grid_auto_rows": null,
            "grid_gap": null,
            "max_width": null,
            "order": null,
            "_view_module_version": "1.2.0",
            "grid_template_areas": null,
            "object_position": null,
            "object_fit": null,
            "grid_auto_columns": null,
            "margin": null,
            "display": null,
            "left": null
          }
        },
        "bddd46a921f5452ab80bd04efdbe48ce": {
          "model_module": "@jupyter-widgets/controls",
          "model_name": "FloatProgressModel",
          "state": {
            "_view_name": "ProgressView",
            "style": "IPY_MODEL_b4ac1c4a6c814f25a9e463aee0f0bd3d",
            "_dom_classes": [],
            "description": "Downloading: 100%",
            "_model_name": "FloatProgressModel",
            "bar_style": "success",
            "max": 231508,
            "_view_module": "@jupyter-widgets/controls",
            "_model_module_version": "1.5.0",
            "value": 231508,
            "_view_count": null,
            "_view_module_version": "1.5.0",
            "orientation": "horizontal",
            "min": 0,
            "description_tooltip": null,
            "_model_module": "@jupyter-widgets/controls",
            "layout": "IPY_MODEL_6c404fa8891e472fa00e4c821d75383d"
          }
        },
        "c45b2be0011f4cb2af14f3c3a321d246": {
          "model_module": "@jupyter-widgets/controls",
          "model_name": "HTMLModel",
          "state": {
            "_view_name": "HTMLView",
            "style": "IPY_MODEL_32b884acb46f487a83b086f91483626f",
            "_dom_classes": [],
            "description": "",
            "_model_name": "HTMLModel",
            "placeholder": "​",
            "_view_module": "@jupyter-widgets/controls",
            "_model_module_version": "1.5.0",
            "value": " 232k/232k [00:00&lt;00:00, 669kB/s]",
            "_view_count": null,
            "_view_module_version": "1.5.0",
            "description_tooltip": null,
            "_model_module": "@jupyter-widgets/controls",
            "layout": "IPY_MODEL_d70942bd69c1482d8c11c5c9d030c657"
          }
        },
        "b4ac1c4a6c814f25a9e463aee0f0bd3d": {
          "model_module": "@jupyter-widgets/controls",
          "model_name": "ProgressStyleModel",
          "state": {
            "_view_name": "StyleView",
            "_model_name": "ProgressStyleModel",
            "description_width": "initial",
            "_view_module": "@jupyter-widgets/base",
            "_model_module_version": "1.5.0",
            "_view_count": null,
            "_view_module_version": "1.2.0",
            "bar_color": null,
            "_model_module": "@jupyter-widgets/controls"
          }
        },
        "6c404fa8891e472fa00e4c821d75383d": {
          "model_module": "@jupyter-widgets/base",
          "model_name": "LayoutModel",
          "state": {
            "_view_name": "LayoutView",
            "grid_template_rows": null,
            "right": null,
            "justify_content": null,
            "_view_module": "@jupyter-widgets/base",
            "overflow": null,
            "_model_module_version": "1.2.0",
            "_view_count": null,
            "flex_flow": null,
            "width": null,
            "min_width": null,
            "border": null,
            "align_items": null,
            "bottom": null,
            "_model_module": "@jupyter-widgets/base",
            "top": null,
            "grid_column": null,
            "overflow_y": null,
            "overflow_x": null,
            "grid_auto_flow": null,
            "grid_area": null,
            "grid_template_columns": null,
            "flex": null,
            "_model_name": "LayoutModel",
            "justify_items": null,
            "grid_row": null,
            "max_height": null,
            "align_content": null,
            "visibility": null,
            "align_self": null,
            "height": null,
            "min_height": null,
            "padding": null,
            "grid_auto_rows": null,
            "grid_gap": null,
            "max_width": null,
            "order": null,
            "_view_module_version": "1.2.0",
            "grid_template_areas": null,
            "object_position": null,
            "object_fit": null,
            "grid_auto_columns": null,
            "margin": null,
            "display": null,
            "left": null
          }
        },
        "32b884acb46f487a83b086f91483626f": {
          "model_module": "@jupyter-widgets/controls",
          "model_name": "DescriptionStyleModel",
          "state": {
            "_view_name": "StyleView",
            "_model_name": "DescriptionStyleModel",
            "description_width": "",
            "_view_module": "@jupyter-widgets/base",
            "_model_module_version": "1.5.0",
            "_view_count": null,
            "_view_module_version": "1.2.0",
            "_model_module": "@jupyter-widgets/controls"
          }
        },
        "d70942bd69c1482d8c11c5c9d030c657": {
          "model_module": "@jupyter-widgets/base",
          "model_name": "LayoutModel",
          "state": {
            "_view_name": "LayoutView",
            "grid_template_rows": null,
            "right": null,
            "justify_content": null,
            "_view_module": "@jupyter-widgets/base",
            "overflow": null,
            "_model_module_version": "1.2.0",
            "_view_count": null,
            "flex_flow": null,
            "width": null,
            "min_width": null,
            "border": null,
            "align_items": null,
            "bottom": null,
            "_model_module": "@jupyter-widgets/base",
            "top": null,
            "grid_column": null,
            "overflow_y": null,
            "overflow_x": null,
            "grid_auto_flow": null,
            "grid_area": null,
            "grid_template_columns": null,
            "flex": null,
            "_model_name": "LayoutModel",
            "justify_items": null,
            "grid_row": null,
            "max_height": null,
            "align_content": null,
            "visibility": null,
            "align_self": null,
            "height": null,
            "min_height": null,
            "padding": null,
            "grid_auto_rows": null,
            "grid_gap": null,
            "max_width": null,
            "order": null,
            "_view_module_version": "1.2.0",
            "grid_template_areas": null,
            "object_position": null,
            "object_fit": null,
            "grid_auto_columns": null,
            "margin": null,
            "display": null,
            "left": null
          }
        },
        "38bcb10524394c9199417bcbd9b967c2": {
          "model_module": "@jupyter-widgets/controls",
          "model_name": "HBoxModel",
          "state": {
            "_view_name": "HBoxView",
            "_dom_classes": [],
            "_model_name": "HBoxModel",
            "_view_module": "@jupyter-widgets/controls",
            "_model_module_version": "1.5.0",
            "_view_count": null,
            "_view_module_version": "1.5.0",
            "box_style": "",
            "layout": "IPY_MODEL_25536de374354090905c125f05973b2a",
            "_model_module": "@jupyter-widgets/controls",
            "children": [
              "IPY_MODEL_b7db065e87f0472cb3151e59aae9a4e7",
              "IPY_MODEL_8b5ef02a84694a1b93f8aa0a78102137"
            ]
          }
        },
        "25536de374354090905c125f05973b2a": {
          "model_module": "@jupyter-widgets/base",
          "model_name": "LayoutModel",
          "state": {
            "_view_name": "LayoutView",
            "grid_template_rows": null,
            "right": null,
            "justify_content": null,
            "_view_module": "@jupyter-widgets/base",
            "overflow": null,
            "_model_module_version": "1.2.0",
            "_view_count": null,
            "flex_flow": null,
            "width": null,
            "min_width": null,
            "border": null,
            "align_items": null,
            "bottom": null,
            "_model_module": "@jupyter-widgets/base",
            "top": null,
            "grid_column": null,
            "overflow_y": null,
            "overflow_x": null,
            "grid_auto_flow": null,
            "grid_area": null,
            "grid_template_columns": null,
            "flex": null,
            "_model_name": "LayoutModel",
            "justify_items": null,
            "grid_row": null,
            "max_height": null,
            "align_content": null,
            "visibility": null,
            "align_self": null,
            "height": null,
            "min_height": null,
            "padding": null,
            "grid_auto_rows": null,
            "grid_gap": null,
            "max_width": null,
            "order": null,
            "_view_module_version": "1.2.0",
            "grid_template_areas": null,
            "object_position": null,
            "object_fit": null,
            "grid_auto_columns": null,
            "margin": null,
            "display": null,
            "left": null
          }
        },
        "b7db065e87f0472cb3151e59aae9a4e7": {
          "model_module": "@jupyter-widgets/controls",
          "model_name": "FloatProgressModel",
          "state": {
            "_view_name": "ProgressView",
            "style": "IPY_MODEL_858cc3a0c25f4c5da4740120223c10be",
            "_dom_classes": [],
            "description": "Downloading: 100%",
            "_model_name": "FloatProgressModel",
            "bar_style": "success",
            "max": 28,
            "_view_module": "@jupyter-widgets/controls",
            "_model_module_version": "1.5.0",
            "value": 28,
            "_view_count": null,
            "_view_module_version": "1.5.0",
            "orientation": "horizontal",
            "min": 0,
            "description_tooltip": null,
            "_model_module": "@jupyter-widgets/controls",
            "layout": "IPY_MODEL_763459e93435478c924614ac62394cbc"
          }
        },
        "8b5ef02a84694a1b93f8aa0a78102137": {
          "model_module": "@jupyter-widgets/controls",
          "model_name": "HTMLModel",
          "state": {
            "_view_name": "HTMLView",
            "style": "IPY_MODEL_c30308635c684621b79598df47516db2",
            "_dom_classes": [],
            "description": "",
            "_model_name": "HTMLModel",
            "placeholder": "​",
            "_view_module": "@jupyter-widgets/controls",
            "_model_module_version": "1.5.0",
            "value": " 28.0/28.0 [00:00&lt;00:00, 88.8B/s]",
            "_view_count": null,
            "_view_module_version": "1.5.0",
            "description_tooltip": null,
            "_model_module": "@jupyter-widgets/controls",
            "layout": "IPY_MODEL_deb0e914440b4398b9d562ffdb7a1a4b"
          }
        },
        "858cc3a0c25f4c5da4740120223c10be": {
          "model_module": "@jupyter-widgets/controls",
          "model_name": "ProgressStyleModel",
          "state": {
            "_view_name": "StyleView",
            "_model_name": "ProgressStyleModel",
            "description_width": "initial",
            "_view_module": "@jupyter-widgets/base",
            "_model_module_version": "1.5.0",
            "_view_count": null,
            "_view_module_version": "1.2.0",
            "bar_color": null,
            "_model_module": "@jupyter-widgets/controls"
          }
        },
        "763459e93435478c924614ac62394cbc": {
          "model_module": "@jupyter-widgets/base",
          "model_name": "LayoutModel",
          "state": {
            "_view_name": "LayoutView",
            "grid_template_rows": null,
            "right": null,
            "justify_content": null,
            "_view_module": "@jupyter-widgets/base",
            "overflow": null,
            "_model_module_version": "1.2.0",
            "_view_count": null,
            "flex_flow": null,
            "width": null,
            "min_width": null,
            "border": null,
            "align_items": null,
            "bottom": null,
            "_model_module": "@jupyter-widgets/base",
            "top": null,
            "grid_column": null,
            "overflow_y": null,
            "overflow_x": null,
            "grid_auto_flow": null,
            "grid_area": null,
            "grid_template_columns": null,
            "flex": null,
            "_model_name": "LayoutModel",
            "justify_items": null,
            "grid_row": null,
            "max_height": null,
            "align_content": null,
            "visibility": null,
            "align_self": null,
            "height": null,
            "min_height": null,
            "padding": null,
            "grid_auto_rows": null,
            "grid_gap": null,
            "max_width": null,
            "order": null,
            "_view_module_version": "1.2.0",
            "grid_template_areas": null,
            "object_position": null,
            "object_fit": null,
            "grid_auto_columns": null,
            "margin": null,
            "display": null,
            "left": null
          }
        },
        "c30308635c684621b79598df47516db2": {
          "model_module": "@jupyter-widgets/controls",
          "model_name": "DescriptionStyleModel",
          "state": {
            "_view_name": "StyleView",
            "_model_name": "DescriptionStyleModel",
            "description_width": "",
            "_view_module": "@jupyter-widgets/base",
            "_model_module_version": "1.5.0",
            "_view_count": null,
            "_view_module_version": "1.2.0",
            "_model_module": "@jupyter-widgets/controls"
          }
        },
        "deb0e914440b4398b9d562ffdb7a1a4b": {
          "model_module": "@jupyter-widgets/base",
          "model_name": "LayoutModel",
          "state": {
            "_view_name": "LayoutView",
            "grid_template_rows": null,
            "right": null,
            "justify_content": null,
            "_view_module": "@jupyter-widgets/base",
            "overflow": null,
            "_model_module_version": "1.2.0",
            "_view_count": null,
            "flex_flow": null,
            "width": null,
            "min_width": null,
            "border": null,
            "align_items": null,
            "bottom": null,
            "_model_module": "@jupyter-widgets/base",
            "top": null,
            "grid_column": null,
            "overflow_y": null,
            "overflow_x": null,
            "grid_auto_flow": null,
            "grid_area": null,
            "grid_template_columns": null,
            "flex": null,
            "_model_name": "LayoutModel",
            "justify_items": null,
            "grid_row": null,
            "max_height": null,
            "align_content": null,
            "visibility": null,
            "align_self": null,
            "height": null,
            "min_height": null,
            "padding": null,
            "grid_auto_rows": null,
            "grid_gap": null,
            "max_width": null,
            "order": null,
            "_view_module_version": "1.2.0",
            "grid_template_areas": null,
            "object_position": null,
            "object_fit": null,
            "grid_auto_columns": null,
            "margin": null,
            "display": null,
            "left": null
          }
        },
        "7a8149763f7141dcb1ef4bd65df1eb3d": {
          "model_module": "@jupyter-widgets/controls",
          "model_name": "HBoxModel",
          "state": {
            "_view_name": "HBoxView",
            "_dom_classes": [],
            "_model_name": "HBoxModel",
            "_view_module": "@jupyter-widgets/controls",
            "_model_module_version": "1.5.0",
            "_view_count": null,
            "_view_module_version": "1.5.0",
            "box_style": "",
            "layout": "IPY_MODEL_095765a80f8345da91c45eda509055a1",
            "_model_module": "@jupyter-widgets/controls",
            "children": [
              "IPY_MODEL_adbc8d87cf3245569e6dabfe6388276a",
              "IPY_MODEL_5fd6cedd581648699f049ceeafa876bc"
            ]
          }
        },
        "095765a80f8345da91c45eda509055a1": {
          "model_module": "@jupyter-widgets/base",
          "model_name": "LayoutModel",
          "state": {
            "_view_name": "LayoutView",
            "grid_template_rows": null,
            "right": null,
            "justify_content": null,
            "_view_module": "@jupyter-widgets/base",
            "overflow": null,
            "_model_module_version": "1.2.0",
            "_view_count": null,
            "flex_flow": null,
            "width": null,
            "min_width": null,
            "border": null,
            "align_items": null,
            "bottom": null,
            "_model_module": "@jupyter-widgets/base",
            "top": null,
            "grid_column": null,
            "overflow_y": null,
            "overflow_x": null,
            "grid_auto_flow": null,
            "grid_area": null,
            "grid_template_columns": null,
            "flex": null,
            "_model_name": "LayoutModel",
            "justify_items": null,
            "grid_row": null,
            "max_height": null,
            "align_content": null,
            "visibility": null,
            "align_self": null,
            "height": null,
            "min_height": null,
            "padding": null,
            "grid_auto_rows": null,
            "grid_gap": null,
            "max_width": null,
            "order": null,
            "_view_module_version": "1.2.0",
            "grid_template_areas": null,
            "object_position": null,
            "object_fit": null,
            "grid_auto_columns": null,
            "margin": null,
            "display": null,
            "left": null
          }
        },
        "adbc8d87cf3245569e6dabfe6388276a": {
          "model_module": "@jupyter-widgets/controls",
          "model_name": "FloatProgressModel",
          "state": {
            "_view_name": "ProgressView",
            "style": "IPY_MODEL_90227ad34ccc4d5c8b3a5e45a53ae653",
            "_dom_classes": [],
            "description": "Downloading: 100%",
            "_model_name": "FloatProgressModel",
            "bar_style": "success",
            "max": 466062,
            "_view_module": "@jupyter-widgets/controls",
            "_model_module_version": "1.5.0",
            "value": 466062,
            "_view_count": null,
            "_view_module_version": "1.5.0",
            "orientation": "horizontal",
            "min": 0,
            "description_tooltip": null,
            "_model_module": "@jupyter-widgets/controls",
            "layout": "IPY_MODEL_77eaf01fbf7c40e4a4ed6363aa616b4a"
          }
        },
        "5fd6cedd581648699f049ceeafa876bc": {
          "model_module": "@jupyter-widgets/controls",
          "model_name": "HTMLModel",
          "state": {
            "_view_name": "HTMLView",
            "style": "IPY_MODEL_1422fad5312c4f44b3e89949452bb62b",
            "_dom_classes": [],
            "description": "",
            "_model_name": "HTMLModel",
            "placeholder": "​",
            "_view_module": "@jupyter-widgets/controls",
            "_model_module_version": "1.5.0",
            "value": " 466k/466k [00:00&lt;00:00, 3.77MB/s]",
            "_view_count": null,
            "_view_module_version": "1.5.0",
            "description_tooltip": null,
            "_model_module": "@jupyter-widgets/controls",
            "layout": "IPY_MODEL_3384946302414ccbab3ac4f33ef072a7"
          }
        },
        "90227ad34ccc4d5c8b3a5e45a53ae653": {
          "model_module": "@jupyter-widgets/controls",
          "model_name": "ProgressStyleModel",
          "state": {
            "_view_name": "StyleView",
            "_model_name": "ProgressStyleModel",
            "description_width": "initial",
            "_view_module": "@jupyter-widgets/base",
            "_model_module_version": "1.5.0",
            "_view_count": null,
            "_view_module_version": "1.2.0",
            "bar_color": null,
            "_model_module": "@jupyter-widgets/controls"
          }
        },
        "77eaf01fbf7c40e4a4ed6363aa616b4a": {
          "model_module": "@jupyter-widgets/base",
          "model_name": "LayoutModel",
          "state": {
            "_view_name": "LayoutView",
            "grid_template_rows": null,
            "right": null,
            "justify_content": null,
            "_view_module": "@jupyter-widgets/base",
            "overflow": null,
            "_model_module_version": "1.2.0",
            "_view_count": null,
            "flex_flow": null,
            "width": null,
            "min_width": null,
            "border": null,
            "align_items": null,
            "bottom": null,
            "_model_module": "@jupyter-widgets/base",
            "top": null,
            "grid_column": null,
            "overflow_y": null,
            "overflow_x": null,
            "grid_auto_flow": null,
            "grid_area": null,
            "grid_template_columns": null,
            "flex": null,
            "_model_name": "LayoutModel",
            "justify_items": null,
            "grid_row": null,
            "max_height": null,
            "align_content": null,
            "visibility": null,
            "align_self": null,
            "height": null,
            "min_height": null,
            "padding": null,
            "grid_auto_rows": null,
            "grid_gap": null,
            "max_width": null,
            "order": null,
            "_view_module_version": "1.2.0",
            "grid_template_areas": null,
            "object_position": null,
            "object_fit": null,
            "grid_auto_columns": null,
            "margin": null,
            "display": null,
            "left": null
          }
        },
        "1422fad5312c4f44b3e89949452bb62b": {
          "model_module": "@jupyter-widgets/controls",
          "model_name": "DescriptionStyleModel",
          "state": {
            "_view_name": "StyleView",
            "_model_name": "DescriptionStyleModel",
            "description_width": "",
            "_view_module": "@jupyter-widgets/base",
            "_model_module_version": "1.5.0",
            "_view_count": null,
            "_view_module_version": "1.2.0",
            "_model_module": "@jupyter-widgets/controls"
          }
        },
        "3384946302414ccbab3ac4f33ef072a7": {
          "model_module": "@jupyter-widgets/base",
          "model_name": "LayoutModel",
          "state": {
            "_view_name": "LayoutView",
            "grid_template_rows": null,
            "right": null,
            "justify_content": null,
            "_view_module": "@jupyter-widgets/base",
            "overflow": null,
            "_model_module_version": "1.2.0",
            "_view_count": null,
            "flex_flow": null,
            "width": null,
            "min_width": null,
            "border": null,
            "align_items": null,
            "bottom": null,
            "_model_module": "@jupyter-widgets/base",
            "top": null,
            "grid_column": null,
            "overflow_y": null,
            "overflow_x": null,
            "grid_auto_flow": null,
            "grid_area": null,
            "grid_template_columns": null,
            "flex": null,
            "_model_name": "LayoutModel",
            "justify_items": null,
            "grid_row": null,
            "max_height": null,
            "align_content": null,
            "visibility": null,
            "align_self": null,
            "height": null,
            "min_height": null,
            "padding": null,
            "grid_auto_rows": null,
            "grid_gap": null,
            "max_width": null,
            "order": null,
            "_view_module_version": "1.2.0",
            "grid_template_areas": null,
            "object_position": null,
            "object_fit": null,
            "grid_auto_columns": null,
            "margin": null,
            "display": null,
            "left": null
          }
        }
      }
    }
  },
  "cells": [
    {
      "cell_type": "markdown",
      "metadata": {
        "id": "view-in-github",
        "colab_type": "text"
      },
      "source": [
        "<a href=\"https://colab.research.google.com/github/ASIF-Mahmud1/Exploration/blob/text-classifier/NLP_Lessons/BERT/EnronDatasetDiminsihingTerms_BERT.ipynb\" target=\"_parent\"><img src=\"https://colab.research.google.com/assets/colab-badge.svg\" alt=\"Open In Colab\"/></a>"
      ]
    },
    {
      "cell_type": "code",
      "metadata": {
        "colab": {
          "base_uri": "https://localhost:8080/"
        },
        "id": "IvX7PF9L_BLw",
        "outputId": "5ee7ab0a-fd1a-4f1d-f678-574d407c1582"
      },
      "source": [
        "#Install torchvision\n",
        "!pip install torchvision\n"
      ],
      "execution_count": 1,
      "outputs": [
        {
          "output_type": "stream",
          "text": [
            "Requirement already satisfied: torchvision in /usr/local/lib/python3.7/dist-packages (0.9.1+cu101)\n",
            "Requirement already satisfied: torch==1.8.1 in /usr/local/lib/python3.7/dist-packages (from torchvision) (1.8.1+cu101)\n",
            "Requirement already satisfied: pillow>=4.1.1 in /usr/local/lib/python3.7/dist-packages (from torchvision) (7.1.2)\n",
            "Requirement already satisfied: numpy in /usr/local/lib/python3.7/dist-packages (from torchvision) (1.19.5)\n",
            "Requirement already satisfied: typing-extensions in /usr/local/lib/python3.7/dist-packages (from torch==1.8.1->torchvision) (3.7.4.3)\n"
          ],
          "name": "stdout"
        }
      ]
    },
    {
      "cell_type": "code",
      "metadata": {
        "id": "fDSwbLnI_J3w"
      },
      "source": [
        "import torch"
      ],
      "execution_count": 2,
      "outputs": []
    },
    {
      "cell_type": "code",
      "metadata": {
        "id": "qjvLq0PUDro6"
      },
      "source": [
        "from typing import Callable, List, Optional, Tuple\n",
        "\n",
        "import pandas as pd\n",
        "from sklearn.base import TransformerMixin, BaseEstimator\n",
        "import torch\n",
        "\n",
        "\n",
        "class BertTransformer(BaseEstimator, TransformerMixin):\n",
        "    def __init__(\n",
        "            self,\n",
        "            bert_tokenizer,\n",
        "            bert_model,\n",
        "            max_length: int = 60,\n",
        "            embedding_func: Optional[Callable[[torch.tensor], torch.tensor]] = None,\n",
        "    ):\n",
        "        self.tokenizer = bert_tokenizer\n",
        "        self.model = bert_model\n",
        "        self.model.eval()\n",
        "        self.max_length = max_length\n",
        "        self.embedding_func = embedding_func\n",
        "\n",
        "        if self.embedding_func is None:\n",
        "            self.embedding_func = lambda x: x[0][:, 0, :].squeeze()\n",
        "\n",
        "    def _tokenize(self, text: str) -> Tuple[torch.tensor, torch.tensor]:\n",
        "        # Tokenize the text with the provided tokenizer\n",
        "        tokenized_text = self.tokenizer.encode_plus(text,\n",
        "                                                    add_special_tokens=True,\n",
        "                                                    max_length=self.max_length\n",
        "                                                    )[\"input_ids\"]\n",
        "\n",
        "        # Create an attention mask telling BERT to use all words\n",
        "        attention_mask = [1] * len(tokenized_text)\n",
        "\n",
        "        # bert takes in a batch so we need to unsqueeze the rows\n",
        "        return (\n",
        "            torch.tensor(tokenized_text).unsqueeze(0),\n",
        "            torch.tensor(attention_mask).unsqueeze(0),\n",
        "        )\n",
        "\n",
        "    def _tokenize_and_predict(self, text: str) -> torch.tensor:\n",
        "        tokenized, attention_mask = self._tokenize(text)\n",
        "\n",
        "        embeddings = self.model(tokenized, attention_mask)\n",
        "        return self.embedding_func(embeddings)\n",
        "\n",
        "    def transform(self, text: List[str]):\n",
        "        if isinstance(text, pd.Series):\n",
        "            text = text.tolist()\n",
        "\n",
        "        with torch.no_grad():\n",
        "            return torch.stack([self._tokenize_and_predict(string) for string in text])\n",
        "\n",
        "    def fit(self, X, y=None):\n",
        "        \"\"\"No fitting necessary so we just return ourselves\"\"\"\n",
        "        return self"
      ],
      "execution_count": 3,
      "outputs": []
    },
    {
      "cell_type": "code",
      "metadata": {
        "colab": {
          "base_uri": "https://localhost:8080/"
        },
        "id": "lwue-hXHEcUm",
        "outputId": "364bed02-926b-4900-c830-7ce260cb0c28"
      },
      "source": [
        "!pip install transformers\n"
      ],
      "execution_count": 4,
      "outputs": [
        {
          "output_type": "stream",
          "text": [
            "Collecting transformers\n",
            "\u001b[?25l  Downloading https://files.pythonhosted.org/packages/81/91/61d69d58a1af1bd81d9ca9d62c90a6de3ab80d77f27c5df65d9a2c1f5626/transformers-4.5.0-py3-none-any.whl (2.1MB)\n",
            "\u001b[K     |████████████████████████████████| 2.2MB 5.7MB/s \n",
            "\u001b[?25hRequirement already satisfied: regex!=2019.12.17 in /usr/local/lib/python3.7/dist-packages (from transformers) (2019.12.20)\n",
            "Requirement already satisfied: packaging in /usr/local/lib/python3.7/dist-packages (from transformers) (20.9)\n",
            "Requirement already satisfied: numpy>=1.17 in /usr/local/lib/python3.7/dist-packages (from transformers) (1.19.5)\n",
            "Requirement already satisfied: filelock in /usr/local/lib/python3.7/dist-packages (from transformers) (3.0.12)\n",
            "Collecting sacremoses\n",
            "\u001b[?25l  Downloading https://files.pythonhosted.org/packages/08/cd/342e584ee544d044fb573ae697404ce22ede086c9e87ce5960772084cad0/sacremoses-0.0.44.tar.gz (862kB)\n",
            "\u001b[K     |████████████████████████████████| 870kB 19.7MB/s \n",
            "\u001b[?25hCollecting tokenizers<0.11,>=0.10.1\n",
            "\u001b[?25l  Downloading https://files.pythonhosted.org/packages/ae/04/5b870f26a858552025a62f1649c20d29d2672c02ff3c3fb4c688ca46467a/tokenizers-0.10.2-cp37-cp37m-manylinux2010_x86_64.whl (3.3MB)\n",
            "\u001b[K     |████████████████████████████████| 3.3MB 20.0MB/s \n",
            "\u001b[?25hRequirement already satisfied: tqdm>=4.27 in /usr/local/lib/python3.7/dist-packages (from transformers) (4.41.1)\n",
            "Requirement already satisfied: requests in /usr/local/lib/python3.7/dist-packages (from transformers) (2.23.0)\n",
            "Requirement already satisfied: importlib-metadata; python_version < \"3.8\" in /usr/local/lib/python3.7/dist-packages (from transformers) (3.8.1)\n",
            "Requirement already satisfied: pyparsing>=2.0.2 in /usr/local/lib/python3.7/dist-packages (from packaging->transformers) (2.4.7)\n",
            "Requirement already satisfied: six in /usr/local/lib/python3.7/dist-packages (from sacremoses->transformers) (1.15.0)\n",
            "Requirement already satisfied: click in /usr/local/lib/python3.7/dist-packages (from sacremoses->transformers) (7.1.2)\n",
            "Requirement already satisfied: joblib in /usr/local/lib/python3.7/dist-packages (from sacremoses->transformers) (1.0.1)\n",
            "Requirement already satisfied: certifi>=2017.4.17 in /usr/local/lib/python3.7/dist-packages (from requests->transformers) (2020.12.5)\n",
            "Requirement already satisfied: chardet<4,>=3.0.2 in /usr/local/lib/python3.7/dist-packages (from requests->transformers) (3.0.4)\n",
            "Requirement already satisfied: urllib3!=1.25.0,!=1.25.1,<1.26,>=1.21.1 in /usr/local/lib/python3.7/dist-packages (from requests->transformers) (1.24.3)\n",
            "Requirement already satisfied: idna<3,>=2.5 in /usr/local/lib/python3.7/dist-packages (from requests->transformers) (2.10)\n",
            "Requirement already satisfied: zipp>=0.5 in /usr/local/lib/python3.7/dist-packages (from importlib-metadata; python_version < \"3.8\"->transformers) (3.4.1)\n",
            "Requirement already satisfied: typing-extensions>=3.6.4; python_version < \"3.8\" in /usr/local/lib/python3.7/dist-packages (from importlib-metadata; python_version < \"3.8\"->transformers) (3.7.4.3)\n",
            "Building wheels for collected packages: sacremoses\n",
            "  Building wheel for sacremoses (setup.py) ... \u001b[?25l\u001b[?25hdone\n",
            "  Created wheel for sacremoses: filename=sacremoses-0.0.44-cp37-none-any.whl size=886084 sha256=799670140d38f592e089cc6caf53a06780e58a31fd104ff492e4982a1c0fefd4\n",
            "  Stored in directory: /root/.cache/pip/wheels/3e/fb/c0/13ab4d63d537658f448366744654323077c4d90069b6512f3c\n",
            "Successfully built sacremoses\n",
            "Installing collected packages: sacremoses, tokenizers, transformers\n",
            "Successfully installed sacremoses-0.0.44 tokenizers-0.10.2 transformers-4.5.0\n"
          ],
          "name": "stdout"
        }
      ]
    },
    {
      "cell_type": "code",
      "metadata": {
        "id": "TbYsE65NEjLY",
        "colab": {
          "base_uri": "https://localhost:8080/",
          "height": 268,
          "referenced_widgets": [
            "7617215daa7d41c09a83527be1ebf643",
            "03cae6769c5b4187bfe405c62ddae498",
            "eca078a7a15547bc88089ece11f32fd0",
            "de7ddb05f819444ebb7cccbf01a3a24e",
            "62c28478526545d49e004e637ec99ec0",
            "1cfe02a9c1ad4c71b67eaff2f27bdc75",
            "3ed67b0d6e47431cae6a8ab3a606d489",
            "c69e196c1dd64f978c0c051d3054dd24",
            "801852b37d3246fe9ead576ebe09226f",
            "e6440727252a40b78d6fbd05a322e7ed",
            "c057cd18c30a44cfa594b520c8ac7088",
            "a1795a79aa334052bd61d017c40d0147",
            "945626fd553247e9863214b417cfe90e",
            "3313bbeaee304f829684dbd962725069",
            "5e0ce3c6decc41619313b3a8bf6a50af",
            "795e2aeefe8f4268ad644d96b737f000",
            "5b62de2771cd460996941894ebba902f",
            "07e894204d154032906b4fb34065387e",
            "bddd46a921f5452ab80bd04efdbe48ce",
            "c45b2be0011f4cb2af14f3c3a321d246",
            "b4ac1c4a6c814f25a9e463aee0f0bd3d",
            "6c404fa8891e472fa00e4c821d75383d",
            "32b884acb46f487a83b086f91483626f",
            "d70942bd69c1482d8c11c5c9d030c657",
            "38bcb10524394c9199417bcbd9b967c2",
            "25536de374354090905c125f05973b2a",
            "b7db065e87f0472cb3151e59aae9a4e7",
            "8b5ef02a84694a1b93f8aa0a78102137",
            "858cc3a0c25f4c5da4740120223c10be",
            "763459e93435478c924614ac62394cbc",
            "c30308635c684621b79598df47516db2",
            "deb0e914440b4398b9d562ffdb7a1a4b",
            "7a8149763f7141dcb1ef4bd65df1eb3d",
            "095765a80f8345da91c45eda509055a1",
            "adbc8d87cf3245569e6dabfe6388276a",
            "5fd6cedd581648699f049ceeafa876bc",
            "90227ad34ccc4d5c8b3a5e45a53ae653",
            "77eaf01fbf7c40e4a4ed6363aa616b4a",
            "1422fad5312c4f44b3e89949452bb62b",
            "3384946302414ccbab3ac4f33ef072a7"
          ]
        },
        "outputId": "5ddd5e13-9a10-4cc8-d092-0f551fb36df8"
      },
      "source": [
        "from transformers import BertTokenizer, BertModel\n",
        "import torch\n",
        "bert_model = BertModel.from_pretrained(\"bert-base-uncased\")\n",
        "tokenizer = BertTokenizer.from_pretrained(\"bert-base-uncased\")\n"
      ],
      "execution_count": 5,
      "outputs": [
        {
          "output_type": "display_data",
          "data": {
            "application/vnd.jupyter.widget-view+json": {
              "model_id": "7617215daa7d41c09a83527be1ebf643",
              "version_minor": 0,
              "version_major": 2
            },
            "text/plain": [
              "HBox(children=(FloatProgress(value=0.0, description='Downloading', max=433.0, style=ProgressStyle(description_…"
            ]
          },
          "metadata": {
            "tags": []
          }
        },
        {
          "output_type": "stream",
          "text": [
            "\n"
          ],
          "name": "stdout"
        },
        {
          "output_type": "display_data",
          "data": {
            "application/vnd.jupyter.widget-view+json": {
              "model_id": "801852b37d3246fe9ead576ebe09226f",
              "version_minor": 0,
              "version_major": 2
            },
            "text/plain": [
              "HBox(children=(FloatProgress(value=0.0, description='Downloading', max=440473133.0, style=ProgressStyle(descri…"
            ]
          },
          "metadata": {
            "tags": []
          }
        },
        {
          "output_type": "stream",
          "text": [
            "\n"
          ],
          "name": "stdout"
        },
        {
          "output_type": "display_data",
          "data": {
            "application/vnd.jupyter.widget-view+json": {
              "model_id": "5b62de2771cd460996941894ebba902f",
              "version_minor": 0,
              "version_major": 2
            },
            "text/plain": [
              "HBox(children=(FloatProgress(value=0.0, description='Downloading', max=231508.0, style=ProgressStyle(descripti…"
            ]
          },
          "metadata": {
            "tags": []
          }
        },
        {
          "output_type": "stream",
          "text": [
            "\n"
          ],
          "name": "stdout"
        },
        {
          "output_type": "display_data",
          "data": {
            "application/vnd.jupyter.widget-view+json": {
              "model_id": "38bcb10524394c9199417bcbd9b967c2",
              "version_minor": 0,
              "version_major": 2
            },
            "text/plain": [
              "HBox(children=(FloatProgress(value=0.0, description='Downloading', max=28.0, style=ProgressStyle(description_w…"
            ]
          },
          "metadata": {
            "tags": []
          }
        },
        {
          "output_type": "stream",
          "text": [
            "\n"
          ],
          "name": "stdout"
        },
        {
          "output_type": "display_data",
          "data": {
            "application/vnd.jupyter.widget-view+json": {
              "model_id": "7a8149763f7141dcb1ef4bd65df1eb3d",
              "version_minor": 0,
              "version_major": 2
            },
            "text/plain": [
              "HBox(children=(FloatProgress(value=0.0, description='Downloading', max=466062.0, style=ProgressStyle(descripti…"
            ]
          },
          "metadata": {
            "tags": []
          }
        },
        {
          "output_type": "stream",
          "text": [
            "\n"
          ],
          "name": "stdout"
        }
      ]
    },
    {
      "cell_type": "code",
      "metadata": {
        "id": "LxBdlil6Ft3s"
      },
      "source": [
        ""
      ],
      "execution_count": 5,
      "outputs": []
    },
    {
      "cell_type": "code",
      "metadata": {
        "id": "IMFttM0EF-6u"
      },
      "source": [
        "bert_transformer = BertTransformer(tokenizer, bert_model)\n",
        "from sklearn.pipeline import Pipeline\n"
      ],
      "execution_count": 6,
      "outputs": []
    },
    {
      "cell_type": "code",
      "metadata": {
        "colab": {
          "base_uri": "https://localhost:8080/"
        },
        "id": "IWCta2prhfbX",
        "outputId": "1474719c-141c-42fe-a5b0-9c35df34aeb0"
      },
      "source": [
        "url=\"https://raw.githubusercontent.com/ASIF-Mahmud1/Exploration/text-classifier/DiminishingTerms/dataSet.csv\"\n",
        "from io import StringIO\n",
        "import string\n",
        "import pandas as pd\n",
        "import requests\n",
        "s=requests.get(url).text\n",
        "\n",
        "message_data=pd.read_csv(StringIO(s))\n",
        "message_data['tag'] = message_data['tag'].str.strip()\n",
        "\n",
        "message_data.head()\n",
        "message_data['tag'].describe()"
      ],
      "execution_count": 7,
      "outputs": [
        {
          "output_type": "execute_result",
          "data": {
            "text/plain": [
              "count             315\n",
              "unique              2\n",
              "top       diminishing\n",
              "freq              234\n",
              "Name: tag, dtype: object"
            ]
          },
          "metadata": {
            "tags": []
          },
          "execution_count": 7
        }
      ]
    },
    {
      "cell_type": "code",
      "metadata": {
        "id": "45-D4LIahklL"
      },
      "source": [
        "message_data_copy = message_data['sentence'].copy() \n",
        "\n",
        "# message_data_copy"
      ],
      "execution_count": 8,
      "outputs": []
    },
    {
      "cell_type": "code",
      "metadata": {
        "id": "jN0mT5bvimFD"
      },
      "source": [
        "from sklearn.linear_model import LogisticRegression\n",
        "classifier = LogisticRegression(multi_class='multinomial', solver='lbfgs',C=5.2)\n"
      ],
      "execution_count": 9,
      "outputs": []
    },
    {
      "cell_type": "code",
      "metadata": {
        "id": "JUq7XhF1imv8",
        "colab": {
          "base_uri": "https://localhost:8080/"
        },
        "outputId": "180ef289-0585-42b5-a27c-6f15b058f36d"
      },
      "source": [
        "pipeline = Pipeline(steps=  [\n",
        "        (\"vectorizer\", bert_transformer),\n",
        "        (\"classifier\", classifier),\n",
        "    ] )\n",
        "\n",
        "pipeline.fit(message_data_copy,  message_data['tag'])"
      ],
      "execution_count": 10,
      "outputs": [
        {
          "output_type": "stream",
          "text": [
            "Truncation was not explicitly activated but `max_length` is provided a specific value, please use `truncation=True` to explicitly truncate examples to max length. Defaulting to 'longest_first' truncation strategy. If you encode pairs of sequences (GLUE-style) with the tokenizer you can select this strategy more precisely by providing a specific strategy to `truncation`.\n",
            "/usr/local/lib/python3.7/dist-packages/sklearn/linear_model/_logistic.py:940: ConvergenceWarning: lbfgs failed to converge (status=1):\n",
            "STOP: TOTAL NO. of ITERATIONS REACHED LIMIT.\n",
            "\n",
            "Increase the number of iterations (max_iter) or scale the data as shown in:\n",
            "    https://scikit-learn.org/stable/modules/preprocessing.html\n",
            "Please also refer to the documentation for alternative solver options:\n",
            "    https://scikit-learn.org/stable/modules/linear_model.html#logistic-regression\n",
            "  extra_warning_msg=_LOGISTIC_SOLVER_CONVERGENCE_MSG)\n",
            "/usr/local/lib/python3.7/dist-packages/sklearn/base.py:197: FutureWarning: From version 0.24, get_params will raise an AttributeError if a parameter cannot be retrieved as an instance attribute. Previously it would return None.\n",
            "  FutureWarning)\n"
          ],
          "name": "stderr"
        },
        {
          "output_type": "execute_result",
          "data": {
            "text/plain": [
              "Pipeline(memory=None,\n",
              "         steps=[('vectorizer',\n",
              "                 BertTransformer(bert_model=None, bert_tokenizer=None,\n",
              "                                 embedding_func=<function BertTransformer.__init__.<locals>.<lambda> at 0x7eff1f8010e0>,\n",
              "                                 max_length=60)),\n",
              "                ('classifier',\n",
              "                 LogisticRegression(C=5.2, class_weight=None, dual=False,\n",
              "                                    fit_intercept=True, intercept_scaling=1,\n",
              "                                    l1_ratio=None, max_iter=100,\n",
              "                                    multi_class='multinomial', n_jobs=None,\n",
              "                                    penalty='l2', random_state=None,\n",
              "                                    solver='lbfgs', tol=0.0001, verbose=0,\n",
              "                                    warm_start=False))],\n",
              "         verbose=False)"
            ]
          },
          "metadata": {
            "tags": []
          },
          "execution_count": 10
        }
      ]
    },
    {
      "cell_type": "code",
      "metadata": {
        "id": "oRklusf-AJUX"
      },
      "source": [
        "import pandas as pd\n",
        "df = pd.read_csv('https://query.data.world/s/yqgskd2yg2lztwtgmpeajy75msskd6',error_bad_lines=False, index_col=False, dtype='unicode')\n",
        "df = df.applymap(str) ## stringify all fields\n"
      ],
      "execution_count": 11,
      "outputs": []
    },
    {
      "cell_type": "code",
      "metadata": {
        "colab": {
          "base_uri": "https://localhost:8080/"
        },
        "id": "A6WOZK31P8Ku",
        "outputId": "41efa74a-2d37-4e43-b1df-83c7772f0fde"
      },
      "source": [
        "sender= [\n",
        "  \"susan.bailey@enron.com\",\n",
        "\t\"sally.beck@enron.com\",\n",
        "  \"lynn.blair@enron.com\",\n",
        "  \"sandra.brawner@enron.com\",\n",
        "  \"michelle.cash@enron.com\",\n",
        "  \"monika.causholli@enron.com\",\n",
        "  \"stacy.dickson@enron.com\",\n",
        "]\n",
        "\n",
        "senderFinal=[]\n",
        "for email in sender:\n",
        "  email=\"frozenset({'\" + email+\"'})\"\n",
        "  senderFinal.append(email)\n",
        "\n",
        "\n",
        "# femaleEmail= df.loc[df['From'].isin(senderFinal)]\n",
        "# femaleEmail.head()\n",
        "\n",
        "df= df.loc[df['From'].isin(senderFinal)]\n",
        "\n",
        "print(\"Size of Dataset: \",df.shape[0])\n"
      ],
      "execution_count": 12,
      "outputs": [
        {
          "output_type": "stream",
          "text": [
            "Size of Dataset:  9167\n"
          ],
          "name": "stdout"
        }
      ]
    },
    {
      "cell_type": "code",
      "metadata": {
        "id": "zTLQ1XVgqDjv"
      },
      "source": [
        "collectionSize=10\n",
        "startIndex=0\n",
        "endIndex=startIndex + collectionSize"
      ],
      "execution_count": 13,
      "outputs": []
    },
    {
      "cell_type": "markdown",
      "metadata": {
        "id": "ihmdwmeI4tM-"
      },
      "source": [
        "# Test Sentences Here\n",
        "### **Note**: Click Play to Predict next 10 emails"
      ]
    },
    {
      "cell_type": "code",
      "metadata": {
        "colab": {
          "base_uri": "https://localhost:8080/",
          "height": 645
        },
        "id": "HsTcrCv_5reX",
        "outputId": "e0956b5b-5766-4654-b594-5cd5767a21ae"
      },
      "source": [
        "####################################################################################################################\n",
        "                       ## Remove this later\n",
        "import pandas as pd\n",
        "import altair as alt\n",
        "import numpy as np\n",
        "text= df['content']  # all data\n",
        "# text= femaleEmail['content']    # all female data\n",
        "text= text[startIndex:endIndex]\n",
        "prob_Of_Each_Class = pipeline.predict_proba(text)\n",
        "X = np.arange(startIndex,endIndex)\n",
        "y_strong= prob_Of_Each_Class[:,1]*100\n",
        "y_diminishing=prob_Of_Each_Class[:,0]*100    \n",
        "\n",
        "dfTest = pd.DataFrame(columns=('index', 'strong', 'diminish','sentence'))\n",
        "dfTest['index']=X \n",
        "dfTest['strong']=y_strong \n",
        "dfTest['diminish']=y_diminishing\n",
        "dfTest['sentence']=list(text)\n",
        "gp_chart = (\n",
        "  alt.Chart(dfTest,width=50 ,padding={\"left\": 50, \"top\": 5, \"right\": 5, \"bottom\": 5} )\n",
        "    .transform_fold([\"diminish\", \"strong\"], as_=[\"key\", \"value\"])\n",
        "    .mark_bar()  # size=50\n",
        "    .encode(\n",
        "        x=\"key:N\",\n",
        "        y=\"value:Q\",\n",
        "        color=\"key:N\",\n",
        "        column=\"index\",\n",
        "        tooltip=\"sentence\"\n",
        "    )   # .interactive() \n",
        ")\n",
        "\n",
        "startIndex= startIndex+collectionSize\n",
        "endIndex=startIndex+collectionSize\n",
        "gp_chart.display()\n",
        "\n",
        "    \n",
        "for index, row in enumerate(text.index):\n",
        "    print(X[index],  \" \"+text[row], \" \",X[index])    # \" \",row,\n",
        "    \n",
        "                            ## Remove this later\n",
        "####################################################################################################################"
      ],
      "execution_count": 14,
      "outputs": [
        {
          "output_type": "display_data",
          "data": {
            "text/plain": [
              "alt.Chart(...)"
            ],
            "text/html": [
              "\n",
              "<div id=\"altair-viz-d5881c6f836f482b89e15c5eaf8accff\"></div>\n",
              "<script type=\"text/javascript\">\n",
              "  (function(spec, embedOpt){\n",
              "    let outputDiv = document.currentScript.previousElementSibling;\n",
              "    if (outputDiv.id !== \"altair-viz-d5881c6f836f482b89e15c5eaf8accff\") {\n",
              "      outputDiv = document.getElementById(\"altair-viz-d5881c6f836f482b89e15c5eaf8accff\");\n",
              "    }\n",
              "    const paths = {\n",
              "      \"vega\": \"https://cdn.jsdelivr.net/npm//vega@5?noext\",\n",
              "      \"vega-lib\": \"https://cdn.jsdelivr.net/npm//vega-lib?noext\",\n",
              "      \"vega-lite\": \"https://cdn.jsdelivr.net/npm//vega-lite@4.8.1?noext\",\n",
              "      \"vega-embed\": \"https://cdn.jsdelivr.net/npm//vega-embed@6?noext\",\n",
              "    };\n",
              "\n",
              "    function loadScript(lib) {\n",
              "      return new Promise(function(resolve, reject) {\n",
              "        var s = document.createElement('script');\n",
              "        s.src = paths[lib];\n",
              "        s.async = true;\n",
              "        s.onload = () => resolve(paths[lib]);\n",
              "        s.onerror = () => reject(`Error loading script: ${paths[lib]}`);\n",
              "        document.getElementsByTagName(\"head\")[0].appendChild(s);\n",
              "      });\n",
              "    }\n",
              "\n",
              "    function showError(err) {\n",
              "      outputDiv.innerHTML = `<div class=\"error\" style=\"color:red;\">${err}</div>`;\n",
              "      throw err;\n",
              "    }\n",
              "\n",
              "    function displayChart(vegaEmbed) {\n",
              "      vegaEmbed(outputDiv, spec, embedOpt)\n",
              "        .catch(err => showError(`Javascript Error: ${err.message}<br>This usually means there's a typo in your chart specification. See the javascript console for the full traceback.`));\n",
              "    }\n",
              "\n",
              "    if(typeof define === \"function\" && define.amd) {\n",
              "      requirejs.config({paths});\n",
              "      require([\"vega-embed\"], displayChart, err => showError(`Error loading script: ${err.message}`));\n",
              "    } else if (typeof vegaEmbed === \"function\") {\n",
              "      displayChart(vegaEmbed);\n",
              "    } else {\n",
              "      loadScript(\"vega\")\n",
              "        .then(() => loadScript(\"vega-lite\"))\n",
              "        .then(() => loadScript(\"vega-embed\"))\n",
              "        .catch(showError)\n",
              "        .then(() => displayChart(vegaEmbed));\n",
              "    }\n",
              "  })({\"config\": {\"view\": {\"continuousWidth\": 400, \"continuousHeight\": 300}}, \"data\": {\"name\": \"data-ff5f7ead366e678e2cd669bbf1634696\"}, \"mark\": \"bar\", \"encoding\": {\"color\": {\"type\": \"nominal\", \"field\": \"key\"}, \"column\": {\"type\": \"quantitative\", \"field\": \"index\"}, \"tooltip\": {\"type\": \"nominal\", \"field\": \"sentence\"}, \"x\": {\"type\": \"nominal\", \"field\": \"key\"}, \"y\": {\"type\": \"quantitative\", \"field\": \"value\"}}, \"padding\": {\"left\": 50, \"top\": 5, \"right\": 5, \"bottom\": 5}, \"transform\": [{\"fold\": [\"diminish\", \"strong\"], \"as\": [\"key\", \"value\"]}], \"width\": 50, \"$schema\": \"https://vega.github.io/schema/vega-lite/v4.8.1.json\", \"datasets\": {\"data-ff5f7ead366e678e2cd669bbf1634696\": [{\"index\": 0, \"strong\": 87.75698948027689, \"diminish\": 12.243010519723107, \"sentence\": \"A backup seat and a backup computer have been assigned to you. Please read this communication in detail. Purpose: Net Works has developed a backup plan for possible work stoppages after moving to the new building. A wider business continuity plan will be rolled out next year. Location: Large areas of the 30th and 31st floors of the current building, Enron Center North, will be set aside for recovery purposes. Your name has been put on the list and you will be notified once the seat assignments are finalized. Locations will also be posted at the entryways on the 30th and 31st floors. Timing. Through November, backup seats assignments will be announced as each trading group moves to the new building. The backup seats will be available at least to January 1st. Testing. Test times to try the backup PC and to familiarize yourself with your backup location will be announced by the IT team as the locations are finished. Telephones. Only regular phones will be available. For those with speed dial phones, the IT team will download the numbers and leave them on a piece of paper at your seat assignment. Because the numbers change frequently, we ask that you rely on keeping track of the numbers yourself and use the number lists as a last resort. Other supplies. The IT team is not responsible for non-technical or special needs. If you rely on hard copy forms, address books, etc, you will need to be sure to leave appropriate supplies when you test the computer, or bring supplies along if you are asked to move to your backup seat. Limited Access. The backup floor is not meant as a backup day-to-day work environment. To keep the equipment functioning and secure, we plan to limit access except for test times and if we need to invoke the plan because of a work stoppage. Escalation Procedures. The plan will be as follows: I. During regular business hours A. Announcement. You will be notified via the PA system if you need to move to the backup location. -OR- B. No Announcement. If an obvious problem like a fire or power shutdown occurs, for example, all personnel with a seat assignment will be expected to make their way to their backup seat without notification. II. After hours For after hours issues, greeters will announce the move to the backup location as people arrive to work. E-mails and voice mails will also be distributed.\"}, {\"index\": 1, \"strong\": 87.75698948027689, \"diminish\": 12.243010519723107, \"sentence\": \"A backup seat and a backup computer have been assigned to you. Please read this communication in detail. Purpose: Net Works has developed a backup plan for possible work stoppages after moving to the new building. A wider business continuity plan will be rolled out next year. Location: Large areas of the 30th and 31st floors of the current building, Enron Center North, will be set aside for recovery purposes. Your name has been put on the list and you will be notified once the seat assignments are finalized. Locations will also be posted at the entryways on the 30th and 31st floors. Timing. Through November, backup seats assignments will be announced as each trading group moves to the new building. The backup seats will be available at least to January 1st. Testing. Test times to try the backup PC and to familiarize yourself with your backup location will be announced by the IT team as the locations are finished. Telephones. Only regular phones will be available. For those with speed dial phones, the IT team will download the numbers and leave them on a piece of paper at your seat assignment. Because the numbers change frequently, we ask that you rely on keeping track of the numbers yourself and use the number lists as a last resort. Other supplies. The IT team is not responsible for non-technical or special needs. If you rely on hard copy forms, address books, etc, you will need to be sure to leave appropriate supplies when you test the computer, or bring supplies along if you are asked to move to your backup seat. Limited Access. The backup floor is not meant as a backup day-to-day work environment. To keep the equipment functioning and secure, we plan to limit access except for test times and if we need to invoke the plan because of a work stoppage. Escalation Procedures. The plan will be as follows: I. During regular business hours A. Announcement. You will be notified via the PA system if you need to move to the backup location. -OR- B. No Announcement. If an obvious problem like a fire or power shutdown occurs, for example, all personnel with a seat assignment will be expected to make their way to their backup seat without notification. II. After hours For after hours issues, greeters will announce the move to the backup location as people arrive to work. E-mails and voice mails will also be distributed.\"}, {\"index\": 2, \"strong\": 0.005239527589381479, \"diminish\": 99.99476047241063, \"sentence\": \"Kelley, Looks fine to me. Susan Bailey -----Original Message----- From: Kelley Harrell Sent: Tuesday, January 29, 2002 4:57 PM To: Carl G. W. Dahlberg; Chris Steed; Cindy Petrello; Elizabeth Kelley; Jacqueline B. Vogel; Jayne Finkowski-Rivera; Joe Birkofer; John Bullington; Judy Simon; Larry Tharp; Laura W. Wheless; Lisa Dent; Marilyn Mogas; Mark Dodson; Michelle Fritsch; Nancy E. Kline PhD RN C; Naomi Scott; Scott Jarriel; Scott Silverman; Smiley Pool; Bailey, Susan; ZoAnn Dreyer Subject: The Periwinkle Foundation Please check this list to see if this is how you want your name to appear on The Periwinkle Foundation's printed materials. Please email any changes as soon as possible. We are ordering new letterhead this week. Thank you, Kelley\"}, {\"index\": 3, \"strong\": 0.030152325101459106, \"diminish\": 99.96984767489853, \"sentence\": \"Ladies, I will be out for a day of vacation -- Wednesday, January 30th. If anyone needs me they reach me @ (713) 667-6186. Cordially, Susan S. Bailey Enron North America Corp. 1400 Smith Street, Suite 3803A Houston, Texas 77002 Phone: (713) 853-4737 Fax: (713) 646-3490 Email: Susan.Bailey@enron.com\"}, {\"index\": 4, \"strong\": 8.88040474620412, \"diminish\": 91.11959525379586, \"sentence\": \"Russell, Best wishes & much success on your new endeavor -- it was a pleasure working with you. Susan Bailey -----Original Message----- From: Diamond, Russell Sent: Friday, January 25, 2002 12:24 PM Subject: Contact Info Hello folks, I have accepted a position with RWE Trading Americas, my last day with ENRQ will be next Thursday, Jan 31. I have enjoyed working with all of you and hope that our paths will cross as we find our way to more exciting ventures. Russell ridiamond@yahoo.com 713-665-3345\"}, {\"index\": 5, \"strong\": 0.05284495905722609, \"diminish\": 99.94715504094277, \"sentence\": \"Kay, The \\\"Financial Trading Database\\\" under Lotus Notes would be the definitive source regarding the Intercompany Master Agreements. Let me know if you want be conduct such search. Susan -----Original Message----- From: Heard, Marie Sent: Wednesday, January 09, 2002 2:56 PM To: Bailey, Susan Subject: FW: Intercompany trading contracts Susan: Kay asked me to forward this to you. Marie -----Original Message----- From: Mann, Kay Sent: Wednesday, January 09, 2002 12:08 PM To: Heard, Marie; Panus, Stephanie; Fitzgerald, Genia; Jones, Tana; Hill, Robin Cc: Tweed, Sheila; Clark, Barton Subject: Intercompany trading contracts I've been tasked with trying to get a handle on intercompany trading contracts. What would be the most efficient way of coming up with a list? Thanks, Kay\"}, {\"index\": 6, \"strong\": 0.0029731835804403892, \"diminish\": 99.99702681641956, \"sentence\": \"Sara, Please advise if I may be of assistance -- I believe this request requires a lawyers attention. Susan -----Original Message----- From: Newbrough, Jennifer Sent: Thursday, January 24, 2002 9:53 AM To: Bailey, Susan; Shackleton, Sara Subject: RE: Forest Products Trading Counterparties I have attached a file which shows the information we would like to send to International Paper regarding counterparties. It includes a description of the company (but not the name), the % of total tons traded and the credit rating of the counterparty. Can you let me know if you think this information can be given to a third party under the confidentiality provisions mentioned below? Please let me know. Thanks, Jennifer -----Original Message----- From: Bailey, Susan Sent: Friday, January 18, 2002 4:53 PM To: Newbrough, Jennifer Cc: Shackleton, Sara Subject: RE: Forest Products Trading Counterparties Jennifer, I have completed my review of the selected Forest Products counterparties listed in your email request of January 15th. My review focused on the \\\"Confidentiality\\\" provision contained in either the Master Agreement or the Confirmation(s), being the documentation which established the trading relationship with either Enron North America Corp. (\\\"ENA\\\") or Enron Canada Corp. (\\\"ECC\\\"). I was asked to determine if the \\\"Confidentiality\\\" provision in our trading documents would prohibit ENA and/or ECC from disclosing to third parties: (a) \\\"the existence of a Master Agreement\\\" or (b) \\\"the existence of a transaction under a Confirmation\\\". Conclusion: Whether the trading relationship was established under a Master Agreement or under the Confirmation(s) -- the \\\"Confidentiality\\\" language employed by ENA and ECC prohibits the public disclosure relating to the Master Agreement or to the Confirmation(s). Therefore, if ENA and/or ECC desire to public disclose \\\"the existence of a Master Agreement\\\" or \\\"the existence of a transaction under a Confirmation\\\" -- ENA and/ECC must first secure the prior consent of any counterparty before public disclosure to third party can be made. For your convenience, attached are my findings as set forth in the following: 1. Master Agreement List for the Forest Products Trading Counterparties, along with the forms of \\\"Confidentiality\\\" provisions: << File: master agreement list (forest products counterparty).doc >> << File: confidentiality - master (standard provision).doc >> << File: confidentiality-master (non-standard provision).doc >> 2. Forest Products Trading Counterparties without a Master Agreement, along with the \\\"Confidentiality\\\" provision: << File: non master agreement list (forest products counterparty).doc >> << File: confidentiality - confirms (standard provision).doc >> If I can be of further assistance, please let me know. Cordially, Susan S. Bailey Enron North America Corp. 1400 Smith Street, Suite 3803A Houston, Texas 77002 Phone: (713) 853-4737 Fax: (713) 646-3490 Email: Susan.Bailey@enron.com -----Original Message----- From: Newbrough, Jennifer Sent: Tuesday, January 15, 2002 11:35 AM To: Bailey, Susan Cc: Shackleton, Sara Subject: Forest Products Trading Counterparties Susan, Sorry about the previous attempt. This is the list of counterparties. We need to know if we can disclose to third parties that we have traded with them and the volumes associated with the trades. Thanks for your help. Call me if you need clarification. Thanks for your help, Jennifer Adams Waste Management Inc. Georgia Pacific Corp Casella Waste Systems Inc. US Gypsum Inland Paper and Packaging Rand Whitney Counterboard National Gypsum Company Norampac Atlantic Packaging Products, ltd. General Mills Papier Mason Media News Times Mirror Macro Media Knight Ridder Media General New York Times Tembec Industries Pacifica Paper Rock Ten Conagra Energy Svcs Frito Lay Lin Packaging Dial National Banc of Canada Master Packaging Sodra James Hardie NV Appleton Paper Merita Bank Repap New Brunswick Boise Cascade Caima Irving Pulp and Paper UPM Kymmene Proctor & Gamble Jennifer Adams Manager, Corporate Development Enron Corp. 1400 Smith Street Houston, TX 77002 Tele: 713/853-3919 Fax: 713/646-4043\"}, {\"index\": 7, \"strong\": 0.174292858149127, \"diminish\": 99.82570714185088, \"sentence\": \"Bob, As mentioned in my voice mail -- I can meet with you anytime this afternoon -- how about 3:30pm. Susan -----Original Message----- From: Bruce, Robert Sent: Thursday, January 24, 2002 1:50 PM To: Shackleton, Sara Cc: Bailey, Susan Subject: RE: Forest Products Trading Counterparties yes, I will take this -- Susan, please call me and let me know when you might have a few minutes later this afternoon to bring me up to speed -- thanks, Bob -----Original Message----- From: Shackleton, Sara Sent: Thursday, January 24, 2002 9:59 AM To: Bruce, Robert Cc: Bailey, Susan Subject: FW: Forest Products Trading Counterparties Bob: Can you please handle for EIM? Susan has a lot of information. Also, it is my understanding that any information going out the door must be logged in by Raz. Thanks. Sara -----Original Message----- From: Newbrough, Jennifer Sent: Thursday, January 24, 2002 9:53 AM To: Bailey, Susan; Shackleton, Sara Subject: RE: Forest Products Trading Counterparties I have attached a file which shows the information we would like to send to International Paper regarding counterparties. It includes a description of the company (but not the name), the % of total tons traded and the credit rating of the counterparty. Can you let me know if you think this information can be given to a third party under the confidentiality provisions mentioned below? Please let me know. Thanks, Jennifer << File: counterparties1.xls >> -----Original Message----- From: Bailey, Susan Sent: Friday, January 18, 2002 4:53 PM To: Newbrough, Jennifer Cc: Shackleton, Sara Subject: RE: Forest Products Trading Counterparties Jennifer, I have completed my review of the selected Forest Products counterparties listed in your email request of January 15th. My review focused on the \\\"Confidentiality\\\" provision contained in either the Master Agreement or the Confirmation(s), being the documentation which established the trading relationship with either Enron North America Corp. (\\\"ENA\\\") or Enron Canada Corp. (\\\"ECC\\\"). I was asked to determine if the \\\"Confidentiality\\\" provision in our trading documents would prohibit ENA and/or ECC from disclosing to third parties: (a) \\\"the existence of a Master Agreement\\\" or (b) \\\"the existence of a transaction under a Confirmation\\\". Conclusion: Whether the trading relationship was established under a Master Agreement or under the Confirmation(s) -- the \\\"Confidentiality\\\" language employed by ENA and ECC prohibits the public disclosure relating to the Master Agreement or to the Confirmation(s). Therefore, if ENA and/or ECC desire to public disclose \\\"the existence of a Master Agreement\\\" or \\\"the existence of a transaction under a Confirmation\\\" -- ENA and/ECC must first secure the prior consent of any counterparty before public disclosure to third party can be made. For your convenience, attached are my findings as set forth in the following: 1. Master Agreement List for the Forest Products Trading Counterparties, along with the forms of \\\"Confidentiality\\\" provisions: << File: master agreement list (forest products counterparty).doc >> << File: confidentiality - master (standard provision).doc >> << File: confidentiality-master (non-standard provision).doc >> 2. Forest Products Trading Counterparties without a Master Agreement, along with the \\\"Confidentiality\\\" provision: << File: non master agreement list (forest products counterparty).doc >> << File: confidentiality - confirms (standard provision).doc >> If I can be of further assistance, please let me know. Cordially, Susan S. Bailey Enron North America Corp. 1400 Smith Street, Suite 3803A Houston, Texas 77002 Phone: (713) 853-4737 Fax: (713) 646-3490 Email: Susan.Bailey@enron.com -----Original Message----- From: Newbrough, Jennifer Sent: Tuesday, January 15, 2002 11:35 AM To: Bailey, Susan Cc: Shackleton, Sara Subject: Forest Products Trading Counterparties Susan, Sorry about the previous attempt. This is the list of counterparties. We need to know if we can disclose to third parties that we have traded with them and the volumes associated with the trades. Thanks for your help. Call me if you need clarification. Thanks for your help, Jennifer Adams Waste Management Inc. Georgia Pacific Corp Casella Waste Systems Inc. US Gypsum Inland Paper and Packaging Rand Whitney Counterboard National Gypsum Company Norampac Atlantic Packaging Products, ltd. General Mills Papier Mason Media News Times Mirror Macro Media Knight Ridder Media General New York Times Tembec Industries Pacifica Paper Rock Ten Conagra Energy Svcs Frito Lay Lin Packaging Dial National Banc of Canada Master Packaging Sodra James Hardie NV Appleton Paper Merita Bank Repap New Brunswick Boise Cascade Caima Irving Pulp and Paper UPM Kymmene Proctor & Gamble Jennifer Adams Manager, Corporate Development Enron Corp. 1400 Smith Street Houston, TX 77002 Tele: 713/853-3919 Fax: 713/646-4043\"}, {\"index\": 8, \"strong\": 0.02587831679847558, \"diminish\": 99.97412168320152, \"sentence\": \"Bob, I will see you in your office @ 3:30pm. Susan -----Original Message----- From: Bruce, Robert Sent: Thursday, January 24, 2002 2:43 PM To: Bailey, Susan Subject: RE: Forest Products Trading Counterparties thanks -- I've scheduled it -- do you want to come by my office -- Bob -----Original Message----- From: Bailey, Susan Sent: Thursday, January 24, 2002 2:43 PM To: Bruce, Robert Subject: RE: Forest Products Trading Counterparties Bob, As mentioned in my voice mail -- I can meet with you anytime this afternoon -- how about 3:30pm. Susan -----Original Message----- From: Bruce, Robert Sent: Thursday, January 24, 2002 1:50 PM To: Shackleton, Sara Cc: Bailey, Susan Subject: RE: Forest Products Trading Counterparties yes, I will take this -- Susan, please call me and let me know when you might have a few minutes later this afternoon to bring me up to speed -- thanks, Bob -----Original Message----- From: Shackleton, Sara Sent: Thursday, January 24, 2002 9:59 AM To: Bruce, Robert Cc: Bailey, Susan Subject: FW: Forest Products Trading Counterparties Bob: Can you please handle for EIM? Susan has a lot of information. Also, it is my understanding that any information going out the door must be logged in by Raz. Thanks. Sara -----Original Message----- From: Newbrough, Jennifer Sent: Thursday, January 24, 2002 9:53 AM To: Bailey, Susan; Shackleton, Sara Subject: RE: Forest Products Trading Counterparties I have attached a file which shows the information we would like to send to International Paper regarding counterparties. It includes a description of the company (but not the name), the % of total tons traded and the credit rating of the counterparty. Can you let me know if you think this information can be given to a third party under the confidentiality provisions mentioned below? Please let me know. Thanks, Jennifer << File: counterparties1.xls >> -----Original Message----- From: Bailey, Susan Sent: Friday, January 18, 2002 4:53 PM To: Newbrough, Jennifer Cc: Shackleton, Sara Subject: RE: Forest Products Trading Counterparties Jennifer, I have completed my review of the selected Forest Products counterparties listed in your email request of January 15th. My review focused on the \\\"Confidentiality\\\" provision contained in either the Master Agreement or the Confirmation(s), being the documentation which established the trading relationship with either Enron North America Corp. (\\\"ENA\\\") or Enron Canada Corp. (\\\"ECC\\\"). I was asked to determine if the \\\"Confidentiality\\\" provision in our trading documents would prohibit ENA and/or ECC from disclosing to third parties: (a) \\\"the existence of a Master Agreement\\\" or (b) \\\"the existence of a transaction under a Confirmation\\\". Conclusion: Whether the trading relationship was established under a Master Agreement or under the Confirmation(s) -- the \\\"Confidentiality\\\" language employed by ENA and ECC prohibits the public disclosure relating to the Master Agreement or to the Confirmation(s). Therefore, if ENA and/or ECC desire to public disclose \\\"the existence of a Master Agreement\\\" or \\\"the existence of a transaction under a Confirmation\\\" -- ENA and/ECC must first secure the prior consent of any counterparty before public disclosure to third party can be made. For your convenience, attached are my findings as set forth in the following: 1. Master Agreement List for the Forest Products Trading Counterparties, along with the forms of \\\"Confidentiality\\\" provisions: << File: master agreement list (forest products counterparty).doc >> << File: confidentiality - master (standard provision).doc >> << File: confidentiality-master (non-standard provision).doc >> 2. Forest Products Trading Counterparties without a Master Agreement, along with the \\\"Confidentiality\\\" provision: << File: non master agreement list (forest products counterparty).doc >> << File: confidentiality - confirms (standard provision).doc >> If I can be of further assistance, please let me know. Cordially, Susan S. Bailey Enron North America Corp. 1400 Smith Street, Suite 3803A Houston, Texas 77002 Phone: (713) 853-4737 Fax: (713) 646-3490 Email: Susan.Bailey@enron.com -----Original Message----- From: Newbrough, Jennifer Sent: Tuesday, January 15, 2002 11:35 AM To: Bailey, Susan Cc: Shackleton, Sara Subject: Forest Products Trading Counterparties Susan, Sorry about the previous attempt. This is the list of counterparties. We need to know if we can disclose to third parties that we have traded with them and the volumes associated with the trades. Thanks for your help. Call me if you need clarification. Thanks for your help, Jennifer Adams Waste Management Inc. Georgia Pacific Corp Casella Waste Systems Inc. US Gypsum Inland Paper and Packaging Rand Whitney Counterboard National Gypsum Company Norampac Atlantic Packaging Products, ltd. General Mills Papier Mason Media News Times Mirror Macro Media Knight Ridder Media General New York Times Tembec Industries Pacifica Paper Rock Ten Conagra Energy Svcs Frito Lay Lin Packaging Dial National Banc of Canada Master Packaging Sodra James Hardie NV Appleton Paper Merita Bank Repap New Brunswick Boise Cascade Caima Irving Pulp and Paper UPM Kymmene Proctor & Gamble Jennifer Adams Manager, Corporate Development Enron Corp. 1400 Smith Street Houston, TX 77002 Tele: 713/853-3919 Fax: 713/646-4043\"}, {\"index\": 9, \"strong\": 0.009118729380820655, \"diminish\": 99.9908812706192, \"sentence\": \"Diane or Patrick, Please email or provide hard copies of the Confirmation(s) ENA has with the captioned counterparty. Thanks Cordially, Susan S. Bailey Enron North America Corp. 1400 Smith Street, Suite 3803A Houston, Texas 77002 Phone: (713) 853-4737 Fax: (713) 646-3490 Email: Susan.Bailey@enron.com\"}]}}, {\"mode\": \"vega-lite\"});\n",
              "</script>"
            ]
          },
          "metadata": {
            "tags": []
          }
        },
        {
          "output_type": "stream",
          "text": [
            "0  A backup seat and a backup computer have been assigned to you. Please read this communication in detail. Purpose: Net Works has developed a backup plan for possible work stoppages after moving to the new building. A wider business continuity plan will be rolled out next year. Location: Large areas of the 30th and 31st floors of the current building, Enron Center North, will be set aside for recovery purposes. Your name has been put on the list and you will be notified once the seat assignments are finalized. Locations will also be posted at the entryways on the 30th and 31st floors. Timing. Through November, backup seats assignments will be announced as each trading group moves to the new building. The backup seats will be available at least to January 1st. Testing. Test times to try the backup PC and to familiarize yourself with your backup location will be announced by the IT team as the locations are finished. Telephones. Only regular phones will be available. For those with speed dial phones, the IT team will download the numbers and leave them on a piece of paper at your seat assignment. Because the numbers change frequently, we ask that you rely on keeping track of the numbers yourself and use the number lists as a last resort. Other supplies. The IT team is not responsible for non-technical or special needs. If you rely on hard copy forms, address books, etc, you will need to be sure to leave appropriate supplies when you test the computer, or bring supplies along if you are asked to move to your backup seat. Limited Access. The backup floor is not meant as a backup day-to-day work environment. To keep the equipment functioning and secure, we plan to limit access except for test times and if we need to invoke the plan because of a work stoppage. Escalation Procedures. The plan will be as follows: I. During regular business hours A. Announcement. You will be notified via the PA system if you need to move to the backup location. -OR- B. No Announcement. If an obvious problem like a fire or power shutdown occurs, for example, all personnel with a seat assignment will be expected to make their way to their backup seat without notification. II. After hours For after hours issues, greeters will announce the move to the backup location as people arrive to work. E-mails and voice mails will also be distributed.   0\n",
            "1  A backup seat and a backup computer have been assigned to you. Please read this communication in detail. Purpose: Net Works has developed a backup plan for possible work stoppages after moving to the new building. A wider business continuity plan will be rolled out next year. Location: Large areas of the 30th and 31st floors of the current building, Enron Center North, will be set aside for recovery purposes. Your name has been put on the list and you will be notified once the seat assignments are finalized. Locations will also be posted at the entryways on the 30th and 31st floors. Timing. Through November, backup seats assignments will be announced as each trading group moves to the new building. The backup seats will be available at least to January 1st. Testing. Test times to try the backup PC and to familiarize yourself with your backup location will be announced by the IT team as the locations are finished. Telephones. Only regular phones will be available. For those with speed dial phones, the IT team will download the numbers and leave them on a piece of paper at your seat assignment. Because the numbers change frequently, we ask that you rely on keeping track of the numbers yourself and use the number lists as a last resort. Other supplies. The IT team is not responsible for non-technical or special needs. If you rely on hard copy forms, address books, etc, you will need to be sure to leave appropriate supplies when you test the computer, or bring supplies along if you are asked to move to your backup seat. Limited Access. The backup floor is not meant as a backup day-to-day work environment. To keep the equipment functioning and secure, we plan to limit access except for test times and if we need to invoke the plan because of a work stoppage. Escalation Procedures. The plan will be as follows: I. During regular business hours A. Announcement. You will be notified via the PA system if you need to move to the backup location. -OR- B. No Announcement. If an obvious problem like a fire or power shutdown occurs, for example, all personnel with a seat assignment will be expected to make their way to their backup seat without notification. II. After hours For after hours issues, greeters will announce the move to the backup location as people arrive to work. E-mails and voice mails will also be distributed.   1\n",
            "2  Kelley, Looks fine to me. Susan Bailey -----Original Message----- From: Kelley Harrell Sent: Tuesday, January 29, 2002 4:57 PM To: Carl G. W. Dahlberg; Chris Steed; Cindy Petrello; Elizabeth Kelley; Jacqueline B. Vogel; Jayne Finkowski-Rivera; Joe Birkofer; John Bullington; Judy Simon; Larry Tharp; Laura W. Wheless; Lisa Dent; Marilyn Mogas; Mark Dodson; Michelle Fritsch; Nancy E. Kline PhD RN C; Naomi Scott; Scott Jarriel; Scott Silverman; Smiley Pool; Bailey, Susan; ZoAnn Dreyer Subject: The Periwinkle Foundation Please check this list to see if this is how you want your name to appear on The Periwinkle Foundation's printed materials. Please email any changes as soon as possible. We are ordering new letterhead this week. Thank you, Kelley   2\n",
            "3  Ladies, I will be out for a day of vacation -- Wednesday, January 30th. If anyone needs me they reach me @ (713) 667-6186. Cordially, Susan S. Bailey Enron North America Corp. 1400 Smith Street, Suite 3803A Houston, Texas 77002 Phone: (713) 853-4737 Fax: (713) 646-3490 Email: Susan.Bailey@enron.com   3\n",
            "4  Russell, Best wishes & much success on your new endeavor -- it was a pleasure working with you. Susan Bailey -----Original Message----- From: Diamond, Russell Sent: Friday, January 25, 2002 12:24 PM Subject: Contact Info Hello folks, I have accepted a position with RWE Trading Americas, my last day with ENRQ will be next Thursday, Jan 31. I have enjoyed working with all of you and hope that our paths will cross as we find our way to more exciting ventures. Russell ridiamond@yahoo.com 713-665-3345   4\n",
            "5  Kay, The \"Financial Trading Database\" under Lotus Notes would be the definitive source regarding the Intercompany Master Agreements. Let me know if you want be conduct such search. Susan -----Original Message----- From: Heard, Marie Sent: Wednesday, January 09, 2002 2:56 PM To: Bailey, Susan Subject: FW: Intercompany trading contracts Susan: Kay asked me to forward this to you. Marie -----Original Message----- From: Mann, Kay Sent: Wednesday, January 09, 2002 12:08 PM To: Heard, Marie; Panus, Stephanie; Fitzgerald, Genia; Jones, Tana; Hill, Robin Cc: Tweed, Sheila; Clark, Barton Subject: Intercompany trading contracts I've been tasked with trying to get a handle on intercompany trading contracts. What would be the most efficient way of coming up with a list? Thanks, Kay   5\n",
            "6  Sara, Please advise if I may be of assistance -- I believe this request requires a lawyers attention. Susan -----Original Message----- From: Newbrough, Jennifer Sent: Thursday, January 24, 2002 9:53 AM To: Bailey, Susan; Shackleton, Sara Subject: RE: Forest Products Trading Counterparties I have attached a file which shows the information we would like to send to International Paper regarding counterparties. It includes a description of the company (but not the name), the % of total tons traded and the credit rating of the counterparty. Can you let me know if you think this information can be given to a third party under the confidentiality provisions mentioned below? Please let me know. Thanks, Jennifer -----Original Message----- From: Bailey, Susan Sent: Friday, January 18, 2002 4:53 PM To: Newbrough, Jennifer Cc: Shackleton, Sara Subject: RE: Forest Products Trading Counterparties Jennifer, I have completed my review of the selected Forest Products counterparties listed in your email request of January 15th. My review focused on the \"Confidentiality\" provision contained in either the Master Agreement or the Confirmation(s), being the documentation which established the trading relationship with either Enron North America Corp. (\"ENA\") or Enron Canada Corp. (\"ECC\"). I was asked to determine if the \"Confidentiality\" provision in our trading documents would prohibit ENA and/or ECC from disclosing to third parties: (a) \"the existence of a Master Agreement\" or (b) \"the existence of a transaction under a Confirmation\". Conclusion: Whether the trading relationship was established under a Master Agreement or under the Confirmation(s) -- the \"Confidentiality\" language employed by ENA and ECC prohibits the public disclosure relating to the Master Agreement or to the Confirmation(s). Therefore, if ENA and/or ECC desire to public disclose \"the existence of a Master Agreement\" or \"the existence of a transaction under a Confirmation\" -- ENA and/ECC must first secure the prior consent of any counterparty before public disclosure to third party can be made. For your convenience, attached are my findings as set forth in the following: 1. Master Agreement List for the Forest Products Trading Counterparties, along with the forms of \"Confidentiality\" provisions: << File: master agreement list (forest products counterparty).doc >> << File: confidentiality - master (standard provision).doc >> << File: confidentiality-master (non-standard provision).doc >> 2. Forest Products Trading Counterparties without a Master Agreement, along with the \"Confidentiality\" provision: << File: non master agreement list (forest products counterparty).doc >> << File: confidentiality - confirms (standard provision).doc >> If I can be of further assistance, please let me know. Cordially, Susan S. Bailey Enron North America Corp. 1400 Smith Street, Suite 3803A Houston, Texas 77002 Phone: (713) 853-4737 Fax: (713) 646-3490 Email: Susan.Bailey@enron.com -----Original Message----- From: Newbrough, Jennifer Sent: Tuesday, January 15, 2002 11:35 AM To: Bailey, Susan Cc: Shackleton, Sara Subject: Forest Products Trading Counterparties Susan, Sorry about the previous attempt. This is the list of counterparties. We need to know if we can disclose to third parties that we have traded with them and the volumes associated with the trades. Thanks for your help. Call me if you need clarification. Thanks for your help, Jennifer Adams Waste Management Inc. Georgia Pacific Corp Casella Waste Systems Inc. US Gypsum Inland Paper and Packaging Rand Whitney Counterboard National Gypsum Company Norampac Atlantic Packaging Products, ltd. General Mills Papier Mason Media News Times Mirror Macro Media Knight Ridder Media General New York Times Tembec Industries Pacifica Paper Rock Ten Conagra Energy Svcs Frito Lay Lin Packaging Dial National Banc of Canada Master Packaging Sodra James Hardie NV Appleton Paper Merita Bank Repap New Brunswick Boise Cascade Caima Irving Pulp and Paper UPM Kymmene Proctor & Gamble Jennifer Adams Manager, Corporate Development Enron Corp. 1400 Smith Street Houston, TX 77002 Tele: 713/853-3919 Fax: 713/646-4043   6\n",
            "7  Bob, As mentioned in my voice mail -- I can meet with you anytime this afternoon -- how about 3:30pm. Susan -----Original Message----- From: Bruce, Robert Sent: Thursday, January 24, 2002 1:50 PM To: Shackleton, Sara Cc: Bailey, Susan Subject: RE: Forest Products Trading Counterparties yes, I will take this -- Susan, please call me and let me know when you might have a few minutes later this afternoon to bring me up to speed -- thanks, Bob -----Original Message----- From: Shackleton, Sara Sent: Thursday, January 24, 2002 9:59 AM To: Bruce, Robert Cc: Bailey, Susan Subject: FW: Forest Products Trading Counterparties Bob: Can you please handle for EIM? Susan has a lot of information. Also, it is my understanding that any information going out the door must be logged in by Raz. Thanks. Sara -----Original Message----- From: Newbrough, Jennifer Sent: Thursday, January 24, 2002 9:53 AM To: Bailey, Susan; Shackleton, Sara Subject: RE: Forest Products Trading Counterparties I have attached a file which shows the information we would like to send to International Paper regarding counterparties. It includes a description of the company (but not the name), the % of total tons traded and the credit rating of the counterparty. Can you let me know if you think this information can be given to a third party under the confidentiality provisions mentioned below? Please let me know. Thanks, Jennifer << File: counterparties1.xls >> -----Original Message----- From: Bailey, Susan Sent: Friday, January 18, 2002 4:53 PM To: Newbrough, Jennifer Cc: Shackleton, Sara Subject: RE: Forest Products Trading Counterparties Jennifer, I have completed my review of the selected Forest Products counterparties listed in your email request of January 15th. My review focused on the \"Confidentiality\" provision contained in either the Master Agreement or the Confirmation(s), being the documentation which established the trading relationship with either Enron North America Corp. (\"ENA\") or Enron Canada Corp. (\"ECC\"). I was asked to determine if the \"Confidentiality\" provision in our trading documents would prohibit ENA and/or ECC from disclosing to third parties: (a) \"the existence of a Master Agreement\" or (b) \"the existence of a transaction under a Confirmation\". Conclusion: Whether the trading relationship was established under a Master Agreement or under the Confirmation(s) -- the \"Confidentiality\" language employed by ENA and ECC prohibits the public disclosure relating to the Master Agreement or to the Confirmation(s). Therefore, if ENA and/or ECC desire to public disclose \"the existence of a Master Agreement\" or \"the existence of a transaction under a Confirmation\" -- ENA and/ECC must first secure the prior consent of any counterparty before public disclosure to third party can be made. For your convenience, attached are my findings as set forth in the following: 1. Master Agreement List for the Forest Products Trading Counterparties, along with the forms of \"Confidentiality\" provisions: << File: master agreement list (forest products counterparty).doc >> << File: confidentiality - master (standard provision).doc >> << File: confidentiality-master (non-standard provision).doc >> 2. Forest Products Trading Counterparties without a Master Agreement, along with the \"Confidentiality\" provision: << File: non master agreement list (forest products counterparty).doc >> << File: confidentiality - confirms (standard provision).doc >> If I can be of further assistance, please let me know. Cordially, Susan S. Bailey Enron North America Corp. 1400 Smith Street, Suite 3803A Houston, Texas 77002 Phone: (713) 853-4737 Fax: (713) 646-3490 Email: Susan.Bailey@enron.com -----Original Message----- From: Newbrough, Jennifer Sent: Tuesday, January 15, 2002 11:35 AM To: Bailey, Susan Cc: Shackleton, Sara Subject: Forest Products Trading Counterparties Susan, Sorry about the previous attempt. This is the list of counterparties. We need to know if we can disclose to third parties that we have traded with them and the volumes associated with the trades. Thanks for your help. Call me if you need clarification. Thanks for your help, Jennifer Adams Waste Management Inc. Georgia Pacific Corp Casella Waste Systems Inc. US Gypsum Inland Paper and Packaging Rand Whitney Counterboard National Gypsum Company Norampac Atlantic Packaging Products, ltd. General Mills Papier Mason Media News Times Mirror Macro Media Knight Ridder Media General New York Times Tembec Industries Pacifica Paper Rock Ten Conagra Energy Svcs Frito Lay Lin Packaging Dial National Banc of Canada Master Packaging Sodra James Hardie NV Appleton Paper Merita Bank Repap New Brunswick Boise Cascade Caima Irving Pulp and Paper UPM Kymmene Proctor & Gamble Jennifer Adams Manager, Corporate Development Enron Corp. 1400 Smith Street Houston, TX 77002 Tele: 713/853-3919 Fax: 713/646-4043   7\n",
            "8  Bob, I will see you in your office @ 3:30pm. Susan -----Original Message----- From: Bruce, Robert Sent: Thursday, January 24, 2002 2:43 PM To: Bailey, Susan Subject: RE: Forest Products Trading Counterparties thanks -- I've scheduled it -- do you want to come by my office -- Bob -----Original Message----- From: Bailey, Susan Sent: Thursday, January 24, 2002 2:43 PM To: Bruce, Robert Subject: RE: Forest Products Trading Counterparties Bob, As mentioned in my voice mail -- I can meet with you anytime this afternoon -- how about 3:30pm. Susan -----Original Message----- From: Bruce, Robert Sent: Thursday, January 24, 2002 1:50 PM To: Shackleton, Sara Cc: Bailey, Susan Subject: RE: Forest Products Trading Counterparties yes, I will take this -- Susan, please call me and let me know when you might have a few minutes later this afternoon to bring me up to speed -- thanks, Bob -----Original Message----- From: Shackleton, Sara Sent: Thursday, January 24, 2002 9:59 AM To: Bruce, Robert Cc: Bailey, Susan Subject: FW: Forest Products Trading Counterparties Bob: Can you please handle for EIM? Susan has a lot of information. Also, it is my understanding that any information going out the door must be logged in by Raz. Thanks. Sara -----Original Message----- From: Newbrough, Jennifer Sent: Thursday, January 24, 2002 9:53 AM To: Bailey, Susan; Shackleton, Sara Subject: RE: Forest Products Trading Counterparties I have attached a file which shows the information we would like to send to International Paper regarding counterparties. It includes a description of the company (but not the name), the % of total tons traded and the credit rating of the counterparty. Can you let me know if you think this information can be given to a third party under the confidentiality provisions mentioned below? Please let me know. Thanks, Jennifer << File: counterparties1.xls >> -----Original Message----- From: Bailey, Susan Sent: Friday, January 18, 2002 4:53 PM To: Newbrough, Jennifer Cc: Shackleton, Sara Subject: RE: Forest Products Trading Counterparties Jennifer, I have completed my review of the selected Forest Products counterparties listed in your email request of January 15th. My review focused on the \"Confidentiality\" provision contained in either the Master Agreement or the Confirmation(s), being the documentation which established the trading relationship with either Enron North America Corp. (\"ENA\") or Enron Canada Corp. (\"ECC\"). I was asked to determine if the \"Confidentiality\" provision in our trading documents would prohibit ENA and/or ECC from disclosing to third parties: (a) \"the existence of a Master Agreement\" or (b) \"the existence of a transaction under a Confirmation\". Conclusion: Whether the trading relationship was established under a Master Agreement or under the Confirmation(s) -- the \"Confidentiality\" language employed by ENA and ECC prohibits the public disclosure relating to the Master Agreement or to the Confirmation(s). Therefore, if ENA and/or ECC desire to public disclose \"the existence of a Master Agreement\" or \"the existence of a transaction under a Confirmation\" -- ENA and/ECC must first secure the prior consent of any counterparty before public disclosure to third party can be made. For your convenience, attached are my findings as set forth in the following: 1. Master Agreement List for the Forest Products Trading Counterparties, along with the forms of \"Confidentiality\" provisions: << File: master agreement list (forest products counterparty).doc >> << File: confidentiality - master (standard provision).doc >> << File: confidentiality-master (non-standard provision).doc >> 2. Forest Products Trading Counterparties without a Master Agreement, along with the \"Confidentiality\" provision: << File: non master agreement list (forest products counterparty).doc >> << File: confidentiality - confirms (standard provision).doc >> If I can be of further assistance, please let me know. Cordially, Susan S. Bailey Enron North America Corp. 1400 Smith Street, Suite 3803A Houston, Texas 77002 Phone: (713) 853-4737 Fax: (713) 646-3490 Email: Susan.Bailey@enron.com -----Original Message----- From: Newbrough, Jennifer Sent: Tuesday, January 15, 2002 11:35 AM To: Bailey, Susan Cc: Shackleton, Sara Subject: Forest Products Trading Counterparties Susan, Sorry about the previous attempt. This is the list of counterparties. We need to know if we can disclose to third parties that we have traded with them and the volumes associated with the trades. Thanks for your help. Call me if you need clarification. Thanks for your help, Jennifer Adams Waste Management Inc. Georgia Pacific Corp Casella Waste Systems Inc. US Gypsum Inland Paper and Packaging Rand Whitney Counterboard National Gypsum Company Norampac Atlantic Packaging Products, ltd. General Mills Papier Mason Media News Times Mirror Macro Media Knight Ridder Media General New York Times Tembec Industries Pacifica Paper Rock Ten Conagra Energy Svcs Frito Lay Lin Packaging Dial National Banc of Canada Master Packaging Sodra James Hardie NV Appleton Paper Merita Bank Repap New Brunswick Boise Cascade Caima Irving Pulp and Paper UPM Kymmene Proctor & Gamble Jennifer Adams Manager, Corporate Development Enron Corp. 1400 Smith Street Houston, TX 77002 Tele: 713/853-3919 Fax: 713/646-4043   8\n",
            "9  Diane or Patrick, Please email or provide hard copies of the Confirmation(s) ENA has with the captioned counterparty. Thanks Cordially, Susan S. Bailey Enron North America Corp. 1400 Smith Street, Suite 3803A Houston, Texas 77002 Phone: (713) 853-4737 Fax: (713) 646-3490 Email: Susan.Bailey@enron.com   9\n"
          ],
          "name": "stdout"
        }
      ]
    },
    {
      "cell_type": "markdown",
      "metadata": {
        "id": "y6bgcGnCghK-"
      },
      "source": [
        "## Write to a CSV File"
      ]
    },
    {
      "cell_type": "code",
      "metadata": {
        "colab": {
          "base_uri": "https://localhost:8080/"
        },
        "id": "2cmz37zwgnTt",
        "outputId": "fda2fd58-814c-4f9e-c354-11c4b38b7664"
      },
      "source": [
        "import pandas as pd\n",
        "    \n",
        "save = pd.DataFrame(dfTest, columns=  dfTest.columns)\n",
        "\n",
        "save.to_csv (r'export_dataframe.csv', index = False, header=True)\n",
        "\n",
        "print (save)\n"
      ],
      "execution_count": 15,
      "outputs": [
        {
          "output_type": "stream",
          "text": [
            "   index  ...                                           sentence\n",
            "0      0  ...  A backup seat and a backup computer have been ...\n",
            "1      1  ...  A backup seat and a backup computer have been ...\n",
            "2      2  ...  Kelley, Looks fine to me. Susan Bailey -----Or...\n",
            "3      3  ...  Ladies, I will be out for a day of vacation --...\n",
            "4      4  ...  Russell, Best wishes & much success on your ne...\n",
            "5      5  ...  Kay, The \"Financial Trading Database\" under Lo...\n",
            "6      6  ...  Sara, Please advise if I may be of assistance ...\n",
            "7      7  ...  Bob, As mentioned in my voice mail -- I can me...\n",
            "8      8  ...  Bob, I will see you in your office @ 3:30pm. S...\n",
            "9      9  ...  Diane or Patrick, Please email or provide hard...\n",
            "\n",
            "[10 rows x 4 columns]\n"
          ],
          "name": "stdout"
        }
      ]
    },
    {
      "cell_type": "markdown",
      "metadata": {
        "id": "RLbewA_zI48y"
      },
      "source": [
        "## Save whole email corpus in a CSV file\n",
        " "
      ]
    },
    {
      "cell_type": "code",
      "metadata": {
        "id": "Bvk4qZ71I3pw"
      },
      "source": [
        "import pandas as pd\n",
        "import altair as alt\n",
        "import numpy as np\n",
        "text= df['content']  # all data\n",
        "#text= text[0:10]     # first 10 dataset\n",
        "prob_Of_Each_Class = pipeline.predict_proba(text)\n",
        "tags= pipeline.predict(text)\n"
      ],
      "execution_count": 16,
      "outputs": []
    },
    {
      "cell_type": "code",
      "metadata": {
        "id": "flIpkcdCKRJV",
        "colab": {
          "base_uri": "https://localhost:8080/",
          "height": 407
        },
        "outputId": "3a21d57b-2b6a-47ff-85f3-fd0b6823fa6f"
      },
      "source": [
        "startIndex=0\n",
        "endIndex= df.shape[0]\n",
        "\n",
        "X = np.arange(startIndex,endIndex)\n",
        "y_strong= prob_Of_Each_Class[:,1]*100\n",
        "y_diminishing=prob_Of_Each_Class[:,0]*100    \n",
        "y_strong \n",
        "dfTest = pd.DataFrame(columns=('index', 'strong', 'diminish','sentence'))\n",
        "dfTest['index']=X \n",
        "dfTest['strong']=y_strong \n",
        "dfTest['diminish']=y_diminishing\n",
        "dfTest['sentence']=list(text)\n",
        "dfTest.insert(1, 'tag', list(tags) )\n",
        "dfTest['source']= \"Enron email\"\n",
        "dfTest"
      ],
      "execution_count": 22,
      "outputs": [
        {
          "output_type": "execute_result",
          "data": {
            "text/html": [
              "<div>\n",
              "<style scoped>\n",
              "    .dataframe tbody tr th:only-of-type {\n",
              "        vertical-align: middle;\n",
              "    }\n",
              "\n",
              "    .dataframe tbody tr th {\n",
              "        vertical-align: top;\n",
              "    }\n",
              "\n",
              "    .dataframe thead th {\n",
              "        text-align: right;\n",
              "    }\n",
              "</style>\n",
              "<table border=\"1\" class=\"dataframe\">\n",
              "  <thead>\n",
              "    <tr style=\"text-align: right;\">\n",
              "      <th></th>\n",
              "      <th>index</th>\n",
              "      <th>sentence</th>\n",
              "      <th>source</th>\n",
              "    </tr>\n",
              "  </thead>\n",
              "  <tbody>\n",
              "    <tr>\n",
              "      <th>0</th>\n",
              "      <td>0</td>\n",
              "      <td>A backup seat and a backup computer have been ...</td>\n",
              "      <td>Enron email</td>\n",
              "    </tr>\n",
              "    <tr>\n",
              "      <th>1</th>\n",
              "      <td>1</td>\n",
              "      <td>A backup seat and a backup computer have been ...</td>\n",
              "      <td>Enron email</td>\n",
              "    </tr>\n",
              "    <tr>\n",
              "      <th>2</th>\n",
              "      <td>2</td>\n",
              "      <td>Kelley, Looks fine to me. Susan Bailey -----Or...</td>\n",
              "      <td>Enron email</td>\n",
              "    </tr>\n",
              "    <tr>\n",
              "      <th>3</th>\n",
              "      <td>3</td>\n",
              "      <td>Ladies, I will be out for a day of vacation --...</td>\n",
              "      <td>Enron email</td>\n",
              "    </tr>\n",
              "    <tr>\n",
              "      <th>4</th>\n",
              "      <td>4</td>\n",
              "      <td>Russell, Best wishes &amp; much success on your ne...</td>\n",
              "      <td>Enron email</td>\n",
              "    </tr>\n",
              "    <tr>\n",
              "      <th>...</th>\n",
              "      <td>...</td>\n",
              "      <td>...</td>\n",
              "      <td>...</td>\n",
              "    </tr>\n",
              "    <tr>\n",
              "      <th>9162</th>\n",
              "      <td>9162</td>\n",
              "      <td>Bianca, Attached is the template for Annexes B...</td>\n",
              "      <td>Enron email</td>\n",
              "    </tr>\n",
              "    <tr>\n",
              "      <th>9163</th>\n",
              "      <td>9163</td>\n",
              "      <td>Cara, Tag 22874 got curtailed Day Ahead from 5...</td>\n",
              "      <td>Enron email</td>\n",
              "    </tr>\n",
              "    <tr>\n",
              "      <th>9164</th>\n",
              "      <td>9164</td>\n",
              "      <td>Hi Bill, Sorry I haven't been alive earlier bu...</td>\n",
              "      <td>Enron email</td>\n",
              "    </tr>\n",
              "    <tr>\n",
              "      <th>9165</th>\n",
              "      <td>9165</td>\n",
              "      <td>I realize that the timing of the Enron Net Wor...</td>\n",
              "      <td>Enron email</td>\n",
              "    </tr>\n",
              "    <tr>\n",
              "      <th>9166</th>\n",
              "      <td>9166</td>\n",
              "      <td>I left you a couple of messages with two diffe...</td>\n",
              "      <td>Enron email</td>\n",
              "    </tr>\n",
              "  </tbody>\n",
              "</table>\n",
              "<p>9167 rows × 3 columns</p>\n",
              "</div>"
            ],
            "text/plain": [
              "      index                                           sentence       source\n",
              "0         0  A backup seat and a backup computer have been ...  Enron email\n",
              "1         1  A backup seat and a backup computer have been ...  Enron email\n",
              "2         2  Kelley, Looks fine to me. Susan Bailey -----Or...  Enron email\n",
              "3         3  Ladies, I will be out for a day of vacation --...  Enron email\n",
              "4         4  Russell, Best wishes & much success on your ne...  Enron email\n",
              "...     ...                                                ...          ...\n",
              "9162   9162  Bianca, Attached is the template for Annexes B...  Enron email\n",
              "9163   9163  Cara, Tag 22874 got curtailed Day Ahead from 5...  Enron email\n",
              "9164   9164  Hi Bill, Sorry I haven't been alive earlier bu...  Enron email\n",
              "9165   9165  I realize that the timing of the Enron Net Wor...  Enron email\n",
              "9166   9166  I left you a couple of messages with two diffe...  Enron email\n",
              "\n",
              "[9167 rows x 3 columns]"
            ]
          },
          "metadata": {
            "tags": []
          },
          "execution_count": 22
        }
      ]
    },
    {
      "cell_type": "code",
      "metadata": {
        "colab": {
          "base_uri": "https://localhost:8080/"
        },
        "id": "Vqvu7mOavO5X",
        "outputId": "e1b5d0ee-8d5a-4e09-a819-36cd5adcf1ae"
      },
      "source": [
        "import pandas as pd\n",
        "    \n",
        "save = pd.DataFrame(dfTest, columns=  dfTest.columns)\n",
        "\n",
        "save.to_csv (r'enronEmailWithoutTag.csv', index = False, header=True)\n",
        "\n",
        "print (save)\n"
      ],
      "execution_count": 24,
      "outputs": [
        {
          "output_type": "stream",
          "text": [
            "      index                                           sentence       source\n",
            "0         0  A backup seat and a backup computer have been ...  Enron email\n",
            "1         1  A backup seat and a backup computer have been ...  Enron email\n",
            "2         2  Kelley, Looks fine to me. Susan Bailey -----Or...  Enron email\n",
            "3         3  Ladies, I will be out for a day of vacation --...  Enron email\n",
            "4         4  Russell, Best wishes & much success on your ne...  Enron email\n",
            "...     ...                                                ...          ...\n",
            "9162   9162  Bianca, Attached is the template for Annexes B...  Enron email\n",
            "9163   9163  Cara, Tag 22874 got curtailed Day Ahead from 5...  Enron email\n",
            "9164   9164  Hi Bill, Sorry I haven't been alive earlier bu...  Enron email\n",
            "9165   9165  I realize that the timing of the Enron Net Wor...  Enron email\n",
            "9166   9166  I left you a couple of messages with two diffe...  Enron email\n",
            "\n",
            "[9167 rows x 3 columns]\n"
          ],
          "name": "stdout"
        }
      ]
    },
    {
      "cell_type": "markdown",
      "metadata": {
        "id": "Czqr9ahBHynB"
      },
      "source": [
        "## Add New Columns"
      ]
    },
    {
      "cell_type": "code",
      "metadata": {
        "id": "D_FDHM_xH7PJ"
      },
      "source": [
        "cars = {'Brand': ['Honda Civic','Toyota Corolla','Ford Focus','Audi A4'],\n",
        "        'Price': [22000,25000,27000,35000]\n",
        "        }\n",
        "\n",
        "\n",
        "cars= pd.DataFrame(cars, columns=  ['Brand','Price'])\n",
        "cars['Address'] = \"Lol\"   \n",
        "cars\n",
        "\n",
        "# cars[cars.columns[:3]]"
      ],
      "execution_count": null,
      "outputs": []
    },
    {
      "cell_type": "markdown",
      "metadata": {
        "id": "j1lcmBiF-hFE"
      },
      "source": [
        "## Paragraph to Sentence"
      ]
    },
    {
      "cell_type": "code",
      "metadata": {
        "id": "njB2z4Tl-oYK"
      },
      "source": [
        "import nltk\n",
        "nltk.download('punkt')\n",
        "para= save['sentence'][1]\n",
        "tokens=[]\n",
        "print(para)\n",
        "tokens = nltk.sent_tokenize(para)\n",
        "print(tokens)\n",
        "\n",
        "for index, row in enumerate(save.sentence):\n",
        "    print(index,row) "
      ],
      "execution_count": null,
      "outputs": []
    }
  ]
}