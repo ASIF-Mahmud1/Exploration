{
 "cells": [
  {
   "cell_type": "code",
   "execution_count": 1,
   "id": "neural-clearance",
   "metadata": {},
   "outputs": [],
   "source": [
    "import pandas as pd\n",
    "import string\n",
    "import numpy as np\n",
    "import string\n",
    "import nltk\n",
    "from nltk.corpus import stopwords\n",
    "from nltk.stem import SnowballStemmer\n",
    "from sklearn.feature_extraction.text import CountVectorizer\n",
    "from sklearn.model_selection import train_test_split\n",
    "from sklearn.naive_bayes import MultinomialNB\n",
    "from sklearn.metrics import accuracy_score\n",
    "#Run the below piece of code for the first time\n",
    "#nltk.download('stopwords')"
   ]
  },
  {
   "cell_type": "code",
   "execution_count": 2,
   "id": "behind-subscriber",
   "metadata": {},
   "outputs": [
    {
     "data": {
      "text/html": [
       "<div>\n",
       "<style scoped>\n",
       "    .dataframe tbody tr th:only-of-type {\n",
       "        vertical-align: middle;\n",
       "    }\n",
       "\n",
       "    .dataframe tbody tr th {\n",
       "        vertical-align: top;\n",
       "    }\n",
       "\n",
       "    .dataframe thead th {\n",
       "        text-align: right;\n",
       "    }\n",
       "</style>\n",
       "<table border=\"1\" class=\"dataframe\">\n",
       "  <thead>\n",
       "    <tr style=\"text-align: right;\">\n",
       "      <th></th>\n",
       "      <th>emailId</th>\n",
       "      <th>tag</th>\n",
       "      <th>mail-message</th>\n",
       "    </tr>\n",
       "  </thead>\n",
       "  <tbody>\n",
       "    <tr>\n",
       "      <th>0</th>\n",
       "      <td>1</td>\n",
       "      <td>boss</td>\n",
       "      <td>Dear Tom, I can't thank you enough for your wi...</td>\n",
       "    </tr>\n",
       "    <tr>\n",
       "      <th>1</th>\n",
       "      <td>2</td>\n",
       "      <td>boss</td>\n",
       "      <td>Hi Toni, This note is to thank you for doing a...</td>\n",
       "    </tr>\n",
       "    <tr>\n",
       "      <th>2</th>\n",
       "      <td>3</td>\n",
       "      <td>possy</td>\n",
       "      <td>Hi Linda, How's it going? Sorry I haven't been...</td>\n",
       "    </tr>\n",
       "    <tr>\n",
       "      <th>3</th>\n",
       "      <td>4</td>\n",
       "      <td>possy</td>\n",
       "      <td>Hi Helga, I've been meaning to write to you fo...</td>\n",
       "    </tr>\n",
       "    <tr>\n",
       "      <th>4</th>\n",
       "      <td>5</td>\n",
       "      <td>boss</td>\n",
       "      <td>Hello Ted, I will give a try tomorrow on the l...</td>\n",
       "    </tr>\n",
       "  </tbody>\n",
       "</table>\n",
       "</div>"
      ],
      "text/plain": [
       "   emailId    tag                                       mail-message\n",
       "0        1   boss  Dear Tom, I can't thank you enough for your wi...\n",
       "1        2   boss  Hi Toni, This note is to thank you for doing a...\n",
       "2        3  possy  Hi Linda, How's it going? Sorry I haven't been...\n",
       "3        4  possy  Hi Helga, I've been meaning to write to you fo...\n",
       "4        5   boss  Hello Ted, I will give a try tomorrow on the l..."
      ]
     },
     "execution_count": 2,
     "metadata": {},
     "output_type": "execute_result"
    }
   ],
   "source": [
    "emails = pd.read_csv('emailDataset.csv', encoding = \"latin\")\n",
    "emails.head()"
   ]
  },
  {
   "cell_type": "code",
   "execution_count": 3,
   "id": "impressive-billy",
   "metadata": {},
   "outputs": [
    {
     "data": {
      "text/html": [
       "<div>\n",
       "<style scoped>\n",
       "    .dataframe tbody tr th:only-of-type {\n",
       "        vertical-align: middle;\n",
       "    }\n",
       "\n",
       "    .dataframe tbody tr th {\n",
       "        vertical-align: top;\n",
       "    }\n",
       "\n",
       "    .dataframe thead th {\n",
       "        text-align: right;\n",
       "    }\n",
       "</style>\n",
       "<table border=\"1\" class=\"dataframe\">\n",
       "  <thead>\n",
       "    <tr style=\"text-align: right;\">\n",
       "      <th></th>\n",
       "      <th>emailId</th>\n",
       "      <th>tag</th>\n",
       "      <th>mail-message</th>\n",
       "    </tr>\n",
       "  </thead>\n",
       "  <tbody>\n",
       "    <tr>\n",
       "      <th>0</th>\n",
       "      <td>1</td>\n",
       "      <td>boss</td>\n",
       "      <td>Dear Tom, I can't thank you enough for your wi...</td>\n",
       "    </tr>\n",
       "    <tr>\n",
       "      <th>1</th>\n",
       "      <td>2</td>\n",
       "      <td>boss</td>\n",
       "      <td>Hi Toni, This note is to thank you for doing a...</td>\n",
       "    </tr>\n",
       "    <tr>\n",
       "      <th>2</th>\n",
       "      <td>3</td>\n",
       "      <td>possy</td>\n",
       "      <td>Hi Linda, How's it going? Sorry I haven't been...</td>\n",
       "    </tr>\n",
       "    <tr>\n",
       "      <th>3</th>\n",
       "      <td>4</td>\n",
       "      <td>possy</td>\n",
       "      <td>Hi Helga, I've been meaning to write to you fo...</td>\n",
       "    </tr>\n",
       "    <tr>\n",
       "      <th>4</th>\n",
       "      <td>5</td>\n",
       "      <td>boss</td>\n",
       "      <td>Hello Ted, I will give a try tomorrow on the l...</td>\n",
       "    </tr>\n",
       "    <tr>\n",
       "      <th>5</th>\n",
       "      <td>6</td>\n",
       "      <td>possy</td>\n",
       "      <td>Hello! Ok!I like to talk to people from other ...</td>\n",
       "    </tr>\n",
       "    <tr>\n",
       "      <th>6</th>\n",
       "      <td>7</td>\n",
       "      <td>boss</td>\n",
       "      <td>Dear Ms. Smith, This is to bring to your notic...</td>\n",
       "    </tr>\n",
       "    <tr>\n",
       "      <th>7</th>\n",
       "      <td>8</td>\n",
       "      <td>possy</td>\n",
       "      <td>Hey, Susi, whats wrong with you. Why aren't yo...</td>\n",
       "    </tr>\n",
       "    <tr>\n",
       "      <th>8</th>\n",
       "      <td>9</td>\n",
       "      <td>possy</td>\n",
       "      <td>Hey Lucie, since we last talked, I started dat...</td>\n",
       "    </tr>\n",
       "    <tr>\n",
       "      <th>9</th>\n",
       "      <td>10</td>\n",
       "      <td>boss</td>\n",
       "      <td>Hello Sir, I am a student of yours from IUB. T...</td>\n",
       "    </tr>\n",
       "  </tbody>\n",
       "</table>\n",
       "</div>"
      ],
      "text/plain": [
       "   emailId    tag                                       mail-message\n",
       "0        1   boss  Dear Tom, I can't thank you enough for your wi...\n",
       "1        2   boss  Hi Toni, This note is to thank you for doing a...\n",
       "2        3  possy  Hi Linda, How's it going? Sorry I haven't been...\n",
       "3        4  possy  Hi Helga, I've been meaning to write to you fo...\n",
       "4        5   boss  Hello Ted, I will give a try tomorrow on the l...\n",
       "5        6  possy  Hello! Ok!I like to talk to people from other ...\n",
       "6        7   boss  Dear Ms. Smith, This is to bring to your notic...\n",
       "7        8  possy  Hey, Susi, whats wrong with you. Why aren't yo...\n",
       "8        9  possy  Hey Lucie, since we last talked, I started dat...\n",
       "9       10   boss  Hello Sir, I am a student of yours from IUB. T..."
      ]
     },
     "execution_count": 3,
     "metadata": {},
     "output_type": "execute_result"
    }
   ],
   "source": [
    "# emails = emails.drop([ 'Unnamed: 3', 'Unnamed: 4', 'Unnamed: 5'], axis = 1)\n",
    "emails_copy = emails['mail-message'].copy()\n",
    "emails"
   ]
  },
  {
   "cell_type": "code",
   "execution_count": 4,
   "id": "understood-fence",
   "metadata": {
    "scrolled": false
   },
   "outputs": [
    {
     "data": {
      "text/html": [
       "<div>\n",
       "<style scoped>\n",
       "    .dataframe tbody tr th:only-of-type {\n",
       "        vertical-align: middle;\n",
       "    }\n",
       "\n",
       "    .dataframe tbody tr th {\n",
       "        vertical-align: top;\n",
       "    }\n",
       "\n",
       "    .dataframe thead tr th {\n",
       "        text-align: left;\n",
       "    }\n",
       "\n",
       "    .dataframe thead tr:last-of-type th {\n",
       "        text-align: right;\n",
       "    }\n",
       "</style>\n",
       "<table border=\"1\" class=\"dataframe\">\n",
       "  <thead>\n",
       "    <tr>\n",
       "      <th></th>\n",
       "      <th colspan=\"8\" halign=\"left\">emailId</th>\n",
       "    </tr>\n",
       "    <tr>\n",
       "      <th></th>\n",
       "      <th>count</th>\n",
       "      <th>mean</th>\n",
       "      <th>std</th>\n",
       "      <th>min</th>\n",
       "      <th>25%</th>\n",
       "      <th>50%</th>\n",
       "      <th>75%</th>\n",
       "      <th>max</th>\n",
       "    </tr>\n",
       "    <tr>\n",
       "      <th>tag</th>\n",
       "      <th></th>\n",
       "      <th></th>\n",
       "      <th></th>\n",
       "      <th></th>\n",
       "      <th></th>\n",
       "      <th></th>\n",
       "      <th></th>\n",
       "      <th></th>\n",
       "    </tr>\n",
       "  </thead>\n",
       "  <tbody>\n",
       "    <tr>\n",
       "      <th>boss</th>\n",
       "      <td>5.0</td>\n",
       "      <td>5.0</td>\n",
       "      <td>3.674235</td>\n",
       "      <td>1.0</td>\n",
       "      <td>2.0</td>\n",
       "      <td>5.0</td>\n",
       "      <td>7.0</td>\n",
       "      <td>10.0</td>\n",
       "    </tr>\n",
       "    <tr>\n",
       "      <th>possy</th>\n",
       "      <td>5.0</td>\n",
       "      <td>6.0</td>\n",
       "      <td>2.549510</td>\n",
       "      <td>3.0</td>\n",
       "      <td>4.0</td>\n",
       "      <td>6.0</td>\n",
       "      <td>8.0</td>\n",
       "      <td>9.0</td>\n",
       "    </tr>\n",
       "  </tbody>\n",
       "</table>\n",
       "</div>"
      ],
      "text/plain": [
       "      emailId                                         \n",
       "        count mean       std  min  25%  50%  75%   max\n",
       "tag                                                   \n",
       "boss      5.0  5.0  3.674235  1.0  2.0  5.0  7.0  10.0\n",
       "possy     5.0  6.0  2.549510  3.0  4.0  6.0  8.0   9.0"
      ]
     },
     "execution_count": 4,
     "metadata": {},
     "output_type": "execute_result"
    }
   ],
   "source": [
    "emails.groupby('tag').describe()\n"
   ]
  },
  {
   "cell_type": "code",
   "execution_count": 5,
   "id": "neural-consensus",
   "metadata": {},
   "outputs": [],
   "source": [
    "def text_preprocess(text):\n",
    "    text = text.translate(str.maketrans('', '', string.punctuation))\n",
    "    text = [word for word in text.split() if word.lower() not in stopwords.words('english')]\n",
    "    return \" \".join(text)"
   ]
  },
  {
   "cell_type": "code",
   "execution_count": 6,
   "id": "nuclear-relations",
   "metadata": {},
   "outputs": [],
   "source": [
    "def stemmer (text):\n",
    "    text = text.split()\n",
    "    words = \"\"\n",
    "    for i in text:\n",
    "            stemmer = SnowballStemmer(\"english\")\n",
    "            words += (stemmer.stem(i))+\" \"\n",
    "    return words"
   ]
  },
  {
   "cell_type": "code",
   "execution_count": 7,
   "id": "residential-rugby",
   "metadata": {},
   "outputs": [],
   "source": [
    "emails_copy = emails_copy.apply(text_preprocess)\n",
    "emails_copy = emails_copy.apply(stemmer)    # New Line\n",
    "# message_data_copy"
   ]
  },
  {
   "cell_type": "code",
   "execution_count": 8,
   "id": "disabled-depth",
   "metadata": {},
   "outputs": [],
   "source": [
    "X_train, X_test, Y_train,Y_test= train_test_split(emails_copy, emails[\"tag\"],random_state=1)"
   ]
  },
  {
   "cell_type": "code",
   "execution_count": 9,
   "id": "ongoing-specific",
   "metadata": {},
   "outputs": [
    {
     "name": "stdout",
     "output_type": "stream",
     "text": [
      "Number of rows in the total set ():  10\n",
      "Number of rows in the training set ():  7\n",
      "Number of rows in the test set ():  3\n",
      "Number of rows in the test set (): \n",
      " 2    hi linda how go sorri havent touch long time i...\n",
      "9    hello sir student iub remind convers todayfrid...\n",
      "6    dear ms smith bring notic errat transport faci...\n",
      "Name: mail-message, dtype: object\n"
     ]
    }
   ],
   "source": [
    "print (\"Number of rows in the total set (): \", format(emails.shape[0]) )\n",
    "print (\"Number of rows in the training set (): \", format(X_train.shape[0]) )\n",
    "print (\"Number of rows in the test set (): \", format(X_test.shape[0] ))\n",
    "print (\"Number of rows in the test set (): \\n\", format(X_test ))"
   ]
  },
  {
   "cell_type": "code",
   "execution_count": 10,
   "id": "wound-latter",
   "metadata": {},
   "outputs": [],
   "source": [
    "countVector= CountVectorizer()"
   ]
  },
  {
   "cell_type": "code",
   "execution_count": 11,
   "id": "exterior-carry",
   "metadata": {},
   "outputs": [],
   "source": [
    "training_data= countVector.fit_transform(X_train)\n",
    "# print(training_data)\n",
    "testing_data=countVector.transform(X_test)"
   ]
  },
  {
   "cell_type": "code",
   "execution_count": 12,
   "id": "finite-chosen",
   "metadata": {},
   "outputs": [
    {
     "data": {
      "text/plain": [
       "MultinomialNB()"
      ]
     },
     "execution_count": 12,
     "metadata": {},
     "output_type": "execute_result"
    }
   ],
   "source": [
    "naive_bayes= MultinomialNB()\n",
    "naive_bayes.fit(training_data,Y_train)"
   ]
  },
  {
   "cell_type": "code",
   "execution_count": 13,
   "id": "saving-restriction",
   "metadata": {},
   "outputs": [],
   "source": [
    "predictions= naive_bayes.predict(testing_data)"
   ]
  },
  {
   "cell_type": "code",
   "execution_count": 14,
   "id": "expired-hardware",
   "metadata": {},
   "outputs": [
    {
     "name": "stdout",
     "output_type": "stream",
     "text": [
      "The prediction is : ['possy' 'boss' 'possy']\n",
      "Accuracy Score:  66.66666666666666 %\n"
     ]
    }
   ],
   "source": [
    "print(\"The prediction is :\", predictions)\n",
    "print(\"Accuracy Score: \", format(accuracy_score(Y_test,predictions)*100)+\" %\")"
   ]
  },
  {
   "cell_type": "code",
   "execution_count": 15,
   "id": "appreciated-export",
   "metadata": {
    "scrolled": true
   },
   "outputs": [
    {
     "name": "stdout",
     "output_type": "stream",
     "text": [
      "The prediction is : ['boss']\n"
     ]
    }
   ],
   "source": [
    "dummyEmail = [\"Hello Sir, I am a student of yours from IUB. This is to remind you, we had a conversation today(Friday)  regarding a project that I  can work for, related with mathematics. Thank you\"]\n",
    "dummyEmailMatrix= countVector.transform(dummyEmail) \n",
    "dummyEmailMatrix\n",
    "predict= naive_bayes.predict(dummyEmailMatrix)\n",
    "print(\"The prediction is :\", predict)"
   ]
  },
  {
   "cell_type": "code",
   "execution_count": null,
   "id": "educational-expansion",
   "metadata": {},
   "outputs": [],
   "source": []
  }
 ],
 "metadata": {
  "kernelspec": {
   "display_name": "Python 3",
   "language": "python",
   "name": "python3"
  },
  "language_info": {
   "codemirror_mode": {
    "name": "ipython",
    "version": 3
   },
   "file_extension": ".py",
   "mimetype": "text/x-python",
   "name": "python",
   "nbconvert_exporter": "python",
   "pygments_lexer": "ipython3",
   "version": "3.8.3"
  }
 },
 "nbformat": 4,
 "nbformat_minor": 5
}
