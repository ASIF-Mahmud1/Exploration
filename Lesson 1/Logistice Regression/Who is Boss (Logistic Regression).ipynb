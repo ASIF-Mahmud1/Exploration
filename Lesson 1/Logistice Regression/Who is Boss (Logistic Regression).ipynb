{
 "cells": [
  {
   "cell_type": "code",
   "execution_count": 1,
   "id": "regulated-friendly",
   "metadata": {},
   "outputs": [],
   "source": [
    "import numpy as np\n",
    "import pandas as pd\n",
    "import string\n",
    "from sklearn.feature_extraction.text import TfidfVectorizer\n",
    "from sklearn.model_selection import train_test_split\n",
    "import nltk\n",
    "from nltk.corpus import stopwords\n",
    "from nltk.stem import SnowballStemmer\n",
    "#Run the below piece of code for the first time\n",
    "#nltk.download('stopwords')"
   ]
  },
  {
   "cell_type": "code",
   "execution_count": 2,
   "id": "drawn-catering",
   "metadata": {},
   "outputs": [
    {
     "data": {
      "text/html": [
       "<div>\n",
       "<style scoped>\n",
       "    .dataframe tbody tr th:only-of-type {\n",
       "        vertical-align: middle;\n",
       "    }\n",
       "\n",
       "    .dataframe tbody tr th {\n",
       "        vertical-align: top;\n",
       "    }\n",
       "\n",
       "    .dataframe thead th {\n",
       "        text-align: right;\n",
       "    }\n",
       "</style>\n",
       "<table border=\"1\" class=\"dataframe\">\n",
       "  <thead>\n",
       "    <tr style=\"text-align: right;\">\n",
       "      <th></th>\n",
       "      <th>emailId</th>\n",
       "      <th>tag</th>\n",
       "      <th>mail-message</th>\n",
       "    </tr>\n",
       "  </thead>\n",
       "  <tbody>\n",
       "    <tr>\n",
       "      <th>0</th>\n",
       "      <td>1</td>\n",
       "      <td>boss</td>\n",
       "      <td>Dear Tom, I can't thank you enough for forward...</td>\n",
       "    </tr>\n",
       "    <tr>\n",
       "      <th>1</th>\n",
       "      <td>2</td>\n",
       "      <td>possy</td>\n",
       "      <td>Hi Linda, How's it going? Sorry I haven't been...</td>\n",
       "    </tr>\n",
       "    <tr>\n",
       "      <th>2</th>\n",
       "      <td>3</td>\n",
       "      <td>possy</td>\n",
       "      <td>Hey, Susi, whats wrong with you? Why aren't yo...</td>\n",
       "    </tr>\n",
       "    <tr>\n",
       "      <th>3</th>\n",
       "      <td>4</td>\n",
       "      <td>boss</td>\n",
       "      <td>Dear Barylior, I will need your opinion on how...</td>\n",
       "    </tr>\n",
       "    <tr>\n",
       "      <th>4</th>\n",
       "      <td>5</td>\n",
       "      <td>boss</td>\n",
       "      <td>Dear Liz,I really appreciate your understandin...</td>\n",
       "    </tr>\n",
       "  </tbody>\n",
       "</table>\n",
       "</div>"
      ],
      "text/plain": [
       "   emailId    tag                                       mail-message\n",
       "0        1   boss  Dear Tom, I can't thank you enough for forward...\n",
       "1        2  possy  Hi Linda, How's it going? Sorry I haven't been...\n",
       "2        3  possy  Hey, Susi, whats wrong with you? Why aren't yo...\n",
       "3        4   boss  Dear Barylior, I will need your opinion on how...\n",
       "4        5   boss  Dear Liz,I really appreciate your understandin..."
      ]
     },
     "execution_count": 2,
     "metadata": {},
     "output_type": "execute_result"
    }
   ],
   "source": [
    "message_data = pd.read_csv(\"emailDataset.csv\",encoding = \"latin\")\n",
    "message_data.head()"
   ]
  },
  {
   "cell_type": "code",
   "execution_count": 3,
   "id": "photographic-handle",
   "metadata": {},
   "outputs": [],
   "source": [
    "# message_data = message_data.drop(['Unnamed: 3', 'Unnamed: 4', 'Unnamed: 5'], axis = 1)\n"
   ]
  },
  {
   "cell_type": "code",
   "execution_count": 4,
   "id": "strategic-treaty",
   "metadata": {
    "scrolled": true
   },
   "outputs": [
    {
     "data": {
      "text/html": [
       "<div>\n",
       "<style scoped>\n",
       "    .dataframe tbody tr th:only-of-type {\n",
       "        vertical-align: middle;\n",
       "    }\n",
       "\n",
       "    .dataframe tbody tr th {\n",
       "        vertical-align: top;\n",
       "    }\n",
       "\n",
       "    .dataframe thead th {\n",
       "        text-align: right;\n",
       "    }\n",
       "</style>\n",
       "<table border=\"1\" class=\"dataframe\">\n",
       "  <thead>\n",
       "    <tr style=\"text-align: right;\">\n",
       "      <th></th>\n",
       "      <th>emailId</th>\n",
       "      <th>tag</th>\n",
       "      <th>mail-message</th>\n",
       "    </tr>\n",
       "  </thead>\n",
       "  <tbody>\n",
       "    <tr>\n",
       "      <th>0</th>\n",
       "      <td>1</td>\n",
       "      <td>boss</td>\n",
       "      <td>Dear Tom, I can't thank you enough for forward...</td>\n",
       "    </tr>\n",
       "    <tr>\n",
       "      <th>1</th>\n",
       "      <td>2</td>\n",
       "      <td>possy</td>\n",
       "      <td>Hi Linda, How's it going? Sorry I haven't been...</td>\n",
       "    </tr>\n",
       "    <tr>\n",
       "      <th>2</th>\n",
       "      <td>3</td>\n",
       "      <td>possy</td>\n",
       "      <td>Hey, Susi, whats wrong with you? Why aren't yo...</td>\n",
       "    </tr>\n",
       "    <tr>\n",
       "      <th>3</th>\n",
       "      <td>4</td>\n",
       "      <td>boss</td>\n",
       "      <td>Dear Barylior, I will need your opinion on how...</td>\n",
       "    </tr>\n",
       "    <tr>\n",
       "      <th>4</th>\n",
       "      <td>5</td>\n",
       "      <td>boss</td>\n",
       "      <td>Dear Liz,I really appreciate your understandin...</td>\n",
       "    </tr>\n",
       "    <tr>\n",
       "      <th>5</th>\n",
       "      <td>6</td>\n",
       "      <td>boss</td>\n",
       "      <td>Dear Chris,I just wanted to drop you a note to...</td>\n",
       "    </tr>\n",
       "    <tr>\n",
       "      <th>6</th>\n",
       "      <td>7</td>\n",
       "      <td>boss</td>\n",
       "      <td>Dear Ryanna, Thank you so much for the generou...</td>\n",
       "    </tr>\n",
       "    <tr>\n",
       "      <th>7</th>\n",
       "      <td>8</td>\n",
       "      <td>possy</td>\n",
       "      <td>Brian ! like to talk to people from other part...</td>\n",
       "    </tr>\n",
       "    <tr>\n",
       "      <th>8</th>\n",
       "      <td>9</td>\n",
       "      <td>boss</td>\n",
       "      <td>Dear Ms. Smith, This is to bring to your notic...</td>\n",
       "    </tr>\n",
       "    <tr>\n",
       "      <th>9</th>\n",
       "      <td>10</td>\n",
       "      <td>possy</td>\n",
       "      <td>Hey Lucie, since we last talked, I started dat...</td>\n",
       "    </tr>\n",
       "    <tr>\n",
       "      <th>10</th>\n",
       "      <td>11</td>\n",
       "      <td>boss</td>\n",
       "      <td>Hello Sir, I am a student of yours from UCLA. ...</td>\n",
       "    </tr>\n",
       "    <tr>\n",
       "      <th>11</th>\n",
       "      <td>12</td>\n",
       "      <td>possy</td>\n",
       "      <td>Emy . we are not friends anymore. On my Birthd...</td>\n",
       "    </tr>\n",
       "    <tr>\n",
       "      <th>12</th>\n",
       "      <td>13</td>\n",
       "      <td>possy</td>\n",
       "      <td>Hi Weasel! Hope this mail finds you in the bes...</td>\n",
       "    </tr>\n",
       "    <tr>\n",
       "      <th>13</th>\n",
       "      <td>14</td>\n",
       "      <td>boss</td>\n",
       "      <td>Dear Sir,  Please accept this mail as a notice...</td>\n",
       "    </tr>\n",
       "    <tr>\n",
       "      <th>14</th>\n",
       "      <td>15</td>\n",
       "      <td>possy</td>\n",
       "      <td>Hi my friend",
       " I havent seen you for a lot tim...</td>\n",
       "    </tr>\n",
       "    <tr>\n",
       "      <th>15</th>\n",
       "      <td>16</td>\n",
       "      <td>boss</td>\n",
       "      <td>Dear Ms. Lee, I am writing to request consider...</td>\n",
       "    </tr>\n",
       "    <tr>\n",
       "      <th>16</th>\n",
       "      <td>17</td>\n",
       "      <td>boss</td>\n",
       "      <td>Dear Mr./Ms. {Recipients Name}, I am writing ...</td>\n",
       "    </tr>\n",
       "    <tr>\n",
       "      <th>17</th>\n",
       "      <td>18</td>\n",
       "      <td>possy</td>\n",
       "      <td>Liza, Being your sister is the greatest blessi...</td>\n",
       "    </tr>\n",
       "    <tr>\n",
       "      <th>18</th>\n",
       "      <td>19</td>\n",
       "      <td>possy</td>\n",
       "      <td>Dear Alisha, Happy birthday to you I am so hap...</td>\n",
       "    </tr>\n",
       "    <tr>\n",
       "      <th>19</th>\n",
       "      <td>20</td>\n",
       "      <td>possy</td>\n",
       "      <td>My blueberry, Since we cross paths, my world h...</td>\n",
       "    </tr>\n",
       "  </tbody>\n",
       "</table>\n",
       "</div>"
      ],
      "text/plain": [
       "    emailId    tag                                       mail-message\n",
       "0         1   boss  Dear Tom, I can't thank you enough for forward...\n",
       "1         2  possy  Hi Linda, How's it going? Sorry I haven't been...\n",
       "2         3  possy  Hey, Susi, whats wrong with you? Why aren't yo...\n",
       "3         4   boss  Dear Barylior, I will need your opinion on how...\n",
       "4         5   boss  Dear Liz,I really appreciate your understandin...\n",
       "5         6   boss  Dear Chris,I just wanted to drop you a note to...\n",
       "6         7   boss  Dear Ryanna, Thank you so much for the generou...\n",
       "7         8  possy  Brian ! like to talk to people from other part...\n",
       "8         9   boss  Dear Ms. Smith, This is to bring to your notic...\n",
       "9        10  possy  Hey Lucie, since we last talked, I started dat...\n",
       "10       11   boss  Hello Sir, I am a student of yours from UCLA. ...\n",
       "11       12  possy  Emy . we are not friends anymore. On my Birthd...\n",
       "12       13  possy  Hi Weasel! Hope this mail finds you in the bes...\n",
       "13       14   boss  Dear Sir,  Please accept this mail as a notice...\n",
       "14       15  possy  Hi my friend\n",
       " I havent seen you for a lot tim...\n",
       "15       16   boss  Dear Ms. Lee, I am writing to request consider...\n",
       "16       17   boss  Dear Mr./Ms. {Recipients Name}, I am writing ...\n",
       "17       18  possy  Liza, Being your sister is the greatest blessi...\n",
       "18       19  possy  Dear Alisha, Happy birthday to you I am so hap...\n",
       "19       20  possy  My blueberry, Since we cross paths, my world h..."
      ]
     },
     "execution_count": 4,
     "metadata": {},
     "output_type": "execute_result"
    }
   ],
   "source": [
    "message_data"
   ]
  },
  {
   "cell_type": "code",
   "execution_count": 5,
   "id": "addressed-giving",
   "metadata": {},
   "outputs": [
    {
     "data": {
      "text/html": [
       "<div>\n",
       "<style scoped>\n",
       "    .dataframe tbody tr th:only-of-type {\n",
       "        vertical-align: middle;\n",
       "    }\n",
       "\n",
       "    .dataframe tbody tr th {\n",
       "        vertical-align: top;\n",
       "    }\n",
       "\n",
       "    .dataframe thead tr th {\n",
       "        text-align: left;\n",
       "    }\n",
       "\n",
       "    .dataframe thead tr:last-of-type th {\n",
       "        text-align: right;\n",
       "    }\n",
       "</style>\n",
       "<table border=\"1\" class=\"dataframe\">\n",
       "  <thead>\n",
       "    <tr>\n",
       "      <th></th>\n",
       "      <th colspan=\"8\" halign=\"left\">emailId</th>\n",
       "    </tr>\n",
       "    <tr>\n",
       "      <th></th>\n",
       "      <th>count</th>\n",
       "      <th>mean</th>\n",
       "      <th>std</th>\n",
       "      <th>min</th>\n",
       "      <th>25%</th>\n",
       "      <th>50%</th>\n",
       "      <th>75%</th>\n",
       "      <th>max</th>\n",
       "    </tr>\n",
       "    <tr>\n",
       "      <th>tag</th>\n",
       "      <th></th>\n",
       "      <th></th>\n",
       "      <th></th>\n",
       "      <th></th>\n",
       "      <th></th>\n",
       "      <th></th>\n",
       "      <th></th>\n",
       "      <th></th>\n",
       "    </tr>\n",
       "  </thead>\n",
       "  <tbody>\n",
       "    <tr>\n",
       "      <th>boss</th>\n",
       "      <td>10.0</td>\n",
       "      <td>9.0</td>\n",
       "      <td>5.374838</td>\n",
       "      <td>1.0</td>\n",
       "      <td>5.25</td>\n",
       "      <td>8.0</td>\n",
       "      <td>13.25</td>\n",
       "      <td>17.0</td>\n",
       "    </tr>\n",
       "    <tr>\n",
       "      <th>possy</th>\n",
       "      <td>10.0</td>\n",
       "      <td>12.0</td>\n",
       "      <td>6.324555</td>\n",
       "      <td>2.0</td>\n",
       "      <td>8.50</td>\n",
       "      <td>12.5</td>\n",
       "      <td>17.25</td>\n",
       "      <td>20.0</td>\n",
       "    </tr>\n",
       "  </tbody>\n",
       "</table>\n",
       "</div>"
      ],
      "text/plain": [
       "      emailId                                              \n",
       "        count  mean       std  min   25%   50%    75%   max\n",
       "tag                                                        \n",
       "boss     10.0   9.0  5.374838  1.0  5.25   8.0  13.25  17.0\n",
       "possy    10.0  12.0  6.324555  2.0  8.50  12.5  17.25  20.0"
      ]
     },
     "execution_count": 5,
     "metadata": {},
     "output_type": "execute_result"
    }
   ],
   "source": [
    " message_data.groupby('tag').describe()\n"
   ]
  },
  {
   "cell_type": "code",
   "execution_count": 6,
   "id": "disciplinary-operations",
   "metadata": {},
   "outputs": [
    {
     "data": {
      "text/plain": [
       "0     Dear Tom, I can't thank you enough for forward...\n",
       "1     Hi Linda, How's it going? Sorry I haven't been...\n",
       "2     Hey, Susi, whats wrong with you? Why aren't yo...\n",
       "3     Dear Barylior, I will need your opinion on how...\n",
       "4     Dear Liz,I really appreciate your understandin...\n",
       "5     Dear Chris,I just wanted to drop you a note to...\n",
       "6     Dear Ryanna, Thank you so much for the generou...\n",
       "7     Brian ! like to talk to people from other part...\n",
       "8     Dear Ms. Smith, This is to bring to your notic...\n",
       "9     Hey Lucie, since we last talked, I started dat...\n",
       "10    Hello Sir, I am a student of yours from UCLA. ...\n",
       "11    Emy . we are not friends anymore. On my Birthd...\n",
       "12    Hi Weasel! Hope this mail finds you in the bes...\n",
       "13    Dear Sir,  Please accept this mail as a notice...\n",
       "14    Hi my friend\n",
       " I havent seen you for a lot tim...\n",
       "15    Dear Ms. Lee, I am writing to request consider...\n",
       "16    Dear Mr./Ms. {Recipients Name}, I am writing ...\n",
       "17    Liza, Being your sister is the greatest blessi...\n",
       "18    Dear Alisha, Happy birthday to you I am so hap...\n",
       "19    My blueberry, Since we cross paths, my world h...\n",
       "Name: mail-message, dtype: object"
      ]
     },
     "execution_count": 6,
     "metadata": {},
     "output_type": "execute_result"
    }
   ],
   "source": [
    "message_data_copy = message_data['mail-message'].copy()\n",
    "\n",
    "message_data_copy"
   ]
  },
  {
   "cell_type": "code",
   "execution_count": 7,
   "id": "remarkable-chick",
   "metadata": {},
   "outputs": [],
   "source": [
    "def text_preprocess(text):\n",
    "    text = text.translate(str.maketrans('', '', string.punctuation))\n",
    "    text = [word for word in text.split() if word.lower() not in stopwords.words('english')]\n",
    "    return \" \".join(text)"
   ]
  },
  {
   "cell_type": "code",
   "execution_count": 8,
   "id": "marked-finding",
   "metadata": {},
   "outputs": [],
   "source": [
    "def stemmer (text):\n",
    "    text = text.split()\n",
    "    words = \"\"\n",
    "    for i in text:\n",
    "            stemmer = SnowballStemmer(\"english\")\n",
    "            words += (stemmer.stem(i))+\" \"\n",
    "    return words"
   ]
  },
  {
   "cell_type": "code",
   "execution_count": 9,
   "id": "extraordinary-sunset",
   "metadata": {
    "scrolled": true
   },
   "outputs": [],
   "source": [
    "message_data_copy = message_data_copy.apply(text_preprocess)\n",
    "message_data_copy = message_data_copy.apply(stemmer)    # New Line\n",
    "# message_data_copy"
   ]
  },
  {
   "cell_type": "code",
   "execution_count": 10,
   "id": "collect-outreach",
   "metadata": {
    "scrolled": true
   },
   "outputs": [
    {
     "name": "stderr",
     "output_type": "stream",
     "text": [
      "c:\\users\\kids\\appdata\\local\\programs\\python\\python38\\lib\\site-packages\\sklearn\\utils\\validation.py:68: FutureWarning: Pass input=english as keyword args. From version 0.25 passing these as positional arguments will result in an error\n",
      "  warnings.warn(\"Pass {} as keyword args. From version 0.25 \"\n"
     ]
    }
   ],
   "source": [
    "vectorizer = TfidfVectorizer(\"english\")\n",
    "message_mat = vectorizer.fit_transform(message_data_copy)\n"
   ]
  },
  {
   "cell_type": "code",
   "execution_count": 11,
   "id": "adapted-intro",
   "metadata": {},
   "outputs": [],
   "source": [
    "# Normalizing length.\n",
    "# The code below works ,but it doesn't have any efect on the accuracy . Use it carefully\n",
    "# message_data['length'] = message_data['mail-message'].apply(len)\n",
    "# message_data.head()\n",
    "# length = message_data['length'].to_numpy()\n",
    "\n",
    "# new_mat = np.hstack((message_mat.todense(),length[:, None]))"
   ]
  },
  {
   "cell_type": "code",
   "execution_count": 12,
   "id": "contrary-willow",
   "metadata": {},
   "outputs": [],
   "source": [
    "message_train, message_test, spam_nospam_train, spam_nospam_test = train_test_split(message_mat, \n",
    "                                                        message_data['tag'], test_size=0.3, random_state=20)"
   ]
  },
  {
   "cell_type": "code",
   "execution_count": 13,
   "id": "ancient-generator",
   "metadata": {},
   "outputs": [
    {
     "name": "stdout",
     "output_type": "stream",
     "text": [
      "The prediction is : ['boss' 'boss' 'boss' 'boss' 'boss' 'boss']\n",
      "Accuracy Score:  66.66666666666666 %\n"
     ]
    }
   ],
   "source": [
    "from sklearn.linear_model import LogisticRegression\n",
    "from sklearn.metrics import accuracy_score\n",
    "\n",
    "Spam_model = LogisticRegression(solver='liblinear', penalty='l1')\n",
    "Spam_model.fit(message_train, spam_nospam_train)\n",
    "pred = Spam_model.predict(message_test)\n",
    "accuracy_score(spam_nospam_test,pred)\n",
    "\n",
    "print(\"The prediction is :\", pred)\n",
    "print(\"Accuracy Score: \", format(accuracy_score(spam_nospam_test,pred)*100)+\" %\")"
   ]
  },
  {
   "cell_type": "code",
   "execution_count": 14,
   "id": "persistent-confusion",
   "metadata": {},
   "outputs": [],
   "source": [
    "# ## My Try \n",
    "# ## 1. Take sample email\n",
    "# # 2. Preprocess it\n",
    "# # 3. Vectorize it\n",
    "# # 4. Put it in the model\n",
    "# test_email=message_data_copy[0] \n",
    "# test_email\n",
    "# test_email=[test_email]\n"
   ]
  },
  {
   "cell_type": "code",
   "execution_count": 15,
   "id": "suburban-armor",
   "metadata": {},
   "outputs": [
    {
     "name": "stdout",
     "output_type": "stream",
     "text": [
      "The prediction is : ['boss']\n"
     ]
    }
   ],
   "source": [
    "dummyEmail = [\"Hey, Susi, whats wrong with you? Why aren't you \"]\n",
    "dummyEmailMatrix= vectorizer.transform(dummyEmail) \n",
    "dummyEmailMatrix\n",
    "predict= Spam_model.predict(dummyEmailMatrix)\n",
    "print(\"The prediction is :\", predict)"
   ]
  },
  {
   "cell_type": "code",
   "execution_count": null,
   "id": "sublime-indonesian",
   "metadata": {},
   "outputs": [],
   "source": []
  },
  {
   "cell_type": "code",
   "execution_count": null,
   "id": "ambient-grass",
   "metadata": {},
   "outputs": [],
   "source": []
  }
 ],
 "metadata": {
  "kernelspec": {
   "display_name": "Python 3",
   "language": "python",
   "name": "python3"
  },
  "language_info": {
   "codemirror_mode": {
    "name": "ipython",
    "version": 3
   },
   "file_extension": ".py",
   "mimetype": "text/x-python",
   "name": "python",
   "nbconvert_exporter": "python",
   "pygments_lexer": "ipython3",
   "version": "3.8.3"
  }
 },
 "nbformat": 4,
 "nbformat_minor": 5
}
