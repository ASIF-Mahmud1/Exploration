{
  "nbformat": 4,
  "nbformat_minor": 0,
  "metadata": {
    "colab": {
      "name": "Exploration : Diminishing Terms.ipynb",
      "provenance": [],
      "collapsed_sections": [],
      "authorship_tag": "ABX9TyPxYNKa7lowM7MI4m80TIc5",
      "include_colab_link": true
    },
    "kernelspec": {
      "name": "python3",
      "display_name": "Python 3"
    },
    "language_info": {
      "name": "python"
    }
  },
  "cells": [
    {
      "cell_type": "markdown",
      "metadata": {
        "id": "view-in-github",
        "colab_type": "text"
      },
      "source": [
        "<a href=\"https://colab.research.google.com/github/ASIF-Mahmud1/Exploration/blob/master/Exploration_Diminishing_Terms.ipynb\" target=\"_parent\"><img src=\"https://colab.research.google.com/assets/colab-badge.svg\" alt=\"Open In Colab\"/></a>"
      ]
    },
    {
      "cell_type": "code",
      "metadata": {
        "colab": {
          "base_uri": "https://localhost:8080/",
          "height": 229
        },
        "id": "BAN--NYxuUZo",
        "outputId": "99e275f9-4f6a-46ef-eb27-4e72e2b52fc2"
      },
      "source": [
        "\n",
        "import tensorflow as tf\n",
        "import tensorflow_hub as hub\n",
        "import numpy as np\n",
        "import os, sys\n",
        "from sklearn.metrics.pairwise import cosine_similarity\n",
        "\n",
        "# get cosine similairty matrix\n",
        "def cos_sim(input_vectors):\n",
        "    similarity = cosine_similarity(input_vectors)\n",
        "    return similarity\n",
        "\n",
        "# get topN similar sentences\n",
        "def get_top_similar(sentence, sentence_list, similarity_matrix, topN):\n",
        "    # find the index of sentence in list\n",
        "    index = sentence_list.index(sentence)\n",
        "    # get the corresponding row in similarity matrix\n",
        "    similarity_row = np.array(similarity_matrix[index, :])\n",
        "    # get the indices of top similar\n",
        "    indices = similarity_row.argsort()[-topN:][::-1]\n",
        "    return [sentence_list[i] for i in indices]\n",
        "\n",
        "\n",
        "module_url = \"https://tfhub.dev/google/universal-sentence-encoder/2\" #@param [\"https://tfhub.dev/google/universal-sentence-encoder/2\", \"https://tfhub.dev/google/universal-sentence-encoder-large/3\"]\n",
        "\n",
        "# Import the Universal Sentence Encoder's TF Hub module\n",
        "embed = hub.load(module_url)\n",
        "\n",
        "# Reduce logging output.\n",
        "# tf.logging.set_verbosity(tf.logging.ERROR)\n",
        "# tf.compat.v1.logging(tf.logging.ERROR)\n",
        "\n",
        "sentences_list = [\n",
        "    # phone related\n",
        "    'My phone is slow',\n",
        "    'My phone is not good',\n",
        "    'I need to change my phone. It does not work well',\n",
        "    'How is your phone?',\n",
        "\n",
        "    # age related\n",
        "    'What is your age?',\n",
        "    'How old are you?',\n",
        "    'I am 10 years old',\n",
        "\n",
        "    # weather related\n",
        "    'It is raining today',\n",
        "    'Would it be sunny tomorrow?',\n",
        "    'The summers are here.'\n",
        "]\n",
        "\n",
        "with tf.Session() as session:\n",
        "\n",
        "  session.run([tf.global_variables_initializer(), tf.tables_initializer()])\n",
        "  sentences_embeddings = session.run(embed(sentences_list))\n",
        "\n",
        "similarity_matrix = cos_sim(np.array(sentences_embeddings))\n",
        "\n",
        "sentence = \"It is raining today\"\n",
        "top_similar = get_top_similar(sentence, sentences_list, similarity_matrix, 3)\n",
        "\n",
        "# printing the list using loop \n",
        "for x in range(len(top_similar)): \n",
        "    print(top_similar[x])"
      ],
      "execution_count": 4,
      "outputs": [
        {
          "output_type": "error",
          "ename": "AttributeError",
          "evalue": "ignored",
          "traceback": [
            "\u001b[0;31m---------------------------------------------------------------------------\u001b[0m",
            "\u001b[0;31mAttributeError\u001b[0m                            Traceback (most recent call last)",
            "\u001b[0;32m<ipython-input-4-56cf39718506>\u001b[0m in \u001b[0;36m<module>\u001b[0;34m()\u001b[0m\n\u001b[1;32m     49\u001b[0m ]\n\u001b[1;32m     50\u001b[0m \u001b[0;34m\u001b[0m\u001b[0m\n\u001b[0;32m---> 51\u001b[0;31m \u001b[0;32mwith\u001b[0m \u001b[0mtf\u001b[0m\u001b[0;34m.\u001b[0m\u001b[0mSession\u001b[0m\u001b[0;34m(\u001b[0m\u001b[0;34m)\u001b[0m \u001b[0;32mas\u001b[0m \u001b[0msession\u001b[0m\u001b[0;34m:\u001b[0m\u001b[0;34m\u001b[0m\u001b[0;34m\u001b[0m\u001b[0m\n\u001b[0m\u001b[1;32m     52\u001b[0m \u001b[0;34m\u001b[0m\u001b[0m\n\u001b[1;32m     53\u001b[0m   \u001b[0msession\u001b[0m\u001b[0;34m.\u001b[0m\u001b[0mrun\u001b[0m\u001b[0;34m(\u001b[0m\u001b[0;34m[\u001b[0m\u001b[0mtf\u001b[0m\u001b[0;34m.\u001b[0m\u001b[0mglobal_variables_initializer\u001b[0m\u001b[0;34m(\u001b[0m\u001b[0;34m)\u001b[0m\u001b[0;34m,\u001b[0m \u001b[0mtf\u001b[0m\u001b[0;34m.\u001b[0m\u001b[0mtables_initializer\u001b[0m\u001b[0;34m(\u001b[0m\u001b[0;34m)\u001b[0m\u001b[0;34m]\u001b[0m\u001b[0;34m)\u001b[0m\u001b[0;34m\u001b[0m\u001b[0;34m\u001b[0m\u001b[0m\n",
            "\u001b[0;31mAttributeError\u001b[0m: module 'tensorflow' has no attribute 'Session'"
          ]
        }
      ]
    },
    {
      "cell_type": "code",
      "metadata": {
        "id": "26wMBbb2vJ9N"
      },
      "source": [
        ""
      ],
      "execution_count": null,
      "outputs": []
    }
  ]
}